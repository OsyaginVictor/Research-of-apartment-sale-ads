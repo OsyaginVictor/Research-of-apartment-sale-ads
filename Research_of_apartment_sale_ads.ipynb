{
  "cells": [
    {
      "cell_type": "markdown",
      "metadata": {
        "id": "sFN9vYvPu7Cl"
      },
      "source": [
        "# Исследование объявлений о продаже квартир\n",
        "\n",
        "В вашем распоряжении данные сервиса Яндекс.Недвижимость — архив объявлений о продаже квартир в Санкт-Петербурге и соседних населённых пунктов за несколько лет. Нужно научиться определять рыночную стоимость объектов недвижимости. Ваша задача — установить параметры. Это позволит построить автоматизированную систему: она отследит аномалии и мошенническую деятельность.\n",
        "\n",
        "По каждой квартире на продажу доступны два вида данных. Первые вписаны пользователем, вторые — получены автоматически на основе картографических данных. Например, расстояние до центра, аэропорта, ближайшего парка и водоёма."
      ]
    },
    {
      "cell_type": "markdown",
      "metadata": {
        "id": "dx1sQV0iu7Cm"
      },
      "source": [
        "### Откройте файл с данными и изучите общую информацию."
      ]
    },
    {
      "cell_type": "code",
      "execution_count": null,
      "metadata": {
        "id": "tdRG5D3Ju7Cn"
      },
      "outputs": [],
      "source": [
        "import pandas as pd"
      ]
    },
    {
      "cell_type": "code",
      "execution_count": null,
      "metadata": {
        "id": "Zr3dcrDku7Cn"
      },
      "outputs": [],
      "source": [
        "import seaborn as sns"
      ]
    },
    {
      "cell_type": "code",
      "execution_count": null,
      "metadata": {
        "id": "nz7QrDCRu7Cn"
      },
      "outputs": [],
      "source": [
        "import matplotlib.pyplot as plt"
      ]
    },
    {
      "cell_type": "code",
      "execution_count": null,
      "metadata": {
        "id": "B_iXl7Gru7Cn"
      },
      "outputs": [],
      "source": [
        "data = pd.read_csv('/datasets/real_estate_data.csv',sep='\\t')"
      ]
    },
    {
      "cell_type": "code",
      "execution_count": null,
      "metadata": {
        "id": "472WhzU4u7Cn"
      },
      "outputs": [],
      "source": [
        "pd.set_option('display.max_columns', None)"
      ]
    },
    {
      "cell_type": "code",
      "execution_count": null,
      "metadata": {
        "id": "pB_TOuUau7Cn",
        "outputId": "935de359-a9f9-4689-bf4b-acfc2bf9dd29"
      },
      "outputs": [
        {
          "data": {
            "text/html": [
              "<div>\n",
              "<style scoped>\n",
              "    .dataframe tbody tr th:only-of-type {\n",
              "        vertical-align: middle;\n",
              "    }\n",
              "\n",
              "    .dataframe tbody tr th {\n",
              "        vertical-align: top;\n",
              "    }\n",
              "\n",
              "    .dataframe thead th {\n",
              "        text-align: right;\n",
              "    }\n",
              "</style>\n",
              "<table border=\"1\" class=\"dataframe\">\n",
              "  <thead>\n",
              "    <tr style=\"text-align: right;\">\n",
              "      <th></th>\n",
              "      <th>total_images</th>\n",
              "      <th>last_price</th>\n",
              "      <th>total_area</th>\n",
              "      <th>first_day_exposition</th>\n",
              "      <th>rooms</th>\n",
              "      <th>ceiling_height</th>\n",
              "      <th>floors_total</th>\n",
              "      <th>living_area</th>\n",
              "      <th>floor</th>\n",
              "      <th>is_apartment</th>\n",
              "      <th>studio</th>\n",
              "      <th>open_plan</th>\n",
              "      <th>kitchen_area</th>\n",
              "      <th>balcony</th>\n",
              "      <th>locality_name</th>\n",
              "      <th>airports_nearest</th>\n",
              "      <th>cityCenters_nearest</th>\n",
              "      <th>parks_around3000</th>\n",
              "      <th>parks_nearest</th>\n",
              "      <th>ponds_around3000</th>\n",
              "      <th>ponds_nearest</th>\n",
              "      <th>days_exposition</th>\n",
              "    </tr>\n",
              "  </thead>\n",
              "  <tbody>\n",
              "    <tr>\n",
              "      <th>0</th>\n",
              "      <td>20</td>\n",
              "      <td>13000000.0</td>\n",
              "      <td>108.0</td>\n",
              "      <td>2019-03-07T00:00:00</td>\n",
              "      <td>3</td>\n",
              "      <td>2.70</td>\n",
              "      <td>16.0</td>\n",
              "      <td>51.0</td>\n",
              "      <td>8</td>\n",
              "      <td>NaN</td>\n",
              "      <td>False</td>\n",
              "      <td>False</td>\n",
              "      <td>25.0</td>\n",
              "      <td>NaN</td>\n",
              "      <td>Санкт-Петербург</td>\n",
              "      <td>18863.0</td>\n",
              "      <td>16028.0</td>\n",
              "      <td>1.0</td>\n",
              "      <td>482.0</td>\n",
              "      <td>2.0</td>\n",
              "      <td>755.0</td>\n",
              "      <td>NaN</td>\n",
              "    </tr>\n",
              "    <tr>\n",
              "      <th>1</th>\n",
              "      <td>7</td>\n",
              "      <td>3350000.0</td>\n",
              "      <td>40.4</td>\n",
              "      <td>2018-12-04T00:00:00</td>\n",
              "      <td>1</td>\n",
              "      <td>NaN</td>\n",
              "      <td>11.0</td>\n",
              "      <td>18.6</td>\n",
              "      <td>1</td>\n",
              "      <td>NaN</td>\n",
              "      <td>False</td>\n",
              "      <td>False</td>\n",
              "      <td>11.0</td>\n",
              "      <td>2.0</td>\n",
              "      <td>посёлок Шушары</td>\n",
              "      <td>12817.0</td>\n",
              "      <td>18603.0</td>\n",
              "      <td>0.0</td>\n",
              "      <td>NaN</td>\n",
              "      <td>0.0</td>\n",
              "      <td>NaN</td>\n",
              "      <td>81.0</td>\n",
              "    </tr>\n",
              "    <tr>\n",
              "      <th>2</th>\n",
              "      <td>10</td>\n",
              "      <td>5196000.0</td>\n",
              "      <td>56.0</td>\n",
              "      <td>2015-08-20T00:00:00</td>\n",
              "      <td>2</td>\n",
              "      <td>NaN</td>\n",
              "      <td>5.0</td>\n",
              "      <td>34.3</td>\n",
              "      <td>4</td>\n",
              "      <td>NaN</td>\n",
              "      <td>False</td>\n",
              "      <td>False</td>\n",
              "      <td>8.3</td>\n",
              "      <td>0.0</td>\n",
              "      <td>Санкт-Петербург</td>\n",
              "      <td>21741.0</td>\n",
              "      <td>13933.0</td>\n",
              "      <td>1.0</td>\n",
              "      <td>90.0</td>\n",
              "      <td>2.0</td>\n",
              "      <td>574.0</td>\n",
              "      <td>558.0</td>\n",
              "    </tr>\n",
              "    <tr>\n",
              "      <th>3</th>\n",
              "      <td>0</td>\n",
              "      <td>64900000.0</td>\n",
              "      <td>159.0</td>\n",
              "      <td>2015-07-24T00:00:00</td>\n",
              "      <td>3</td>\n",
              "      <td>NaN</td>\n",
              "      <td>14.0</td>\n",
              "      <td>NaN</td>\n",
              "      <td>9</td>\n",
              "      <td>NaN</td>\n",
              "      <td>False</td>\n",
              "      <td>False</td>\n",
              "      <td>NaN</td>\n",
              "      <td>0.0</td>\n",
              "      <td>Санкт-Петербург</td>\n",
              "      <td>28098.0</td>\n",
              "      <td>6800.0</td>\n",
              "      <td>2.0</td>\n",
              "      <td>84.0</td>\n",
              "      <td>3.0</td>\n",
              "      <td>234.0</td>\n",
              "      <td>424.0</td>\n",
              "    </tr>\n",
              "    <tr>\n",
              "      <th>4</th>\n",
              "      <td>2</td>\n",
              "      <td>10000000.0</td>\n",
              "      <td>100.0</td>\n",
              "      <td>2018-06-19T00:00:00</td>\n",
              "      <td>2</td>\n",
              "      <td>3.03</td>\n",
              "      <td>14.0</td>\n",
              "      <td>32.0</td>\n",
              "      <td>13</td>\n",
              "      <td>NaN</td>\n",
              "      <td>False</td>\n",
              "      <td>False</td>\n",
              "      <td>41.0</td>\n",
              "      <td>NaN</td>\n",
              "      <td>Санкт-Петербург</td>\n",
              "      <td>31856.0</td>\n",
              "      <td>8098.0</td>\n",
              "      <td>2.0</td>\n",
              "      <td>112.0</td>\n",
              "      <td>1.0</td>\n",
              "      <td>48.0</td>\n",
              "      <td>121.0</td>\n",
              "    </tr>\n",
              "  </tbody>\n",
              "</table>\n",
              "</div>"
            ],
            "text/plain": [
              "   total_images  last_price  total_area first_day_exposition  rooms  \\\n",
              "0            20  13000000.0       108.0  2019-03-07T00:00:00      3   \n",
              "1             7   3350000.0        40.4  2018-12-04T00:00:00      1   \n",
              "2            10   5196000.0        56.0  2015-08-20T00:00:00      2   \n",
              "3             0  64900000.0       159.0  2015-07-24T00:00:00      3   \n",
              "4             2  10000000.0       100.0  2018-06-19T00:00:00      2   \n",
              "\n",
              "   ceiling_height  floors_total  living_area  floor is_apartment  studio  \\\n",
              "0            2.70          16.0         51.0      8          NaN   False   \n",
              "1             NaN          11.0         18.6      1          NaN   False   \n",
              "2             NaN           5.0         34.3      4          NaN   False   \n",
              "3             NaN          14.0          NaN      9          NaN   False   \n",
              "4            3.03          14.0         32.0     13          NaN   False   \n",
              "\n",
              "   open_plan  kitchen_area  balcony    locality_name  airports_nearest  \\\n",
              "0      False          25.0      NaN  Санкт-Петербург           18863.0   \n",
              "1      False          11.0      2.0   посёлок Шушары           12817.0   \n",
              "2      False           8.3      0.0  Санкт-Петербург           21741.0   \n",
              "3      False           NaN      0.0  Санкт-Петербург           28098.0   \n",
              "4      False          41.0      NaN  Санкт-Петербург           31856.0   \n",
              "\n",
              "   cityCenters_nearest  parks_around3000  parks_nearest  ponds_around3000  \\\n",
              "0              16028.0               1.0          482.0               2.0   \n",
              "1              18603.0               0.0            NaN               0.0   \n",
              "2              13933.0               1.0           90.0               2.0   \n",
              "3               6800.0               2.0           84.0               3.0   \n",
              "4               8098.0               2.0          112.0               1.0   \n",
              "\n",
              "   ponds_nearest  days_exposition  \n",
              "0          755.0              NaN  \n",
              "1            NaN             81.0  \n",
              "2          574.0            558.0  \n",
              "3          234.0            424.0  \n",
              "4           48.0            121.0  "
            ]
          },
          "execution_count": 6,
          "metadata": {},
          "output_type": "execute_result"
        }
      ],
      "source": [
        "data.head()"
      ]
    },
    {
      "cell_type": "code",
      "execution_count": null,
      "metadata": {
        "id": "nXQNN46Au7Co",
        "outputId": "dba05fa4-587a-4eb5-e160-4769733dbb10"
      },
      "outputs": [
        {
          "name": "stdout",
          "output_type": "stream",
          "text": [
            "<class 'pandas.core.frame.DataFrame'>\n",
            "RangeIndex: 23699 entries, 0 to 23698\n",
            "Data columns (total 22 columns):\n",
            " #   Column                Non-Null Count  Dtype  \n",
            "---  ------                --------------  -----  \n",
            " 0   total_images          23699 non-null  int64  \n",
            " 1   last_price            23699 non-null  float64\n",
            " 2   total_area            23699 non-null  float64\n",
            " 3   first_day_exposition  23699 non-null  object \n",
            " 4   rooms                 23699 non-null  int64  \n",
            " 5   ceiling_height        14504 non-null  float64\n",
            " 6   floors_total          23613 non-null  float64\n",
            " 7   living_area           21796 non-null  float64\n",
            " 8   floor                 23699 non-null  int64  \n",
            " 9   is_apartment          2775 non-null   object \n",
            " 10  studio                23699 non-null  bool   \n",
            " 11  open_plan             23699 non-null  bool   \n",
            " 12  kitchen_area          21421 non-null  float64\n",
            " 13  balcony               12180 non-null  float64\n",
            " 14  locality_name         23650 non-null  object \n",
            " 15  airports_nearest      18157 non-null  float64\n",
            " 16  cityCenters_nearest   18180 non-null  float64\n",
            " 17  parks_around3000      18181 non-null  float64\n",
            " 18  parks_nearest         8079 non-null   float64\n",
            " 19  ponds_around3000      18181 non-null  float64\n",
            " 20  ponds_nearest         9110 non-null   float64\n",
            " 21  days_exposition       20518 non-null  float64\n",
            "dtypes: bool(2), float64(14), int64(3), object(3)\n",
            "memory usage: 3.7+ MB\n"
          ]
        }
      ],
      "source": [
        "#основная информация о датафрейме\n",
        "data.info()"
      ]
    },
    {
      "cell_type": "code",
      "execution_count": null,
      "metadata": {
        "id": "cBpVhAvKu7Co",
        "outputId": "6a10ccaf-63a9-42b5-c1df-0b0fa6a23117"
      },
      "outputs": [
        {
          "data": {
            "text/plain": [
              "(23699, 22)"
            ]
          },
          "execution_count": 8,
          "metadata": {},
          "output_type": "execute_result"
        }
      ],
      "source": [
        "data.shape"
      ]
    },
    {
      "cell_type": "code",
      "execution_count": null,
      "metadata": {
        "id": "YUzxfAlCu7Co",
        "outputId": "ceaf241f-56ac-41ff-8199-d873eec9370b"
      },
      "outputs": [
        {
          "data": {
            "image/png": "[encoded data removed]",
            "text/plain": [
              "<Figure size 1080x1440 with 20 Axes>"
            ]
          },
          "metadata": {
            "needs_background": "light"
          },
          "output_type": "display_data"
        }
      ],
      "source": [
        "data.hist(figsize=(15, 20));"
      ]
    },
    {
      "cell_type": "code",
      "execution_count": null,
      "metadata": {
        "id": "erU34PAQu7Co",
        "outputId": "cd6883b2-3fef-41f6-b3a2-bd027e510aca"
      },
      "outputs": [
        {
          "data": {
            "text/html": [
              "<div>\n",
              "<style scoped>\n",
              "    .dataframe tbody tr th:only-of-type {\n",
              "        vertical-align: middle;\n",
              "    }\n",
              "\n",
              "    .dataframe tbody tr th {\n",
              "        vertical-align: top;\n",
              "    }\n",
              "\n",
              "    .dataframe thead th {\n",
              "        text-align: right;\n",
              "    }\n",
              "</style>\n",
              "<table border=\"1\" class=\"dataframe\">\n",
              "  <thead>\n",
              "    <tr style=\"text-align: right;\">\n",
              "      <th></th>\n",
              "      <th>total_images</th>\n",
              "      <th>last_price</th>\n",
              "      <th>total_area</th>\n",
              "      <th>rooms</th>\n",
              "      <th>ceiling_height</th>\n",
              "      <th>floors_total</th>\n",
              "      <th>living_area</th>\n",
              "      <th>floor</th>\n",
              "      <th>kitchen_area</th>\n",
              "      <th>balcony</th>\n",
              "      <th>airports_nearest</th>\n",
              "      <th>cityCenters_nearest</th>\n",
              "      <th>parks_around3000</th>\n",
              "      <th>parks_nearest</th>\n",
              "      <th>ponds_around3000</th>\n",
              "      <th>ponds_nearest</th>\n",
              "      <th>days_exposition</th>\n",
              "    </tr>\n",
              "  </thead>\n",
              "  <tbody>\n",
              "    <tr>\n",
              "      <th>count</th>\n",
              "      <td>23699.000000</td>\n",
              "      <td>2.369900e+04</td>\n",
              "      <td>23699.000000</td>\n",
              "      <td>23699.000000</td>\n",
              "      <td>14504.000000</td>\n",
              "      <td>23613.000000</td>\n",
              "      <td>21796.000000</td>\n",
              "      <td>23699.000000</td>\n",
              "      <td>21421.000000</td>\n",
              "      <td>12180.000000</td>\n",
              "      <td>18157.000000</td>\n",
              "      <td>18180.000000</td>\n",
              "      <td>18181.000000</td>\n",
              "      <td>8079.000000</td>\n",
              "      <td>18181.000000</td>\n",
              "      <td>9110.000000</td>\n",
              "      <td>20518.000000</td>\n",
              "    </tr>\n",
              "    <tr>\n",
              "      <th>mean</th>\n",
              "      <td>9.858475</td>\n",
              "      <td>6.541549e+06</td>\n",
              "      <td>60.348651</td>\n",
              "      <td>2.070636</td>\n",
              "      <td>2.771499</td>\n",
              "      <td>10.673824</td>\n",
              "      <td>34.457852</td>\n",
              "      <td>5.892358</td>\n",
              "      <td>10.569807</td>\n",
              "      <td>1.150082</td>\n",
              "      <td>28793.672193</td>\n",
              "      <td>14191.277833</td>\n",
              "      <td>0.611408</td>\n",
              "      <td>490.804555</td>\n",
              "      <td>0.770255</td>\n",
              "      <td>517.980900</td>\n",
              "      <td>180.888634</td>\n",
              "    </tr>\n",
              "    <tr>\n",
              "      <th>std</th>\n",
              "      <td>5.682529</td>\n",
              "      <td>1.088701e+07</td>\n",
              "      <td>35.654083</td>\n",
              "      <td>1.078405</td>\n",
              "      <td>1.261056</td>\n",
              "      <td>6.597173</td>\n",
              "      <td>22.030445</td>\n",
              "      <td>4.885249</td>\n",
              "      <td>5.905438</td>\n",
              "      <td>1.071300</td>\n",
              "      <td>12630.880622</td>\n",
              "      <td>8608.386210</td>\n",
              "      <td>0.802074</td>\n",
              "      <td>342.317995</td>\n",
              "      <td>0.938346</td>\n",
              "      <td>277.720643</td>\n",
              "      <td>219.727988</td>\n",
              "    </tr>\n",
              "    <tr>\n",
              "      <th>min</th>\n",
              "      <td>0.000000</td>\n",
              "      <td>1.219000e+04</td>\n",
              "      <td>12.000000</td>\n",
              "      <td>0.000000</td>\n",
              "      <td>1.000000</td>\n",
              "      <td>1.000000</td>\n",
              "      <td>2.000000</td>\n",
              "      <td>1.000000</td>\n",
              "      <td>1.300000</td>\n",
              "      <td>0.000000</td>\n",
              "      <td>0.000000</td>\n",
              "      <td>181.000000</td>\n",
              "      <td>0.000000</td>\n",
              "      <td>1.000000</td>\n",
              "      <td>0.000000</td>\n",
              "      <td>13.000000</td>\n",
              "      <td>1.000000</td>\n",
              "    </tr>\n",
              "    <tr>\n",
              "      <th>25%</th>\n",
              "      <td>6.000000</td>\n",
              "      <td>3.400000e+06</td>\n",
              "      <td>40.000000</td>\n",
              "      <td>1.000000</td>\n",
              "      <td>2.520000</td>\n",
              "      <td>5.000000</td>\n",
              "      <td>18.600000</td>\n",
              "      <td>2.000000</td>\n",
              "      <td>7.000000</td>\n",
              "      <td>0.000000</td>\n",
              "      <td>18585.000000</td>\n",
              "      <td>9238.000000</td>\n",
              "      <td>0.000000</td>\n",
              "      <td>288.000000</td>\n",
              "      <td>0.000000</td>\n",
              "      <td>294.000000</td>\n",
              "      <td>45.000000</td>\n",
              "    </tr>\n",
              "    <tr>\n",
              "      <th>50%</th>\n",
              "      <td>9.000000</td>\n",
              "      <td>4.650000e+06</td>\n",
              "      <td>52.000000</td>\n",
              "      <td>2.000000</td>\n",
              "      <td>2.650000</td>\n",
              "      <td>9.000000</td>\n",
              "      <td>30.000000</td>\n",
              "      <td>4.000000</td>\n",
              "      <td>9.100000</td>\n",
              "      <td>1.000000</td>\n",
              "      <td>26726.000000</td>\n",
              "      <td>13098.500000</td>\n",
              "      <td>0.000000</td>\n",
              "      <td>455.000000</td>\n",
              "      <td>1.000000</td>\n",
              "      <td>502.000000</td>\n",
              "      <td>95.000000</td>\n",
              "    </tr>\n",
              "    <tr>\n",
              "      <th>75%</th>\n",
              "      <td>14.000000</td>\n",
              "      <td>6.800000e+06</td>\n",
              "      <td>69.900000</td>\n",
              "      <td>3.000000</td>\n",
              "      <td>2.800000</td>\n",
              "      <td>16.000000</td>\n",
              "      <td>42.300000</td>\n",
              "      <td>8.000000</td>\n",
              "      <td>12.000000</td>\n",
              "      <td>2.000000</td>\n",
              "      <td>37273.000000</td>\n",
              "      <td>16293.000000</td>\n",
              "      <td>1.000000</td>\n",
              "      <td>612.000000</td>\n",
              "      <td>1.000000</td>\n",
              "      <td>729.000000</td>\n",
              "      <td>232.000000</td>\n",
              "    </tr>\n",
              "    <tr>\n",
              "      <th>max</th>\n",
              "      <td>50.000000</td>\n",
              "      <td>7.630000e+08</td>\n",
              "      <td>900.000000</td>\n",
              "      <td>19.000000</td>\n",
              "      <td>100.000000</td>\n",
              "      <td>60.000000</td>\n",
              "      <td>409.700000</td>\n",
              "      <td>33.000000</td>\n",
              "      <td>112.000000</td>\n",
              "      <td>5.000000</td>\n",
              "      <td>84869.000000</td>\n",
              "      <td>65968.000000</td>\n",
              "      <td>3.000000</td>\n",
              "      <td>3190.000000</td>\n",
              "      <td>3.000000</td>\n",
              "      <td>1344.000000</td>\n",
              "      <td>1580.000000</td>\n",
              "    </tr>\n",
              "  </tbody>\n",
              "</table>\n",
              "</div>"
            ],
            "text/plain": [
              "       total_images    last_price    total_area         rooms  ceiling_height  \\\n",
              "count  23699.000000  2.369900e+04  23699.000000  23699.000000    14504.000000   \n",
              "mean       9.858475  6.541549e+06     60.348651      2.070636        2.771499   \n",
              "std        5.682529  1.088701e+07     35.654083      1.078405        1.261056   \n",
              "min        0.000000  1.219000e+04     12.000000      0.000000        1.000000   \n",
              "25%        6.000000  3.400000e+06     40.000000      1.000000        2.520000   \n",
              "50%        9.000000  4.650000e+06     52.000000      2.000000        2.650000   \n",
              "75%       14.000000  6.800000e+06     69.900000      3.000000        2.800000   \n",
              "max       50.000000  7.630000e+08    900.000000     19.000000      100.000000   \n",
              "\n",
              "       floors_total   living_area         floor  kitchen_area       balcony  \\\n",
              "count  23613.000000  21796.000000  23699.000000  21421.000000  12180.000000   \n",
              "mean      10.673824     34.457852      5.892358     10.569807      1.150082   \n",
              "std        6.597173     22.030445      4.885249      5.905438      1.071300   \n",
              "min        1.000000      2.000000      1.000000      1.300000      0.000000   \n",
              "25%        5.000000     18.600000      2.000000      7.000000      0.000000   \n",
              "50%        9.000000     30.000000      4.000000      9.100000      1.000000   \n",
              "75%       16.000000     42.300000      8.000000     12.000000      2.000000   \n",
              "max       60.000000    409.700000     33.000000    112.000000      5.000000   \n",
              "\n",
              "       airports_nearest  cityCenters_nearest  parks_around3000  parks_nearest  \\\n",
              "count      18157.000000         18180.000000      18181.000000    8079.000000   \n",
              "mean       28793.672193         14191.277833          0.611408     490.804555   \n",
              "std        12630.880622          8608.386210          0.802074     342.317995   \n",
              "min            0.000000           181.000000          0.000000       1.000000   \n",
              "25%        18585.000000          9238.000000          0.000000     288.000000   \n",
              "50%        26726.000000         13098.500000          0.000000     455.000000   \n",
              "75%        37273.000000         16293.000000          1.000000     612.000000   \n",
              "max        84869.000000         65968.000000          3.000000    3190.000000   \n",
              "\n",
              "       ponds_around3000  ponds_nearest  days_exposition  \n",
              "count      18181.000000    9110.000000     20518.000000  \n",
              "mean           0.770255     517.980900       180.888634  \n",
              "std            0.938346     277.720643       219.727988  \n",
              "min            0.000000      13.000000         1.000000  \n",
              "25%            0.000000     294.000000        45.000000  \n",
              "50%            1.000000     502.000000        95.000000  \n",
              "75%            1.000000     729.000000       232.000000  \n",
              "max            3.000000    1344.000000      1580.000000  "
            ]
          },
          "execution_count": 10,
          "metadata": {},
          "output_type": "execute_result"
        }
      ],
      "source": [
        "#Узнаём какие есть значения в таблице\n",
        "data.describe()"
      ]
    },
    {
      "cell_type": "markdown",
      "metadata": {
        "id": "5HgP7KmLu7Co"
      },
      "source": [
        "В таблице нет отрицательных значений,есть выбивающиеся значения,например в столбце kitchen_area максимальное значение 112кв.м.,что аномально много. Или например в столбцах living_area total_area есть очень большие значения."
      ]
    },
    {
      "cell_type": "code",
      "execution_count": null,
      "metadata": {
        "id": "7g8eP7Tvu7Co",
        "outputId": "8241e244-c41e-47fc-ddd4-2800e7d5a7ae"
      },
      "outputs": [
        {
          "data": {
            "text/plain": [
              "0"
            ]
          },
          "execution_count": 11,
          "metadata": {},
          "output_type": "execute_result"
        }
      ],
      "source": [
        "data.duplicated().sum()"
      ]
    },
    {
      "cell_type": "markdown",
      "metadata": {
        "id": "-VhM85oAu7Cp"
      },
      "source": []
    },
    {
      "cell_type": "markdown",
      "metadata": {
        "id": "Qn2T_xO_u7Cp"
      },
      "source": [
        "### Предобработка данных"
      ]
    },
    {
      "cell_type": "code",
      "execution_count": null,
      "metadata": {
        "id": "XLw8psngu7Cp",
        "outputId": "70f0db04-c784-40a1-f474-d4047acc78b3"
      },
      "outputs": [
        {
          "data": {
            "text/plain": [
              "array(['Бокситогорск', 'Волосово', 'Волхов', 'Всеволожск', 'Выборг',\n",
              "       'Высоцк', 'Гатчина', 'Зеленогорск', 'Ивангород', 'Каменногорск',\n",
              "       'Кингисепп', 'Кириши', 'Кировск', 'Колпино', 'Коммунар',\n",
              "       'Красное Село', 'Кронштадт', 'Кудрово', 'Лодейное Поле',\n",
              "       'Ломоносов', 'Луга', 'Любань', 'Мурино', 'Никольское',\n",
              "       'Новая Ладога', 'Отрадное', 'Павловск', 'Петергоф', 'Пикалёво',\n",
              "       'Подпорожье', 'Приморск', 'Приозерск', 'Пушкин', 'Санкт-Петербург',\n",
              "       'Светогорск', 'Сертолово', 'Сестрорецк', 'Сланцы', 'Сосновый Бор',\n",
              "       'Сясьстрой', 'Тихвин', 'Тосно', 'Шлиссельбург',\n",
              "       'городской поселок Большая Ижора', 'городской поселок Янино-1',\n",
              "       'городской посёлок Будогощь', 'городской посёлок Виллози',\n",
              "       'городской посёлок Лесогорский', 'городской посёлок Мга',\n",
              "       'городской посёлок Назия', 'городской посёлок Новоселье',\n",
              "       'городской посёлок Павлово', 'городской посёлок Рощино',\n",
              "       'городской посёлок Свирьстрой', 'городской посёлок Советский',\n",
              "       'городской посёлок Фёдоровское', 'городской посёлок Янино-1',\n",
              "       'деревня Агалатово', 'деревня Аро', 'деревня Батово',\n",
              "       'деревня Бегуницы', 'деревня Белогорка', 'деревня Большая Вруда',\n",
              "       'деревня Большая Пустомержа', 'деревня Большие Колпаны',\n",
              "       'деревня Большое Рейзино', 'деревня Большой Сабск', 'деревня Бор',\n",
              "       'деревня Борисова Грива', 'деревня Ваганово', 'деревня Вартемяги',\n",
              "       'деревня Вахнова Кара', 'деревня Выскатка', 'деревня Гарболово',\n",
              "       'деревня Глинка', 'деревня Горбунки', 'деревня Гостилицы',\n",
              "       'деревня Заклинье', 'деревня Заневка', 'деревня Зимитицы',\n",
              "       'деревня Извара', 'деревня Иссад', 'деревня Калитино',\n",
              "       'деревня Кальтино', 'деревня Камышовка', 'деревня Каськово',\n",
              "       'деревня Келози', 'деревня Кипень', 'деревня Кисельня',\n",
              "       'деревня Колтуши', 'деревня Коркино', 'деревня Котлы',\n",
              "       'деревня Кривко', 'деревня Кудрово', 'деревня Кузьмолово',\n",
              "       'деревня Курковицы', 'деревня Куровицы', 'деревня Куттузи',\n",
              "       'деревня Лаврики', 'деревня Лаголово', 'деревня Лампово',\n",
              "       'деревня Лесколово', 'деревня Лопухинка', 'деревня Лупполово',\n",
              "       'деревня Малая Романовка', 'деревня Малое Верево',\n",
              "       'деревня Малое Карлино', 'деревня Малые Колпаны',\n",
              "       'деревня Мануйлово', 'деревня Меньково', 'деревня Мины',\n",
              "       'деревня Мистолово', 'деревня Ненимяки', 'деревня Нижние Осельки',\n",
              "       'деревня Нижняя', 'деревня Низино', 'деревня Новое Девяткино',\n",
              "       'деревня Новолисино', 'деревня Нурма', 'деревня Оржицы',\n",
              "       'деревня Парицы', 'деревня Пельгора', 'деревня Пеники',\n",
              "       'деревня Пижма', 'деревня Пикколово', 'деревня Пудомяги',\n",
              "       'деревня Пустынка', 'деревня Пчева', 'деревня Рабитицы',\n",
              "       'деревня Разбегаево', 'деревня Раздолье', 'деревня Разметелево',\n",
              "       'деревня Рапполово', 'деревня Реброво', 'деревня Русско',\n",
              "       'деревня Сижно', 'деревня Снегирёвка', 'деревня Старая',\n",
              "       'деревня Старая Пустошь', 'деревня Старое Хинколово',\n",
              "       'деревня Старополье', 'деревня Старосиверская',\n",
              "       'деревня Старые Бегуницы', 'деревня Суоранда',\n",
              "       'деревня Сяськелево', 'деревня Тарасово', 'деревня Терпилицы',\n",
              "       'деревня Тихковицы', 'деревня Тойворово', 'деревня Торосово',\n",
              "       'деревня Торошковичи', 'деревня Трубников Бор',\n",
              "       'деревня Фалилеево', 'деревня Фёдоровское', 'деревня Хапо-Ое',\n",
              "       'деревня Хязельки', 'деревня Чудской Бор', 'деревня Шпаньково',\n",
              "       'деревня Щеглово', 'деревня Юкки', 'деревня Ялгино',\n",
              "       'деревня Яльгелево', 'деревня Ям-Тесово',\n",
              "       'коттеджный поселок Кивеннапа Север', 'коттеджный поселок Счастье',\n",
              "       'коттеджный посёлок Лесное', 'поселок Аннино', 'поселок Барышево',\n",
              "       'поселок Бугры', 'поселок Возрождение', 'поселок Войсковицы',\n",
              "       'поселок Володарское', 'поселок Гаврилово', 'поселок Гарболово',\n",
              "       'поселок Гладкое', 'поселок Глажево', 'поселок Глебычево',\n",
              "       'поселок Гончарово', 'поселок Громово', 'поселок Дружноселье',\n",
              "       'поселок Елизаветино', 'поселок Жилгородок', 'поселок Жилпосёлок',\n",
              "       'поселок Житково', 'поселок Заводской', 'поселок Запорожское',\n",
              "       'поселок Зимитицы', 'поселок Ильичёво', 'поселок Калитино',\n",
              "       'поселок Каложицы', 'поселок Кингисеппский', 'поселок Кирпичное',\n",
              "       'поселок Кобралово', 'поселок Кобринское', 'поселок Коммунары',\n",
              "       'поселок Коробицыно', 'поселок Котельский',\n",
              "       'поселок Красная Долина', 'поселок Красносельское',\n",
              "       'поселок Лесное', 'поселок Лисий Нос', 'поселок Лукаши',\n",
              "       'поселок Любань', 'поселок Мельниково', 'поселок Мичуринское',\n",
              "       'поселок Молодцово', 'поселок Мурино', 'поселок Новый Свет',\n",
              "       'поселок Новый Учхоз', 'поселок Оредеж',\n",
              "       'поселок Пансионат Зелёный Бор', 'поселок Первомайское',\n",
              "       'поселок Перово', 'поселок Петровское', 'поселок Победа',\n",
              "       'поселок Поляны', 'поселок Почап', 'поселок Починок',\n",
              "       'поселок Пушное', 'поселок Пчевжа', 'поселок Рабитицы',\n",
              "       'поселок Романовка', 'поселок Ромашки', 'поселок Рябово',\n",
              "       'поселок Севастьяново', 'поселок Селезнёво', 'поселок Сельцо',\n",
              "       'поселок Семиозерье', 'поселок Семрино', 'поселок Серебрянский',\n",
              "       'поселок Совхозный', 'поселок Старая Малукса',\n",
              "       'поселок Стеклянный', 'поселок Сумино', 'поселок Суходолье',\n",
              "       'поселок Тельмана', 'поселок Терволово', 'поселок Торковичи',\n",
              "       'поселок Тёсово-4', 'поселок Углово', 'поселок Усть-Луга',\n",
              "       'поселок Ушаки', 'поселок Цвелодубово', 'поселок Цвылёво',\n",
              "       'поселок городского типа Большая Ижора',\n",
              "       'поселок городского типа Вырица',\n",
              "       'поселок городского типа Дружная Горка',\n",
              "       'поселок городского типа Дубровка',\n",
              "       'поселок городского типа Ефимовский',\n",
              "       'поселок городского типа Кондратьево',\n",
              "       'поселок городского типа Красный Бор',\n",
              "       'поселок городского типа Кузьмоловский',\n",
              "       'поселок городского типа Лебяжье',\n",
              "       'поселок городского типа Лесогорский',\n",
              "       'поселок городского типа Назия',\n",
              "       'поселок городского типа Никольский',\n",
              "       'поселок городского типа Приладожский',\n",
              "       'поселок городского типа Рахья', 'поселок городского типа Рощино',\n",
              "       'поселок городского типа Рябово',\n",
              "       'поселок городского типа Синявино',\n",
              "       'поселок городского типа Советский',\n",
              "       'поселок городского типа Токсово',\n",
              "       'поселок городского типа Форносово',\n",
              "       'поселок городского типа имени Свердлова',\n",
              "       'поселок станции Вещево', 'поселок станции Корнево',\n",
              "       'поселок станции Лужайка', 'поселок станции Приветнинское',\n",
              "       'посёлок Александровская', 'посёлок Алексеевка', 'посёлок Аннино',\n",
              "       'посёлок Белоостров', 'посёлок Бугры', 'посёлок Возрождение',\n",
              "       'посёлок Войскорово', 'посёлок Высокоключевой',\n",
              "       'посёлок Гаврилово', 'посёлок Дзержинского', 'посёлок Жилгородок',\n",
              "       'посёлок Ильичёво', 'посёлок Кикерино', 'посёлок Кобралово',\n",
              "       'посёлок Коробицыно', 'посёлок Левашово', 'посёлок Ленинское',\n",
              "       'посёлок Лисий Нос', 'посёлок Мельниково', 'посёлок Металлострой',\n",
              "       'посёлок Мичуринское', 'посёлок Молодёжное', 'посёлок Мурино',\n",
              "       'посёлок Мыза-Ивановка', 'посёлок Новогорелово',\n",
              "       'посёлок Новый Свет', 'посёлок Пансионат Зелёный Бор',\n",
              "       'посёлок Парголово', 'посёлок Перово', 'посёлок Песочный',\n",
              "       'посёлок Петро-Славянка', 'посёлок Петровское',\n",
              "       'посёлок Платформа 69-й километр', 'посёлок Плодовое',\n",
              "       'посёлок Плоское', 'посёлок Победа', 'посёлок Поляны',\n",
              "       'посёлок Понтонный', 'посёлок Пригородный', 'посёлок Пудость',\n",
              "       'посёлок Репино', 'посёлок Ропша', 'посёлок Сапёрное',\n",
              "       'посёлок Сапёрный', 'посёлок Сосново', 'посёлок Старая Малукса',\n",
              "       'посёлок Стеклянный', 'посёлок Стрельна', 'посёлок Суйда',\n",
              "       'посёлок Сумино', 'посёлок Тельмана', 'посёлок Терволово',\n",
              "       'посёлок Торфяное', 'посёлок Усть-Ижора', 'посёлок Усть-Луга',\n",
              "       'посёлок Форт Красная Горка', 'посёлок Шугозеро', 'посёлок Шушары',\n",
              "       'посёлок Щеглово', 'посёлок городского типа Важины',\n",
              "       'посёлок городского типа Вознесенье',\n",
              "       'посёлок городского типа Вырица',\n",
              "       'посёлок городского типа Красный Бор',\n",
              "       'посёлок городского типа Кузнечное',\n",
              "       'посёлок городского типа Кузьмоловский',\n",
              "       'посёлок городского типа Лебяжье', 'посёлок городского типа Мга',\n",
              "       'посёлок городского типа Павлово',\n",
              "       'посёлок городского типа Рощино', 'посёлок городского типа Рябово',\n",
              "       'посёлок городского типа Сиверский',\n",
              "       'посёлок городского типа Тайцы', 'посёлок городского типа Токсово',\n",
              "       'посёлок городского типа Ульяновка',\n",
              "       'посёлок городского типа Форносово',\n",
              "       'посёлок городского типа имени Морозова',\n",
              "       'посёлок городского типа имени Свердлова',\n",
              "       'посёлок при железнодорожной станции Вещево',\n",
              "       'посёлок при железнодорожной станции Приветнинское',\n",
              "       'посёлок станции Громово', 'посёлок станции Свирь',\n",
              "       'садоводческое некоммерческое товарищество Лесная Поляна',\n",
              "       'садовое товарищество Новая Ропша',\n",
              "       'садовое товарищество Приладожский', 'садовое товарищество Рахья',\n",
              "       'садовое товарищество Садко', 'село Копорье', 'село Никольское',\n",
              "       'село Павлово', 'село Паша', 'село Путилово', 'село Рождествено',\n",
              "       'село Русско-Высоцкое', 'село Старая Ладога', 'село Шум', nan],\n",
              "      dtype=object)"
            ]
          },
          "execution_count": 12,
          "metadata": {},
          "output_type": "execute_result"
        }
      ],
      "source": [
        "data.sort_values(by='locality_name',ascending=True)['locality_name'].unique()"
      ]
    },
    {
      "cell_type": "markdown",
      "metadata": {
        "id": "_dCVk-BYu7Cp"
      },
      "source": [
        "Заменил неявные дубликаты"
      ]
    },
    {
      "cell_type": "code",
      "execution_count": null,
      "metadata": {
        "id": "TDtg18Xyu7Cp"
      },
      "outputs": [],
      "source": [
        "data['locality_name'] = data['locality_name'].replace('поселок  городского типа Рябово','поселок Рябово')\n",
        "data['locality_name'] = data['locality_name'].replace('посёлок сапёрный','поселок саперный')\n",
        "data['locality_name'] = data['locality_name'].replace('посёлок сапёрное','поселок саперный')\n",
        "data['locality_name'] = data['locality_name'].replace('посёлок пансионат зелёный бор','поселок пансионат зеленый бор')\n",
        "data['locality_name'] = data['locality_name'].replace('поселок цвылёво','поселок цвылево')\n",
        "data['locality_name'] = data['locality_name'].replace('пикалёво','пикалево')\n",
        "data['locality_name'] = data['locality_name'].str.lower()"
      ]
    },
    {
      "cell_type": "code",
      "execution_count": null,
      "metadata": {
        "id": "PK7xkfSWu7Cp",
        "outputId": "c9023798-da80-45ed-ea81-119e754896ff"
      },
      "outputs": [
        {
          "data": {
            "text/plain": [
              "total_images              int64\n",
              "last_price              float64\n",
              "total_area              float64\n",
              "first_day_exposition     object\n",
              "rooms                     int64\n",
              "ceiling_height          float64\n",
              "floors_total            float64\n",
              "living_area             float64\n",
              "floor                     int64\n",
              "is_apartment             object\n",
              "studio                     bool\n",
              "open_plan                  bool\n",
              "kitchen_area            float64\n",
              "balcony                 float64\n",
              "locality_name            object\n",
              "airports_nearest        float64\n",
              "cityCenters_nearest     float64\n",
              "parks_around3000        float64\n",
              "parks_nearest           float64\n",
              "ponds_around3000        float64\n",
              "ponds_nearest           float64\n",
              "days_exposition         float64\n",
              "dtype: object"
            ]
          },
          "execution_count": 14,
          "metadata": {},
          "output_type": "execute_result"
        }
      ],
      "source": [
        "data.dtypes"
      ]
    },
    {
      "cell_type": "code",
      "execution_count": null,
      "metadata": {
        "scrolled": true,
        "id": "e9-2tcI7u7Cp",
        "outputId": "769f16f5-a201-4c71-8f7a-05d829a6b24f"
      },
      "outputs": [
        {
          "data": {
            "text/plain": [
              "array(['бокситогорск', 'волосово', 'волхов', 'всеволожск', 'выборг',\n",
              "       'высоцк', 'гатчина', 'городской поселок большая ижора',\n",
              "       'городской поселок янино-1', 'городской посёлок будогощь',\n",
              "       'городской посёлок виллози', 'городской посёлок лесогорский',\n",
              "       'городской посёлок мга', 'городской посёлок назия',\n",
              "       'городской посёлок новоселье', 'городской посёлок павлово',\n",
              "       'городской посёлок рощино', 'городской посёлок свирьстрой',\n",
              "       'городской посёлок советский', 'городской посёлок фёдоровское',\n",
              "       'городской посёлок янино-1', 'деревня агалатово', 'деревня аро',\n",
              "       'деревня батово', 'деревня бегуницы', 'деревня белогорка',\n",
              "       'деревня большая вруда', 'деревня большая пустомержа',\n",
              "       'деревня большие колпаны', 'деревня большое рейзино',\n",
              "       'деревня большой сабск', 'деревня бор', 'деревня борисова грива',\n",
              "       'деревня ваганово', 'деревня вартемяги', 'деревня вахнова кара',\n",
              "       'деревня выскатка', 'деревня гарболово', 'деревня глинка',\n",
              "       'деревня горбунки', 'деревня гостилицы', 'деревня заклинье',\n",
              "       'деревня заневка', 'деревня зимитицы', 'деревня извара',\n",
              "       'деревня иссад', 'деревня калитино', 'деревня кальтино',\n",
              "       'деревня камышовка', 'деревня каськово', 'деревня келози',\n",
              "       'деревня кипень', 'деревня кисельня', 'деревня колтуши',\n",
              "       'деревня коркино', 'деревня котлы', 'деревня кривко',\n",
              "       'деревня кудрово', 'деревня кузьмолово', 'деревня курковицы',\n",
              "       'деревня куровицы', 'деревня куттузи', 'деревня лаврики',\n",
              "       'деревня лаголово', 'деревня лампово', 'деревня лесколово',\n",
              "       'деревня лопухинка', 'деревня лупполово',\n",
              "       'деревня малая романовка', 'деревня малое верево',\n",
              "       'деревня малое карлино', 'деревня малые колпаны',\n",
              "       'деревня мануйлово', 'деревня меньково', 'деревня мины',\n",
              "       'деревня мистолово', 'деревня ненимяки', 'деревня нижние осельки',\n",
              "       'деревня нижняя', 'деревня низино', 'деревня новое девяткино',\n",
              "       'деревня новолисино', 'деревня нурма', 'деревня оржицы',\n",
              "       'деревня парицы', 'деревня пельгора', 'деревня пеники',\n",
              "       'деревня пижма', 'деревня пикколово', 'деревня пудомяги',\n",
              "       'деревня пустынка', 'деревня пчева', 'деревня рабитицы',\n",
              "       'деревня разбегаево', 'деревня раздолье', 'деревня разметелево',\n",
              "       'деревня рапполово', 'деревня реброво', 'деревня русско',\n",
              "       'деревня сижно', 'деревня снегирёвка', 'деревня старая',\n",
              "       'деревня старая пустошь', 'деревня старое хинколово',\n",
              "       'деревня старополье', 'деревня старосиверская',\n",
              "       'деревня старые бегуницы', 'деревня суоранда',\n",
              "       'деревня сяськелево', 'деревня тарасово', 'деревня терпилицы',\n",
              "       'деревня тихковицы', 'деревня тойворово', 'деревня торосово',\n",
              "       'деревня торошковичи', 'деревня трубников бор',\n",
              "       'деревня фалилеево', 'деревня фёдоровское', 'деревня хапо-ое',\n",
              "       'деревня хязельки', 'деревня чудской бор', 'деревня шпаньково',\n",
              "       'деревня щеглово', 'деревня юкки', 'деревня ялгино',\n",
              "       'деревня яльгелево', 'деревня ям-тесово', 'зеленогорск',\n",
              "       'ивангород', 'каменногорск', 'кингисепп', 'кириши', 'кировск',\n",
              "       'колпино', 'коммунар', 'коттеджный поселок кивеннапа север',\n",
              "       'коттеджный поселок счастье', 'коттеджный посёлок лесное',\n",
              "       'красное село', 'кронштадт', 'кудрово', 'лодейное поле',\n",
              "       'ломоносов', 'луга', 'любань', 'мурино', 'никольское',\n",
              "       'новая ладога', 'отрадное', 'павловск', 'петергоф', 'пикалёво',\n",
              "       'подпорожье', 'поселок аннино', 'поселок барышево',\n",
              "       'поселок бугры', 'поселок возрождение', 'поселок войсковицы',\n",
              "       'поселок володарское', 'поселок гаврилово', 'поселок гарболово',\n",
              "       'поселок гладкое', 'поселок глажево', 'поселок глебычево',\n",
              "       'поселок гончарово', 'поселок городского типа большая ижора',\n",
              "       'поселок городского типа вырица',\n",
              "       'поселок городского типа дружная горка',\n",
              "       'поселок городского типа дубровка',\n",
              "       'поселок городского типа ефимовский',\n",
              "       'поселок городского типа имени свердлова',\n",
              "       'поселок городского типа кондратьево',\n",
              "       'поселок городского типа красный бор',\n",
              "       'поселок городского типа кузьмоловский',\n",
              "       'поселок городского типа лебяжье',\n",
              "       'поселок городского типа лесогорский',\n",
              "       'поселок городского типа назия',\n",
              "       'поселок городского типа никольский',\n",
              "       'поселок городского типа приладожский',\n",
              "       'поселок городского типа рахья', 'поселок городского типа рощино',\n",
              "       'поселок городского типа рябово',\n",
              "       'поселок городского типа синявино',\n",
              "       'поселок городского типа советский',\n",
              "       'поселок городского типа токсово',\n",
              "       'поселок городского типа форносово', 'поселок громово',\n",
              "       'поселок дружноселье', 'поселок елизаветино', 'поселок жилгородок',\n",
              "       'поселок жилпосёлок', 'поселок житково', 'поселок заводской',\n",
              "       'поселок запорожское', 'поселок зимитицы', 'поселок ильичёво',\n",
              "       'поселок калитино', 'поселок каложицы', 'поселок кингисеппский',\n",
              "       'поселок кирпичное', 'поселок кобралово', 'поселок кобринское',\n",
              "       'поселок коммунары', 'поселок коробицыно', 'поселок котельский',\n",
              "       'поселок красная долина', 'поселок красносельское',\n",
              "       'поселок лесное', 'поселок лисий нос', 'поселок лукаши',\n",
              "       'поселок любань', 'поселок мельниково', 'поселок мичуринское',\n",
              "       'поселок молодцово', 'поселок мурино', 'поселок новый свет',\n",
              "       'поселок новый учхоз', 'поселок оредеж',\n",
              "       'поселок пансионат зелёный бор', 'поселок первомайское',\n",
              "       'поселок перово', 'поселок петровское', 'поселок победа',\n",
              "       'поселок поляны', 'поселок почап', 'поселок починок',\n",
              "       'поселок пушное', 'поселок пчевжа', 'поселок рабитицы',\n",
              "       'поселок романовка', 'поселок ромашки', 'поселок рябово',\n",
              "       'поселок севастьяново', 'поселок селезнёво', 'поселок сельцо',\n",
              "       'поселок семиозерье', 'поселок семрино', 'поселок серебрянский',\n",
              "       'поселок совхозный', 'поселок станции вещево',\n",
              "       'поселок станции корнево', 'поселок станции лужайка',\n",
              "       'поселок станции приветнинское', 'поселок старая малукса',\n",
              "       'поселок стеклянный', 'поселок сумино', 'поселок суходолье',\n",
              "       'поселок тельмана', 'поселок терволово', 'поселок торковичи',\n",
              "       'поселок тёсово-4', 'поселок углово', 'поселок усть-луга',\n",
              "       'поселок ушаки', 'поселок цвелодубово', 'поселок цвылёво',\n",
              "       'посёлок александровская', 'посёлок алексеевка', 'посёлок аннино',\n",
              "       'посёлок белоостров', 'посёлок бугры', 'посёлок возрождение',\n",
              "       'посёлок войскорово', 'посёлок высокоключевой',\n",
              "       'посёлок гаврилово', 'посёлок городского типа важины',\n",
              "       'посёлок городского типа вознесенье',\n",
              "       'посёлок городского типа вырица',\n",
              "       'посёлок городского типа имени морозова',\n",
              "       'посёлок городского типа имени свердлова',\n",
              "       'посёлок городского типа красный бор',\n",
              "       'посёлок городского типа кузнечное',\n",
              "       'посёлок городского типа кузьмоловский',\n",
              "       'посёлок городского типа лебяжье', 'посёлок городского типа мга',\n",
              "       'посёлок городского типа павлово',\n",
              "       'посёлок городского типа рощино', 'посёлок городского типа рябово',\n",
              "       'посёлок городского типа сиверский',\n",
              "       'посёлок городского типа тайцы', 'посёлок городского типа токсово',\n",
              "       'посёлок городского типа ульяновка',\n",
              "       'посёлок городского типа форносово', 'посёлок дзержинского',\n",
              "       'посёлок жилгородок', 'посёлок ильичёво', 'посёлок кикерино',\n",
              "       'посёлок кобралово', 'посёлок коробицыно', 'посёлок левашово',\n",
              "       'посёлок ленинское', 'посёлок лисий нос', 'посёлок мельниково',\n",
              "       'посёлок металлострой', 'посёлок мичуринское',\n",
              "       'посёлок молодёжное', 'посёлок мурино', 'посёлок мыза-ивановка',\n",
              "       'посёлок новогорелово', 'посёлок новый свет',\n",
              "       'посёлок пансионат зелёный бор', 'посёлок парголово',\n",
              "       'посёлок перово', 'посёлок песочный', 'посёлок петро-славянка',\n",
              "       'посёлок петровское', 'посёлок платформа 69-й километр',\n",
              "       'посёлок плодовое', 'посёлок плоское', 'посёлок победа',\n",
              "       'посёлок поляны', 'посёлок понтонный',\n",
              "       'посёлок при железнодорожной станции вещево',\n",
              "       'посёлок при железнодорожной станции приветнинское',\n",
              "       'посёлок пригородный', 'посёлок пудость', 'посёлок репино',\n",
              "       'посёлок ропша', 'посёлок сапёрное', 'посёлок сапёрный',\n",
              "       'посёлок сосново', 'посёлок станции громово',\n",
              "       'посёлок станции свирь', 'посёлок старая малукса',\n",
              "       'посёлок стеклянный', 'посёлок стрельна', 'посёлок суйда',\n",
              "       'посёлок сумино', 'посёлок тельмана', 'посёлок терволово',\n",
              "       'посёлок торфяное', 'посёлок усть-ижора', 'посёлок усть-луга',\n",
              "       'посёлок форт красная горка', 'посёлок шугозеро', 'посёлок шушары',\n",
              "       'посёлок щеглово', 'приморск', 'приозерск', 'пушкин',\n",
              "       'садоводческое некоммерческое товарищество лесная поляна',\n",
              "       'садовое товарищество новая ропша',\n",
              "       'садовое товарищество приладожский', 'садовое товарищество рахья',\n",
              "       'садовое товарищество садко', 'санкт-петербург', 'светогорск',\n",
              "       'село копорье', 'село никольское', 'село павлово', 'село паша',\n",
              "       'село путилово', 'село рождествено', 'село русско-высоцкое',\n",
              "       'село старая ладога', 'село шум', 'сертолово', 'сестрорецк',\n",
              "       'сланцы', 'сосновый бор', 'сясьстрой', 'тихвин', 'тосно',\n",
              "       'шлиссельбург', nan], dtype=object)"
            ]
          },
          "execution_count": 15,
          "metadata": {},
          "output_type": "execute_result"
        }
      ],
      "source": [
        "data.sort_values(by='locality_name',ascending=True)['locality_name'].unique()"
      ]
    },
    {
      "cell_type": "code",
      "execution_count": null,
      "metadata": {
        "id": "SYTOUz_du7Cp"
      },
      "outputs": [],
      "source": [
        "data['locality_name'] = data['locality_name'].str.replace('поселок городского типа','поселок')\n",
        "data['locality_name'] = data['locality_name'].str.replace('ё','е')"
      ]
    },
    {
      "cell_type": "code",
      "execution_count": null,
      "metadata": {
        "id": "uNvIO7jWu7Cp",
        "outputId": "c4af780e-86e7-4bd5-beb4-d08951af2fa6"
      },
      "outputs": [
        {
          "data": {
            "text/plain": [
              "array(['бокситогорск', 'волосово', 'волхов', 'всеволожск', 'выборг',\n",
              "       'высоцк', 'гатчина', 'городской поселок большая ижора',\n",
              "       'городской поселок будогощь', 'городской поселок виллози',\n",
              "       'городской поселок лесогорский', 'городской поселок мга',\n",
              "       'городской поселок назия', 'городской поселок новоселье',\n",
              "       'городской поселок павлово', 'городской поселок рощино',\n",
              "       'городской поселок свирьстрой', 'городской поселок советский',\n",
              "       'городской поселок федоровское', 'городской поселок янино-1',\n",
              "       'деревня агалатово', 'деревня аро', 'деревня батово',\n",
              "       'деревня бегуницы', 'деревня белогорка', 'деревня большая вруда',\n",
              "       'деревня большая пустомержа', 'деревня большие колпаны',\n",
              "       'деревня большое рейзино', 'деревня большой сабск', 'деревня бор',\n",
              "       'деревня борисова грива', 'деревня ваганово', 'деревня вартемяги',\n",
              "       'деревня вахнова кара', 'деревня выскатка', 'деревня гарболово',\n",
              "       'деревня глинка', 'деревня горбунки', 'деревня гостилицы',\n",
              "       'деревня заклинье', 'деревня заневка', 'деревня зимитицы',\n",
              "       'деревня извара', 'деревня иссад', 'деревня калитино',\n",
              "       'деревня кальтино', 'деревня камышовка', 'деревня каськово',\n",
              "       'деревня келози', 'деревня кипень', 'деревня кисельня',\n",
              "       'деревня колтуши', 'деревня коркино', 'деревня котлы',\n",
              "       'деревня кривко', 'деревня кудрово', 'деревня кузьмолово',\n",
              "       'деревня курковицы', 'деревня куровицы', 'деревня куттузи',\n",
              "       'деревня лаврики', 'деревня лаголово', 'деревня лампово',\n",
              "       'деревня лесколово', 'деревня лопухинка', 'деревня лупполово',\n",
              "       'деревня малая романовка', 'деревня малое верево',\n",
              "       'деревня малое карлино', 'деревня малые колпаны',\n",
              "       'деревня мануйлово', 'деревня меньково', 'деревня мины',\n",
              "       'деревня мистолово', 'деревня ненимяки', 'деревня нижние осельки',\n",
              "       'деревня нижняя', 'деревня низино', 'деревня новое девяткино',\n",
              "       'деревня новолисино', 'деревня нурма', 'деревня оржицы',\n",
              "       'деревня парицы', 'деревня пельгора', 'деревня пеники',\n",
              "       'деревня пижма', 'деревня пикколово', 'деревня пудомяги',\n",
              "       'деревня пустынка', 'деревня пчева', 'деревня рабитицы',\n",
              "       'деревня разбегаево', 'деревня раздолье', 'деревня разметелево',\n",
              "       'деревня рапполово', 'деревня реброво', 'деревня русско',\n",
              "       'деревня сижно', 'деревня снегиревка', 'деревня старая',\n",
              "       'деревня старая пустошь', 'деревня старое хинколово',\n",
              "       'деревня старополье', 'деревня старосиверская',\n",
              "       'деревня старые бегуницы', 'деревня суоранда',\n",
              "       'деревня сяськелево', 'деревня тарасово', 'деревня терпилицы',\n",
              "       'деревня тихковицы', 'деревня тойворово', 'деревня торосово',\n",
              "       'деревня торошковичи', 'деревня трубников бор',\n",
              "       'деревня фалилеево', 'деревня федоровское', 'деревня хапо-ое',\n",
              "       'деревня хязельки', 'деревня чудской бор', 'деревня шпаньково',\n",
              "       'деревня щеглово', 'деревня юкки', 'деревня ялгино',\n",
              "       'деревня яльгелево', 'деревня ям-тесово', 'зеленогорск',\n",
              "       'ивангород', 'каменногорск', 'кингисепп', 'кириши', 'кировск',\n",
              "       'колпино', 'коммунар', 'коттеджный поселок кивеннапа север',\n",
              "       'коттеджный поселок лесное', 'коттеджный поселок счастье',\n",
              "       'красное село', 'кронштадт', 'кудрово', 'лодейное поле',\n",
              "       'ломоносов', 'луга', 'любань', 'мурино', 'никольское',\n",
              "       'новая ладога', 'отрадное', 'павловск', 'петергоф', 'пикалево',\n",
              "       'подпорожье', 'поселок александровская', 'поселок алексеевка',\n",
              "       'поселок аннино', 'поселок барышево', 'поселок белоостров',\n",
              "       'поселок большая ижора', 'поселок бугры', 'поселок возрождение',\n",
              "       'поселок войсковицы', 'поселок войскорово', 'поселок володарское',\n",
              "       'поселок вырица', 'поселок высокоключевой', 'поселок гаврилово',\n",
              "       'поселок гарболово', 'поселок гладкое', 'поселок глажево',\n",
              "       'поселок глебычево', 'поселок гончарово',\n",
              "       'поселок городского типа важины',\n",
              "       'поселок городского типа вознесенье',\n",
              "       'поселок городского типа вырица',\n",
              "       'поселок городского типа имени морозова',\n",
              "       'поселок городского типа имени свердлова',\n",
              "       'поселок городского типа красный бор',\n",
              "       'поселок городского типа кузнечное',\n",
              "       'поселок городского типа кузьмоловский',\n",
              "       'поселок городского типа лебяжье', 'поселок городского типа мга',\n",
              "       'поселок городского типа павлово',\n",
              "       'поселок городского типа рощино', 'поселок городского типа рябово',\n",
              "       'поселок городского типа сиверский',\n",
              "       'поселок городского типа тайцы', 'поселок городского типа токсово',\n",
              "       'поселок городского типа ульяновка',\n",
              "       'поселок городского типа форносово', 'поселок громово',\n",
              "       'поселок дзержинского', 'поселок дружная горка',\n",
              "       'поселок дружноселье', 'поселок дубровка', 'поселок елизаветино',\n",
              "       'поселок ефимовский', 'поселок жилгородок', 'поселок жилпоселок',\n",
              "       'поселок житково', 'поселок заводской', 'поселок запорожское',\n",
              "       'поселок зимитицы', 'поселок ильичево', 'поселок имени свердлова',\n",
              "       'поселок калитино', 'поселок каложицы', 'поселок кикерино',\n",
              "       'поселок кингисеппский', 'поселок кирпичное', 'поселок кобралово',\n",
              "       'поселок кобринское', 'поселок коммунары', 'поселок кондратьево',\n",
              "       'поселок коробицыно', 'поселок котельский',\n",
              "       'поселок красная долина', 'поселок красносельское',\n",
              "       'поселок красный бор', 'поселок кузьмоловский', 'поселок лебяжье',\n",
              "       'поселок левашово', 'поселок ленинское', 'поселок лесное',\n",
              "       'поселок лесогорский', 'поселок лисий нос', 'поселок лукаши',\n",
              "       'поселок любань', 'поселок мельниково', 'поселок металлострой',\n",
              "       'поселок мичуринское', 'поселок молодежное', 'поселок молодцово',\n",
              "       'поселок мурино', 'поселок мыза-ивановка', 'поселок назия',\n",
              "       'поселок никольский', 'поселок новогорелово', 'поселок новый свет',\n",
              "       'поселок новый учхоз', 'поселок оредеж',\n",
              "       'поселок пансионат зеленый бор', 'поселок парголово',\n",
              "       'поселок первомайское', 'поселок перово', 'поселок песочный',\n",
              "       'поселок петро-славянка', 'поселок петровское',\n",
              "       'поселок платформа 69-й километр', 'поселок плодовое',\n",
              "       'поселок плоское', 'поселок победа', 'поселок поляны',\n",
              "       'поселок понтонный', 'поселок почап', 'поселок починок',\n",
              "       'поселок при железнодорожной станции вещево',\n",
              "       'поселок при железнодорожной станции приветнинское',\n",
              "       'поселок пригородный', 'поселок приладожский', 'поселок пудость',\n",
              "       'поселок пушное', 'поселок пчевжа', 'поселок рабитицы',\n",
              "       'поселок рахья', 'поселок репино', 'поселок романовка',\n",
              "       'поселок ромашки', 'поселок ропша', 'поселок рощино',\n",
              "       'поселок рябово', 'поселок саперное', 'поселок саперный',\n",
              "       'поселок севастьяново', 'поселок селезнево', 'поселок сельцо',\n",
              "       'поселок семиозерье', 'поселок семрино', 'поселок серебрянский',\n",
              "       'поселок синявино', 'поселок советский', 'поселок совхозный',\n",
              "       'поселок сосново', 'поселок станции вещево',\n",
              "       'поселок станции громово', 'поселок станции корнево',\n",
              "       'поселок станции лужайка', 'поселок станции приветнинское',\n",
              "       'поселок станции свирь', 'поселок старая малукса',\n",
              "       'поселок стеклянный', 'поселок стрельна', 'поселок суйда',\n",
              "       'поселок сумино', 'поселок суходолье', 'поселок тельмана',\n",
              "       'поселок терволово', 'поселок тесово-4', 'поселок токсово',\n",
              "       'поселок торковичи', 'поселок торфяное', 'поселок углово',\n",
              "       'поселок усть-ижора', 'поселок усть-луга', 'поселок ушаки',\n",
              "       'поселок форносово', 'поселок форт красная горка',\n",
              "       'поселок цвелодубово', 'поселок цвылево', 'поселок шугозеро',\n",
              "       'поселок шушары', 'поселок щеглово', 'приморск', 'приозерск',\n",
              "       'пушкин',\n",
              "       'садоводческое некоммерческое товарищество лесная поляна',\n",
              "       'садовое товарищество новая ропша',\n",
              "       'садовое товарищество приладожский', 'садовое товарищество рахья',\n",
              "       'садовое товарищество садко', 'санкт-петербург', 'светогорск',\n",
              "       'село копорье', 'село никольское', 'село павлово', 'село паша',\n",
              "       'село путилово', 'село рождествено', 'село русско-высоцкое',\n",
              "       'село старая ладога', 'село шум', 'сертолово', 'сестрорецк',\n",
              "       'сланцы', 'сосновый бор', 'сясьстрой', 'тихвин', 'тосно',\n",
              "       'шлиссельбург', nan], dtype=object)"
            ]
          },
          "execution_count": 17,
          "metadata": {},
          "output_type": "execute_result"
        }
      ],
      "source": [
        "data.sort_values(by='locality_name',ascending=True)['locality_name'].unique()"
      ]
    },
    {
      "cell_type": "code",
      "execution_count": null,
      "metadata": {
        "id": "FYyKkhnfu7Cq",
        "outputId": "544c8922-2a39-4814-e25c-5b2a83f083f1"
      },
      "outputs": [
        {
          "data": {
            "text/plain": [
              "total_images                0\n",
              "last_price                  0\n",
              "total_area                  0\n",
              "first_day_exposition        0\n",
              "rooms                       0\n",
              "ceiling_height           9195\n",
              "floors_total               86\n",
              "living_area              1903\n",
              "floor                       0\n",
              "is_apartment            20924\n",
              "studio                      0\n",
              "open_plan                   0\n",
              "kitchen_area             2278\n",
              "balcony                 11519\n",
              "locality_name              49\n",
              "airports_nearest         5542\n",
              "cityCenters_nearest      5519\n",
              "parks_around3000         5518\n",
              "parks_nearest           15620\n",
              "ponds_around3000         5518\n",
              "ponds_nearest           14589\n",
              "days_exposition          3181\n",
              "dtype: int64"
            ]
          },
          "execution_count": 18,
          "metadata": {},
          "output_type": "execute_result"
        }
      ],
      "source": [
        "#Смотрим пропуски в столбцах\n",
        "data.isna().sum()"
      ]
    },
    {
      "cell_type": "markdown",
      "metadata": {
        "id": "Olm7SFVLu7Cq"
      },
      "source": [
        "Удалил пропуски в столбце:\n",
        "balcony, потому что, их скорей всего нет\n",
        "ceiling_height,скорей всего продавец не заполнил данные\n",
        "floors_total, продавались однаитажные дома, либо забыли указать данные\n",
        "living_area,не указал продавец\n",
        "is_apartment,данные не указаны\n",
        "kitchen_area,скорей всего данные не указали из-за того,что кухня совмещена с гостинной,либо забыли внести данные\n",
        "locality_name,не указал продавец\n",
        "airports_nearest,скорей всего аэоропорт отсутсвует\n",
        "cityCenters_nearest,либо центр отсутствует,либо данные не внесли\n",
        "parks_around3000,parks_nearest,парков нет,либо забыли указать\n",
        "ponds_around3000,ponds_nearest,водоёмы отсутствуют,либо забыли указать\n",
        "days_exposition,ещё не продали,либо зыбыли указать продажу"
      ]
    },
    {
      "cell_type": "code",
      "execution_count": null,
      "metadata": {
        "id": "Y3W8-oiDu7Cq"
      },
      "outputs": [],
      "source": [
        "data = data.fillna({'balcony':0})\n",
        "data = data.fillna({'is_apartment':0})\n",
        "data = data.fillna({'parks_around3000':0})\n",
        "data = data.fillna({'ponds_around3000':0})"
      ]
    },
    {
      "cell_type": "code",
      "execution_count": null,
      "metadata": {
        "id": "_81xq3-Gu7Cq"
      },
      "outputs": [],
      "source": [
        "data['is_apartment'] = data['is_apartment'].astype(bool)"
      ]
    },
    {
      "cell_type": "code",
      "execution_count": null,
      "metadata": {
        "id": "fIpLB49Uu7Cq",
        "outputId": "bf70ed6f-b7a7-4ad4-e4dd-700352a535b0"
      },
      "outputs": [
        {
          "data": {
            "text/plain": [
              "total_images                0\n",
              "last_price                  0\n",
              "total_area                  0\n",
              "first_day_exposition        0\n",
              "rooms                       0\n",
              "ceiling_height           9195\n",
              "floors_total               86\n",
              "living_area              1903\n",
              "floor                       0\n",
              "is_apartment                0\n",
              "studio                      0\n",
              "open_plan                   0\n",
              "kitchen_area             2278\n",
              "balcony                     0\n",
              "locality_name              49\n",
              "airports_nearest         5542\n",
              "cityCenters_nearest      5519\n",
              "parks_around3000            0\n",
              "parks_nearest           15620\n",
              "ponds_around3000            0\n",
              "ponds_nearest           14589\n",
              "days_exposition          3181\n",
              "dtype: int64"
            ]
          },
          "execution_count": 21,
          "metadata": {},
          "output_type": "execute_result"
        }
      ],
      "source": [
        "data.isna().sum()"
      ]
    },
    {
      "cell_type": "code",
      "execution_count": null,
      "metadata": {
        "id": "r5hqvpsEu7Cq",
        "outputId": "5a17b60a-09ca-4da3-9c55-ac57888cffc5"
      },
      "outputs": [
        {
          "data": {
            "text/plain": [
              "total_images              int64\n",
              "last_price              float64\n",
              "total_area              float64\n",
              "first_day_exposition     object\n",
              "rooms                     int64\n",
              "ceiling_height          float64\n",
              "floors_total            float64\n",
              "living_area             float64\n",
              "floor                     int64\n",
              "is_apartment               bool\n",
              "studio                     bool\n",
              "open_plan                  bool\n",
              "kitchen_area            float64\n",
              "balcony                 float64\n",
              "locality_name            object\n",
              "airports_nearest        float64\n",
              "cityCenters_nearest     float64\n",
              "parks_around3000        float64\n",
              "parks_nearest           float64\n",
              "ponds_around3000        float64\n",
              "ponds_nearest           float64\n",
              "days_exposition         float64\n",
              "dtype: object"
            ]
          },
          "execution_count": 22,
          "metadata": {},
          "output_type": "execute_result"
        }
      ],
      "source": [
        "data.dtypes"
      ]
    },
    {
      "cell_type": "markdown",
      "metadata": {
        "id": "4xybWTfyu7Cq"
      },
      "source": [
        "Сделал замену типов данных в строке first_day_exposition с строки на дату,чтобы в дальнейшем можно было делать аналитику по месяцам,годам и дням"
      ]
    },
    {
      "cell_type": "code",
      "execution_count": null,
      "metadata": {
        "id": "OLc3LuTau7Cq"
      },
      "outputs": [],
      "source": [
        "data['first_day_exposition'] = pd.to_datetime(data['first_day_exposition'])"
      ]
    },
    {
      "cell_type": "code",
      "execution_count": null,
      "metadata": {
        "id": "fS78eRjCu7Cq",
        "outputId": "bc1ff912-17e4-428f-ebd2-4f7a569643d9"
      },
      "outputs": [
        {
          "data": {
            "text/plain": [
              "total_images                     int64\n",
              "last_price                     float64\n",
              "total_area                     float64\n",
              "first_day_exposition    datetime64[ns]\n",
              "rooms                            int64\n",
              "ceiling_height                 float64\n",
              "floors_total                   float64\n",
              "living_area                    float64\n",
              "floor                            int64\n",
              "is_apartment                      bool\n",
              "studio                            bool\n",
              "open_plan                         bool\n",
              "kitchen_area                   float64\n",
              "balcony                        float64\n",
              "locality_name                   object\n",
              "airports_nearest               float64\n",
              "cityCenters_nearest            float64\n",
              "parks_around3000               float64\n",
              "parks_nearest                  float64\n",
              "ponds_around3000               float64\n",
              "ponds_nearest                  float64\n",
              "days_exposition                float64\n",
              "dtype: object"
            ]
          },
          "execution_count": 24,
          "metadata": {},
          "output_type": "execute_result"
        }
      ],
      "source": [
        "data.dtypes"
      ]
    },
    {
      "cell_type": "code",
      "execution_count": null,
      "metadata": {
        "id": "uXaRNaPGu7Cq",
        "outputId": "61f8f631-dcd8-448a-8e11-59b00ec55c78"
      },
      "outputs": [
        {
          "data": {
            "text/plain": [
              "array([  2.7 ,    nan,   3.03,   2.5 ,   2.67,   2.56,   3.05,   2.75,\n",
              "         2.6 ,   2.9 ,   2.8 ,   2.55,   3.  ,   2.65,   3.2 ,   2.61,\n",
              "         3.25,   3.45,   2.77,   2.85,   2.64,   2.57,   4.15,   3.5 ,\n",
              "         3.3 ,   2.71,   4.  ,   2.47,   2.73,   2.84,   3.1 ,   2.34,\n",
              "         3.4 ,   3.06,   2.72,   2.54,   2.51,   2.78,   2.76,  25.  ,\n",
              "         2.58,   3.7 ,   2.52,   5.2 ,   2.87,   2.66,   2.59,   2.  ,\n",
              "         2.45,   3.6 ,   2.92,   3.11,   3.13,   3.8 ,   3.15,   3.55,\n",
              "         3.16,   3.62,   3.12,   2.53,   2.74,   2.96,   2.46,   5.3 ,\n",
              "         5.  ,   2.79,   2.95,   4.06,   2.94,   3.82,   3.54,   3.53,\n",
              "         2.83,   4.7 ,   2.4 ,   3.38,   3.01,   5.6 ,   3.65,   3.9 ,\n",
              "         3.18,   3.35,   2.3 ,   3.57,   2.48,   2.62,   2.82,   3.98,\n",
              "         2.63,   3.83,   3.52,   3.95,   3.75,   2.88,   3.67,   3.87,\n",
              "         3.66,   3.85,   3.86,   4.19,   3.24,   4.8 ,   4.5 ,   4.2 ,\n",
              "         3.36,  32.  ,   3.08,   3.68,   3.07,   3.37,   3.09,   8.  ,\n",
              "         3.26,   3.34,   2.81,   3.44,   2.97,   3.14,   4.37,   2.68,\n",
              "         3.22,   3.27,  27.  ,   4.1 ,   2.93,   3.46,  24.  ,   3.47,\n",
              "         3.33,   3.63,   3.32,  26.  ,   1.2 ,   8.3 ,   2.98,   2.86,\n",
              "         3.17,   4.4 ,   3.28,   3.04,   4.45,   5.5 ,   3.84,   3.23,\n",
              "         3.02,   3.21,   3.43,   3.78,   4.3 ,   3.39,   2.69,   3.31,\n",
              "         4.65,   3.56,   2.2 ,   3.51,   3.93,   3.42,   2.99,   3.49,\n",
              "        14.  ,   4.14,   2.91,   3.88,   1.75,   4.25,   3.29,  20.  ,\n",
              "         2.25,   3.76,   3.69,   6.  ,  22.6 ,   2.89,   3.58,   5.8 ,\n",
              "        27.5 ,   2.49,   4.9 ,   3.48,  10.3 ,   1.  , 100.  ,   3.59])"
            ]
          },
          "execution_count": 25,
          "metadata": {},
          "output_type": "execute_result"
        }
      ],
      "source": [
        "#ищем неявные дубликаты\n",
        "data['ceiling_height'].unique()"
      ]
    },
    {
      "cell_type": "code",
      "execution_count": null,
      "metadata": {
        "id": "bSgqGtClu7Cr",
        "outputId": "6ec095d8-ac94-4d49-bd57-f1864b94f3d7"
      },
      "outputs": [
        {
          "data": {
            "text/plain": [
              "array([ 3,  1,  2,  4,  5,  6,  0,  7, 11,  8, 14, 10, 15,  9, 19, 16, 12])"
            ]
          },
          "execution_count": 26,
          "metadata": {},
          "output_type": "execute_result"
        }
      ],
      "source": [
        "data['rooms'].unique()"
      ]
    },
    {
      "cell_type": "code",
      "execution_count": null,
      "metadata": {
        "id": "pSSEZBh2u7Cr"
      },
      "outputs": [],
      "source": [
        "data = data[data['rooms'] != 19]\n",
        "data = data[data['rooms'] != 15]\n",
        "data = data[data['rooms'] != 12]\n",
        "data = data[data['rooms'] != 16]\n",
        "data = data[data['rooms'] != 10]\n",
        "data = data[data['rooms'] != 14]\n",
        "data = data[data['rooms'] != 11]\n",
        "data = data[data['kitchen_area'] != 112]"
      ]
    },
    {
      "cell_type": "code",
      "execution_count": null,
      "metadata": {
        "id": "zM0eLu2Wu7Cr",
        "outputId": "adacf75a-21bd-4317-a4cf-9a45e9088dea"
      },
      "outputs": [
        {
          "data": {
            "text/plain": [
              "(23688, 29)"
            ]
          },
          "execution_count": 89,
          "metadata": {},
          "output_type": "execute_result"
        }
      ],
      "source": [
        "data.shape"
      ]
    },
    {
      "cell_type": "markdown",
      "metadata": {
        "id": "H28WbPK1u7Cr"
      },
      "source": [
        "В этой колонке есть аномалии в  высоте поталков,их изменил\n"
      ]
    },
    {
      "cell_type": "code",
      "execution_count": null,
      "metadata": {
        "id": "eGI3H_MGu7Cr"
      },
      "outputs": [],
      "source": [
        "data.loc[data['ceiling_height']== 27.5,'ceiling_height']=2.75\n",
        "data.loc[data['ceiling_height']== 27,'ceiling_height']=2.7\n",
        "data.loc[data['ceiling_height']== 32,'ceiling_height']=3.2\n",
        "data.loc[data['ceiling_height']== 26,'ceiling_height']=2.6\n",
        "data.loc[data['ceiling_height']== 22.6,'ceiling_height']=2.26\n",
        "data.loc[data['ceiling_height']== 24,'ceiling_height']=2.4\n",
        "data.loc[data['ceiling_height']== 100,'ceiling_height']=10.0\n",
        "data.loc[data['ceiling_height']== 25,'ceiling_height']=2.5\n",
        "data.loc[data['ceiling_height']== 20,'ceiling_height']=2.0\n",
        "data.loc[data['ceiling_height']== 1.0,'ceiling_height']=10"
      ]
    },
    {
      "cell_type": "code",
      "execution_count": null,
      "metadata": {
        "id": "nULSiVqou7Cr",
        "outputId": "52c85507-62b6-4b3b-bf86-cdbf93b9c477"
      },
      "outputs": [
        {
          "data": {
            "text/plain": [
              "count    23688.000000\n",
              "mean         2.065603\n",
              "std          1.051309\n",
              "min          0.000000\n",
              "25%          1.000000\n",
              "50%          2.000000\n",
              "75%          3.000000\n",
              "max          9.000000\n",
              "Name: rooms, dtype: float64"
            ]
          },
          "execution_count": 87,
          "metadata": {},
          "output_type": "execute_result"
        }
      ],
      "source": [
        "data['rooms'].describe()"
      ]
    },
    {
      "cell_type": "markdown",
      "metadata": {
        "id": "yw3eV-nku7Cw"
      },
      "source": [
        "Считаем цену за 1 квадратный метр"
      ]
    },
    {
      "cell_type": "code",
      "execution_count": null,
      "metadata": {
        "id": "d7JEIHVGu7Cw"
      },
      "outputs": [],
      "source": [
        "data['price_square_meter'] = data['last_price'] / data['total_area']"
      ]
    },
    {
      "cell_type": "markdown",
      "metadata": {
        "id": "rnbNCCwgu7Cw"
      },
      "source": [
        "Добавляем столбцы: день недели,месяц,год публикации объявления"
      ]
    },
    {
      "cell_type": "code",
      "execution_count": null,
      "metadata": {
        "id": "2g4ayGmRu7Cw"
      },
      "outputs": [],
      "source": [
        "data['week_posted'] = data.first_day_exposition.dt.weekday"
      ]
    },
    {
      "cell_type": "code",
      "execution_count": null,
      "metadata": {
        "id": "dXwojx_Tu7Cx"
      },
      "outputs": [],
      "source": [
        "data['month_posted'] = data.first_day_exposition.dt.month"
      ]
    },
    {
      "cell_type": "code",
      "execution_count": null,
      "metadata": {
        "id": "aaWTkzXHu7Cx"
      },
      "outputs": [],
      "source": [
        "data['year_posted'] = data.first_day_exposition.dt.year"
      ]
    },
    {
      "cell_type": "code",
      "execution_count": null,
      "metadata": {
        "id": "mILMh-9ju7Cx",
        "outputId": "3103b1ed-4cee-4a03-dfd5-aba8100fb983"
      },
      "outputs": [
        {
          "data": {
            "text/html": [
              "<div>\n",
              "<style scoped>\n",
              "    .dataframe tbody tr th:only-of-type {\n",
              "        vertical-align: middle;\n",
              "    }\n",
              "\n",
              "    .dataframe tbody tr th {\n",
              "        vertical-align: top;\n",
              "    }\n",
              "\n",
              "    .dataframe thead th {\n",
              "        text-align: right;\n",
              "    }\n",
              "</style>\n",
              "<table border=\"1\" class=\"dataframe\">\n",
              "  <thead>\n",
              "    <tr style=\"text-align: right;\">\n",
              "      <th></th>\n",
              "      <th>total_images</th>\n",
              "      <th>last_price</th>\n",
              "      <th>total_area</th>\n",
              "      <th>first_day_exposition</th>\n",
              "      <th>rooms</th>\n",
              "      <th>ceiling_height</th>\n",
              "      <th>floors_total</th>\n",
              "      <th>living_area</th>\n",
              "      <th>floor</th>\n",
              "      <th>is_apartment</th>\n",
              "      <th>studio</th>\n",
              "      <th>open_plan</th>\n",
              "      <th>kitchen_area</th>\n",
              "      <th>balcony</th>\n",
              "      <th>locality_name</th>\n",
              "      <th>airports_nearest</th>\n",
              "      <th>cityCenters_nearest</th>\n",
              "      <th>parks_around3000</th>\n",
              "      <th>parks_nearest</th>\n",
              "      <th>ponds_around3000</th>\n",
              "      <th>ponds_nearest</th>\n",
              "      <th>days_exposition</th>\n",
              "      <th>price_square_meter</th>\n",
              "      <th>week_posted</th>\n",
              "      <th>month_posted</th>\n",
              "      <th>year_posted</th>\n",
              "    </tr>\n",
              "  </thead>\n",
              "  <tbody>\n",
              "    <tr>\n",
              "      <th>0</th>\n",
              "      <td>20</td>\n",
              "      <td>13000000.0</td>\n",
              "      <td>108.0</td>\n",
              "      <td>2019-03-07</td>\n",
              "      <td>3</td>\n",
              "      <td>2.70</td>\n",
              "      <td>16.0</td>\n",
              "      <td>51.0</td>\n",
              "      <td>8</td>\n",
              "      <td>False</td>\n",
              "      <td>False</td>\n",
              "      <td>False</td>\n",
              "      <td>25.0</td>\n",
              "      <td>0.0</td>\n",
              "      <td>санкт-петербург</td>\n",
              "      <td>18863.0</td>\n",
              "      <td>16028.0</td>\n",
              "      <td>1.0</td>\n",
              "      <td>482.0</td>\n",
              "      <td>2.0</td>\n",
              "      <td>755.0</td>\n",
              "      <td>NaN</td>\n",
              "      <td>120370.370370</td>\n",
              "      <td>3</td>\n",
              "      <td>3</td>\n",
              "      <td>2019</td>\n",
              "    </tr>\n",
              "    <tr>\n",
              "      <th>1</th>\n",
              "      <td>7</td>\n",
              "      <td>3350000.0</td>\n",
              "      <td>40.4</td>\n",
              "      <td>2018-12-04</td>\n",
              "      <td>1</td>\n",
              "      <td>NaN</td>\n",
              "      <td>11.0</td>\n",
              "      <td>18.6</td>\n",
              "      <td>1</td>\n",
              "      <td>False</td>\n",
              "      <td>False</td>\n",
              "      <td>False</td>\n",
              "      <td>11.0</td>\n",
              "      <td>2.0</td>\n",
              "      <td>поселок шушары</td>\n",
              "      <td>12817.0</td>\n",
              "      <td>18603.0</td>\n",
              "      <td>0.0</td>\n",
              "      <td>NaN</td>\n",
              "      <td>0.0</td>\n",
              "      <td>NaN</td>\n",
              "      <td>81.0</td>\n",
              "      <td>82920.792079</td>\n",
              "      <td>1</td>\n",
              "      <td>12</td>\n",
              "      <td>2018</td>\n",
              "    </tr>\n",
              "    <tr>\n",
              "      <th>2</th>\n",
              "      <td>10</td>\n",
              "      <td>5196000.0</td>\n",
              "      <td>56.0</td>\n",
              "      <td>2015-08-20</td>\n",
              "      <td>2</td>\n",
              "      <td>NaN</td>\n",
              "      <td>5.0</td>\n",
              "      <td>34.3</td>\n",
              "      <td>4</td>\n",
              "      <td>False</td>\n",
              "      <td>False</td>\n",
              "      <td>False</td>\n",
              "      <td>8.3</td>\n",
              "      <td>0.0</td>\n",
              "      <td>санкт-петербург</td>\n",
              "      <td>21741.0</td>\n",
              "      <td>13933.0</td>\n",
              "      <td>1.0</td>\n",
              "      <td>90.0</td>\n",
              "      <td>2.0</td>\n",
              "      <td>574.0</td>\n",
              "      <td>558.0</td>\n",
              "      <td>92785.714286</td>\n",
              "      <td>3</td>\n",
              "      <td>8</td>\n",
              "      <td>2015</td>\n",
              "    </tr>\n",
              "    <tr>\n",
              "      <th>3</th>\n",
              "      <td>0</td>\n",
              "      <td>64900000.0</td>\n",
              "      <td>159.0</td>\n",
              "      <td>2015-07-24</td>\n",
              "      <td>3</td>\n",
              "      <td>NaN</td>\n",
              "      <td>14.0</td>\n",
              "      <td>NaN</td>\n",
              "      <td>9</td>\n",
              "      <td>False</td>\n",
              "      <td>False</td>\n",
              "      <td>False</td>\n",
              "      <td>NaN</td>\n",
              "      <td>0.0</td>\n",
              "      <td>санкт-петербург</td>\n",
              "      <td>28098.0</td>\n",
              "      <td>6800.0</td>\n",
              "      <td>2.0</td>\n",
              "      <td>84.0</td>\n",
              "      <td>3.0</td>\n",
              "      <td>234.0</td>\n",
              "      <td>424.0</td>\n",
              "      <td>408176.100629</td>\n",
              "      <td>4</td>\n",
              "      <td>7</td>\n",
              "      <td>2015</td>\n",
              "    </tr>\n",
              "    <tr>\n",
              "      <th>4</th>\n",
              "      <td>2</td>\n",
              "      <td>10000000.0</td>\n",
              "      <td>100.0</td>\n",
              "      <td>2018-06-19</td>\n",
              "      <td>2</td>\n",
              "      <td>3.03</td>\n",
              "      <td>14.0</td>\n",
              "      <td>32.0</td>\n",
              "      <td>13</td>\n",
              "      <td>False</td>\n",
              "      <td>False</td>\n",
              "      <td>False</td>\n",
              "      <td>41.0</td>\n",
              "      <td>0.0</td>\n",
              "      <td>санкт-петербург</td>\n",
              "      <td>31856.0</td>\n",
              "      <td>8098.0</td>\n",
              "      <td>2.0</td>\n",
              "      <td>112.0</td>\n",
              "      <td>1.0</td>\n",
              "      <td>48.0</td>\n",
              "      <td>121.0</td>\n",
              "      <td>100000.000000</td>\n",
              "      <td>1</td>\n",
              "      <td>6</td>\n",
              "      <td>2018</td>\n",
              "    </tr>\n",
              "  </tbody>\n",
              "</table>\n",
              "</div>"
            ],
            "text/plain": [
              "   total_images  last_price  total_area first_day_exposition  rooms  \\\n",
              "0            20  13000000.0       108.0           2019-03-07      3   \n",
              "1             7   3350000.0        40.4           2018-12-04      1   \n",
              "2            10   5196000.0        56.0           2015-08-20      2   \n",
              "3             0  64900000.0       159.0           2015-07-24      3   \n",
              "4             2  10000000.0       100.0           2018-06-19      2   \n",
              "\n",
              "   ceiling_height  floors_total  living_area  floor  is_apartment  studio  \\\n",
              "0            2.70          16.0         51.0      8         False   False   \n",
              "1             NaN          11.0         18.6      1         False   False   \n",
              "2             NaN           5.0         34.3      4         False   False   \n",
              "3             NaN          14.0          NaN      9         False   False   \n",
              "4            3.03          14.0         32.0     13         False   False   \n",
              "\n",
              "   open_plan  kitchen_area  balcony    locality_name  airports_nearest  \\\n",
              "0      False          25.0      0.0  санкт-петербург           18863.0   \n",
              "1      False          11.0      2.0   поселок шушары           12817.0   \n",
              "2      False           8.3      0.0  санкт-петербург           21741.0   \n",
              "3      False           NaN      0.0  санкт-петербург           28098.0   \n",
              "4      False          41.0      0.0  санкт-петербург           31856.0   \n",
              "\n",
              "   cityCenters_nearest  parks_around3000  parks_nearest  ponds_around3000  \\\n",
              "0              16028.0               1.0          482.0               2.0   \n",
              "1              18603.0               0.0            NaN               0.0   \n",
              "2              13933.0               1.0           90.0               2.0   \n",
              "3               6800.0               2.0           84.0               3.0   \n",
              "4               8098.0               2.0          112.0               1.0   \n",
              "\n",
              "   ponds_nearest  days_exposition  price_square_meter  week_posted  \\\n",
              "0          755.0              NaN       120370.370370            3   \n",
              "1            NaN             81.0        82920.792079            1   \n",
              "2          574.0            558.0        92785.714286            3   \n",
              "3          234.0            424.0       408176.100629            4   \n",
              "4           48.0            121.0       100000.000000            1   \n",
              "\n",
              "   month_posted  year_posted  \n",
              "0             3         2019  \n",
              "1            12         2018  \n",
              "2             8         2015  \n",
              "3             7         2015  \n",
              "4             6         2018  "
            ]
          },
          "execution_count": 34,
          "metadata": {},
          "output_type": "execute_result"
        }
      ],
      "source": [
        "data.head()"
      ]
    },
    {
      "cell_type": "markdown",
      "metadata": {
        "id": "avtSv7PJu7Cx"
      },
      "source": [
        "Делаем категориальные значения для типов этажей"
      ]
    },
    {
      "cell_type": "code",
      "execution_count": null,
      "metadata": {
        "id": "mtv8Vzzmu7Cx"
      },
      "outputs": [],
      "source": [
        "def floor_type(x):\n",
        "    if x['floor'] == x['floors_total']:\n",
        "        return 'последний'\n",
        "    if x['floor'] == 1:\n",
        "        return 'первый'\n",
        "    return 'другое'"
      ]
    },
    {
      "cell_type": "code",
      "execution_count": null,
      "metadata": {
        "id": "LVkCloinu7Cx"
      },
      "outputs": [],
      "source": [
        "data['floors_type'] = data.apply(floor_type,axis=1)"
      ]
    },
    {
      "cell_type": "code",
      "execution_count": null,
      "metadata": {
        "scrolled": true,
        "id": "bHC0taXFu7Cx",
        "outputId": "81b87629-73cb-4b48-f58c-3cdb9f406a49"
      },
      "outputs": [
        {
          "data": {
            "text/html": [
              "<div>\n",
              "<style scoped>\n",
              "    .dataframe tbody tr th:only-of-type {\n",
              "        vertical-align: middle;\n",
              "    }\n",
              "\n",
              "    .dataframe tbody tr th {\n",
              "        vertical-align: top;\n",
              "    }\n",
              "\n",
              "    .dataframe thead th {\n",
              "        text-align: right;\n",
              "    }\n",
              "</style>\n",
              "<table border=\"1\" class=\"dataframe\">\n",
              "  <thead>\n",
              "    <tr style=\"text-align: right;\">\n",
              "      <th></th>\n",
              "      <th>total_images</th>\n",
              "      <th>last_price</th>\n",
              "      <th>total_area</th>\n",
              "      <th>first_day_exposition</th>\n",
              "      <th>rooms</th>\n",
              "      <th>ceiling_height</th>\n",
              "      <th>floors_total</th>\n",
              "      <th>living_area</th>\n",
              "      <th>floor</th>\n",
              "      <th>is_apartment</th>\n",
              "      <th>studio</th>\n",
              "      <th>open_plan</th>\n",
              "      <th>kitchen_area</th>\n",
              "      <th>balcony</th>\n",
              "      <th>locality_name</th>\n",
              "      <th>airports_nearest</th>\n",
              "      <th>cityCenters_nearest</th>\n",
              "      <th>parks_around3000</th>\n",
              "      <th>parks_nearest</th>\n",
              "      <th>ponds_around3000</th>\n",
              "      <th>ponds_nearest</th>\n",
              "      <th>days_exposition</th>\n",
              "      <th>price_square_meter</th>\n",
              "      <th>week_posted</th>\n",
              "      <th>month_posted</th>\n",
              "      <th>year_posted</th>\n",
              "      <th>floors_type</th>\n",
              "    </tr>\n",
              "  </thead>\n",
              "  <tbody>\n",
              "    <tr>\n",
              "      <th>0</th>\n",
              "      <td>20</td>\n",
              "      <td>13000000.0</td>\n",
              "      <td>108.00</td>\n",
              "      <td>2019-03-07</td>\n",
              "      <td>3</td>\n",
              "      <td>2.70</td>\n",
              "      <td>16.0</td>\n",
              "      <td>51.00</td>\n",
              "      <td>8</td>\n",
              "      <td>False</td>\n",
              "      <td>False</td>\n",
              "      <td>False</td>\n",
              "      <td>25.00</td>\n",
              "      <td>0.0</td>\n",
              "      <td>санкт-петербург</td>\n",
              "      <td>18863.0</td>\n",
              "      <td>16028.0</td>\n",
              "      <td>1.0</td>\n",
              "      <td>482.0</td>\n",
              "      <td>2.0</td>\n",
              "      <td>755.0</td>\n",
              "      <td>NaN</td>\n",
              "      <td>120370.370370</td>\n",
              "      <td>3</td>\n",
              "      <td>3</td>\n",
              "      <td>2019</td>\n",
              "      <td>другое</td>\n",
              "    </tr>\n",
              "    <tr>\n",
              "      <th>1</th>\n",
              "      <td>7</td>\n",
              "      <td>3350000.0</td>\n",
              "      <td>40.40</td>\n",
              "      <td>2018-12-04</td>\n",
              "      <td>1</td>\n",
              "      <td>NaN</td>\n",
              "      <td>11.0</td>\n",
              "      <td>18.60</td>\n",
              "      <td>1</td>\n",
              "      <td>False</td>\n",
              "      <td>False</td>\n",
              "      <td>False</td>\n",
              "      <td>11.00</td>\n",
              "      <td>2.0</td>\n",
              "      <td>поселок шушары</td>\n",
              "      <td>12817.0</td>\n",
              "      <td>18603.0</td>\n",
              "      <td>0.0</td>\n",
              "      <td>NaN</td>\n",
              "      <td>0.0</td>\n",
              "      <td>NaN</td>\n",
              "      <td>81.0</td>\n",
              "      <td>82920.792079</td>\n",
              "      <td>1</td>\n",
              "      <td>12</td>\n",
              "      <td>2018</td>\n",
              "      <td>первый</td>\n",
              "    </tr>\n",
              "    <tr>\n",
              "      <th>2</th>\n",
              "      <td>10</td>\n",
              "      <td>5196000.0</td>\n",
              "      <td>56.00</td>\n",
              "      <td>2015-08-20</td>\n",
              "      <td>2</td>\n",
              "      <td>NaN</td>\n",
              "      <td>5.0</td>\n",
              "      <td>34.30</td>\n",
              "      <td>4</td>\n",
              "      <td>False</td>\n",
              "      <td>False</td>\n",
              "      <td>False</td>\n",
              "      <td>8.30</td>\n",
              "      <td>0.0</td>\n",
              "      <td>санкт-петербург</td>\n",
              "      <td>21741.0</td>\n",
              "      <td>13933.0</td>\n",
              "      <td>1.0</td>\n",
              "      <td>90.0</td>\n",
              "      <td>2.0</td>\n",
              "      <td>574.0</td>\n",
              "      <td>558.0</td>\n",
              "      <td>92785.714286</td>\n",
              "      <td>3</td>\n",
              "      <td>8</td>\n",
              "      <td>2015</td>\n",
              "      <td>другое</td>\n",
              "    </tr>\n",
              "    <tr>\n",
              "      <th>3</th>\n",
              "      <td>0</td>\n",
              "      <td>64900000.0</td>\n",
              "      <td>159.00</td>\n",
              "      <td>2015-07-24</td>\n",
              "      <td>3</td>\n",
              "      <td>NaN</td>\n",
              "      <td>14.0</td>\n",
              "      <td>NaN</td>\n",
              "      <td>9</td>\n",
              "      <td>False</td>\n",
              "      <td>False</td>\n",
              "      <td>False</td>\n",
              "      <td>NaN</td>\n",
              "      <td>0.0</td>\n",
              "      <td>санкт-петербург</td>\n",
              "      <td>28098.0</td>\n",
              "      <td>6800.0</td>\n",
              "      <td>2.0</td>\n",
              "      <td>84.0</td>\n",
              "      <td>3.0</td>\n",
              "      <td>234.0</td>\n",
              "      <td>424.0</td>\n",
              "      <td>408176.100629</td>\n",
              "      <td>4</td>\n",
              "      <td>7</td>\n",
              "      <td>2015</td>\n",
              "      <td>другое</td>\n",
              "    </tr>\n",
              "    <tr>\n",
              "      <th>4</th>\n",
              "      <td>2</td>\n",
              "      <td>10000000.0</td>\n",
              "      <td>100.00</td>\n",
              "      <td>2018-06-19</td>\n",
              "      <td>2</td>\n",
              "      <td>3.03</td>\n",
              "      <td>14.0</td>\n",
              "      <td>32.00</td>\n",
              "      <td>13</td>\n",
              "      <td>False</td>\n",
              "      <td>False</td>\n",
              "      <td>False</td>\n",
              "      <td>41.00</td>\n",
              "      <td>0.0</td>\n",
              "      <td>санкт-петербург</td>\n",
              "      <td>31856.0</td>\n",
              "      <td>8098.0</td>\n",
              "      <td>2.0</td>\n",
              "      <td>112.0</td>\n",
              "      <td>1.0</td>\n",
              "      <td>48.0</td>\n",
              "      <td>121.0</td>\n",
              "      <td>100000.000000</td>\n",
              "      <td>1</td>\n",
              "      <td>6</td>\n",
              "      <td>2018</td>\n",
              "      <td>другое</td>\n",
              "    </tr>\n",
              "    <tr>\n",
              "      <th>5</th>\n",
              "      <td>10</td>\n",
              "      <td>2890000.0</td>\n",
              "      <td>30.40</td>\n",
              "      <td>2018-09-10</td>\n",
              "      <td>1</td>\n",
              "      <td>NaN</td>\n",
              "      <td>12.0</td>\n",
              "      <td>14.40</td>\n",
              "      <td>5</td>\n",
              "      <td>False</td>\n",
              "      <td>False</td>\n",
              "      <td>False</td>\n",
              "      <td>9.10</td>\n",
              "      <td>0.0</td>\n",
              "      <td>городской поселок янино-1</td>\n",
              "      <td>NaN</td>\n",
              "      <td>NaN</td>\n",
              "      <td>0.0</td>\n",
              "      <td>NaN</td>\n",
              "      <td>0.0</td>\n",
              "      <td>NaN</td>\n",
              "      <td>55.0</td>\n",
              "      <td>95065.789474</td>\n",
              "      <td>0</td>\n",
              "      <td>9</td>\n",
              "      <td>2018</td>\n",
              "      <td>другое</td>\n",
              "    </tr>\n",
              "    <tr>\n",
              "      <th>6</th>\n",
              "      <td>6</td>\n",
              "      <td>3700000.0</td>\n",
              "      <td>37.30</td>\n",
              "      <td>2017-11-02</td>\n",
              "      <td>1</td>\n",
              "      <td>NaN</td>\n",
              "      <td>26.0</td>\n",
              "      <td>10.60</td>\n",
              "      <td>6</td>\n",
              "      <td>False</td>\n",
              "      <td>False</td>\n",
              "      <td>False</td>\n",
              "      <td>14.40</td>\n",
              "      <td>1.0</td>\n",
              "      <td>поселок парголово</td>\n",
              "      <td>52996.0</td>\n",
              "      <td>19143.0</td>\n",
              "      <td>0.0</td>\n",
              "      <td>NaN</td>\n",
              "      <td>0.0</td>\n",
              "      <td>NaN</td>\n",
              "      <td>155.0</td>\n",
              "      <td>99195.710456</td>\n",
              "      <td>3</td>\n",
              "      <td>11</td>\n",
              "      <td>2017</td>\n",
              "      <td>другое</td>\n",
              "    </tr>\n",
              "    <tr>\n",
              "      <th>7</th>\n",
              "      <td>5</td>\n",
              "      <td>7915000.0</td>\n",
              "      <td>71.60</td>\n",
              "      <td>2019-04-18</td>\n",
              "      <td>2</td>\n",
              "      <td>NaN</td>\n",
              "      <td>24.0</td>\n",
              "      <td>NaN</td>\n",
              "      <td>22</td>\n",
              "      <td>False</td>\n",
              "      <td>False</td>\n",
              "      <td>False</td>\n",
              "      <td>18.90</td>\n",
              "      <td>2.0</td>\n",
              "      <td>санкт-петербург</td>\n",
              "      <td>23982.0</td>\n",
              "      <td>11634.0</td>\n",
              "      <td>0.0</td>\n",
              "      <td>NaN</td>\n",
              "      <td>0.0</td>\n",
              "      <td>NaN</td>\n",
              "      <td>NaN</td>\n",
              "      <td>110544.692737</td>\n",
              "      <td>3</td>\n",
              "      <td>4</td>\n",
              "      <td>2019</td>\n",
              "      <td>другое</td>\n",
              "    </tr>\n",
              "    <tr>\n",
              "      <th>8</th>\n",
              "      <td>20</td>\n",
              "      <td>2900000.0</td>\n",
              "      <td>33.16</td>\n",
              "      <td>2018-05-23</td>\n",
              "      <td>1</td>\n",
              "      <td>NaN</td>\n",
              "      <td>27.0</td>\n",
              "      <td>15.43</td>\n",
              "      <td>26</td>\n",
              "      <td>False</td>\n",
              "      <td>False</td>\n",
              "      <td>False</td>\n",
              "      <td>8.81</td>\n",
              "      <td>0.0</td>\n",
              "      <td>поселок мурино</td>\n",
              "      <td>NaN</td>\n",
              "      <td>NaN</td>\n",
              "      <td>0.0</td>\n",
              "      <td>NaN</td>\n",
              "      <td>0.0</td>\n",
              "      <td>NaN</td>\n",
              "      <td>189.0</td>\n",
              "      <td>87454.764777</td>\n",
              "      <td>2</td>\n",
              "      <td>5</td>\n",
              "      <td>2018</td>\n",
              "      <td>другое</td>\n",
              "    </tr>\n",
              "    <tr>\n",
              "      <th>9</th>\n",
              "      <td>18</td>\n",
              "      <td>5400000.0</td>\n",
              "      <td>61.00</td>\n",
              "      <td>2017-02-26</td>\n",
              "      <td>3</td>\n",
              "      <td>2.50</td>\n",
              "      <td>9.0</td>\n",
              "      <td>43.60</td>\n",
              "      <td>7</td>\n",
              "      <td>False</td>\n",
              "      <td>False</td>\n",
              "      <td>False</td>\n",
              "      <td>6.50</td>\n",
              "      <td>2.0</td>\n",
              "      <td>санкт-петербург</td>\n",
              "      <td>50898.0</td>\n",
              "      <td>15008.0</td>\n",
              "      <td>0.0</td>\n",
              "      <td>NaN</td>\n",
              "      <td>0.0</td>\n",
              "      <td>NaN</td>\n",
              "      <td>289.0</td>\n",
              "      <td>88524.590164</td>\n",
              "      <td>6</td>\n",
              "      <td>2</td>\n",
              "      <td>2017</td>\n",
              "      <td>другое</td>\n",
              "    </tr>\n",
              "    <tr>\n",
              "      <th>10</th>\n",
              "      <td>5</td>\n",
              "      <td>5050000.0</td>\n",
              "      <td>39.60</td>\n",
              "      <td>2017-11-16</td>\n",
              "      <td>1</td>\n",
              "      <td>2.67</td>\n",
              "      <td>12.0</td>\n",
              "      <td>20.30</td>\n",
              "      <td>3</td>\n",
              "      <td>False</td>\n",
              "      <td>False</td>\n",
              "      <td>False</td>\n",
              "      <td>8.50</td>\n",
              "      <td>0.0</td>\n",
              "      <td>санкт-петербург</td>\n",
              "      <td>38357.0</td>\n",
              "      <td>13878.0</td>\n",
              "      <td>1.0</td>\n",
              "      <td>310.0</td>\n",
              "      <td>2.0</td>\n",
              "      <td>553.0</td>\n",
              "      <td>137.0</td>\n",
              "      <td>127525.252525</td>\n",
              "      <td>3</td>\n",
              "      <td>11</td>\n",
              "      <td>2017</td>\n",
              "      <td>другое</td>\n",
              "    </tr>\n",
              "    <tr>\n",
              "      <th>11</th>\n",
              "      <td>9</td>\n",
              "      <td>3300000.0</td>\n",
              "      <td>44.00</td>\n",
              "      <td>2018-08-27</td>\n",
              "      <td>2</td>\n",
              "      <td>NaN</td>\n",
              "      <td>5.0</td>\n",
              "      <td>31.00</td>\n",
              "      <td>4</td>\n",
              "      <td>False</td>\n",
              "      <td>False</td>\n",
              "      <td>False</td>\n",
              "      <td>6.00</td>\n",
              "      <td>1.0</td>\n",
              "      <td>ломоносов</td>\n",
              "      <td>48252.0</td>\n",
              "      <td>51677.0</td>\n",
              "      <td>0.0</td>\n",
              "      <td>NaN</td>\n",
              "      <td>0.0</td>\n",
              "      <td>NaN</td>\n",
              "      <td>7.0</td>\n",
              "      <td>75000.000000</td>\n",
              "      <td>0</td>\n",
              "      <td>8</td>\n",
              "      <td>2018</td>\n",
              "      <td>другое</td>\n",
              "    </tr>\n",
              "    <tr>\n",
              "      <th>12</th>\n",
              "      <td>10</td>\n",
              "      <td>3890000.0</td>\n",
              "      <td>54.00</td>\n",
              "      <td>2016-06-30</td>\n",
              "      <td>2</td>\n",
              "      <td>NaN</td>\n",
              "      <td>5.0</td>\n",
              "      <td>30.00</td>\n",
              "      <td>5</td>\n",
              "      <td>False</td>\n",
              "      <td>False</td>\n",
              "      <td>False</td>\n",
              "      <td>9.00</td>\n",
              "      <td>0.0</td>\n",
              "      <td>сертолово</td>\n",
              "      <td>NaN</td>\n",
              "      <td>NaN</td>\n",
              "      <td>0.0</td>\n",
              "      <td>NaN</td>\n",
              "      <td>0.0</td>\n",
              "      <td>NaN</td>\n",
              "      <td>90.0</td>\n",
              "      <td>72037.037037</td>\n",
              "      <td>3</td>\n",
              "      <td>6</td>\n",
              "      <td>2016</td>\n",
              "      <td>последний</td>\n",
              "    </tr>\n",
              "    <tr>\n",
              "      <th>13</th>\n",
              "      <td>20</td>\n",
              "      <td>3550000.0</td>\n",
              "      <td>42.80</td>\n",
              "      <td>2017-07-01</td>\n",
              "      <td>2</td>\n",
              "      <td>2.56</td>\n",
              "      <td>5.0</td>\n",
              "      <td>27.00</td>\n",
              "      <td>5</td>\n",
              "      <td>False</td>\n",
              "      <td>False</td>\n",
              "      <td>False</td>\n",
              "      <td>5.20</td>\n",
              "      <td>1.0</td>\n",
              "      <td>петергоф</td>\n",
              "      <td>37868.0</td>\n",
              "      <td>33058.0</td>\n",
              "      <td>1.0</td>\n",
              "      <td>294.0</td>\n",
              "      <td>3.0</td>\n",
              "      <td>298.0</td>\n",
              "      <td>366.0</td>\n",
              "      <td>82943.925234</td>\n",
              "      <td>5</td>\n",
              "      <td>7</td>\n",
              "      <td>2017</td>\n",
              "      <td>последний</td>\n",
              "    </tr>\n",
              "    <tr>\n",
              "      <th>14</th>\n",
              "      <td>1</td>\n",
              "      <td>4400000.0</td>\n",
              "      <td>36.00</td>\n",
              "      <td>2016-06-23</td>\n",
              "      <td>1</td>\n",
              "      <td>NaN</td>\n",
              "      <td>6.0</td>\n",
              "      <td>17.00</td>\n",
              "      <td>1</td>\n",
              "      <td>False</td>\n",
              "      <td>False</td>\n",
              "      <td>False</td>\n",
              "      <td>8.00</td>\n",
              "      <td>0.0</td>\n",
              "      <td>пушкин</td>\n",
              "      <td>20782.0</td>\n",
              "      <td>30759.0</td>\n",
              "      <td>0.0</td>\n",
              "      <td>NaN</td>\n",
              "      <td>1.0</td>\n",
              "      <td>96.0</td>\n",
              "      <td>203.0</td>\n",
              "      <td>122222.222222</td>\n",
              "      <td>3</td>\n",
              "      <td>6</td>\n",
              "      <td>2016</td>\n",
              "      <td>первый</td>\n",
              "    </tr>\n",
              "  </tbody>\n",
              "</table>\n",
              "</div>"
            ],
            "text/plain": [
              "    total_images  last_price  total_area first_day_exposition  rooms  \\\n",
              "0             20  13000000.0      108.00           2019-03-07      3   \n",
              "1              7   3350000.0       40.40           2018-12-04      1   \n",
              "2             10   5196000.0       56.00           2015-08-20      2   \n",
              "3              0  64900000.0      159.00           2015-07-24      3   \n",
              "4              2  10000000.0      100.00           2018-06-19      2   \n",
              "5             10   2890000.0       30.40           2018-09-10      1   \n",
              "6              6   3700000.0       37.30           2017-11-02      1   \n",
              "7              5   7915000.0       71.60           2019-04-18      2   \n",
              "8             20   2900000.0       33.16           2018-05-23      1   \n",
              "9             18   5400000.0       61.00           2017-02-26      3   \n",
              "10             5   5050000.0       39.60           2017-11-16      1   \n",
              "11             9   3300000.0       44.00           2018-08-27      2   \n",
              "12            10   3890000.0       54.00           2016-06-30      2   \n",
              "13            20   3550000.0       42.80           2017-07-01      2   \n",
              "14             1   4400000.0       36.00           2016-06-23      1   \n",
              "\n",
              "    ceiling_height  floors_total  living_area  floor  is_apartment  studio  \\\n",
              "0             2.70          16.0        51.00      8         False   False   \n",
              "1              NaN          11.0        18.60      1         False   False   \n",
              "2              NaN           5.0        34.30      4         False   False   \n",
              "3              NaN          14.0          NaN      9         False   False   \n",
              "4             3.03          14.0        32.00     13         False   False   \n",
              "5              NaN          12.0        14.40      5         False   False   \n",
              "6              NaN          26.0        10.60      6         False   False   \n",
              "7              NaN          24.0          NaN     22         False   False   \n",
              "8              NaN          27.0        15.43     26         False   False   \n",
              "9             2.50           9.0        43.60      7         False   False   \n",
              "10            2.67          12.0        20.30      3         False   False   \n",
              "11             NaN           5.0        31.00      4         False   False   \n",
              "12             NaN           5.0        30.00      5         False   False   \n",
              "13            2.56           5.0        27.00      5         False   False   \n",
              "14             NaN           6.0        17.00      1         False   False   \n",
              "\n",
              "    open_plan  kitchen_area  balcony              locality_name  \\\n",
              "0       False         25.00      0.0            санкт-петербург   \n",
              "1       False         11.00      2.0             поселок шушары   \n",
              "2       False          8.30      0.0            санкт-петербург   \n",
              "3       False           NaN      0.0            санкт-петербург   \n",
              "4       False         41.00      0.0            санкт-петербург   \n",
              "5       False          9.10      0.0  городской поселок янино-1   \n",
              "6       False         14.40      1.0          поселок парголово   \n",
              "7       False         18.90      2.0            санкт-петербург   \n",
              "8       False          8.81      0.0             поселок мурино   \n",
              "9       False          6.50      2.0            санкт-петербург   \n",
              "10      False          8.50      0.0            санкт-петербург   \n",
              "11      False          6.00      1.0                  ломоносов   \n",
              "12      False          9.00      0.0                  сертолово   \n",
              "13      False          5.20      1.0                   петергоф   \n",
              "14      False          8.00      0.0                     пушкин   \n",
              "\n",
              "    airports_nearest  cityCenters_nearest  parks_around3000  parks_nearest  \\\n",
              "0            18863.0              16028.0               1.0          482.0   \n",
              "1            12817.0              18603.0               0.0            NaN   \n",
              "2            21741.0              13933.0               1.0           90.0   \n",
              "3            28098.0               6800.0               2.0           84.0   \n",
              "4            31856.0               8098.0               2.0          112.0   \n",
              "5                NaN                  NaN               0.0            NaN   \n",
              "6            52996.0              19143.0               0.0            NaN   \n",
              "7            23982.0              11634.0               0.0            NaN   \n",
              "8                NaN                  NaN               0.0            NaN   \n",
              "9            50898.0              15008.0               0.0            NaN   \n",
              "10           38357.0              13878.0               1.0          310.0   \n",
              "11           48252.0              51677.0               0.0            NaN   \n",
              "12               NaN                  NaN               0.0            NaN   \n",
              "13           37868.0              33058.0               1.0          294.0   \n",
              "14           20782.0              30759.0               0.0            NaN   \n",
              "\n",
              "    ponds_around3000  ponds_nearest  days_exposition  price_square_meter  \\\n",
              "0                2.0          755.0              NaN       120370.370370   \n",
              "1                0.0            NaN             81.0        82920.792079   \n",
              "2                2.0          574.0            558.0        92785.714286   \n",
              "3                3.0          234.0            424.0       408176.100629   \n",
              "4                1.0           48.0            121.0       100000.000000   \n",
              "5                0.0            NaN             55.0        95065.789474   \n",
              "6                0.0            NaN            155.0        99195.710456   \n",
              "7                0.0            NaN              NaN       110544.692737   \n",
              "8                0.0            NaN            189.0        87454.764777   \n",
              "9                0.0            NaN            289.0        88524.590164   \n",
              "10               2.0          553.0            137.0       127525.252525   \n",
              "11               0.0            NaN              7.0        75000.000000   \n",
              "12               0.0            NaN             90.0        72037.037037   \n",
              "13               3.0          298.0            366.0        82943.925234   \n",
              "14               1.0           96.0            203.0       122222.222222   \n",
              "\n",
              "    week_posted  month_posted  year_posted floors_type  \n",
              "0             3             3         2019      другое  \n",
              "1             1            12         2018      первый  \n",
              "2             3             8         2015      другое  \n",
              "3             4             7         2015      другое  \n",
              "4             1             6         2018      другое  \n",
              "5             0             9         2018      другое  \n",
              "6             3            11         2017      другое  \n",
              "7             3             4         2019      другое  \n",
              "8             2             5         2018      другое  \n",
              "9             6             2         2017      другое  \n",
              "10            3            11         2017      другое  \n",
              "11            0             8         2018      другое  \n",
              "12            3             6         2016   последний  \n",
              "13            5             7         2017   последний  \n",
              "14            3             6         2016      первый  "
            ]
          },
          "execution_count": 37,
          "metadata": {},
          "output_type": "execute_result"
        }
      ],
      "source": [
        "data.head(15)"
      ]
    },
    {
      "cell_type": "markdown",
      "metadata": {
        "id": "9QepC7U9u7Cx"
      },
      "source": [
        "Переводим растояние до центра из метров в км"
      ]
    },
    {
      "cell_type": "code",
      "execution_count": null,
      "metadata": {
        "id": "TsXR5Mzau7Cx"
      },
      "outputs": [],
      "source": [
        "data['center_km'] = data['cityCenters_nearest'] / 1000"
      ]
    },
    {
      "cell_type": "code",
      "execution_count": null,
      "metadata": {
        "id": "CS7FDmQYu7Cx",
        "outputId": "a8a80fac-0ea1-4085-e992-2cef842dcd23"
      },
      "outputs": [
        {
          "data": {
            "text/html": [
              "<div>\n",
              "<style scoped>\n",
              "    .dataframe tbody tr th:only-of-type {\n",
              "        vertical-align: middle;\n",
              "    }\n",
              "\n",
              "    .dataframe tbody tr th {\n",
              "        vertical-align: top;\n",
              "    }\n",
              "\n",
              "    .dataframe thead th {\n",
              "        text-align: right;\n",
              "    }\n",
              "</style>\n",
              "<table border=\"1\" class=\"dataframe\">\n",
              "  <thead>\n",
              "    <tr style=\"text-align: right;\">\n",
              "      <th></th>\n",
              "      <th>total_images</th>\n",
              "      <th>last_price</th>\n",
              "      <th>total_area</th>\n",
              "      <th>first_day_exposition</th>\n",
              "      <th>rooms</th>\n",
              "      <th>ceiling_height</th>\n",
              "      <th>floors_total</th>\n",
              "      <th>living_area</th>\n",
              "      <th>floor</th>\n",
              "      <th>is_apartment</th>\n",
              "      <th>studio</th>\n",
              "      <th>open_plan</th>\n",
              "      <th>kitchen_area</th>\n",
              "      <th>balcony</th>\n",
              "      <th>locality_name</th>\n",
              "      <th>airports_nearest</th>\n",
              "      <th>cityCenters_nearest</th>\n",
              "      <th>parks_around3000</th>\n",
              "      <th>parks_nearest</th>\n",
              "      <th>ponds_around3000</th>\n",
              "      <th>ponds_nearest</th>\n",
              "      <th>days_exposition</th>\n",
              "      <th>price_square_meter</th>\n",
              "      <th>week_posted</th>\n",
              "      <th>month_posted</th>\n",
              "      <th>year_posted</th>\n",
              "      <th>floors_type</th>\n",
              "      <th>center_km</th>\n",
              "    </tr>\n",
              "  </thead>\n",
              "  <tbody>\n",
              "    <tr>\n",
              "      <th>0</th>\n",
              "      <td>20</td>\n",
              "      <td>13000000.0</td>\n",
              "      <td>108.0</td>\n",
              "      <td>2019-03-07</td>\n",
              "      <td>3</td>\n",
              "      <td>2.70</td>\n",
              "      <td>16.0</td>\n",
              "      <td>51.0</td>\n",
              "      <td>8</td>\n",
              "      <td>False</td>\n",
              "      <td>False</td>\n",
              "      <td>False</td>\n",
              "      <td>25.0</td>\n",
              "      <td>0.0</td>\n",
              "      <td>санкт-петербург</td>\n",
              "      <td>18863.0</td>\n",
              "      <td>16028.0</td>\n",
              "      <td>1.0</td>\n",
              "      <td>482.0</td>\n",
              "      <td>2.0</td>\n",
              "      <td>755.0</td>\n",
              "      <td>NaN</td>\n",
              "      <td>120370.370370</td>\n",
              "      <td>3</td>\n",
              "      <td>3</td>\n",
              "      <td>2019</td>\n",
              "      <td>другое</td>\n",
              "      <td>16.028</td>\n",
              "    </tr>\n",
              "    <tr>\n",
              "      <th>1</th>\n",
              "      <td>7</td>\n",
              "      <td>3350000.0</td>\n",
              "      <td>40.4</td>\n",
              "      <td>2018-12-04</td>\n",
              "      <td>1</td>\n",
              "      <td>NaN</td>\n",
              "      <td>11.0</td>\n",
              "      <td>18.6</td>\n",
              "      <td>1</td>\n",
              "      <td>False</td>\n",
              "      <td>False</td>\n",
              "      <td>False</td>\n",
              "      <td>11.0</td>\n",
              "      <td>2.0</td>\n",
              "      <td>поселок шушары</td>\n",
              "      <td>12817.0</td>\n",
              "      <td>18603.0</td>\n",
              "      <td>0.0</td>\n",
              "      <td>NaN</td>\n",
              "      <td>0.0</td>\n",
              "      <td>NaN</td>\n",
              "      <td>81.0</td>\n",
              "      <td>82920.792079</td>\n",
              "      <td>1</td>\n",
              "      <td>12</td>\n",
              "      <td>2018</td>\n",
              "      <td>первый</td>\n",
              "      <td>18.603</td>\n",
              "    </tr>\n",
              "    <tr>\n",
              "      <th>2</th>\n",
              "      <td>10</td>\n",
              "      <td>5196000.0</td>\n",
              "      <td>56.0</td>\n",
              "      <td>2015-08-20</td>\n",
              "      <td>2</td>\n",
              "      <td>NaN</td>\n",
              "      <td>5.0</td>\n",
              "      <td>34.3</td>\n",
              "      <td>4</td>\n",
              "      <td>False</td>\n",
              "      <td>False</td>\n",
              "      <td>False</td>\n",
              "      <td>8.3</td>\n",
              "      <td>0.0</td>\n",
              "      <td>санкт-петербург</td>\n",
              "      <td>21741.0</td>\n",
              "      <td>13933.0</td>\n",
              "      <td>1.0</td>\n",
              "      <td>90.0</td>\n",
              "      <td>2.0</td>\n",
              "      <td>574.0</td>\n",
              "      <td>558.0</td>\n",
              "      <td>92785.714286</td>\n",
              "      <td>3</td>\n",
              "      <td>8</td>\n",
              "      <td>2015</td>\n",
              "      <td>другое</td>\n",
              "      <td>13.933</td>\n",
              "    </tr>\n",
              "    <tr>\n",
              "      <th>3</th>\n",
              "      <td>0</td>\n",
              "      <td>64900000.0</td>\n",
              "      <td>159.0</td>\n",
              "      <td>2015-07-24</td>\n",
              "      <td>3</td>\n",
              "      <td>NaN</td>\n",
              "      <td>14.0</td>\n",
              "      <td>NaN</td>\n",
              "      <td>9</td>\n",
              "      <td>False</td>\n",
              "      <td>False</td>\n",
              "      <td>False</td>\n",
              "      <td>NaN</td>\n",
              "      <td>0.0</td>\n",
              "      <td>санкт-петербург</td>\n",
              "      <td>28098.0</td>\n",
              "      <td>6800.0</td>\n",
              "      <td>2.0</td>\n",
              "      <td>84.0</td>\n",
              "      <td>3.0</td>\n",
              "      <td>234.0</td>\n",
              "      <td>424.0</td>\n",
              "      <td>408176.100629</td>\n",
              "      <td>4</td>\n",
              "      <td>7</td>\n",
              "      <td>2015</td>\n",
              "      <td>другое</td>\n",
              "      <td>6.800</td>\n",
              "    </tr>\n",
              "    <tr>\n",
              "      <th>4</th>\n",
              "      <td>2</td>\n",
              "      <td>10000000.0</td>\n",
              "      <td>100.0</td>\n",
              "      <td>2018-06-19</td>\n",
              "      <td>2</td>\n",
              "      <td>3.03</td>\n",
              "      <td>14.0</td>\n",
              "      <td>32.0</td>\n",
              "      <td>13</td>\n",
              "      <td>False</td>\n",
              "      <td>False</td>\n",
              "      <td>False</td>\n",
              "      <td>41.0</td>\n",
              "      <td>0.0</td>\n",
              "      <td>санкт-петербург</td>\n",
              "      <td>31856.0</td>\n",
              "      <td>8098.0</td>\n",
              "      <td>2.0</td>\n",
              "      <td>112.0</td>\n",
              "      <td>1.0</td>\n",
              "      <td>48.0</td>\n",
              "      <td>121.0</td>\n",
              "      <td>100000.000000</td>\n",
              "      <td>1</td>\n",
              "      <td>6</td>\n",
              "      <td>2018</td>\n",
              "      <td>другое</td>\n",
              "      <td>8.098</td>\n",
              "    </tr>\n",
              "  </tbody>\n",
              "</table>\n",
              "</div>"
            ],
            "text/plain": [
              "   total_images  last_price  total_area first_day_exposition  rooms  \\\n",
              "0            20  13000000.0       108.0           2019-03-07      3   \n",
              "1             7   3350000.0        40.4           2018-12-04      1   \n",
              "2            10   5196000.0        56.0           2015-08-20      2   \n",
              "3             0  64900000.0       159.0           2015-07-24      3   \n",
              "4             2  10000000.0       100.0           2018-06-19      2   \n",
              "\n",
              "   ceiling_height  floors_total  living_area  floor  is_apartment  studio  \\\n",
              "0            2.70          16.0         51.0      8         False   False   \n",
              "1             NaN          11.0         18.6      1         False   False   \n",
              "2             NaN           5.0         34.3      4         False   False   \n",
              "3             NaN          14.0          NaN      9         False   False   \n",
              "4            3.03          14.0         32.0     13         False   False   \n",
              "\n",
              "   open_plan  kitchen_area  balcony    locality_name  airports_nearest  \\\n",
              "0      False          25.0      0.0  санкт-петербург           18863.0   \n",
              "1      False          11.0      2.0   поселок шушары           12817.0   \n",
              "2      False           8.3      0.0  санкт-петербург           21741.0   \n",
              "3      False           NaN      0.0  санкт-петербург           28098.0   \n",
              "4      False          41.0      0.0  санкт-петербург           31856.0   \n",
              "\n",
              "   cityCenters_nearest  parks_around3000  parks_nearest  ponds_around3000  \\\n",
              "0              16028.0               1.0          482.0               2.0   \n",
              "1              18603.0               0.0            NaN               0.0   \n",
              "2              13933.0               1.0           90.0               2.0   \n",
              "3               6800.0               2.0           84.0               3.0   \n",
              "4               8098.0               2.0          112.0               1.0   \n",
              "\n",
              "   ponds_nearest  days_exposition  price_square_meter  week_posted  \\\n",
              "0          755.0              NaN       120370.370370            3   \n",
              "1            NaN             81.0        82920.792079            1   \n",
              "2          574.0            558.0        92785.714286            3   \n",
              "3          234.0            424.0       408176.100629            4   \n",
              "4           48.0            121.0       100000.000000            1   \n",
              "\n",
              "   month_posted  year_posted floors_type  center_km  \n",
              "0             3         2019      другое     16.028  \n",
              "1            12         2018      первый     18.603  \n",
              "2             8         2015      другое     13.933  \n",
              "3             7         2015      другое      6.800  \n",
              "4             6         2018      другое      8.098  "
            ]
          },
          "execution_count": 39,
          "metadata": {},
          "output_type": "execute_result"
        }
      ],
      "source": [
        "data.head()"
      ]
    },
    {
      "cell_type": "code",
      "execution_count": null,
      "metadata": {
        "id": "7Hb4vM9cu7Cy"
      },
      "outputs": [],
      "source": [
        "#Округление до целого числа\n",
        "data['center_km'] = data['center_km'].round()"
      ]
    },
    {
      "cell_type": "code",
      "execution_count": null,
      "metadata": {
        "id": "gPQ3bp2ru7Cy",
        "outputId": "95125bcc-9073-44de-8a1c-2f69ab18fd5b"
      },
      "outputs": [
        {
          "data": {
            "text/html": [
              "<div>\n",
              "<style scoped>\n",
              "    .dataframe tbody tr th:only-of-type {\n",
              "        vertical-align: middle;\n",
              "    }\n",
              "\n",
              "    .dataframe tbody tr th {\n",
              "        vertical-align: top;\n",
              "    }\n",
              "\n",
              "    .dataframe thead th {\n",
              "        text-align: right;\n",
              "    }\n",
              "</style>\n",
              "<table border=\"1\" class=\"dataframe\">\n",
              "  <thead>\n",
              "    <tr style=\"text-align: right;\">\n",
              "      <th></th>\n",
              "      <th>total_images</th>\n",
              "      <th>last_price</th>\n",
              "      <th>total_area</th>\n",
              "      <th>first_day_exposition</th>\n",
              "      <th>rooms</th>\n",
              "      <th>ceiling_height</th>\n",
              "      <th>floors_total</th>\n",
              "      <th>living_area</th>\n",
              "      <th>floor</th>\n",
              "      <th>is_apartment</th>\n",
              "      <th>studio</th>\n",
              "      <th>open_plan</th>\n",
              "      <th>kitchen_area</th>\n",
              "      <th>balcony</th>\n",
              "      <th>locality_name</th>\n",
              "      <th>airports_nearest</th>\n",
              "      <th>cityCenters_nearest</th>\n",
              "      <th>parks_around3000</th>\n",
              "      <th>parks_nearest</th>\n",
              "      <th>ponds_around3000</th>\n",
              "      <th>ponds_nearest</th>\n",
              "      <th>days_exposition</th>\n",
              "      <th>price_square_meter</th>\n",
              "      <th>week_posted</th>\n",
              "      <th>month_posted</th>\n",
              "      <th>year_posted</th>\n",
              "      <th>floors_type</th>\n",
              "      <th>center_km</th>\n",
              "    </tr>\n",
              "  </thead>\n",
              "  <tbody>\n",
              "    <tr>\n",
              "      <th>0</th>\n",
              "      <td>20</td>\n",
              "      <td>13000000.0</td>\n",
              "      <td>108.0</td>\n",
              "      <td>2019-03-07</td>\n",
              "      <td>3</td>\n",
              "      <td>2.70</td>\n",
              "      <td>16.0</td>\n",
              "      <td>51.0</td>\n",
              "      <td>8</td>\n",
              "      <td>False</td>\n",
              "      <td>False</td>\n",
              "      <td>False</td>\n",
              "      <td>25.0</td>\n",
              "      <td>0.0</td>\n",
              "      <td>санкт-петербург</td>\n",
              "      <td>18863.0</td>\n",
              "      <td>16028.0</td>\n",
              "      <td>1.0</td>\n",
              "      <td>482.0</td>\n",
              "      <td>2.0</td>\n",
              "      <td>755.0</td>\n",
              "      <td>NaN</td>\n",
              "      <td>120370.370370</td>\n",
              "      <td>3</td>\n",
              "      <td>3</td>\n",
              "      <td>2019</td>\n",
              "      <td>другое</td>\n",
              "      <td>16.0</td>\n",
              "    </tr>\n",
              "    <tr>\n",
              "      <th>1</th>\n",
              "      <td>7</td>\n",
              "      <td>3350000.0</td>\n",
              "      <td>40.4</td>\n",
              "      <td>2018-12-04</td>\n",
              "      <td>1</td>\n",
              "      <td>NaN</td>\n",
              "      <td>11.0</td>\n",
              "      <td>18.6</td>\n",
              "      <td>1</td>\n",
              "      <td>False</td>\n",
              "      <td>False</td>\n",
              "      <td>False</td>\n",
              "      <td>11.0</td>\n",
              "      <td>2.0</td>\n",
              "      <td>поселок шушары</td>\n",
              "      <td>12817.0</td>\n",
              "      <td>18603.0</td>\n",
              "      <td>0.0</td>\n",
              "      <td>NaN</td>\n",
              "      <td>0.0</td>\n",
              "      <td>NaN</td>\n",
              "      <td>81.0</td>\n",
              "      <td>82920.792079</td>\n",
              "      <td>1</td>\n",
              "      <td>12</td>\n",
              "      <td>2018</td>\n",
              "      <td>первый</td>\n",
              "      <td>19.0</td>\n",
              "    </tr>\n",
              "    <tr>\n",
              "      <th>2</th>\n",
              "      <td>10</td>\n",
              "      <td>5196000.0</td>\n",
              "      <td>56.0</td>\n",
              "      <td>2015-08-20</td>\n",
              "      <td>2</td>\n",
              "      <td>NaN</td>\n",
              "      <td>5.0</td>\n",
              "      <td>34.3</td>\n",
              "      <td>4</td>\n",
              "      <td>False</td>\n",
              "      <td>False</td>\n",
              "      <td>False</td>\n",
              "      <td>8.3</td>\n",
              "      <td>0.0</td>\n",
              "      <td>санкт-петербург</td>\n",
              "      <td>21741.0</td>\n",
              "      <td>13933.0</td>\n",
              "      <td>1.0</td>\n",
              "      <td>90.0</td>\n",
              "      <td>2.0</td>\n",
              "      <td>574.0</td>\n",
              "      <td>558.0</td>\n",
              "      <td>92785.714286</td>\n",
              "      <td>3</td>\n",
              "      <td>8</td>\n",
              "      <td>2015</td>\n",
              "      <td>другое</td>\n",
              "      <td>14.0</td>\n",
              "    </tr>\n",
              "    <tr>\n",
              "      <th>3</th>\n",
              "      <td>0</td>\n",
              "      <td>64900000.0</td>\n",
              "      <td>159.0</td>\n",
              "      <td>2015-07-24</td>\n",
              "      <td>3</td>\n",
              "      <td>NaN</td>\n",
              "      <td>14.0</td>\n",
              "      <td>NaN</td>\n",
              "      <td>9</td>\n",
              "      <td>False</td>\n",
              "      <td>False</td>\n",
              "      <td>False</td>\n",
              "      <td>NaN</td>\n",
              "      <td>0.0</td>\n",
              "      <td>санкт-петербург</td>\n",
              "      <td>28098.0</td>\n",
              "      <td>6800.0</td>\n",
              "      <td>2.0</td>\n",
              "      <td>84.0</td>\n",
              "      <td>3.0</td>\n",
              "      <td>234.0</td>\n",
              "      <td>424.0</td>\n",
              "      <td>408176.100629</td>\n",
              "      <td>4</td>\n",
              "      <td>7</td>\n",
              "      <td>2015</td>\n",
              "      <td>другое</td>\n",
              "      <td>7.0</td>\n",
              "    </tr>\n",
              "    <tr>\n",
              "      <th>4</th>\n",
              "      <td>2</td>\n",
              "      <td>10000000.0</td>\n",
              "      <td>100.0</td>\n",
              "      <td>2018-06-19</td>\n",
              "      <td>2</td>\n",
              "      <td>3.03</td>\n",
              "      <td>14.0</td>\n",
              "      <td>32.0</td>\n",
              "      <td>13</td>\n",
              "      <td>False</td>\n",
              "      <td>False</td>\n",
              "      <td>False</td>\n",
              "      <td>41.0</td>\n",
              "      <td>0.0</td>\n",
              "      <td>санкт-петербург</td>\n",
              "      <td>31856.0</td>\n",
              "      <td>8098.0</td>\n",
              "      <td>2.0</td>\n",
              "      <td>112.0</td>\n",
              "      <td>1.0</td>\n",
              "      <td>48.0</td>\n",
              "      <td>121.0</td>\n",
              "      <td>100000.000000</td>\n",
              "      <td>1</td>\n",
              "      <td>6</td>\n",
              "      <td>2018</td>\n",
              "      <td>другое</td>\n",
              "      <td>8.0</td>\n",
              "    </tr>\n",
              "  </tbody>\n",
              "</table>\n",
              "</div>"
            ],
            "text/plain": [
              "   total_images  last_price  total_area first_day_exposition  rooms  \\\n",
              "0            20  13000000.0       108.0           2019-03-07      3   \n",
              "1             7   3350000.0        40.4           2018-12-04      1   \n",
              "2            10   5196000.0        56.0           2015-08-20      2   \n",
              "3             0  64900000.0       159.0           2015-07-24      3   \n",
              "4             2  10000000.0       100.0           2018-06-19      2   \n",
              "\n",
              "   ceiling_height  floors_total  living_area  floor  is_apartment  studio  \\\n",
              "0            2.70          16.0         51.0      8         False   False   \n",
              "1             NaN          11.0         18.6      1         False   False   \n",
              "2             NaN           5.0         34.3      4         False   False   \n",
              "3             NaN          14.0          NaN      9         False   False   \n",
              "4            3.03          14.0         32.0     13         False   False   \n",
              "\n",
              "   open_plan  kitchen_area  balcony    locality_name  airports_nearest  \\\n",
              "0      False          25.0      0.0  санкт-петербург           18863.0   \n",
              "1      False          11.0      2.0   поселок шушары           12817.0   \n",
              "2      False           8.3      0.0  санкт-петербург           21741.0   \n",
              "3      False           NaN      0.0  санкт-петербург           28098.0   \n",
              "4      False          41.0      0.0  санкт-петербург           31856.0   \n",
              "\n",
              "   cityCenters_nearest  parks_around3000  parks_nearest  ponds_around3000  \\\n",
              "0              16028.0               1.0          482.0               2.0   \n",
              "1              18603.0               0.0            NaN               0.0   \n",
              "2              13933.0               1.0           90.0               2.0   \n",
              "3               6800.0               2.0           84.0               3.0   \n",
              "4               8098.0               2.0          112.0               1.0   \n",
              "\n",
              "   ponds_nearest  days_exposition  price_square_meter  week_posted  \\\n",
              "0          755.0              NaN       120370.370370            3   \n",
              "1            NaN             81.0        82920.792079            1   \n",
              "2          574.0            558.0        92785.714286            3   \n",
              "3          234.0            424.0       408176.100629            4   \n",
              "4           48.0            121.0       100000.000000            1   \n",
              "\n",
              "   month_posted  year_posted floors_type  center_km  \n",
              "0             3         2019      другое       16.0  \n",
              "1            12         2018      первый       19.0  \n",
              "2             8         2015      другое       14.0  \n",
              "3             7         2015      другое        7.0  \n",
              "4             6         2018      другое        8.0  "
            ]
          },
          "execution_count": 41,
          "metadata": {},
          "output_type": "execute_result"
        }
      ],
      "source": [
        "data.head()"
      ]
    },
    {
      "cell_type": "markdown",
      "metadata": {
        "id": "L3swNgxuu7Cy"
      },
      "source": [
        "# Проведите исследовательский анализ данных\n"
      ]
    },
    {
      "cell_type": "code",
      "execution_count": null,
      "metadata": {
        "id": "S6B6_qHBu7Cy",
        "outputId": "c555b9b0-9c0a-41c2-804f-f8d0b103096e"
      },
      "outputs": [
        {
          "data": {
            "image/png": "[encoded data removed]",
            "text/plain": [
              "<Figure size 432x288 with 1 Axes>"
            ]
          },
          "metadata": {
            "needs_background": "light"
          },
          "output_type": "display_data"
        }
      ],
      "source": [
        "data['total_area'].hist(bins=100,range=(0,400));\n",
        "plt.title('Общая пллощадь');\n",
        "plt.xlabel('total_area');\n",
        "plt.ylabel('abs_sum');"
      ]
    },
    {
      "cell_type": "markdown",
      "metadata": {
        "id": "HhEy40P1u7Cy"
      },
      "source": [
        "На графике наглядно видно,что большинство квартир продаются с площадью  от 40 кв.м до 70кв.м"
      ]
    },
    {
      "cell_type": "code",
      "execution_count": null,
      "metadata": {
        "scrolled": true,
        "id": "KagmkDheu7Cy",
        "outputId": "dae4e7a8-0cf3-4755-b4e1-896b068d8090"
      },
      "outputs": [
        {
          "data": {
            "image/png": "[encoded data removed]",
            "text/plain": [
              "<Figure size 432x288 with 1 Axes>"
            ]
          },
          "metadata": {
            "needs_background": "light"
          },
          "output_type": "display_data"
        }
      ],
      "source": [
        "data['living_area'].hist(bins=100,range=(0,250));\n",
        "plt.title('Жилая пллощадь');\n",
        "plt.xlabel('living_area');\n",
        "plt.ylabel('abs_sum');"
      ]
    },
    {
      "cell_type": "markdown",
      "metadata": {
        "id": "4PpYoCrnu7Cy"
      },
      "source": [
        "Жилая зона же уже гораздо меньше,разброс от 15 до 25"
      ]
    },
    {
      "cell_type": "code",
      "execution_count": null,
      "metadata": {
        "id": "4ap7Zx4Xu7Cy",
        "outputId": "ded4cea3-96a5-4daf-a680-85be2332ddb0"
      },
      "outputs": [
        {
          "data": {
            "image/png": "[encoded data removed]",
            "text/plain": [
              "<Figure size 432x288 with 1 Axes>"
            ]
          },
          "metadata": {
            "needs_background": "light"
          },
          "output_type": "display_data"
        }
      ],
      "source": [
        "data['kitchen_area'].hist(bins=100,range=(0,50));\n",
        "plt.title('Пллощадь кухни');\n",
        "plt.xlabel('kitchen_area');\n",
        "plt.ylabel('abs_sum');"
      ]
    },
    {
      "cell_type": "code",
      "execution_count": null,
      "metadata": {
        "id": "qeo7Q9o7u7Cy",
        "outputId": "d6c99548-88f9-4987-99c1-13415a3d8784"
      },
      "outputs": [
        {
          "data": {
            "text/html": [
              "<div>\n",
              "<style scoped>\n",
              "    .dataframe tbody tr th:only-of-type {\n",
              "        vertical-align: middle;\n",
              "    }\n",
              "\n",
              "    .dataframe tbody tr th {\n",
              "        vertical-align: top;\n",
              "    }\n",
              "\n",
              "    .dataframe thead th {\n",
              "        text-align: right;\n",
              "    }\n",
              "</style>\n",
              "<table border=\"1\" class=\"dataframe\">\n",
              "  <thead>\n",
              "    <tr style=\"text-align: right;\">\n",
              "      <th></th>\n",
              "      <th>total_images</th>\n",
              "      <th>last_price</th>\n",
              "      <th>total_area</th>\n",
              "      <th>first_day_exposition</th>\n",
              "      <th>rooms</th>\n",
              "      <th>ceiling_height</th>\n",
              "      <th>floors_total</th>\n",
              "      <th>living_area</th>\n",
              "      <th>floor</th>\n",
              "      <th>is_apartment</th>\n",
              "      <th>studio</th>\n",
              "      <th>open_plan</th>\n",
              "      <th>kitchen_area</th>\n",
              "      <th>balcony</th>\n",
              "      <th>locality_name</th>\n",
              "      <th>airports_nearest</th>\n",
              "      <th>cityCenters_nearest</th>\n",
              "      <th>parks_around3000</th>\n",
              "      <th>parks_nearest</th>\n",
              "      <th>ponds_around3000</th>\n",
              "      <th>ponds_nearest</th>\n",
              "      <th>days_exposition</th>\n",
              "      <th>price_square_meter</th>\n",
              "      <th>week_posted</th>\n",
              "      <th>month_posted</th>\n",
              "      <th>year_posted</th>\n",
              "      <th>floors_type</th>\n",
              "      <th>center_km</th>\n",
              "    </tr>\n",
              "  </thead>\n",
              "  <tbody>\n",
              "    <tr>\n",
              "      <th>144</th>\n",
              "      <td>1</td>\n",
              "      <td>2450000.0</td>\n",
              "      <td>27.00</td>\n",
              "      <td>2017-03-30</td>\n",
              "      <td>0</td>\n",
              "      <td>NaN</td>\n",
              "      <td>24.0</td>\n",
              "      <td>15.50</td>\n",
              "      <td>2</td>\n",
              "      <td>False</td>\n",
              "      <td>True</td>\n",
              "      <td>False</td>\n",
              "      <td>NaN</td>\n",
              "      <td>2.0</td>\n",
              "      <td>поселок мурино</td>\n",
              "      <td>NaN</td>\n",
              "      <td>NaN</td>\n",
              "      <td>0.0</td>\n",
              "      <td>NaN</td>\n",
              "      <td>0.0</td>\n",
              "      <td>NaN</td>\n",
              "      <td>181.0</td>\n",
              "      <td>90740.740741</td>\n",
              "      <td>3</td>\n",
              "      <td>3</td>\n",
              "      <td>2017</td>\n",
              "      <td>другое</td>\n",
              "      <td>NaN</td>\n",
              "    </tr>\n",
              "    <tr>\n",
              "      <th>440</th>\n",
              "      <td>8</td>\n",
              "      <td>2480000.0</td>\n",
              "      <td>27.11</td>\n",
              "      <td>2018-03-12</td>\n",
              "      <td>0</td>\n",
              "      <td>NaN</td>\n",
              "      <td>17.0</td>\n",
              "      <td>24.75</td>\n",
              "      <td>4</td>\n",
              "      <td>False</td>\n",
              "      <td>True</td>\n",
              "      <td>False</td>\n",
              "      <td>NaN</td>\n",
              "      <td>2.0</td>\n",
              "      <td>санкт-петербург</td>\n",
              "      <td>38171.0</td>\n",
              "      <td>15015.0</td>\n",
              "      <td>0.0</td>\n",
              "      <td>NaN</td>\n",
              "      <td>2.0</td>\n",
              "      <td>982.0</td>\n",
              "      <td>64.0</td>\n",
              "      <td>91479.158982</td>\n",
              "      <td>0</td>\n",
              "      <td>3</td>\n",
              "      <td>2018</td>\n",
              "      <td>другое</td>\n",
              "      <td>15.0</td>\n",
              "    </tr>\n",
              "    <tr>\n",
              "      <th>608</th>\n",
              "      <td>2</td>\n",
              "      <td>1850000.0</td>\n",
              "      <td>25.00</td>\n",
              "      <td>2019-02-20</td>\n",
              "      <td>0</td>\n",
              "      <td>NaN</td>\n",
              "      <td>10.0</td>\n",
              "      <td>NaN</td>\n",
              "      <td>7</td>\n",
              "      <td>False</td>\n",
              "      <td>True</td>\n",
              "      <td>False</td>\n",
              "      <td>NaN</td>\n",
              "      <td>0.0</td>\n",
              "      <td>поселок шушары</td>\n",
              "      <td>NaN</td>\n",
              "      <td>NaN</td>\n",
              "      <td>0.0</td>\n",
              "      <td>NaN</td>\n",
              "      <td>0.0</td>\n",
              "      <td>NaN</td>\n",
              "      <td>29.0</td>\n",
              "      <td>74000.000000</td>\n",
              "      <td>2</td>\n",
              "      <td>2</td>\n",
              "      <td>2019</td>\n",
              "      <td>другое</td>\n",
              "      <td>NaN</td>\n",
              "    </tr>\n",
              "    <tr>\n",
              "      <th>697</th>\n",
              "      <td>12</td>\n",
              "      <td>2500000.0</td>\n",
              "      <td>24.10</td>\n",
              "      <td>2017-12-01</td>\n",
              "      <td>0</td>\n",
              "      <td>2.75</td>\n",
              "      <td>25.0</td>\n",
              "      <td>17.50</td>\n",
              "      <td>21</td>\n",
              "      <td>False</td>\n",
              "      <td>True</td>\n",
              "      <td>False</td>\n",
              "      <td>NaN</td>\n",
              "      <td>0.0</td>\n",
              "      <td>деревня кудрово</td>\n",
              "      <td>NaN</td>\n",
              "      <td>NaN</td>\n",
              "      <td>0.0</td>\n",
              "      <td>NaN</td>\n",
              "      <td>0.0</td>\n",
              "      <td>NaN</td>\n",
              "      <td>201.0</td>\n",
              "      <td>103734.439834</td>\n",
              "      <td>4</td>\n",
              "      <td>12</td>\n",
              "      <td>2017</td>\n",
              "      <td>другое</td>\n",
              "      <td>NaN</td>\n",
              "    </tr>\n",
              "    <tr>\n",
              "      <th>716</th>\n",
              "      <td>5</td>\n",
              "      <td>1500000.0</td>\n",
              "      <td>17.00</td>\n",
              "      <td>2017-06-07</td>\n",
              "      <td>0</td>\n",
              "      <td>2.70</td>\n",
              "      <td>9.0</td>\n",
              "      <td>12.00</td>\n",
              "      <td>1</td>\n",
              "      <td>False</td>\n",
              "      <td>True</td>\n",
              "      <td>False</td>\n",
              "      <td>NaN</td>\n",
              "      <td>0.0</td>\n",
              "      <td>поселок шушары</td>\n",
              "      <td>18654.0</td>\n",
              "      <td>29846.0</td>\n",
              "      <td>0.0</td>\n",
              "      <td>NaN</td>\n",
              "      <td>0.0</td>\n",
              "      <td>NaN</td>\n",
              "      <td>40.0</td>\n",
              "      <td>88235.294118</td>\n",
              "      <td>2</td>\n",
              "      <td>6</td>\n",
              "      <td>2017</td>\n",
              "      <td>первый</td>\n",
              "      <td>30.0</td>\n",
              "    </tr>\n",
              "    <tr>\n",
              "      <th>...</th>\n",
              "      <td>...</td>\n",
              "      <td>...</td>\n",
              "      <td>...</td>\n",
              "      <td>...</td>\n",
              "      <td>...</td>\n",
              "      <td>...</td>\n",
              "      <td>...</td>\n",
              "      <td>...</td>\n",
              "      <td>...</td>\n",
              "      <td>...</td>\n",
              "      <td>...</td>\n",
              "      <td>...</td>\n",
              "      <td>...</td>\n",
              "      <td>...</td>\n",
              "      <td>...</td>\n",
              "      <td>...</td>\n",
              "      <td>...</td>\n",
              "      <td>...</td>\n",
              "      <td>...</td>\n",
              "      <td>...</td>\n",
              "      <td>...</td>\n",
              "      <td>...</td>\n",
              "      <td>...</td>\n",
              "      <td>...</td>\n",
              "      <td>...</td>\n",
              "      <td>...</td>\n",
              "      <td>...</td>\n",
              "      <td>...</td>\n",
              "    </tr>\n",
              "    <tr>\n",
              "      <th>22867</th>\n",
              "      <td>8</td>\n",
              "      <td>3090000.0</td>\n",
              "      <td>30.00</td>\n",
              "      <td>2017-12-17</td>\n",
              "      <td>0</td>\n",
              "      <td>NaN</td>\n",
              "      <td>25.0</td>\n",
              "      <td>18.20</td>\n",
              "      <td>5</td>\n",
              "      <td>False</td>\n",
              "      <td>True</td>\n",
              "      <td>False</td>\n",
              "      <td>NaN</td>\n",
              "      <td>0.0</td>\n",
              "      <td>санкт-петербург</td>\n",
              "      <td>35250.0</td>\n",
              "      <td>16414.0</td>\n",
              "      <td>0.0</td>\n",
              "      <td>NaN</td>\n",
              "      <td>1.0</td>\n",
              "      <td>400.0</td>\n",
              "      <td>211.0</td>\n",
              "      <td>103000.000000</td>\n",
              "      <td>6</td>\n",
              "      <td>12</td>\n",
              "      <td>2017</td>\n",
              "      <td>другое</td>\n",
              "      <td>16.0</td>\n",
              "    </tr>\n",
              "    <tr>\n",
              "      <th>22877</th>\n",
              "      <td>2</td>\n",
              "      <td>4280000.0</td>\n",
              "      <td>28.00</td>\n",
              "      <td>2017-10-26</td>\n",
              "      <td>0</td>\n",
              "      <td>2.70</td>\n",
              "      <td>19.0</td>\n",
              "      <td>18.00</td>\n",
              "      <td>10</td>\n",
              "      <td>False</td>\n",
              "      <td>True</td>\n",
              "      <td>False</td>\n",
              "      <td>NaN</td>\n",
              "      <td>0.0</td>\n",
              "      <td>санкт-петербург</td>\n",
              "      <td>18982.0</td>\n",
              "      <td>7206.0</td>\n",
              "      <td>0.0</td>\n",
              "      <td>NaN</td>\n",
              "      <td>1.0</td>\n",
              "      <td>415.0</td>\n",
              "      <td>151.0</td>\n",
              "      <td>152857.142857</td>\n",
              "      <td>3</td>\n",
              "      <td>10</td>\n",
              "      <td>2017</td>\n",
              "      <td>другое</td>\n",
              "      <td>7.0</td>\n",
              "    </tr>\n",
              "    <tr>\n",
              "      <th>23210</th>\n",
              "      <td>7</td>\n",
              "      <td>3200000.0</td>\n",
              "      <td>26.00</td>\n",
              "      <td>2017-09-01</td>\n",
              "      <td>0</td>\n",
              "      <td>NaN</td>\n",
              "      <td>25.0</td>\n",
              "      <td>18.00</td>\n",
              "      <td>16</td>\n",
              "      <td>False</td>\n",
              "      <td>True</td>\n",
              "      <td>False</td>\n",
              "      <td>NaN</td>\n",
              "      <td>0.0</td>\n",
              "      <td>санкт-петербург</td>\n",
              "      <td>11405.0</td>\n",
              "      <td>13222.0</td>\n",
              "      <td>0.0</td>\n",
              "      <td>NaN</td>\n",
              "      <td>1.0</td>\n",
              "      <td>623.0</td>\n",
              "      <td>14.0</td>\n",
              "      <td>123076.923077</td>\n",
              "      <td>4</td>\n",
              "      <td>9</td>\n",
              "      <td>2017</td>\n",
              "      <td>другое</td>\n",
              "      <td>13.0</td>\n",
              "    </tr>\n",
              "    <tr>\n",
              "      <th>23554</th>\n",
              "      <td>15</td>\n",
              "      <td>3350000.0</td>\n",
              "      <td>26.00</td>\n",
              "      <td>2018-09-07</td>\n",
              "      <td>0</td>\n",
              "      <td>NaN</td>\n",
              "      <td>19.0</td>\n",
              "      <td>NaN</td>\n",
              "      <td>8</td>\n",
              "      <td>False</td>\n",
              "      <td>True</td>\n",
              "      <td>False</td>\n",
              "      <td>NaN</td>\n",
              "      <td>0.0</td>\n",
              "      <td>санкт-петербург</td>\n",
              "      <td>18090.0</td>\n",
              "      <td>17092.0</td>\n",
              "      <td>0.0</td>\n",
              "      <td>NaN</td>\n",
              "      <td>2.0</td>\n",
              "      <td>112.0</td>\n",
              "      <td>31.0</td>\n",
              "      <td>128846.153846</td>\n",
              "      <td>4</td>\n",
              "      <td>9</td>\n",
              "      <td>2018</td>\n",
              "      <td>другое</td>\n",
              "      <td>17.0</td>\n",
              "    </tr>\n",
              "    <tr>\n",
              "      <th>23637</th>\n",
              "      <td>8</td>\n",
              "      <td>2350000.0</td>\n",
              "      <td>26.00</td>\n",
              "      <td>2018-06-26</td>\n",
              "      <td>0</td>\n",
              "      <td>NaN</td>\n",
              "      <td>25.0</td>\n",
              "      <td>17.00</td>\n",
              "      <td>4</td>\n",
              "      <td>False</td>\n",
              "      <td>True</td>\n",
              "      <td>False</td>\n",
              "      <td>NaN</td>\n",
              "      <td>2.0</td>\n",
              "      <td>поселок бугры</td>\n",
              "      <td>NaN</td>\n",
              "      <td>NaN</td>\n",
              "      <td>0.0</td>\n",
              "      <td>NaN</td>\n",
              "      <td>0.0</td>\n",
              "      <td>NaN</td>\n",
              "      <td>207.0</td>\n",
              "      <td>90384.615385</td>\n",
              "      <td>1</td>\n",
              "      <td>6</td>\n",
              "      <td>2018</td>\n",
              "      <td>другое</td>\n",
              "      <td>NaN</td>\n",
              "    </tr>\n",
              "  </tbody>\n",
              "</table>\n",
              "<p>149 rows × 28 columns</p>\n",
              "</div>"
            ],
            "text/plain": [
              "       total_images  last_price  total_area first_day_exposition  rooms  \\\n",
              "144               1   2450000.0       27.00           2017-03-30      0   \n",
              "440               8   2480000.0       27.11           2018-03-12      0   \n",
              "608               2   1850000.0       25.00           2019-02-20      0   \n",
              "697              12   2500000.0       24.10           2017-12-01      0   \n",
              "716               5   1500000.0       17.00           2017-06-07      0   \n",
              "...             ...         ...         ...                  ...    ...   \n",
              "22867             8   3090000.0       30.00           2017-12-17      0   \n",
              "22877             2   4280000.0       28.00           2017-10-26      0   \n",
              "23210             7   3200000.0       26.00           2017-09-01      0   \n",
              "23554            15   3350000.0       26.00           2018-09-07      0   \n",
              "23637             8   2350000.0       26.00           2018-06-26      0   \n",
              "\n",
              "       ceiling_height  floors_total  living_area  floor  is_apartment  studio  \\\n",
              "144               NaN          24.0        15.50      2         False    True   \n",
              "440               NaN          17.0        24.75      4         False    True   \n",
              "608               NaN          10.0          NaN      7         False    True   \n",
              "697              2.75          25.0        17.50     21         False    True   \n",
              "716              2.70           9.0        12.00      1         False    True   \n",
              "...               ...           ...          ...    ...           ...     ...   \n",
              "22867             NaN          25.0        18.20      5         False    True   \n",
              "22877            2.70          19.0        18.00     10         False    True   \n",
              "23210             NaN          25.0        18.00     16         False    True   \n",
              "23554             NaN          19.0          NaN      8         False    True   \n",
              "23637             NaN          25.0        17.00      4         False    True   \n",
              "\n",
              "       open_plan  kitchen_area  balcony    locality_name  airports_nearest  \\\n",
              "144        False           NaN      2.0   поселок мурино               NaN   \n",
              "440        False           NaN      2.0  санкт-петербург           38171.0   \n",
              "608        False           NaN      0.0   поселок шушары               NaN   \n",
              "697        False           NaN      0.0  деревня кудрово               NaN   \n",
              "716        False           NaN      0.0   поселок шушары           18654.0   \n",
              "...          ...           ...      ...              ...               ...   \n",
              "22867      False           NaN      0.0  санкт-петербург           35250.0   \n",
              "22877      False           NaN      0.0  санкт-петербург           18982.0   \n",
              "23210      False           NaN      0.0  санкт-петербург           11405.0   \n",
              "23554      False           NaN      0.0  санкт-петербург           18090.0   \n",
              "23637      False           NaN      2.0    поселок бугры               NaN   \n",
              "\n",
              "       cityCenters_nearest  parks_around3000  parks_nearest  ponds_around3000  \\\n",
              "144                    NaN               0.0            NaN               0.0   \n",
              "440                15015.0               0.0            NaN               2.0   \n",
              "608                    NaN               0.0            NaN               0.0   \n",
              "697                    NaN               0.0            NaN               0.0   \n",
              "716                29846.0               0.0            NaN               0.0   \n",
              "...                    ...               ...            ...               ...   \n",
              "22867              16414.0               0.0            NaN               1.0   \n",
              "22877               7206.0               0.0            NaN               1.0   \n",
              "23210              13222.0               0.0            NaN               1.0   \n",
              "23554              17092.0               0.0            NaN               2.0   \n",
              "23637                  NaN               0.0            NaN               0.0   \n",
              "\n",
              "       ponds_nearest  days_exposition  price_square_meter  week_posted  \\\n",
              "144              NaN            181.0        90740.740741            3   \n",
              "440            982.0             64.0        91479.158982            0   \n",
              "608              NaN             29.0        74000.000000            2   \n",
              "697              NaN            201.0       103734.439834            4   \n",
              "716              NaN             40.0        88235.294118            2   \n",
              "...              ...              ...                 ...          ...   \n",
              "22867          400.0            211.0       103000.000000            6   \n",
              "22877          415.0            151.0       152857.142857            3   \n",
              "23210          623.0             14.0       123076.923077            4   \n",
              "23554          112.0             31.0       128846.153846            4   \n",
              "23637            NaN            207.0        90384.615385            1   \n",
              "\n",
              "       month_posted  year_posted floors_type  center_km  \n",
              "144               3         2017      другое        NaN  \n",
              "440               3         2018      другое       15.0  \n",
              "608               2         2019      другое        NaN  \n",
              "697              12         2017      другое        NaN  \n",
              "716               6         2017      первый       30.0  \n",
              "...             ...          ...         ...        ...  \n",
              "22867            12         2017      другое       16.0  \n",
              "22877            10         2017      другое        7.0  \n",
              "23210             9         2017      другое       13.0  \n",
              "23554             9         2018      другое       17.0  \n",
              "23637             6         2018      другое        NaN  \n",
              "\n",
              "[149 rows x 28 columns]"
            ]
          },
          "execution_count": 45,
          "metadata": {},
          "output_type": "execute_result"
        }
      ],
      "source": [
        "data[data['studio']==True]"
      ]
    },
    {
      "cell_type": "markdown",
      "metadata": {
        "id": "m2Y-kTnEu7Cy"
      },
      "source": [
        "На графике видно,что много продавцов не указали квадратуру кухни,решил проверить сколько в продаже студий,для этого сделал нотацию\n",
        "Большинство квартир продаётся с квадратурой кухни от 5 до 10"
      ]
    },
    {
      "cell_type": "code",
      "execution_count": null,
      "metadata": {
        "id": "xCU4aHyQu7Cz",
        "outputId": "e7d3c82a-a253-4c2a-cae7-ad8ba9c9b9f8"
      },
      "outputs": [
        {
          "data": {
            "image/png": "[encoded data removed]",
            "text/plain": [
              "<Figure size 432x288 with 1 Axes>"
            ]
          },
          "metadata": {
            "needs_background": "light"
          },
          "output_type": "display_data"
        }
      ],
      "source": [
        "data['last_price'].hist(bins=500,range=(0,20000000));\n",
        "plt.title('цена объекта');\n",
        "plt.xlabel('last_price');\n",
        "plt.ylabel('abs_sum');"
      ]
    },
    {
      "cell_type": "markdown",
      "metadata": {
        "id": "9WJcuuXNu7Cz"
      },
      "source": [
        "График показывает,что большинство квартир продаётся за 3-4 млн.но есть и аномальные выбросы такие как 620к и 20млн."
      ]
    },
    {
      "cell_type": "code",
      "execution_count": null,
      "metadata": {
        "scrolled": true,
        "id": "dpxg1aURu7Cz",
        "outputId": "96ee3139-9a57-4216-a96c-3c8b4cc31181"
      },
      "outputs": [
        {
          "data": {
            "image/png": "[encoded data removed]",
            "text/plain": [
              "<Figure size 432x288 with 1 Axes>"
            ]
          },
          "metadata": {
            "needs_background": "light"
          },
          "output_type": "display_data"
        }
      ],
      "source": [
        "data['rooms'].hist(bins=100,range=(0,8));\n",
        "plt.title('Количество комнат');\n",
        "plt.xlabel('rooms');\n",
        "plt.ylabel('abs_sum');"
      ]
    },
    {
      "cell_type": "markdown",
      "metadata": {
        "id": "actjRl5Hu7Cz"
      },
      "source": [
        "График показывает,что большинство квартир находящихся в продаже имеют 1-2 комнаты"
      ]
    },
    {
      "cell_type": "code",
      "execution_count": null,
      "metadata": {
        "id": "nFyMaSE9u7Cz",
        "outputId": "f2b0e5f6-8b25-4434-a65d-21d306b94001"
      },
      "outputs": [
        {
          "data": {
            "image/png": "[encoded data removed]",
            "text/plain": [
              "<Figure size 432x288 with 1 Axes>"
            ]
          },
          "metadata": {
            "needs_background": "light"
          },
          "output_type": "display_data"
        }
      ],
      "source": [
        "data['ceiling_height'].hist(bins=100,range=(1,6));\n",
        "plt.title('высота потолков');\n",
        "plt.xlabel('ceiling_height');\n",
        "plt.ylabel('abs_sum');"
      ]
    },
    {
      "cell_type": "markdown",
      "metadata": {
        "id": "H6qFZI5-u7Cz"
      },
      "source": [
        "График показывает,что большинство квартир имеют высоту потолков 2.5 метра"
      ]
    },
    {
      "cell_type": "code",
      "execution_count": null,
      "metadata": {
        "id": "vmPnqD8Nu7Cz",
        "outputId": "2dfcf7f0-6a8b-43d5-8deb-bb7718f4fa55"
      },
      "outputs": [
        {
          "data": {
            "image/png": "[encoded data removed]",
            "text/plain": [
              "<Figure size 432x288 with 1 Axes>"
            ]
          },
          "metadata": {
            "needs_background": "light"
          },
          "output_type": "display_data"
        }
      ],
      "source": [
        "data['floor'].hist(bins=70,range=(0,30));\n",
        "plt.title('Этаж квартиры');\n",
        "plt.xlabel('floor');\n",
        "plt.ylabel('abs_sum');"
      ]
    },
    {
      "cell_type": "markdown",
      "metadata": {
        "id": "Jseg9Gv1u7C0"
      },
      "source": [
        "График показывает,что большинство квартир находятся на первых 5 этажах"
      ]
    },
    {
      "cell_type": "code",
      "execution_count": null,
      "metadata": {
        "id": "OtAfGx2Fu7C0",
        "outputId": "fa9ff2b0-707d-415f-d526-a709df6e41aa"
      },
      "outputs": [
        {
          "data": {
            "image/png": "[encoded data removed]",
            "text/plain": [
              "<Figure size 432x288 with 1 Axes>"
            ]
          },
          "metadata": {
            "needs_background": "light"
          },
          "output_type": "display_data"
        }
      ],
      "source": [
        "data['floors_type'].hist();\n",
        "plt.title('Тип этажа квартиры');\n",
        "plt.xlabel('floors_type');\n",
        "plt.ylabel('abs_sum');"
      ]
    },
    {
      "cell_type": "markdown",
      "metadata": {
        "id": "6eAdr54Yu7C0"
      },
      "source": [
        "График показывает,что большинство квартир находятся не на первом и не на последнем этажах"
      ]
    },
    {
      "cell_type": "code",
      "execution_count": null,
      "metadata": {
        "id": "uY3nNN2Wu7C0",
        "outputId": "355506d7-bc94-48f0-df1d-67701839e2c3"
      },
      "outputs": [
        {
          "data": {
            "image/png": "[encoded data removed]",
            "text/plain": [
              "<Figure size 432x288 with 1 Axes>"
            ]
          },
          "metadata": {
            "needs_background": "light"
          },
          "output_type": "display_data"
        }
      ],
      "source": [
        "data['floors_total'].hist(bins=50,range=(0,40));\n",
        "plt.title('общее количество этажей');\n",
        "plt.xlabel('floors_total');\n",
        "plt.ylabel('abs_sum');"
      ]
    },
    {
      "cell_type": "markdown",
      "metadata": {
        "id": "ULjEE6GCu7C0"
      },
      "source": [
        "График показывает,что большинство квартир находятся в пятиэтажках"
      ]
    },
    {
      "cell_type": "code",
      "execution_count": null,
      "metadata": {
        "id": "PjLSJmyfu7C0",
        "outputId": "84b14519-e9b3-4776-c2e5-f058ae1ce285"
      },
      "outputs": [
        {
          "data": {
            "image/png": "[encoded data removed]",
            "text/plain": [
              "<Figure size 432x288 with 1 Axes>"
            ]
          },
          "metadata": {
            "needs_background": "light"
          },
          "output_type": "display_data"
        }
      ],
      "source": [
        "data['cityCenters_nearest'].hist(bins=100,range=(0,50000));\n",
        "plt.title('Расстояние до центра города в метрах');\n",
        "plt.xlabel('floors_total');\n",
        "plt.ylabel('abs_sum');"
      ]
    },
    {
      "cell_type": "markdown",
      "metadata": {
        "id": "Lk_thm2Bu7C0"
      },
      "source": [
        "График показывает,что большинство квартир находятся в 15 км от центра, и что многие не указали наличие центра"
      ]
    },
    {
      "cell_type": "code",
      "execution_count": null,
      "metadata": {
        "id": "5P-vCMGxu7C0",
        "outputId": "b4be025a-bc76-4047-de87-2a08634cf18f"
      },
      "outputs": [
        {
          "data": {
            "image/png": "[encoded data removed]",
            "text/plain": [
              "<Figure size 432x288 with 1 Axes>"
            ]
          },
          "metadata": {
            "needs_background": "light"
          },
          "output_type": "display_data"
        }
      ],
      "source": [
        "data['airports_nearest'].hist(bins=100,range=(0,75000));\n",
        "plt.title('Расстояние до ближайшего аэропорта');\n",
        "plt.xlabel('airports_nearest');\n",
        "plt.ylabel('abs_sum');"
      ]
    },
    {
      "cell_type": "markdown",
      "metadata": {
        "id": "HT3iIfT0u7C0"
      },
      "source": [
        "График показывает,что растояние до ближайшего аэропорта у большинства квартир состовляет 12-22км"
      ]
    },
    {
      "cell_type": "code",
      "execution_count": null,
      "metadata": {
        "id": "QF0iVzrku7C1",
        "outputId": "d4584dc6-c7bb-49ec-a5e3-1ea05485f8f2"
      },
      "outputs": [
        {
          "data": {
            "image/png": "[encoded data removed]",
            "text/plain": [
              "<Figure size 432x288 with 1 Axes>"
            ]
          },
          "metadata": {
            "needs_background": "light"
          },
          "output_type": "display_data"
        }
      ],
      "source": [
        "data['parks_nearest'].hist(bins=150,range=(1,1500));\n",
        "plt.title('Расстояние до ближайшего парка');\n",
        "plt.xlabel('parks_nearest');\n",
        "plt.ylabel('abs_sum');"
      ]
    },
    {
      "cell_type": "markdown",
      "metadata": {
        "id": "dLpv6HAyu7C1"
      },
      "source": [
        "График показывает,что растояние до ближайшего парка у большинства квартир составляет 500м"
      ]
    },
    {
      "cell_type": "code",
      "execution_count": null,
      "metadata": {
        "id": "unDvO7KYu7C1",
        "outputId": "ca2c0cda-e62e-475d-b4a8-4fb01a133715"
      },
      "outputs": [
        {
          "data": {
            "image/png": "[encoded data removed]",
            "text/plain": [
              "<Figure size 432x288 with 1 Axes>"
            ]
          },
          "metadata": {
            "needs_background": "light"
          },
          "output_type": "display_data"
        }
      ],
      "source": [
        "data['day_posted'] = data.first_day_exposition.dt.day\n",
        "data['day_posted'].hist(bins=60,range=(1,31));\n",
        "plt.title('день публикации объявления');\n",
        "plt.xlabel('days');\n",
        "plt.ylabel('abs_sum');"
      ]
    },
    {
      "cell_type": "markdown",
      "metadata": {
        "id": "BITvBHpeu7C1"
      },
      "source": [
        "График показывает,что большинство квартир выставлялись на продажу 1 и 10 числа месяца"
      ]
    },
    {
      "cell_type": "code",
      "execution_count": null,
      "metadata": {
        "id": "ErRHJY1gu7C1",
        "outputId": "bb1a5797-46d8-43a3-d9ca-9bbfe06e1c08"
      },
      "outputs": [
        {
          "data": {
            "image/png": "[encoded data removed]",
            "text/plain": [
              "<Figure size 432x288 with 1 Axes>"
            ]
          },
          "metadata": {
            "needs_background": "light"
          },
          "output_type": "display_data"
        }
      ],
      "source": [
        "data['month_posted'].hist(bins=25,range=(0,12));\n",
        "plt.title('месяц публикации объявления');\n",
        "plt.xlabel('month_posted');\n",
        "plt.ylabel('abs_sum');"
      ]
    },
    {
      "cell_type": "markdown",
      "metadata": {
        "id": "pEKfp0IPu7C1"
      },
      "source": [
        "График показывает,что большинство квартир выставлялись на продажу в феврале,марте,ноябре"
      ]
    },
    {
      "cell_type": "code",
      "execution_count": null,
      "metadata": {
        "id": "uWmeYRffu7C1",
        "outputId": "566dcce6-59e8-4982-e32a-a613e2c24add"
      },
      "outputs": [
        {
          "data": {
            "text/html": [
              "<div>\n",
              "<style scoped>\n",
              "    .dataframe tbody tr th:only-of-type {\n",
              "        vertical-align: middle;\n",
              "    }\n",
              "\n",
              "    .dataframe tbody tr th {\n",
              "        vertical-align: top;\n",
              "    }\n",
              "\n",
              "    .dataframe thead th {\n",
              "        text-align: right;\n",
              "    }\n",
              "</style>\n",
              "<table border=\"1\" class=\"dataframe\">\n",
              "  <thead>\n",
              "    <tr style=\"text-align: right;\">\n",
              "      <th></th>\n",
              "      <th>total_images</th>\n",
              "      <th>last_price</th>\n",
              "      <th>total_area</th>\n",
              "      <th>first_day_exposition</th>\n",
              "      <th>rooms</th>\n",
              "      <th>ceiling_height</th>\n",
              "      <th>floors_total</th>\n",
              "      <th>living_area</th>\n",
              "      <th>floor</th>\n",
              "      <th>is_apartment</th>\n",
              "      <th>studio</th>\n",
              "      <th>open_plan</th>\n",
              "      <th>kitchen_area</th>\n",
              "      <th>balcony</th>\n",
              "      <th>locality_name</th>\n",
              "      <th>airports_nearest</th>\n",
              "      <th>cityCenters_nearest</th>\n",
              "      <th>parks_around3000</th>\n",
              "      <th>parks_nearest</th>\n",
              "      <th>ponds_around3000</th>\n",
              "      <th>ponds_nearest</th>\n",
              "      <th>days_exposition</th>\n",
              "      <th>price_square_meter</th>\n",
              "      <th>week_posted</th>\n",
              "      <th>month_posted</th>\n",
              "      <th>year_posted</th>\n",
              "      <th>floors_type</th>\n",
              "      <th>center_km</th>\n",
              "      <th>day_posted</th>\n",
              "    </tr>\n",
              "  </thead>\n",
              "  <tbody>\n",
              "  </tbody>\n",
              "</table>\n",
              "</div>"
            ],
            "text/plain": [
              "Empty DataFrame\n",
              "Columns: [total_images, last_price, total_area, first_day_exposition, rooms, ceiling_height, floors_total, living_area, floor, is_apartment, studio, open_plan, kitchen_area, balcony, locality_name, airports_nearest, cityCenters_nearest, parks_around3000, parks_nearest, ponds_around3000, ponds_nearest, days_exposition, price_square_meter, week_posted, month_posted, year_posted, floors_type, center_km, day_posted]\n",
              "Index: []"
            ]
          },
          "execution_count": 57,
          "metadata": {},
          "output_type": "execute_result"
        }
      ],
      "source": [
        "data[data['days_exposition']==0]"
      ]
    },
    {
      "cell_type": "code",
      "execution_count": null,
      "metadata": {
        "id": "0BULPnuhu7C1",
        "outputId": "af7ae31e-9946-478f-8efd-1cfdea54c256"
      },
      "outputs": [
        {
          "data": {
            "image/png": "[encoded data removed]",
            "text/plain": [
              "<Figure size 432x288 with 1 Axes>"
            ]
          },
          "metadata": {
            "needs_background": "light"
          },
          "output_type": "display_data"
        }
      ],
      "source": [
        "data['days_exposition'].hist(bins=50,range=(0,1400));\n",
        "plt.title('Скорость продажи квартир');\n",
        "plt.xlabel('days_exposition');\n",
        "plt.ylabel('abs_sum');"
      ]
    },
    {
      "cell_type": "code",
      "execution_count": null,
      "metadata": {
        "id": "kF8dRbaDu7C1",
        "outputId": "a0deda0f-9079-4c4c-f709-4f3a25da7205"
      },
      "outputs": [
        {
          "data": {
            "image/png": "[encoded data removed]",
            "text/plain": [
              "<Figure size 432x288 with 1 Axes>"
            ]
          },
          "metadata": {
            "needs_background": "light"
          },
          "output_type": "display_data"
        }
      ],
      "source": [
        "data['days_exposition'].hist(bins=300,range=(1,1400));\n",
        "plt.title('Скорость продажи квартир');\n",
        "plt.xlabel('days_exposition');\n",
        "plt.ylabel('abs_sum');"
      ]
    },
    {
      "cell_type": "code",
      "execution_count": null,
      "metadata": {
        "id": "NgpHBuDuu7C2",
        "outputId": "a3bca1fc-f2ea-4f34-8876-7df355bfe7f3"
      },
      "outputs": [
        {
          "data": {
            "text/plain": [
              "95.0"
            ]
          },
          "execution_count": 60,
          "metadata": {},
          "output_type": "execute_result"
        }
      ],
      "source": [
        "data['days_exposition'].median()"
      ]
    },
    {
      "cell_type": "code",
      "execution_count": null,
      "metadata": {
        "id": "PzY7umUzu7C2",
        "outputId": "cb360090-63c3-4f08-800d-65a166c58f5f"
      },
      "outputs": [
        {
          "data": {
            "text/plain": [
              "180.82110293042078"
            ]
          },
          "execution_count": 61,
          "metadata": {},
          "output_type": "execute_result"
        }
      ],
      "source": [
        "data['days_exposition'].mean()"
      ]
    },
    {
      "cell_type": "code",
      "execution_count": null,
      "metadata": {
        "id": "eJ7TBGfKu7C2",
        "outputId": "042d4f7d-2346-435e-867b-21dc66ae7bd5"
      },
      "outputs": [
        {
          "data": {
            "text/plain": [
              "count    20509.000000\n",
              "mean       180.821103\n",
              "std        219.560550\n",
              "min          1.000000\n",
              "25%         45.000000\n",
              "50%         95.000000\n",
              "75%        232.000000\n",
              "max       1580.000000\n",
              "Name: days_exposition, dtype: float64"
            ]
          },
          "execution_count": 90,
          "metadata": {},
          "output_type": "execute_result"
        }
      ],
      "source": [
        "data['days_exposition'].describe()"
      ]
    },
    {
      "cell_type": "markdown",
      "metadata": {
        "id": "Sz7J-z0xu7C2"
      },
      "source": [
        "Графики показывают,что многие не указали за сколько времени была продана квартира,медиана показывает,что квартиры продавались за 95 дней. Продажи от 0 до 45 можно считать быстрыми,а все что от 230 дней и выше - необычно долгими"
      ]
    },
    {
      "cell_type": "code",
      "execution_count": null,
      "metadata": {
        "id": "PkjkNkjuu7C2",
        "outputId": "b2469c80-1d9e-4dfb-d34d-8fbee041e3d0"
      },
      "outputs": [
        {
          "data": {
            "image/png": "[encoded data removed]",
            "text/plain": [
              "<Figure size 432x288 with 1 Axes>"
            ]
          },
          "metadata": {
            "needs_background": "light"
          },
          "output_type": "display_data"
        }
      ],
      "source": [
        "data.sort_values('last_price').plot(x='last_price',y='total_area',kind='scatter');"
      ]
    },
    {
      "cell_type": "code",
      "execution_count": null,
      "metadata": {
        "id": "UpDQdISCu7C2",
        "outputId": "a1c8706e-ba21-4af3-bf1c-0e5e589bf1ea"
      },
      "outputs": [
        {
          "data": {
            "text/plain": [
              "0.6437899730302453"
            ]
          },
          "execution_count": 63,
          "metadata": {},
          "output_type": "execute_result"
        }
      ],
      "source": [
        "data['total_area'].corr(data['last_price'])"
      ]
    },
    {
      "cell_type": "markdown",
      "metadata": {
        "id": "PE_ETJGiu7C3"
      },
      "source": [
        "График и корреляция показывает,что цена квартиры зависит от площади квартиры"
      ]
    },
    {
      "cell_type": "code",
      "execution_count": null,
      "metadata": {
        "scrolled": true,
        "id": "XIiVwXYCu7C3",
        "outputId": "b492e21a-80db-4269-9150-51c2629383bf"
      },
      "outputs": [
        {
          "data": {
            "image/png": "[encoded data removed]",
            "text/plain": [
              "<Figure size 432x288 with 1 Axes>"
            ]
          },
          "metadata": {
            "needs_background": "light"
          },
          "output_type": "display_data"
        }
      ],
      "source": [
        "data.sort_values('last_price').plot(x='last_price',y='living_area',kind='scatter');"
      ]
    },
    {
      "cell_type": "code",
      "execution_count": null,
      "metadata": {
        "id": "lG8mvqU9u7C3"
      },
      "outputs": [],
      "source": [
        "data['total_area'].corr(data['last_price']);"
      ]
    },
    {
      "cell_type": "markdown",
      "metadata": {
        "id": "9neRxv8xu7C3"
      },
      "source": [
        "График и корреляция показывает,что цена квартиры зависит от жилой площади квартиры"
      ]
    },
    {
      "cell_type": "code",
      "execution_count": null,
      "metadata": {
        "id": "l7gumhWCu7C3",
        "outputId": "248a1c86-9d5d-4098-ceac-c85adf60a6f7"
      },
      "outputs": [
        {
          "data": {
            "image/png": "[encoded data removed]",
            "text/plain": [
              "<Figure size 432x288 with 1 Axes>"
            ]
          },
          "metadata": {
            "needs_background": "light"
          },
          "output_type": "display_data"
        }
      ],
      "source": [
        "data.sort_values('last_price').plot(x='last_price',y='kitchen_area',kind='scatter');"
      ]
    },
    {
      "cell_type": "code",
      "execution_count": null,
      "metadata": {
        "id": "h2dLRq-7u7C3",
        "outputId": "1e626584-503c-45bf-eb2a-9be94f574b81"
      },
      "outputs": [
        {
          "data": {
            "text/plain": [
              "0.509328347845081"
            ]
          },
          "execution_count": 67,
          "metadata": {},
          "output_type": "execute_result"
        }
      ],
      "source": [
        "data['kitchen_area'].corr(data['last_price'])"
      ]
    },
    {
      "cell_type": "markdown",
      "metadata": {
        "id": "frfCstD7u7C3"
      },
      "source": [
        "График и корреляция показывает,что цена квартиры зависит от размера кухни"
      ]
    },
    {
      "cell_type": "code",
      "execution_count": null,
      "metadata": {
        "id": "PBfMKEHXu7C3",
        "outputId": "b56b0dad-1df7-422a-8cb2-4018bbfd85cb"
      },
      "outputs": [
        {
          "data": {
            "image/png": "[encoded data removed]",
            "text/plain": [
              "<Figure size 432x288 with 1 Axes>"
            ]
          },
          "metadata": {
            "needs_background": "light"
          },
          "output_type": "display_data"
        }
      ],
      "source": [
        "rooms_pivot = data.pivot_table(index='rooms',values='last_price',aggfunc='median')\n",
        "rooms_pivot.plot(grid=True);"
      ]
    },
    {
      "cell_type": "markdown",
      "metadata": {
        "id": "9GsS0JXEu7C4"
      },
      "source": [
        "График показывает,что цена квартиры растёт с увиличением комнат"
      ]
    },
    {
      "cell_type": "code",
      "execution_count": null,
      "metadata": {
        "id": "FazzcEXau7C4",
        "outputId": "58f2b0d6-7047-474e-fd1e-578fe195299c"
      },
      "outputs": [
        {
          "data": {
            "text/plain": [
              "<AxesSubplot:xlabel='floors_type', ylabel='last_price'>"
            ]
          },
          "execution_count": 69,
          "metadata": {},
          "output_type": "execute_result"
        },
        {
          "data": {
            "image/png": "[encoded data removed]",
            "text/plain": [
              "<Figure size 432x288 with 1 Axes>"
            ]
          },
          "metadata": {
            "needs_background": "light"
          },
          "output_type": "display_data"
        }
      ],
      "source": [
        "sns.barplot(x='floors_type',y='last_price',ci=None,data=data)"
      ]
    },
    {
      "cell_type": "markdown",
      "metadata": {
        "id": "ZKzIksjiu7C4"
      },
      "source": [
        "График показывает,что есть зависимоть цены квартиры от этажа,на первом этаже квартиры дешевле,чем на последнем,это скорее обусловленно тем,что никто не шумит сверху и не может затопить"
      ]
    },
    {
      "cell_type": "code",
      "execution_count": null,
      "metadata": {
        "id": "VjUgPaRmu7C4"
      },
      "outputs": [],
      "source": [
        "month_pivot = data.pivot_table(index='month_posted',values='last_price',aggfunc='median')"
      ]
    },
    {
      "cell_type": "code",
      "execution_count": null,
      "metadata": {
        "id": "Pjupc6pau7C4",
        "outputId": "afa60736-406c-436e-debe-67690ab3f8c6"
      },
      "outputs": [
        {
          "data": {
            "image/png": "[encoded data removed]",
            "text/plain": [
              "<Figure size 432x288 with 1 Axes>"
            ]
          },
          "metadata": {
            "needs_background": "light"
          },
          "output_type": "display_data"
        }
      ],
      "source": [
        "month_pivot.plot(grid=True);"
      ]
    },
    {
      "cell_type": "markdown",
      "metadata": {
        "id": "NfpfQCLku7C4"
      },
      "source": [
        "График показывает,что цена возросла в апреле месяце,затем упала в июне и снова возрасла ближе к августу, нет смысла верить этому графику, потому что в месяца падения цены был спад количества публикаций"
      ]
    },
    {
      "cell_type": "code",
      "execution_count": null,
      "metadata": {
        "id": "_t1-d9fEu7C4"
      },
      "outputs": [],
      "source": [
        "year_pivot = data.pivot_table(index='year_posted',values='last_price',aggfunc='median')"
      ]
    },
    {
      "cell_type": "code",
      "execution_count": null,
      "metadata": {
        "id": "uh--dUdyu7C4",
        "outputId": "1a376de3-1af2-4170-a1ee-340f9cfe520a"
      },
      "outputs": [
        {
          "data": {
            "image/png": "[encoded data removed]",
            "text/plain": [
              "<Figure size 432x288 with 1 Axes>"
            ]
          },
          "metadata": {
            "needs_background": "light"
          },
          "output_type": "display_data"
        }
      ],
      "source": [
        "year_pivot.plot(grid=True);"
      ]
    },
    {
      "cell_type": "markdown",
      "metadata": {
        "id": "Fbg7aCdgu7C4"
      },
      "source": [
        "График говорит о том,что в промежутке с 2014 до 2016 года цена сильно упала"
      ]
    },
    {
      "cell_type": "code",
      "execution_count": null,
      "metadata": {
        "id": "2R3wLdecu7C4"
      },
      "outputs": [],
      "source": [
        "day_pivot = data.pivot_table(index='day_posted',values='last_price',aggfunc='median')"
      ]
    },
    {
      "cell_type": "code",
      "execution_count": null,
      "metadata": {
        "id": "ABGZwAD3u7C4",
        "outputId": "3b0caa4c-76a6-4e8c-a0be-8016a524cf2b"
      },
      "outputs": [
        {
          "data": {
            "image/png": "[encoded data removed]",
            "text/plain": [
              "<Figure size 432x288 with 1 Axes>"
            ]
          },
          "metadata": {
            "needs_background": "light"
          },
          "output_type": "display_data"
        }
      ],
      "source": [
        "day_pivot.plot(grid=True);"
      ]
    },
    {
      "cell_type": "markdown",
      "metadata": {
        "id": "1aeRwxTZu7C5"
      },
      "source": [
        "Тоже нет смысла достоверно верить этому графику,потому что на пики приходятся бОльшее кол-во публикаций в день"
      ]
    },
    {
      "cell_type": "code",
      "execution_count": null,
      "metadata": {
        "id": "oSn8N_E7u7C5",
        "outputId": "b570a828-4b8e-4613-8469-f36edf51b52b"
      },
      "outputs": [
        {
          "data": {
            "text/html": [
              "<div>\n",
              "<style scoped>\n",
              "    .dataframe tbody tr th:only-of-type {\n",
              "        vertical-align: middle;\n",
              "    }\n",
              "\n",
              "    .dataframe tbody tr th {\n",
              "        vertical-align: top;\n",
              "    }\n",
              "\n",
              "    .dataframe thead th {\n",
              "        text-align: right;\n",
              "    }\n",
              "</style>\n",
              "<table border=\"1\" class=\"dataframe\">\n",
              "  <thead>\n",
              "    <tr style=\"text-align: right;\">\n",
              "      <th></th>\n",
              "      <th>total_images</th>\n",
              "      <th>last_price</th>\n",
              "      <th>total_area</th>\n",
              "      <th>first_day_exposition</th>\n",
              "      <th>rooms</th>\n",
              "      <th>ceiling_height</th>\n",
              "      <th>floors_total</th>\n",
              "      <th>living_area</th>\n",
              "      <th>floor</th>\n",
              "      <th>is_apartment</th>\n",
              "      <th>studio</th>\n",
              "      <th>open_plan</th>\n",
              "      <th>kitchen_area</th>\n",
              "      <th>balcony</th>\n",
              "      <th>locality_name</th>\n",
              "      <th>airports_nearest</th>\n",
              "      <th>cityCenters_nearest</th>\n",
              "      <th>parks_around3000</th>\n",
              "      <th>parks_nearest</th>\n",
              "      <th>ponds_around3000</th>\n",
              "      <th>ponds_nearest</th>\n",
              "      <th>days_exposition</th>\n",
              "      <th>price_square_meter</th>\n",
              "      <th>week_posted</th>\n",
              "      <th>month_posted</th>\n",
              "      <th>year_posted</th>\n",
              "      <th>floors_type</th>\n",
              "      <th>center_km</th>\n",
              "      <th>day_posted</th>\n",
              "    </tr>\n",
              "  </thead>\n",
              "  <tbody>\n",
              "    <tr>\n",
              "      <th>0</th>\n",
              "      <td>20</td>\n",
              "      <td>13000000.0</td>\n",
              "      <td>108.0</td>\n",
              "      <td>2019-03-07</td>\n",
              "      <td>3</td>\n",
              "      <td>2.70</td>\n",
              "      <td>16.0</td>\n",
              "      <td>51.0</td>\n",
              "      <td>8</td>\n",
              "      <td>False</td>\n",
              "      <td>False</td>\n",
              "      <td>False</td>\n",
              "      <td>25.0</td>\n",
              "      <td>0.0</td>\n",
              "      <td>санкт-петербург</td>\n",
              "      <td>18863.0</td>\n",
              "      <td>16028.0</td>\n",
              "      <td>1.0</td>\n",
              "      <td>482.0</td>\n",
              "      <td>2.0</td>\n",
              "      <td>755.0</td>\n",
              "      <td>NaN</td>\n",
              "      <td>120370.370370</td>\n",
              "      <td>3</td>\n",
              "      <td>3</td>\n",
              "      <td>2019</td>\n",
              "      <td>другое</td>\n",
              "      <td>16.0</td>\n",
              "      <td>7</td>\n",
              "    </tr>\n",
              "    <tr>\n",
              "      <th>1</th>\n",
              "      <td>7</td>\n",
              "      <td>3350000.0</td>\n",
              "      <td>40.4</td>\n",
              "      <td>2018-12-04</td>\n",
              "      <td>1</td>\n",
              "      <td>NaN</td>\n",
              "      <td>11.0</td>\n",
              "      <td>18.6</td>\n",
              "      <td>1</td>\n",
              "      <td>False</td>\n",
              "      <td>False</td>\n",
              "      <td>False</td>\n",
              "      <td>11.0</td>\n",
              "      <td>2.0</td>\n",
              "      <td>поселок шушары</td>\n",
              "      <td>12817.0</td>\n",
              "      <td>18603.0</td>\n",
              "      <td>0.0</td>\n",
              "      <td>NaN</td>\n",
              "      <td>0.0</td>\n",
              "      <td>NaN</td>\n",
              "      <td>81.0</td>\n",
              "      <td>82920.792079</td>\n",
              "      <td>1</td>\n",
              "      <td>12</td>\n",
              "      <td>2018</td>\n",
              "      <td>первый</td>\n",
              "      <td>19.0</td>\n",
              "      <td>4</td>\n",
              "    </tr>\n",
              "    <tr>\n",
              "      <th>2</th>\n",
              "      <td>10</td>\n",
              "      <td>5196000.0</td>\n",
              "      <td>56.0</td>\n",
              "      <td>2015-08-20</td>\n",
              "      <td>2</td>\n",
              "      <td>NaN</td>\n",
              "      <td>5.0</td>\n",
              "      <td>34.3</td>\n",
              "      <td>4</td>\n",
              "      <td>False</td>\n",
              "      <td>False</td>\n",
              "      <td>False</td>\n",
              "      <td>8.3</td>\n",
              "      <td>0.0</td>\n",
              "      <td>санкт-петербург</td>\n",
              "      <td>21741.0</td>\n",
              "      <td>13933.0</td>\n",
              "      <td>1.0</td>\n",
              "      <td>90.0</td>\n",
              "      <td>2.0</td>\n",
              "      <td>574.0</td>\n",
              "      <td>558.0</td>\n",
              "      <td>92785.714286</td>\n",
              "      <td>3</td>\n",
              "      <td>8</td>\n",
              "      <td>2015</td>\n",
              "      <td>другое</td>\n",
              "      <td>14.0</td>\n",
              "      <td>20</td>\n",
              "    </tr>\n",
              "    <tr>\n",
              "      <th>3</th>\n",
              "      <td>0</td>\n",
              "      <td>64900000.0</td>\n",
              "      <td>159.0</td>\n",
              "      <td>2015-07-24</td>\n",
              "      <td>3</td>\n",
              "      <td>NaN</td>\n",
              "      <td>14.0</td>\n",
              "      <td>NaN</td>\n",
              "      <td>9</td>\n",
              "      <td>False</td>\n",
              "      <td>False</td>\n",
              "      <td>False</td>\n",
              "      <td>NaN</td>\n",
              "      <td>0.0</td>\n",
              "      <td>санкт-петербург</td>\n",
              "      <td>28098.0</td>\n",
              "      <td>6800.0</td>\n",
              "      <td>2.0</td>\n",
              "      <td>84.0</td>\n",
              "      <td>3.0</td>\n",
              "      <td>234.0</td>\n",
              "      <td>424.0</td>\n",
              "      <td>408176.100629</td>\n",
              "      <td>4</td>\n",
              "      <td>7</td>\n",
              "      <td>2015</td>\n",
              "      <td>другое</td>\n",
              "      <td>7.0</td>\n",
              "      <td>24</td>\n",
              "    </tr>\n",
              "    <tr>\n",
              "      <th>4</th>\n",
              "      <td>2</td>\n",
              "      <td>10000000.0</td>\n",
              "      <td>100.0</td>\n",
              "      <td>2018-06-19</td>\n",
              "      <td>2</td>\n",
              "      <td>3.03</td>\n",
              "      <td>14.0</td>\n",
              "      <td>32.0</td>\n",
              "      <td>13</td>\n",
              "      <td>False</td>\n",
              "      <td>False</td>\n",
              "      <td>False</td>\n",
              "      <td>41.0</td>\n",
              "      <td>0.0</td>\n",
              "      <td>санкт-петербург</td>\n",
              "      <td>31856.0</td>\n",
              "      <td>8098.0</td>\n",
              "      <td>2.0</td>\n",
              "      <td>112.0</td>\n",
              "      <td>1.0</td>\n",
              "      <td>48.0</td>\n",
              "      <td>121.0</td>\n",
              "      <td>100000.000000</td>\n",
              "      <td>1</td>\n",
              "      <td>6</td>\n",
              "      <td>2018</td>\n",
              "      <td>другое</td>\n",
              "      <td>8.0</td>\n",
              "      <td>19</td>\n",
              "    </tr>\n",
              "  </tbody>\n",
              "</table>\n",
              "</div>"
            ],
            "text/plain": [
              "   total_images  last_price  total_area first_day_exposition  rooms  \\\n",
              "0            20  13000000.0       108.0           2019-03-07      3   \n",
              "1             7   3350000.0        40.4           2018-12-04      1   \n",
              "2            10   5196000.0        56.0           2015-08-20      2   \n",
              "3             0  64900000.0       159.0           2015-07-24      3   \n",
              "4             2  10000000.0       100.0           2018-06-19      2   \n",
              "\n",
              "   ceiling_height  floors_total  living_area  floor  is_apartment  studio  \\\n",
              "0            2.70          16.0         51.0      8         False   False   \n",
              "1             NaN          11.0         18.6      1         False   False   \n",
              "2             NaN           5.0         34.3      4         False   False   \n",
              "3             NaN          14.0          NaN      9         False   False   \n",
              "4            3.03          14.0         32.0     13         False   False   \n",
              "\n",
              "   open_plan  kitchen_area  balcony    locality_name  airports_nearest  \\\n",
              "0      False          25.0      0.0  санкт-петербург           18863.0   \n",
              "1      False          11.0      2.0   поселок шушары           12817.0   \n",
              "2      False           8.3      0.0  санкт-петербург           21741.0   \n",
              "3      False           NaN      0.0  санкт-петербург           28098.0   \n",
              "4      False          41.0      0.0  санкт-петербург           31856.0   \n",
              "\n",
              "   cityCenters_nearest  parks_around3000  parks_nearest  ponds_around3000  \\\n",
              "0              16028.0               1.0          482.0               2.0   \n",
              "1              18603.0               0.0            NaN               0.0   \n",
              "2              13933.0               1.0           90.0               2.0   \n",
              "3               6800.0               2.0           84.0               3.0   \n",
              "4               8098.0               2.0          112.0               1.0   \n",
              "\n",
              "   ponds_nearest  days_exposition  price_square_meter  week_posted  \\\n",
              "0          755.0              NaN       120370.370370            3   \n",
              "1            NaN             81.0        82920.792079            1   \n",
              "2          574.0            558.0        92785.714286            3   \n",
              "3          234.0            424.0       408176.100629            4   \n",
              "4           48.0            121.0       100000.000000            1   \n",
              "\n",
              "   month_posted  year_posted floors_type  center_km  day_posted  \n",
              "0             3         2019      другое       16.0           7  \n",
              "1            12         2018      первый       19.0           4  \n",
              "2             8         2015      другое       14.0          20  \n",
              "3             7         2015      другое        7.0          24  \n",
              "4             6         2018      другое        8.0          19  "
            ]
          },
          "execution_count": 76,
          "metadata": {},
          "output_type": "execute_result"
        }
      ],
      "source": [
        "data.head()"
      ]
    },
    {
      "cell_type": "markdown",
      "metadata": {
        "id": "sRxgTWxKu7C5"
      },
      "source": [
        " Считаем среднюю цену одного квадратного метра в 10 населённых пунктах с наибольшим числом объявлений."
      ]
    },
    {
      "cell_type": "code",
      "execution_count": null,
      "metadata": {
        "id": "_GVV_H4su7C5"
      },
      "outputs": [],
      "source": [
        "big_name = data.pivot_table(index='locality_name',values='price_square_meter',aggfunc=['mean','count'])"
      ]
    },
    {
      "cell_type": "code",
      "execution_count": null,
      "metadata": {
        "id": "fudK9v0Du7C5"
      },
      "outputs": [],
      "source": [
        "big_name.columns = ['price_square_meter','ads_sum']"
      ]
    },
    {
      "cell_type": "code",
      "execution_count": null,
      "metadata": {
        "id": "2uH_NkVSu7C5"
      },
      "outputs": [],
      "source": [
        "big_name2 = big_name.sort_values(by='ads_sum',ascending=False).head(10)"
      ]
    },
    {
      "cell_type": "code",
      "execution_count": null,
      "metadata": {
        "id": "S1g2mLi8u7C5",
        "outputId": "d8fcec33-6a24-4ea6-bf72-2fa23f034365"
      },
      "outputs": [
        {
          "data": {
            "text/html": [
              "<div>\n",
              "<style scoped>\n",
              "    .dataframe tbody tr th:only-of-type {\n",
              "        vertical-align: middle;\n",
              "    }\n",
              "\n",
              "    .dataframe tbody tr th {\n",
              "        vertical-align: top;\n",
              "    }\n",
              "\n",
              "    .dataframe thead th {\n",
              "        text-align: right;\n",
              "    }\n",
              "</style>\n",
              "<table border=\"1\" class=\"dataframe\">\n",
              "  <thead>\n",
              "    <tr style=\"text-align: right;\">\n",
              "      <th></th>\n",
              "      <th>price_square_meter</th>\n",
              "      <th>ads_sum</th>\n",
              "    </tr>\n",
              "    <tr>\n",
              "      <th>locality_name</th>\n",
              "      <th></th>\n",
              "      <th></th>\n",
              "    </tr>\n",
              "  </thead>\n",
              "  <tbody>\n",
              "    <tr>\n",
              "      <th>санкт-петербург</th>\n",
              "      <td>114833.088420</td>\n",
              "      <td>15710</td>\n",
              "    </tr>\n",
              "    <tr>\n",
              "      <th>поселок мурино</th>\n",
              "      <td>85681.762601</td>\n",
              "      <td>556</td>\n",
              "    </tr>\n",
              "    <tr>\n",
              "      <th>поселок шушары</th>\n",
              "      <td>78677.364217</td>\n",
              "      <td>440</td>\n",
              "    </tr>\n",
              "    <tr>\n",
              "      <th>всеволожск</th>\n",
              "      <td>68654.473986</td>\n",
              "      <td>398</td>\n",
              "    </tr>\n",
              "    <tr>\n",
              "      <th>пушкин</th>\n",
              "      <td>103125.819291</td>\n",
              "      <td>369</td>\n",
              "    </tr>\n",
              "    <tr>\n",
              "      <th>колпино</th>\n",
              "      <td>75424.579098</td>\n",
              "      <td>338</td>\n",
              "    </tr>\n",
              "    <tr>\n",
              "      <th>поселок парголово</th>\n",
              "      <td>90175.913458</td>\n",
              "      <td>327</td>\n",
              "    </tr>\n",
              "    <tr>\n",
              "      <th>гатчина</th>\n",
              "      <td>68746.146763</td>\n",
              "      <td>307</td>\n",
              "    </tr>\n",
              "    <tr>\n",
              "      <th>деревня кудрово</th>\n",
              "      <td>92473.547576</td>\n",
              "      <td>299</td>\n",
              "    </tr>\n",
              "    <tr>\n",
              "      <th>выборг</th>\n",
              "      <td>58141.909153</td>\n",
              "      <td>237</td>\n",
              "    </tr>\n",
              "  </tbody>\n",
              "</table>\n",
              "</div>"
            ],
            "text/plain": [
              "                   price_square_meter  ads_sum\n",
              "locality_name                                 \n",
              "санкт-петербург         114833.088420    15710\n",
              "поселок мурино           85681.762601      556\n",
              "поселок шушары           78677.364217      440\n",
              "всеволожск               68654.473986      398\n",
              "пушкин                  103125.819291      369\n",
              "колпино                  75424.579098      338\n",
              "поселок парголово        90175.913458      327\n",
              "гатчина                  68746.146763      307\n",
              "деревня кудрово          92473.547576      299\n",
              "выборг                   58141.909153      237"
            ]
          },
          "execution_count": 80,
          "metadata": {},
          "output_type": "execute_result"
        }
      ],
      "source": [
        "big_name2"
      ]
    },
    {
      "cell_type": "code",
      "execution_count": null,
      "metadata": {
        "id": "J7mGA3lVu7C5",
        "outputId": "afc82099-3e98-4156-f9d3-8ace4a83eb56"
      },
      "outputs": [
        {
          "data": {
            "text/html": [
              "<div>\n",
              "<style scoped>\n",
              "    .dataframe tbody tr th:only-of-type {\n",
              "        vertical-align: middle;\n",
              "    }\n",
              "\n",
              "    .dataframe tbody tr th {\n",
              "        vertical-align: top;\n",
              "    }\n",
              "\n",
              "    .dataframe thead th {\n",
              "        text-align: right;\n",
              "    }\n",
              "</style>\n",
              "<table border=\"1\" class=\"dataframe\">\n",
              "  <thead>\n",
              "    <tr style=\"text-align: right;\">\n",
              "      <th></th>\n",
              "      <th>price_square_meter</th>\n",
              "      <th>ads_sum</th>\n",
              "    </tr>\n",
              "    <tr>\n",
              "      <th>locality_name</th>\n",
              "      <th></th>\n",
              "      <th></th>\n",
              "    </tr>\n",
              "  </thead>\n",
              "  <tbody>\n",
              "    <tr>\n",
              "      <th>санкт-петербург</th>\n",
              "      <td>114833.088420</td>\n",
              "      <td>15710</td>\n",
              "    </tr>\n",
              "    <tr>\n",
              "      <th>пушкин</th>\n",
              "      <td>103125.819291</td>\n",
              "      <td>369</td>\n",
              "    </tr>\n",
              "    <tr>\n",
              "      <th>деревня кудрово</th>\n",
              "      <td>92473.547576</td>\n",
              "      <td>299</td>\n",
              "    </tr>\n",
              "    <tr>\n",
              "      <th>поселок парголово</th>\n",
              "      <td>90175.913458</td>\n",
              "      <td>327</td>\n",
              "    </tr>\n",
              "    <tr>\n",
              "      <th>поселок мурино</th>\n",
              "      <td>85681.762601</td>\n",
              "      <td>556</td>\n",
              "    </tr>\n",
              "    <tr>\n",
              "      <th>поселок шушары</th>\n",
              "      <td>78677.364217</td>\n",
              "      <td>440</td>\n",
              "    </tr>\n",
              "    <tr>\n",
              "      <th>колпино</th>\n",
              "      <td>75424.579098</td>\n",
              "      <td>338</td>\n",
              "    </tr>\n",
              "    <tr>\n",
              "      <th>гатчина</th>\n",
              "      <td>68746.146763</td>\n",
              "      <td>307</td>\n",
              "    </tr>\n",
              "    <tr>\n",
              "      <th>всеволожск</th>\n",
              "      <td>68654.473986</td>\n",
              "      <td>398</td>\n",
              "    </tr>\n",
              "    <tr>\n",
              "      <th>выборг</th>\n",
              "      <td>58141.909153</td>\n",
              "      <td>237</td>\n",
              "    </tr>\n",
              "  </tbody>\n",
              "</table>\n",
              "</div>"
            ],
            "text/plain": [
              "                   price_square_meter  ads_sum\n",
              "locality_name                                 \n",
              "санкт-петербург         114833.088420    15710\n",
              "пушкин                  103125.819291      369\n",
              "деревня кудрово          92473.547576      299\n",
              "поселок парголово        90175.913458      327\n",
              "поселок мурино           85681.762601      556\n",
              "поселок шушары           78677.364217      440\n",
              "колпино                  75424.579098      338\n",
              "гатчина                  68746.146763      307\n",
              "всеволожск               68654.473986      398\n",
              "выборг                   58141.909153      237"
            ]
          },
          "execution_count": 81,
          "metadata": {},
          "output_type": "execute_result"
        }
      ],
      "source": [
        "big_name2.sort_values(by='price_square_meter',ascending=False)"
      ]
    },
    {
      "cell_type": "markdown",
      "metadata": {
        "id": "sd-BDZJ1u7C5"
      },
      "source": [
        "Населённый пункт с самой высокой ценой за кв.м. в топ 10 населенных пунктов по кол-ву объявлений - санкт-петербург,а с самой маленькой - выборг"
      ]
    },
    {
      "cell_type": "markdown",
      "metadata": {
        "id": "5ZYBuscPu7C5"
      },
      "source": [
        "Вычисляем среднюю цену одного км.до центра города в СПБ."
      ]
    },
    {
      "cell_type": "code",
      "execution_count": null,
      "metadata": {
        "id": "81JvXD4wu7C5"
      },
      "outputs": [],
      "source": [
        "spb = data[data['locality_name'] =='санкт-петербург'].copy()"
      ]
    },
    {
      "cell_type": "code",
      "execution_count": null,
      "metadata": {
        "id": "mPTBuN_2u7C6",
        "outputId": "113ad365-8af4-49ba-806d-4a469fe1ff3b"
      },
      "outputs": [
        {
          "data": {
            "text/html": [
              "<div>\n",
              "<style scoped>\n",
              "    .dataframe tbody tr th:only-of-type {\n",
              "        vertical-align: middle;\n",
              "    }\n",
              "\n",
              "    .dataframe tbody tr th {\n",
              "        vertical-align: top;\n",
              "    }\n",
              "\n",
              "    .dataframe thead th {\n",
              "        text-align: right;\n",
              "    }\n",
              "</style>\n",
              "<table border=\"1\" class=\"dataframe\">\n",
              "  <thead>\n",
              "    <tr style=\"text-align: right;\">\n",
              "      <th></th>\n",
              "      <th>total_images</th>\n",
              "      <th>last_price</th>\n",
              "      <th>total_area</th>\n",
              "      <th>first_day_exposition</th>\n",
              "      <th>rooms</th>\n",
              "      <th>ceiling_height</th>\n",
              "      <th>floors_total</th>\n",
              "      <th>living_area</th>\n",
              "      <th>floor</th>\n",
              "      <th>is_apartment</th>\n",
              "      <th>studio</th>\n",
              "      <th>open_plan</th>\n",
              "      <th>kitchen_area</th>\n",
              "      <th>balcony</th>\n",
              "      <th>locality_name</th>\n",
              "      <th>airports_nearest</th>\n",
              "      <th>cityCenters_nearest</th>\n",
              "      <th>parks_around3000</th>\n",
              "      <th>parks_nearest</th>\n",
              "      <th>ponds_around3000</th>\n",
              "      <th>ponds_nearest</th>\n",
              "      <th>days_exposition</th>\n",
              "      <th>price_square_meter</th>\n",
              "      <th>week_posted</th>\n",
              "      <th>month_posted</th>\n",
              "      <th>year_posted</th>\n",
              "      <th>floors_type</th>\n",
              "      <th>center_km</th>\n",
              "      <th>day_posted</th>\n",
              "    </tr>\n",
              "  </thead>\n",
              "  <tbody>\n",
              "    <tr>\n",
              "      <th>0</th>\n",
              "      <td>20</td>\n",
              "      <td>13000000.0</td>\n",
              "      <td>108.00</td>\n",
              "      <td>2019-03-07</td>\n",
              "      <td>3</td>\n",
              "      <td>2.70</td>\n",
              "      <td>16.0</td>\n",
              "      <td>51.0</td>\n",
              "      <td>8</td>\n",
              "      <td>False</td>\n",
              "      <td>False</td>\n",
              "      <td>False</td>\n",
              "      <td>25.00</td>\n",
              "      <td>0.0</td>\n",
              "      <td>санкт-петербург</td>\n",
              "      <td>18863.0</td>\n",
              "      <td>16028.0</td>\n",
              "      <td>1.0</td>\n",
              "      <td>482.0</td>\n",
              "      <td>2.0</td>\n",
              "      <td>755.0</td>\n",
              "      <td>NaN</td>\n",
              "      <td>120370.370370</td>\n",
              "      <td>3</td>\n",
              "      <td>3</td>\n",
              "      <td>2019</td>\n",
              "      <td>другое</td>\n",
              "      <td>16.0</td>\n",
              "      <td>7</td>\n",
              "    </tr>\n",
              "    <tr>\n",
              "      <th>2</th>\n",
              "      <td>10</td>\n",
              "      <td>5196000.0</td>\n",
              "      <td>56.00</td>\n",
              "      <td>2015-08-20</td>\n",
              "      <td>2</td>\n",
              "      <td>NaN</td>\n",
              "      <td>5.0</td>\n",
              "      <td>34.3</td>\n",
              "      <td>4</td>\n",
              "      <td>False</td>\n",
              "      <td>False</td>\n",
              "      <td>False</td>\n",
              "      <td>8.30</td>\n",
              "      <td>0.0</td>\n",
              "      <td>санкт-петербург</td>\n",
              "      <td>21741.0</td>\n",
              "      <td>13933.0</td>\n",
              "      <td>1.0</td>\n",
              "      <td>90.0</td>\n",
              "      <td>2.0</td>\n",
              "      <td>574.0</td>\n",
              "      <td>558.0</td>\n",
              "      <td>92785.714286</td>\n",
              "      <td>3</td>\n",
              "      <td>8</td>\n",
              "      <td>2015</td>\n",
              "      <td>другое</td>\n",
              "      <td>14.0</td>\n",
              "      <td>20</td>\n",
              "    </tr>\n",
              "    <tr>\n",
              "      <th>3</th>\n",
              "      <td>0</td>\n",
              "      <td>64900000.0</td>\n",
              "      <td>159.00</td>\n",
              "      <td>2015-07-24</td>\n",
              "      <td>3</td>\n",
              "      <td>NaN</td>\n",
              "      <td>14.0</td>\n",
              "      <td>NaN</td>\n",
              "      <td>9</td>\n",
              "      <td>False</td>\n",
              "      <td>False</td>\n",
              "      <td>False</td>\n",
              "      <td>NaN</td>\n",
              "      <td>0.0</td>\n",
              "      <td>санкт-петербург</td>\n",
              "      <td>28098.0</td>\n",
              "      <td>6800.0</td>\n",
              "      <td>2.0</td>\n",
              "      <td>84.0</td>\n",
              "      <td>3.0</td>\n",
              "      <td>234.0</td>\n",
              "      <td>424.0</td>\n",
              "      <td>408176.100629</td>\n",
              "      <td>4</td>\n",
              "      <td>7</td>\n",
              "      <td>2015</td>\n",
              "      <td>другое</td>\n",
              "      <td>7.0</td>\n",
              "      <td>24</td>\n",
              "    </tr>\n",
              "    <tr>\n",
              "      <th>4</th>\n",
              "      <td>2</td>\n",
              "      <td>10000000.0</td>\n",
              "      <td>100.00</td>\n",
              "      <td>2018-06-19</td>\n",
              "      <td>2</td>\n",
              "      <td>3.03</td>\n",
              "      <td>14.0</td>\n",
              "      <td>32.0</td>\n",
              "      <td>13</td>\n",
              "      <td>False</td>\n",
              "      <td>False</td>\n",
              "      <td>False</td>\n",
              "      <td>41.00</td>\n",
              "      <td>0.0</td>\n",
              "      <td>санкт-петербург</td>\n",
              "      <td>31856.0</td>\n",
              "      <td>8098.0</td>\n",
              "      <td>2.0</td>\n",
              "      <td>112.0</td>\n",
              "      <td>1.0</td>\n",
              "      <td>48.0</td>\n",
              "      <td>121.0</td>\n",
              "      <td>100000.000000</td>\n",
              "      <td>1</td>\n",
              "      <td>6</td>\n",
              "      <td>2018</td>\n",
              "      <td>другое</td>\n",
              "      <td>8.0</td>\n",
              "      <td>19</td>\n",
              "    </tr>\n",
              "    <tr>\n",
              "      <th>7</th>\n",
              "      <td>5</td>\n",
              "      <td>7915000.0</td>\n",
              "      <td>71.60</td>\n",
              "      <td>2019-04-18</td>\n",
              "      <td>2</td>\n",
              "      <td>NaN</td>\n",
              "      <td>24.0</td>\n",
              "      <td>NaN</td>\n",
              "      <td>22</td>\n",
              "      <td>False</td>\n",
              "      <td>False</td>\n",
              "      <td>False</td>\n",
              "      <td>18.90</td>\n",
              "      <td>2.0</td>\n",
              "      <td>санкт-петербург</td>\n",
              "      <td>23982.0</td>\n",
              "      <td>11634.0</td>\n",
              "      <td>0.0</td>\n",
              "      <td>NaN</td>\n",
              "      <td>0.0</td>\n",
              "      <td>NaN</td>\n",
              "      <td>NaN</td>\n",
              "      <td>110544.692737</td>\n",
              "      <td>3</td>\n",
              "      <td>4</td>\n",
              "      <td>2019</td>\n",
              "      <td>другое</td>\n",
              "      <td>12.0</td>\n",
              "      <td>18</td>\n",
              "    </tr>\n",
              "    <tr>\n",
              "      <th>...</th>\n",
              "      <td>...</td>\n",
              "      <td>...</td>\n",
              "      <td>...</td>\n",
              "      <td>...</td>\n",
              "      <td>...</td>\n",
              "      <td>...</td>\n",
              "      <td>...</td>\n",
              "      <td>...</td>\n",
              "      <td>...</td>\n",
              "      <td>...</td>\n",
              "      <td>...</td>\n",
              "      <td>...</td>\n",
              "      <td>...</td>\n",
              "      <td>...</td>\n",
              "      <td>...</td>\n",
              "      <td>...</td>\n",
              "      <td>...</td>\n",
              "      <td>...</td>\n",
              "      <td>...</td>\n",
              "      <td>...</td>\n",
              "      <td>...</td>\n",
              "      <td>...</td>\n",
              "      <td>...</td>\n",
              "      <td>...</td>\n",
              "      <td>...</td>\n",
              "      <td>...</td>\n",
              "      <td>...</td>\n",
              "      <td>...</td>\n",
              "      <td>...</td>\n",
              "    </tr>\n",
              "    <tr>\n",
              "      <th>23689</th>\n",
              "      <td>13</td>\n",
              "      <td>3550000.0</td>\n",
              "      <td>35.30</td>\n",
              "      <td>2018-02-28</td>\n",
              "      <td>1</td>\n",
              "      <td>2.86</td>\n",
              "      <td>15.0</td>\n",
              "      <td>16.3</td>\n",
              "      <td>4</td>\n",
              "      <td>False</td>\n",
              "      <td>False</td>\n",
              "      <td>False</td>\n",
              "      <td>9.10</td>\n",
              "      <td>2.0</td>\n",
              "      <td>санкт-петербург</td>\n",
              "      <td>17284.0</td>\n",
              "      <td>16081.0</td>\n",
              "      <td>1.0</td>\n",
              "      <td>353.0</td>\n",
              "      <td>2.0</td>\n",
              "      <td>652.0</td>\n",
              "      <td>29.0</td>\n",
              "      <td>100566.572238</td>\n",
              "      <td>2</td>\n",
              "      <td>2</td>\n",
              "      <td>2018</td>\n",
              "      <td>другое</td>\n",
              "      <td>16.0</td>\n",
              "      <td>28</td>\n",
              "    </tr>\n",
              "    <tr>\n",
              "      <th>23690</th>\n",
              "      <td>3</td>\n",
              "      <td>5500000.0</td>\n",
              "      <td>52.00</td>\n",
              "      <td>2018-07-19</td>\n",
              "      <td>2</td>\n",
              "      <td>NaN</td>\n",
              "      <td>5.0</td>\n",
              "      <td>31.0</td>\n",
              "      <td>2</td>\n",
              "      <td>False</td>\n",
              "      <td>False</td>\n",
              "      <td>False</td>\n",
              "      <td>6.00</td>\n",
              "      <td>0.0</td>\n",
              "      <td>санкт-петербург</td>\n",
              "      <td>20151.0</td>\n",
              "      <td>6263.0</td>\n",
              "      <td>1.0</td>\n",
              "      <td>300.0</td>\n",
              "      <td>0.0</td>\n",
              "      <td>NaN</td>\n",
              "      <td>15.0</td>\n",
              "      <td>105769.230769</td>\n",
              "      <td>3</td>\n",
              "      <td>7</td>\n",
              "      <td>2018</td>\n",
              "      <td>другое</td>\n",
              "      <td>6.0</td>\n",
              "      <td>19</td>\n",
              "    </tr>\n",
              "    <tr>\n",
              "      <th>23691</th>\n",
              "      <td>11</td>\n",
              "      <td>9470000.0</td>\n",
              "      <td>72.90</td>\n",
              "      <td>2016-10-13</td>\n",
              "      <td>2</td>\n",
              "      <td>2.75</td>\n",
              "      <td>25.0</td>\n",
              "      <td>40.3</td>\n",
              "      <td>7</td>\n",
              "      <td>False</td>\n",
              "      <td>False</td>\n",
              "      <td>False</td>\n",
              "      <td>10.60</td>\n",
              "      <td>1.0</td>\n",
              "      <td>санкт-петербург</td>\n",
              "      <td>19424.0</td>\n",
              "      <td>4489.0</td>\n",
              "      <td>0.0</td>\n",
              "      <td>NaN</td>\n",
              "      <td>1.0</td>\n",
              "      <td>806.0</td>\n",
              "      <td>519.0</td>\n",
              "      <td>129903.978052</td>\n",
              "      <td>3</td>\n",
              "      <td>10</td>\n",
              "      <td>2016</td>\n",
              "      <td>другое</td>\n",
              "      <td>4.0</td>\n",
              "      <td>13</td>\n",
              "    </tr>\n",
              "    <tr>\n",
              "      <th>23694</th>\n",
              "      <td>9</td>\n",
              "      <td>9700000.0</td>\n",
              "      <td>133.81</td>\n",
              "      <td>2017-03-21</td>\n",
              "      <td>3</td>\n",
              "      <td>3.70</td>\n",
              "      <td>5.0</td>\n",
              "      <td>73.3</td>\n",
              "      <td>3</td>\n",
              "      <td>False</td>\n",
              "      <td>False</td>\n",
              "      <td>False</td>\n",
              "      <td>13.83</td>\n",
              "      <td>0.0</td>\n",
              "      <td>санкт-петербург</td>\n",
              "      <td>24665.0</td>\n",
              "      <td>4232.0</td>\n",
              "      <td>1.0</td>\n",
              "      <td>796.0</td>\n",
              "      <td>3.0</td>\n",
              "      <td>381.0</td>\n",
              "      <td>NaN</td>\n",
              "      <td>72490.845228</td>\n",
              "      <td>1</td>\n",
              "      <td>3</td>\n",
              "      <td>2017</td>\n",
              "      <td>другое</td>\n",
              "      <td>4.0</td>\n",
              "      <td>21</td>\n",
              "    </tr>\n",
              "    <tr>\n",
              "      <th>23697</th>\n",
              "      <td>13</td>\n",
              "      <td>11475000.0</td>\n",
              "      <td>76.75</td>\n",
              "      <td>2017-03-28</td>\n",
              "      <td>2</td>\n",
              "      <td>3.00</td>\n",
              "      <td>17.0</td>\n",
              "      <td>NaN</td>\n",
              "      <td>12</td>\n",
              "      <td>False</td>\n",
              "      <td>False</td>\n",
              "      <td>False</td>\n",
              "      <td>23.30</td>\n",
              "      <td>2.0</td>\n",
              "      <td>санкт-петербург</td>\n",
              "      <td>39140.0</td>\n",
              "      <td>10364.0</td>\n",
              "      <td>2.0</td>\n",
              "      <td>173.0</td>\n",
              "      <td>3.0</td>\n",
              "      <td>196.0</td>\n",
              "      <td>602.0</td>\n",
              "      <td>149511.400651</td>\n",
              "      <td>1</td>\n",
              "      <td>3</td>\n",
              "      <td>2017</td>\n",
              "      <td>другое</td>\n",
              "      <td>10.0</td>\n",
              "      <td>28</td>\n",
              "    </tr>\n",
              "  </tbody>\n",
              "</table>\n",
              "<p>15710 rows × 29 columns</p>\n",
              "</div>"
            ],
            "text/plain": [
              "       total_images  last_price  total_area first_day_exposition  rooms  \\\n",
              "0                20  13000000.0      108.00           2019-03-07      3   \n",
              "2                10   5196000.0       56.00           2015-08-20      2   \n",
              "3                 0  64900000.0      159.00           2015-07-24      3   \n",
              "4                 2  10000000.0      100.00           2018-06-19      2   \n",
              "7                 5   7915000.0       71.60           2019-04-18      2   \n",
              "...             ...         ...         ...                  ...    ...   \n",
              "23689            13   3550000.0       35.30           2018-02-28      1   \n",
              "23690             3   5500000.0       52.00           2018-07-19      2   \n",
              "23691            11   9470000.0       72.90           2016-10-13      2   \n",
              "23694             9   9700000.0      133.81           2017-03-21      3   \n",
              "23697            13  11475000.0       76.75           2017-03-28      2   \n",
              "\n",
              "       ceiling_height  floors_total  living_area  floor  is_apartment  studio  \\\n",
              "0                2.70          16.0         51.0      8         False   False   \n",
              "2                 NaN           5.0         34.3      4         False   False   \n",
              "3                 NaN          14.0          NaN      9         False   False   \n",
              "4                3.03          14.0         32.0     13         False   False   \n",
              "7                 NaN          24.0          NaN     22         False   False   \n",
              "...               ...           ...          ...    ...           ...     ...   \n",
              "23689            2.86          15.0         16.3      4         False   False   \n",
              "23690             NaN           5.0         31.0      2         False   False   \n",
              "23691            2.75          25.0         40.3      7         False   False   \n",
              "23694            3.70           5.0         73.3      3         False   False   \n",
              "23697            3.00          17.0          NaN     12         False   False   \n",
              "\n",
              "       open_plan  kitchen_area  balcony    locality_name  airports_nearest  \\\n",
              "0          False         25.00      0.0  санкт-петербург           18863.0   \n",
              "2          False          8.30      0.0  санкт-петербург           21741.0   \n",
              "3          False           NaN      0.0  санкт-петербург           28098.0   \n",
              "4          False         41.00      0.0  санкт-петербург           31856.0   \n",
              "7          False         18.90      2.0  санкт-петербург           23982.0   \n",
              "...          ...           ...      ...              ...               ...   \n",
              "23689      False          9.10      2.0  санкт-петербург           17284.0   \n",
              "23690      False          6.00      0.0  санкт-петербург           20151.0   \n",
              "23691      False         10.60      1.0  санкт-петербург           19424.0   \n",
              "23694      False         13.83      0.0  санкт-петербург           24665.0   \n",
              "23697      False         23.30      2.0  санкт-петербург           39140.0   \n",
              "\n",
              "       cityCenters_nearest  parks_around3000  parks_nearest  ponds_around3000  \\\n",
              "0                  16028.0               1.0          482.0               2.0   \n",
              "2                  13933.0               1.0           90.0               2.0   \n",
              "3                   6800.0               2.0           84.0               3.0   \n",
              "4                   8098.0               2.0          112.0               1.0   \n",
              "7                  11634.0               0.0            NaN               0.0   \n",
              "...                    ...               ...            ...               ...   \n",
              "23689              16081.0               1.0          353.0               2.0   \n",
              "23690               6263.0               1.0          300.0               0.0   \n",
              "23691               4489.0               0.0            NaN               1.0   \n",
              "23694               4232.0               1.0          796.0               3.0   \n",
              "23697              10364.0               2.0          173.0               3.0   \n",
              "\n",
              "       ponds_nearest  days_exposition  price_square_meter  week_posted  \\\n",
              "0              755.0              NaN       120370.370370            3   \n",
              "2              574.0            558.0        92785.714286            3   \n",
              "3              234.0            424.0       408176.100629            4   \n",
              "4               48.0            121.0       100000.000000            1   \n",
              "7                NaN              NaN       110544.692737            3   \n",
              "...              ...              ...                 ...          ...   \n",
              "23689          652.0             29.0       100566.572238            2   \n",
              "23690            NaN             15.0       105769.230769            3   \n",
              "23691          806.0            519.0       129903.978052            3   \n",
              "23694          381.0              NaN        72490.845228            1   \n",
              "23697          196.0            602.0       149511.400651            1   \n",
              "\n",
              "       month_posted  year_posted floors_type  center_km  day_posted  \n",
              "0                 3         2019      другое       16.0           7  \n",
              "2                 8         2015      другое       14.0          20  \n",
              "3                 7         2015      другое        7.0          24  \n",
              "4                 6         2018      другое        8.0          19  \n",
              "7                 4         2019      другое       12.0          18  \n",
              "...             ...          ...         ...        ...         ...  \n",
              "23689             2         2018      другое       16.0          28  \n",
              "23690             7         2018      другое        6.0          19  \n",
              "23691            10         2016      другое        4.0          13  \n",
              "23694             3         2017      другое        4.0          21  \n",
              "23697             3         2017      другое       10.0          28  \n",
              "\n",
              "[15710 rows x 29 columns]"
            ]
          },
          "execution_count": 83,
          "metadata": {},
          "output_type": "execute_result"
        }
      ],
      "source": [
        "spb"
      ]
    },
    {
      "cell_type": "code",
      "execution_count": null,
      "metadata": {
        "id": "QU4Py01Du7C6"
      },
      "outputs": [],
      "source": [
        "spb_km_pivot = spb.pivot_table(index='center_km',values='last_price')"
      ]
    },
    {
      "cell_type": "code",
      "execution_count": null,
      "metadata": {
        "scrolled": true,
        "id": "E6tJ5kCPu7C6",
        "outputId": "0033498a-db08-4f69-d337-93cf942e1b7c"
      },
      "outputs": [
        {
          "data": {
            "image/png": "[encoded data removed]",
            "text/plain": [
              "<Figure size 432x288 with 1 Axes>"
            ]
          },
          "metadata": {
            "needs_background": "light"
          },
          "output_type": "display_data"
        }
      ],
      "source": [
        "spb_km_pivot.plot(grid=True);"
      ]
    },
    {
      "cell_type": "markdown",
      "metadata": {
        "id": "Hs_zgGg8u7C6"
      },
      "source": [
        "График показывает,что чем ближе квартира находится к центру города,тем цена на неё дороже\n",
        "Есть предположение,что цена на отметке от 3 до 6 км за счёт того,что всё таки центр не сильно далеко,но там более спокойно и появляются больше районов,в которых дома находятся ближе к мед.учереждениям,школам,дедским садам,что повышает цену. И цена возрастает на отметке от 26 до 28 скорей всего из-за того,что аэропорт находится в достаточной близости и где всё ещё не шумно."
      ]
    },
    {
      "cell_type": "markdown",
      "metadata": {
        "id": "SgrGToKqu7C6"
      },
      "source": [
        "### Общий вывод"
      ]
    },
    {
      "cell_type": "markdown",
      "metadata": {
        "id": "9klbgmWVu7C6"
      },
      "source": []
    },
    {
      "cell_type": "markdown",
      "metadata": {
        "id": "wsXjAdxdu7C6"
      },
      "source": [
        "Иследование показало:\n",
        "1)многие люди не заполнили данные о квартире корректно,что повлияло на некоторые метрики,например высота потолков, квадратуры кухни и этажность-эти факторы влияют на ценообразование.\n",
        "2)Большинство квартир продаётся в СПБ\n",
        "3)Цена на квартиру завист квадратура квартиры,от этажа, как близко к центру квартира находится и кол-во комнат.\n",
        "4)Цена никак не зависит от дня и месяца публикации объявления,да есть пики в те дни\\месяца когда кол-во объявлений возрастает,но это скорее некая загруженность людей в остальные дни\\месяцы\n",
        "5)Цена за 1кв.м. значительно выше в СПБ по сравнению с другими регионами(цена составляет 114833 за кв.м),самая дешёвая цена за 1кв.м. в топ 10 по кол-ву объявлений городов - это Выборг(цена составляет 58142 за кв.м)\n",
        "6)Медианное значение продажи квартиры составляет 95 дней\n",
        "\n"
      ]
    }
  ],
  "metadata": {
    "ExecuteTimeLog": [
      {
        "duration": 406,
        "start_time": "2022-12-08T18:09:30.557Z"
      },
      {
        "duration": 77,
        "start_time": "2022-12-08T18:10:47.246Z"
      },
      {
        "duration": 174,
        "start_time": "2022-12-08T18:11:07.509Z"
      },
      {
        "duration": 147,
        "start_time": "2022-12-08T18:11:48.121Z"
      },
      {
        "duration": 202,
        "start_time": "2022-12-08T18:12:53.955Z"
      },
      {
        "duration": 34,
        "start_time": "2022-12-08T18:13:43.400Z"
      },
      {
        "duration": 21,
        "start_time": "2022-12-08T18:13:52.415Z"
      },
      {
        "duration": 17,
        "start_time": "2022-12-08T18:14:43.987Z"
      },
      {
        "duration": 2538,
        "start_time": "2022-12-08T18:22:35.551Z"
      },
      {
        "duration": 25,
        "start_time": "2022-12-08T18:25:50.953Z"
      },
      {
        "duration": 69,
        "start_time": "2022-12-08T18:28:17.300Z"
      },
      {
        "duration": 72,
        "start_time": "2022-12-08T18:30:32.049Z"
      },
      {
        "duration": 4,
        "start_time": "2022-12-08T18:30:53.563Z"
      },
      {
        "duration": 7,
        "start_time": "2022-12-08T18:31:08.396Z"
      },
      {
        "duration": 11,
        "start_time": "2022-12-08T18:31:11.494Z"
      },
      {
        "duration": 27,
        "start_time": "2022-12-08T18:44:19.381Z"
      },
      {
        "duration": 104,
        "start_time": "2022-12-08T18:45:16.864Z"
      },
      {
        "duration": 115,
        "start_time": "2022-12-08T18:45:24.290Z"
      },
      {
        "duration": 74,
        "start_time": "2022-12-08T18:54:49.309Z"
      },
      {
        "duration": 5,
        "start_time": "2022-12-08T18:55:04.392Z"
      },
      {
        "duration": 8,
        "start_time": "2022-12-08T19:01:37.137Z"
      },
      {
        "duration": 19,
        "start_time": "2022-12-08T19:01:53.804Z"
      },
      {
        "duration": 5,
        "start_time": "2022-12-08T19:13:07.430Z"
      },
      {
        "duration": 7,
        "start_time": "2022-12-08T19:13:59.557Z"
      },
      {
        "duration": 6,
        "start_time": "2022-12-08T19:14:03.690Z"
      },
      {
        "duration": 5,
        "start_time": "2022-12-08T19:14:08.329Z"
      },
      {
        "duration": 9,
        "start_time": "2022-12-08T19:20:41.347Z"
      },
      {
        "duration": 8,
        "start_time": "2022-12-08T19:23:39.687Z"
      },
      {
        "duration": 513,
        "start_time": "2022-12-08T19:32:43.391Z"
      },
      {
        "duration": 16,
        "start_time": "2022-12-08T19:32:43.906Z"
      },
      {
        "duration": 2147,
        "start_time": "2022-12-08T19:32:43.923Z"
      },
      {
        "duration": 78,
        "start_time": "2022-12-08T19:32:46.071Z"
      },
      {
        "duration": 5,
        "start_time": "2022-12-08T19:32:46.151Z"
      },
      {
        "duration": 79,
        "start_time": "2022-12-08T19:32:46.158Z"
      },
      {
        "duration": 0,
        "start_time": "2022-12-08T19:32:46.238Z"
      },
      {
        "duration": 0,
        "start_time": "2022-12-08T19:32:46.240Z"
      },
      {
        "duration": 0,
        "start_time": "2022-12-08T19:32:46.242Z"
      },
      {
        "duration": 0,
        "start_time": "2022-12-08T19:32:46.243Z"
      },
      {
        "duration": 0,
        "start_time": "2022-12-08T19:32:46.245Z"
      },
      {
        "duration": 568,
        "start_time": "2022-12-08T19:39:45.404Z"
      },
      {
        "duration": 598,
        "start_time": "2022-12-08T19:41:26.027Z"
      },
      {
        "duration": 8,
        "start_time": "2022-12-08T19:41:42.833Z"
      },
      {
        "duration": 12,
        "start_time": "2022-12-08T19:41:52.922Z"
      },
      {
        "duration": 28,
        "start_time": "2022-12-08T19:42:05.114Z"
      },
      {
        "duration": 10,
        "start_time": "2022-12-08T19:43:20.584Z"
      },
      {
        "duration": 24,
        "start_time": "2022-12-08T19:43:21.768Z"
      },
      {
        "duration": 58,
        "start_time": "2022-12-08T19:43:33.032Z"
      },
      {
        "duration": 7,
        "start_time": "2022-12-08T19:44:06.933Z"
      },
      {
        "duration": 10,
        "start_time": "2022-12-08T19:47:37.405Z"
      },
      {
        "duration": 24,
        "start_time": "2022-12-08T19:47:45.913Z"
      },
      {
        "duration": 12,
        "start_time": "2022-12-08T19:48:12.867Z"
      },
      {
        "duration": 22,
        "start_time": "2022-12-08T19:48:14.573Z"
      },
      {
        "duration": 2,
        "start_time": "2022-12-08T19:51:17.392Z"
      },
      {
        "duration": 22,
        "start_time": "2022-12-08T20:00:31.318Z"
      },
      {
        "duration": 75,
        "start_time": "2022-12-08T20:01:40.440Z"
      },
      {
        "duration": 552,
        "start_time": "2022-12-08T20:04:19.997Z"
      },
      {
        "duration": 24,
        "start_time": "2022-12-08T20:04:20.552Z"
      },
      {
        "duration": 2221,
        "start_time": "2022-12-08T20:04:20.581Z"
      },
      {
        "duration": 88,
        "start_time": "2022-12-08T20:04:22.804Z"
      },
      {
        "duration": 23,
        "start_time": "2022-12-08T20:04:22.898Z"
      },
      {
        "duration": 6,
        "start_time": "2022-12-08T20:04:22.923Z"
      },
      {
        "duration": 18,
        "start_time": "2022-12-08T20:04:22.930Z"
      },
      {
        "duration": 4,
        "start_time": "2022-12-08T20:04:22.949Z"
      },
      {
        "duration": 7,
        "start_time": "2022-12-08T20:04:22.954Z"
      },
      {
        "duration": 14,
        "start_time": "2022-12-08T20:04:22.977Z"
      },
      {
        "duration": 68,
        "start_time": "2022-12-08T20:06:55.793Z"
      },
      {
        "duration": 75,
        "start_time": "2022-12-08T20:18:31.163Z"
      },
      {
        "duration": 11,
        "start_time": "2022-12-08T20:18:40.378Z"
      },
      {
        "duration": 9,
        "start_time": "2022-12-08T20:19:13.190Z"
      },
      {
        "duration": 6,
        "start_time": "2022-12-08T20:19:22.278Z"
      },
      {
        "duration": 7,
        "start_time": "2022-12-08T20:19:59.228Z"
      },
      {
        "duration": 68,
        "start_time": "2022-12-08T20:20:22.421Z"
      },
      {
        "duration": 7,
        "start_time": "2022-12-08T20:20:26.524Z"
      },
      {
        "duration": 539,
        "start_time": "2022-12-08T20:20:41.346Z"
      },
      {
        "duration": 16,
        "start_time": "2022-12-08T20:20:41.887Z"
      },
      {
        "duration": 2040,
        "start_time": "2022-12-08T20:20:41.904Z"
      },
      {
        "duration": 87,
        "start_time": "2022-12-08T20:20:43.946Z"
      },
      {
        "duration": 27,
        "start_time": "2022-12-08T20:20:44.037Z"
      },
      {
        "duration": 9,
        "start_time": "2022-12-08T20:20:44.078Z"
      },
      {
        "duration": 18,
        "start_time": "2022-12-08T20:20:44.088Z"
      },
      {
        "duration": 13,
        "start_time": "2022-12-08T20:20:44.107Z"
      },
      {
        "duration": 12,
        "start_time": "2022-12-08T20:20:44.122Z"
      },
      {
        "duration": 13,
        "start_time": "2022-12-08T20:20:44.136Z"
      },
      {
        "duration": 12,
        "start_time": "2022-12-08T20:21:03.240Z"
      },
      {
        "duration": 10,
        "start_time": "2022-12-08T20:21:44.791Z"
      },
      {
        "duration": 15,
        "start_time": "2022-12-08T20:22:01.646Z"
      },
      {
        "duration": 27,
        "start_time": "2022-12-08T20:22:32.899Z"
      },
      {
        "duration": 10,
        "start_time": "2022-12-08T20:23:18.363Z"
      },
      {
        "duration": 15,
        "start_time": "2022-12-08T20:23:52.593Z"
      },
      {
        "duration": 33,
        "start_time": "2022-12-08T20:30:05.952Z"
      },
      {
        "duration": 13,
        "start_time": "2022-12-08T20:30:20.122Z"
      },
      {
        "duration": 501,
        "start_time": "2022-12-08T20:39:09.609Z"
      },
      {
        "duration": 15,
        "start_time": "2022-12-08T20:39:10.112Z"
      },
      {
        "duration": 2109,
        "start_time": "2022-12-08T20:39:10.128Z"
      },
      {
        "duration": 69,
        "start_time": "2022-12-08T20:39:12.239Z"
      },
      {
        "duration": 20,
        "start_time": "2022-12-08T20:39:12.311Z"
      },
      {
        "duration": 6,
        "start_time": "2022-12-08T20:39:12.333Z"
      },
      {
        "duration": 20,
        "start_time": "2022-12-08T20:39:12.341Z"
      },
      {
        "duration": 58,
        "start_time": "2022-12-08T20:39:12.363Z"
      },
      {
        "duration": 10,
        "start_time": "2022-12-08T20:39:12.423Z"
      },
      {
        "duration": 11,
        "start_time": "2022-12-08T20:39:12.434Z"
      },
      {
        "duration": 27,
        "start_time": "2022-12-08T20:39:12.447Z"
      },
      {
        "duration": 64,
        "start_time": "2022-12-08T20:41:43.739Z"
      },
      {
        "duration": 73,
        "start_time": "2022-12-08T20:41:56.444Z"
      },
      {
        "duration": 16,
        "start_time": "2022-12-08T20:42:17.674Z"
      },
      {
        "duration": 16,
        "start_time": "2022-12-08T20:43:57.022Z"
      },
      {
        "duration": 91,
        "start_time": "2022-12-08T20:47:34.534Z"
      },
      {
        "duration": 18,
        "start_time": "2022-12-08T20:47:52.240Z"
      },
      {
        "duration": 15,
        "start_time": "2022-12-08T20:48:17.639Z"
      },
      {
        "duration": 77,
        "start_time": "2022-12-08T20:49:44.046Z"
      },
      {
        "duration": 52,
        "start_time": "2022-12-10T17:18:18.360Z"
      },
      {
        "duration": 640,
        "start_time": "2022-12-10T17:18:32.029Z"
      },
      {
        "duration": 15,
        "start_time": "2022-12-10T17:18:32.671Z"
      },
      {
        "duration": 2449,
        "start_time": "2022-12-10T17:18:32.688Z"
      },
      {
        "duration": 98,
        "start_time": "2022-12-10T17:18:35.139Z"
      },
      {
        "duration": 21,
        "start_time": "2022-12-10T17:18:35.239Z"
      },
      {
        "duration": 6,
        "start_time": "2022-12-10T17:18:35.262Z"
      },
      {
        "duration": 14,
        "start_time": "2022-12-10T17:18:35.269Z"
      },
      {
        "duration": 68,
        "start_time": "2022-12-10T17:18:35.285Z"
      },
      {
        "duration": 11,
        "start_time": "2022-12-10T17:18:35.355Z"
      },
      {
        "duration": 6,
        "start_time": "2022-12-10T17:18:35.368Z"
      },
      {
        "duration": 38,
        "start_time": "2022-12-10T17:18:35.376Z"
      },
      {
        "duration": 18,
        "start_time": "2022-12-10T17:18:35.418Z"
      },
      {
        "duration": 4,
        "start_time": "2022-12-10T17:29:29.539Z"
      },
      {
        "duration": 17,
        "start_time": "2022-12-10T17:29:34.910Z"
      },
      {
        "duration": 8,
        "start_time": "2022-12-10T17:29:51.080Z"
      },
      {
        "duration": 64,
        "start_time": "2022-12-10T17:34:44.990Z"
      },
      {
        "duration": 110,
        "start_time": "2022-12-10T17:41:29.485Z"
      },
      {
        "duration": 14,
        "start_time": "2022-12-10T17:42:11.783Z"
      },
      {
        "duration": 37,
        "start_time": "2022-12-10T17:42:24.029Z"
      },
      {
        "duration": 85,
        "start_time": "2022-12-10T17:50:21.265Z"
      },
      {
        "duration": 70,
        "start_time": "2022-12-10T17:50:35.835Z"
      },
      {
        "duration": 15,
        "start_time": "2022-12-10T17:50:47.036Z"
      },
      {
        "duration": 17,
        "start_time": "2022-12-10T17:50:58.238Z"
      },
      {
        "duration": 12,
        "start_time": "2022-12-10T17:52:26.835Z"
      },
      {
        "duration": 52,
        "start_time": "2022-12-10T17:52:46.498Z"
      },
      {
        "duration": 6,
        "start_time": "2022-12-10T17:53:50.999Z"
      },
      {
        "duration": 49,
        "start_time": "2022-12-10T17:54:05.798Z"
      },
      {
        "duration": 109,
        "start_time": "2022-12-10T18:04:57.266Z"
      },
      {
        "duration": 73,
        "start_time": "2022-12-10T18:05:05.438Z"
      },
      {
        "duration": 94,
        "start_time": "2022-12-10T18:05:11.289Z"
      },
      {
        "duration": 16,
        "start_time": "2022-12-10T18:05:21.780Z"
      },
      {
        "duration": 16,
        "start_time": "2022-12-10T18:05:47.450Z"
      },
      {
        "duration": 7,
        "start_time": "2022-12-10T18:06:04.474Z"
      },
      {
        "duration": 16,
        "start_time": "2022-12-10T18:07:33.236Z"
      },
      {
        "duration": 6,
        "start_time": "2022-12-10T18:07:50.749Z"
      },
      {
        "duration": 17,
        "start_time": "2022-12-10T18:08:34.992Z"
      },
      {
        "duration": 27,
        "start_time": "2022-12-10T18:09:26.500Z"
      },
      {
        "duration": 7,
        "start_time": "2022-12-10T18:10:20.172Z"
      },
      {
        "duration": 76,
        "start_time": "2022-12-10T18:14:37.984Z"
      },
      {
        "duration": 91,
        "start_time": "2022-12-10T18:14:42.706Z"
      },
      {
        "duration": 6,
        "start_time": "2022-12-10T18:14:45.194Z"
      },
      {
        "duration": 15,
        "start_time": "2022-12-10T18:15:07.460Z"
      },
      {
        "duration": 6,
        "start_time": "2022-12-10T18:15:24.465Z"
      },
      {
        "duration": 47,
        "start_time": "2022-12-10T18:16:05.008Z"
      },
      {
        "duration": 44,
        "start_time": "2022-12-11T12:47:19.296Z"
      },
      {
        "duration": 635,
        "start_time": "2022-12-11T12:47:27.527Z"
      },
      {
        "duration": 17,
        "start_time": "2022-12-11T12:47:28.164Z"
      },
      {
        "duration": 2403,
        "start_time": "2022-12-11T12:47:28.183Z"
      },
      {
        "duration": 79,
        "start_time": "2022-12-11T12:47:30.589Z"
      },
      {
        "duration": 22,
        "start_time": "2022-12-11T12:47:30.670Z"
      },
      {
        "duration": 9,
        "start_time": "2022-12-11T12:47:30.694Z"
      },
      {
        "duration": 16,
        "start_time": "2022-12-11T12:47:30.705Z"
      },
      {
        "duration": 47,
        "start_time": "2022-12-11T12:47:30.737Z"
      },
      {
        "duration": 11,
        "start_time": "2022-12-11T12:47:30.786Z"
      },
      {
        "duration": 22,
        "start_time": "2022-12-11T12:47:30.799Z"
      },
      {
        "duration": 25,
        "start_time": "2022-12-11T12:47:30.823Z"
      },
      {
        "duration": 19,
        "start_time": "2022-12-11T12:47:30.849Z"
      },
      {
        "duration": 11,
        "start_time": "2022-12-11T12:47:30.870Z"
      },
      {
        "duration": 3,
        "start_time": "2022-12-11T13:19:58.394Z"
      },
      {
        "duration": 11,
        "start_time": "2022-12-11T13:20:19.778Z"
      },
      {
        "duration": 3,
        "start_time": "2022-12-11T13:22:30.103Z"
      },
      {
        "duration": 10,
        "start_time": "2022-12-11T13:22:31.145Z"
      },
      {
        "duration": 83,
        "start_time": "2022-12-11T13:22:39.065Z"
      },
      {
        "duration": 4,
        "start_time": "2022-12-11T13:22:54.628Z"
      },
      {
        "duration": 10,
        "start_time": "2022-12-11T13:22:55.191Z"
      },
      {
        "duration": 548,
        "start_time": "2022-12-11T13:47:33.370Z"
      },
      {
        "duration": 26,
        "start_time": "2022-12-11T13:47:33.920Z"
      },
      {
        "duration": 2334,
        "start_time": "2022-12-11T13:47:33.948Z"
      },
      {
        "duration": 80,
        "start_time": "2022-12-11T13:47:36.284Z"
      },
      {
        "duration": 22,
        "start_time": "2022-12-11T13:47:36.366Z"
      },
      {
        "duration": 21,
        "start_time": "2022-12-11T13:47:36.389Z"
      },
      {
        "duration": 25,
        "start_time": "2022-12-11T13:47:36.412Z"
      },
      {
        "duration": 31,
        "start_time": "2022-12-11T13:47:36.438Z"
      },
      {
        "duration": 9,
        "start_time": "2022-12-11T13:47:36.471Z"
      },
      {
        "duration": 8,
        "start_time": "2022-12-11T13:47:36.481Z"
      },
      {
        "duration": 12,
        "start_time": "2022-12-11T13:47:36.491Z"
      },
      {
        "duration": 7,
        "start_time": "2022-12-11T13:47:36.504Z"
      },
      {
        "duration": 10,
        "start_time": "2022-12-11T13:47:36.538Z"
      },
      {
        "duration": 5,
        "start_time": "2022-12-11T13:47:36.551Z"
      },
      {
        "duration": 9,
        "start_time": "2022-12-11T13:55:48.401Z"
      },
      {
        "duration": 6,
        "start_time": "2022-12-11T13:55:59.300Z"
      },
      {
        "duration": 16,
        "start_time": "2022-12-11T13:56:55.697Z"
      },
      {
        "duration": 7,
        "start_time": "2022-12-11T13:57:29.668Z"
      },
      {
        "duration": 10,
        "start_time": "2022-12-11T13:57:41.784Z"
      },
      {
        "duration": 4,
        "start_time": "2022-12-11T13:59:41.345Z"
      },
      {
        "duration": 11,
        "start_time": "2022-12-11T13:59:48.788Z"
      },
      {
        "duration": 549,
        "start_time": "2022-12-11T14:00:07.742Z"
      },
      {
        "duration": 16,
        "start_time": "2022-12-11T14:00:08.294Z"
      },
      {
        "duration": 2386,
        "start_time": "2022-12-11T14:00:08.312Z"
      },
      {
        "duration": 84,
        "start_time": "2022-12-11T14:00:10.701Z"
      },
      {
        "duration": 27,
        "start_time": "2022-12-11T14:00:10.786Z"
      },
      {
        "duration": 26,
        "start_time": "2022-12-11T14:00:10.815Z"
      },
      {
        "duration": 20,
        "start_time": "2022-12-11T14:00:10.843Z"
      },
      {
        "duration": 29,
        "start_time": "2022-12-11T14:00:10.865Z"
      },
      {
        "duration": 10,
        "start_time": "2022-12-11T14:00:10.895Z"
      },
      {
        "duration": 7,
        "start_time": "2022-12-11T14:00:10.907Z"
      },
      {
        "duration": 30,
        "start_time": "2022-12-11T14:00:10.916Z"
      },
      {
        "duration": 8,
        "start_time": "2022-12-11T14:00:10.947Z"
      },
      {
        "duration": 4,
        "start_time": "2022-12-11T14:00:10.958Z"
      },
      {
        "duration": 46,
        "start_time": "2022-12-11T14:00:10.964Z"
      },
      {
        "duration": 86,
        "start_time": "2022-12-11T14:00:30.985Z"
      },
      {
        "duration": 6,
        "start_time": "2022-12-11T14:00:55.019Z"
      },
      {
        "duration": 48,
        "start_time": "2022-12-11T14:06:48.206Z"
      },
      {
        "duration": 17,
        "start_time": "2022-12-11T14:07:00.291Z"
      },
      {
        "duration": 13,
        "start_time": "2022-12-11T14:07:12.601Z"
      },
      {
        "duration": 12,
        "start_time": "2022-12-11T14:07:19.291Z"
      },
      {
        "duration": 16,
        "start_time": "2022-12-11T14:07:25.191Z"
      },
      {
        "duration": 61,
        "start_time": "2022-12-11T14:07:28.834Z"
      },
      {
        "duration": 58,
        "start_time": "2022-12-11T14:09:12.054Z"
      },
      {
        "duration": 6,
        "start_time": "2022-12-11T14:09:21.166Z"
      },
      {
        "duration": 28,
        "start_time": "2022-12-11T14:09:39.648Z"
      },
      {
        "duration": 16,
        "start_time": "2022-12-11T14:09:58.172Z"
      },
      {
        "duration": 10,
        "start_time": "2022-12-11T14:11:39.681Z"
      },
      {
        "duration": 51,
        "start_time": "2022-12-11T14:11:47.064Z"
      },
      {
        "duration": 13,
        "start_time": "2022-12-11T14:12:13.669Z"
      },
      {
        "duration": 67,
        "start_time": "2022-12-11T14:12:23.889Z"
      },
      {
        "duration": 6,
        "start_time": "2022-12-11T14:12:28.199Z"
      },
      {
        "duration": 126,
        "start_time": "2022-12-11T14:13:59.243Z"
      },
      {
        "duration": 8,
        "start_time": "2022-12-11T14:14:18.882Z"
      },
      {
        "duration": 7,
        "start_time": "2022-12-11T14:14:21.858Z"
      },
      {
        "duration": 534,
        "start_time": "2022-12-11T14:14:30.653Z"
      },
      {
        "duration": 18,
        "start_time": "2022-12-11T14:14:31.189Z"
      },
      {
        "duration": 2317,
        "start_time": "2022-12-11T14:14:31.209Z"
      },
      {
        "duration": 83,
        "start_time": "2022-12-11T14:14:33.529Z"
      },
      {
        "duration": 31,
        "start_time": "2022-12-11T14:14:33.614Z"
      },
      {
        "duration": 6,
        "start_time": "2022-12-11T14:14:33.647Z"
      },
      {
        "duration": 12,
        "start_time": "2022-12-11T14:14:33.655Z"
      },
      {
        "duration": 30,
        "start_time": "2022-12-11T14:14:33.669Z"
      },
      {
        "duration": 9,
        "start_time": "2022-12-11T14:14:33.700Z"
      },
      {
        "duration": 32,
        "start_time": "2022-12-11T14:14:33.711Z"
      },
      {
        "duration": 13,
        "start_time": "2022-12-11T14:14:33.745Z"
      },
      {
        "duration": 6,
        "start_time": "2022-12-11T14:14:33.760Z"
      },
      {
        "duration": 161,
        "start_time": "2022-12-11T14:14:33.768Z"
      },
      {
        "duration": 8,
        "start_time": "2022-12-11T14:14:33.931Z"
      },
      {
        "duration": 104,
        "start_time": "2022-12-11T14:14:43.806Z"
      },
      {
        "duration": 581,
        "start_time": "2022-12-11T16:46:51.094Z"
      },
      {
        "duration": 16,
        "start_time": "2022-12-11T16:46:51.677Z"
      },
      {
        "duration": 2285,
        "start_time": "2022-12-11T16:46:51.695Z"
      },
      {
        "duration": 98,
        "start_time": "2022-12-11T16:46:53.983Z"
      },
      {
        "duration": 27,
        "start_time": "2022-12-11T16:46:54.083Z"
      },
      {
        "duration": 25,
        "start_time": "2022-12-11T16:46:54.113Z"
      },
      {
        "duration": 53,
        "start_time": "2022-12-11T16:46:54.140Z"
      },
      {
        "duration": 47,
        "start_time": "2022-12-11T16:46:54.195Z"
      },
      {
        "duration": 19,
        "start_time": "2022-12-11T16:46:54.244Z"
      },
      {
        "duration": 14,
        "start_time": "2022-12-11T16:46:54.266Z"
      },
      {
        "duration": 52,
        "start_time": "2022-12-11T16:46:54.282Z"
      },
      {
        "duration": 32,
        "start_time": "2022-12-11T16:46:54.336Z"
      },
      {
        "duration": 22,
        "start_time": "2022-12-11T16:46:54.370Z"
      },
      {
        "duration": 6,
        "start_time": "2022-12-11T16:47:01.048Z"
      },
      {
        "duration": 24,
        "start_time": "2022-12-11T16:47:09.113Z"
      },
      {
        "duration": 68,
        "start_time": "2022-12-11T16:47:17.852Z"
      },
      {
        "duration": 10,
        "start_time": "2022-12-11T16:47:26.250Z"
      },
      {
        "duration": 10,
        "start_time": "2022-12-11T17:14:15.853Z"
      },
      {
        "duration": 6,
        "start_time": "2022-12-11T17:14:19.358Z"
      },
      {
        "duration": 70,
        "start_time": "2022-12-11T17:16:27.499Z"
      },
      {
        "duration": 22,
        "start_time": "2022-12-11T17:16:31.915Z"
      },
      {
        "duration": 11,
        "start_time": "2022-12-11T17:23:09.587Z"
      },
      {
        "duration": 6,
        "start_time": "2022-12-11T17:23:10.607Z"
      },
      {
        "duration": 22,
        "start_time": "2022-12-11T17:23:37.768Z"
      },
      {
        "duration": 5,
        "start_time": "2022-12-11T17:28:13.273Z"
      },
      {
        "duration": 5,
        "start_time": "2022-12-11T17:28:56.678Z"
      },
      {
        "duration": 5,
        "start_time": "2022-12-11T17:29:18.405Z"
      },
      {
        "duration": 13,
        "start_time": "2022-12-11T17:30:34.947Z"
      },
      {
        "duration": 15,
        "start_time": "2022-12-11T17:32:04.866Z"
      },
      {
        "duration": 27,
        "start_time": "2022-12-11T17:32:12.038Z"
      },
      {
        "duration": 21,
        "start_time": "2022-12-11T17:33:13.223Z"
      },
      {
        "duration": 25,
        "start_time": "2022-12-11T17:34:13.923Z"
      },
      {
        "duration": 69,
        "start_time": "2022-12-11T17:36:24.870Z"
      },
      {
        "duration": 6,
        "start_time": "2022-12-11T17:36:30.056Z"
      },
      {
        "duration": 542,
        "start_time": "2022-12-11T17:36:52.853Z"
      },
      {
        "duration": 15,
        "start_time": "2022-12-11T17:36:53.396Z"
      },
      {
        "duration": 15,
        "start_time": "2022-12-11T17:36:53.413Z"
      },
      {
        "duration": 2215,
        "start_time": "2022-12-11T17:36:53.429Z"
      },
      {
        "duration": 87,
        "start_time": "2022-12-11T17:36:55.647Z"
      },
      {
        "duration": 23,
        "start_time": "2022-12-11T17:36:55.736Z"
      },
      {
        "duration": 17,
        "start_time": "2022-12-11T17:36:55.762Z"
      },
      {
        "duration": 13,
        "start_time": "2022-12-11T17:36:55.781Z"
      },
      {
        "duration": 29,
        "start_time": "2022-12-11T17:36:55.795Z"
      },
      {
        "duration": 8,
        "start_time": "2022-12-11T17:36:55.826Z"
      },
      {
        "duration": 7,
        "start_time": "2022-12-11T17:36:55.836Z"
      },
      {
        "duration": 35,
        "start_time": "2022-12-11T17:36:55.845Z"
      },
      {
        "duration": 6,
        "start_time": "2022-12-11T17:36:55.882Z"
      },
      {
        "duration": 12,
        "start_time": "2022-12-11T17:36:55.890Z"
      },
      {
        "duration": 16,
        "start_time": "2022-12-11T17:37:30.951Z"
      },
      {
        "duration": 21,
        "start_time": "2022-12-11T17:47:40.561Z"
      },
      {
        "duration": 4,
        "start_time": "2022-12-11T17:54:30.051Z"
      },
      {
        "duration": 47,
        "start_time": "2022-12-11T17:54:44.946Z"
      },
      {
        "duration": 1165,
        "start_time": "2022-12-11T20:01:21.042Z"
      },
      {
        "duration": 12,
        "start_time": "2022-12-11T20:01:48.355Z"
      },
      {
        "duration": 9,
        "start_time": "2022-12-11T20:01:58.702Z"
      },
      {
        "duration": 17,
        "start_time": "2022-12-11T20:03:19.424Z"
      },
      {
        "duration": 49,
        "start_time": "2022-12-11T20:03:26.079Z"
      },
      {
        "duration": 12,
        "start_time": "2022-12-11T20:04:39.006Z"
      },
      {
        "duration": 49,
        "start_time": "2022-12-11T20:04:39.571Z"
      },
      {
        "duration": 11,
        "start_time": "2022-12-11T20:14:51.283Z"
      },
      {
        "duration": 6,
        "start_time": "2022-12-11T20:14:56.355Z"
      },
      {
        "duration": 41,
        "start_time": "2022-12-11T20:14:59.175Z"
      },
      {
        "duration": 75,
        "start_time": "2022-12-11T20:21:52.264Z"
      },
      {
        "duration": 10,
        "start_time": "2022-12-11T20:21:57.291Z"
      },
      {
        "duration": 46,
        "start_time": "2022-12-11T20:22:02.714Z"
      },
      {
        "duration": 5,
        "start_time": "2022-12-11T20:24:50.352Z"
      },
      {
        "duration": 49,
        "start_time": "2022-12-11T20:24:55.885Z"
      },
      {
        "duration": 534,
        "start_time": "2022-12-11T20:27:38.869Z"
      },
      {
        "duration": 13,
        "start_time": "2022-12-11T20:27:39.405Z"
      },
      {
        "duration": 3,
        "start_time": "2022-12-11T20:27:39.420Z"
      },
      {
        "duration": 2327,
        "start_time": "2022-12-11T20:27:39.425Z"
      },
      {
        "duration": 83,
        "start_time": "2022-12-11T20:27:41.754Z"
      },
      {
        "duration": 21,
        "start_time": "2022-12-11T20:27:41.838Z"
      },
      {
        "duration": 19,
        "start_time": "2022-12-11T20:27:41.861Z"
      },
      {
        "duration": 21,
        "start_time": "2022-12-11T20:27:41.882Z"
      },
      {
        "duration": 38,
        "start_time": "2022-12-11T20:27:41.905Z"
      },
      {
        "duration": 9,
        "start_time": "2022-12-11T20:27:41.946Z"
      },
      {
        "duration": 21,
        "start_time": "2022-12-11T20:27:41.957Z"
      },
      {
        "duration": 11,
        "start_time": "2022-12-11T20:27:41.979Z"
      },
      {
        "duration": 13,
        "start_time": "2022-12-11T20:27:41.992Z"
      },
      {
        "duration": 15,
        "start_time": "2022-12-11T20:27:42.007Z"
      },
      {
        "duration": 4,
        "start_time": "2022-12-11T20:27:42.024Z"
      },
      {
        "duration": 12,
        "start_time": "2022-12-11T20:27:42.029Z"
      },
      {
        "duration": 36,
        "start_time": "2022-12-11T20:27:42.043Z"
      },
      {
        "duration": 12,
        "start_time": "2022-12-11T20:27:42.082Z"
      },
      {
        "duration": 50,
        "start_time": "2022-12-11T20:27:42.097Z"
      },
      {
        "duration": 11,
        "start_time": "2022-12-11T20:29:16.798Z"
      },
      {
        "duration": 24,
        "start_time": "2022-12-11T20:29:43.849Z"
      },
      {
        "duration": 5,
        "start_time": "2022-12-11T20:46:58.939Z"
      },
      {
        "duration": 3,
        "start_time": "2022-12-11T20:47:31.633Z"
      },
      {
        "duration": 4,
        "start_time": "2022-12-11T20:47:37.509Z"
      },
      {
        "duration": 23,
        "start_time": "2022-12-11T20:47:59.643Z"
      },
      {
        "duration": 1190,
        "start_time": "2022-12-11T21:47:37.068Z"
      },
      {
        "duration": 1293,
        "start_time": "2022-12-11T21:47:57.076Z"
      },
      {
        "duration": 8,
        "start_time": "2022-12-11T22:10:35.110Z"
      },
      {
        "duration": 8,
        "start_time": "2022-12-11T22:11:43.460Z"
      },
      {
        "duration": 71,
        "start_time": "2022-12-11T22:32:36.658Z"
      },
      {
        "duration": 76,
        "start_time": "2022-12-11T22:37:21.018Z"
      },
      {
        "duration": 8,
        "start_time": "2022-12-11T22:37:38.417Z"
      },
      {
        "duration": 7,
        "start_time": "2022-12-11T22:38:22.139Z"
      },
      {
        "duration": 8,
        "start_time": "2022-12-11T22:39:19.474Z"
      },
      {
        "duration": 5,
        "start_time": "2022-12-11T22:42:21.461Z"
      },
      {
        "duration": 8,
        "start_time": "2022-12-11T22:43:16.185Z"
      },
      {
        "duration": 6,
        "start_time": "2022-12-11T22:43:36.545Z"
      },
      {
        "duration": 7,
        "start_time": "2022-12-11T22:46:24.814Z"
      },
      {
        "duration": 7,
        "start_time": "2022-12-11T22:46:45.851Z"
      },
      {
        "duration": 102,
        "start_time": "2022-12-11T22:46:55.135Z"
      },
      {
        "duration": 95,
        "start_time": "2022-12-11T22:47:20.753Z"
      },
      {
        "duration": 91,
        "start_time": "2022-12-11T22:48:41.288Z"
      },
      {
        "duration": 66,
        "start_time": "2022-12-11T22:53:48.014Z"
      },
      {
        "duration": 73,
        "start_time": "2022-12-11T22:53:53.010Z"
      },
      {
        "duration": 2,
        "start_time": "2022-12-11T22:56:09.822Z"
      },
      {
        "duration": 9,
        "start_time": "2022-12-11T22:57:35.973Z"
      },
      {
        "duration": 313,
        "start_time": "2022-12-11T22:57:48.395Z"
      },
      {
        "duration": 18,
        "start_time": "2022-12-11T22:59:08.513Z"
      },
      {
        "duration": 1105,
        "start_time": "2022-12-11T23:06:47.066Z"
      },
      {
        "duration": 10,
        "start_time": "2022-12-11T23:08:09.391Z"
      },
      {
        "duration": 805,
        "start_time": "2022-12-13T13:49:05.664Z"
      },
      {
        "duration": 14,
        "start_time": "2022-12-13T13:49:06.471Z"
      },
      {
        "duration": 4,
        "start_time": "2022-12-13T13:49:06.486Z"
      },
      {
        "duration": 2498,
        "start_time": "2022-12-13T13:49:06.496Z"
      },
      {
        "duration": 79,
        "start_time": "2022-12-13T13:49:08.995Z"
      },
      {
        "duration": 30,
        "start_time": "2022-12-13T13:49:09.076Z"
      },
      {
        "duration": 6,
        "start_time": "2022-12-13T13:49:09.108Z"
      },
      {
        "duration": 11,
        "start_time": "2022-12-13T13:49:09.115Z"
      },
      {
        "duration": 28,
        "start_time": "2022-12-13T13:49:09.128Z"
      },
      {
        "duration": 8,
        "start_time": "2022-12-13T13:49:09.159Z"
      },
      {
        "duration": 6,
        "start_time": "2022-12-13T13:49:09.197Z"
      },
      {
        "duration": 16,
        "start_time": "2022-12-13T13:49:09.205Z"
      },
      {
        "duration": 7,
        "start_time": "2022-12-13T13:49:09.223Z"
      },
      {
        "duration": 13,
        "start_time": "2022-12-13T13:49:09.232Z"
      },
      {
        "duration": 4,
        "start_time": "2022-12-13T13:49:09.247Z"
      },
      {
        "duration": 8,
        "start_time": "2022-12-13T13:49:09.253Z"
      },
      {
        "duration": 13,
        "start_time": "2022-12-13T13:49:09.296Z"
      },
      {
        "duration": 9,
        "start_time": "2022-12-13T13:49:09.311Z"
      },
      {
        "duration": 26,
        "start_time": "2022-12-13T13:49:09.322Z"
      },
      {
        "duration": 24,
        "start_time": "2022-12-13T13:59:22.061Z"
      },
      {
        "duration": 4,
        "start_time": "2022-12-13T14:01:35.823Z"
      },
      {
        "duration": 49,
        "start_time": "2022-12-13T14:01:40.137Z"
      },
      {
        "duration": 73,
        "start_time": "2022-12-13T14:02:04.600Z"
      },
      {
        "duration": 48,
        "start_time": "2022-12-13T14:02:05.015Z"
      },
      {
        "duration": 25,
        "start_time": "2022-12-13T14:02:39.014Z"
      },
      {
        "duration": 47,
        "start_time": "2022-12-13T14:02:40.127Z"
      },
      {
        "duration": 7,
        "start_time": "2022-12-13T14:03:04.947Z"
      },
      {
        "duration": 147,
        "start_time": "2022-12-13T14:03:24.819Z"
      },
      {
        "duration": 6,
        "start_time": "2022-12-13T14:03:25.863Z"
      },
      {
        "duration": 8,
        "start_time": "2022-12-13T20:55:04.442Z"
      },
      {
        "duration": 923,
        "start_time": "2022-12-13T20:55:12.135Z"
      },
      {
        "duration": 23,
        "start_time": "2022-12-13T20:55:13.061Z"
      },
      {
        "duration": 4,
        "start_time": "2022-12-13T20:55:13.086Z"
      },
      {
        "duration": 2895,
        "start_time": "2022-12-13T20:55:13.092Z"
      },
      {
        "duration": 112,
        "start_time": "2022-12-13T20:55:15.990Z"
      },
      {
        "duration": 22,
        "start_time": "2022-12-13T20:55:16.104Z"
      },
      {
        "duration": 7,
        "start_time": "2022-12-13T20:55:16.128Z"
      },
      {
        "duration": 43,
        "start_time": "2022-12-13T20:55:16.136Z"
      },
      {
        "duration": 30,
        "start_time": "2022-12-13T20:55:16.182Z"
      },
      {
        "duration": 11,
        "start_time": "2022-12-13T20:55:16.214Z"
      },
      {
        "duration": 5,
        "start_time": "2022-12-13T20:55:16.227Z"
      },
      {
        "duration": 21,
        "start_time": "2022-12-13T20:55:16.258Z"
      },
      {
        "duration": 7,
        "start_time": "2022-12-13T20:55:16.282Z"
      },
      {
        "duration": 14,
        "start_time": "2022-12-13T20:55:16.292Z"
      },
      {
        "duration": 4,
        "start_time": "2022-12-13T20:55:16.307Z"
      },
      {
        "duration": 47,
        "start_time": "2022-12-13T20:55:16.313Z"
      },
      {
        "duration": 19,
        "start_time": "2022-12-13T20:55:16.363Z"
      },
      {
        "duration": 9,
        "start_time": "2022-12-13T20:55:16.385Z"
      },
      {
        "duration": 29,
        "start_time": "2022-12-13T20:55:16.396Z"
      },
      {
        "duration": 793,
        "start_time": "2022-12-13T20:55:16.427Z"
      },
      {
        "duration": 0,
        "start_time": "2022-12-13T20:55:17.221Z"
      },
      {
        "duration": 11,
        "start_time": "2022-12-13T21:06:02.568Z"
      },
      {
        "duration": 9,
        "start_time": "2022-12-13T21:06:22.519Z"
      },
      {
        "duration": 3,
        "start_time": "2022-12-13T21:09:39.894Z"
      },
      {
        "duration": 379,
        "start_time": "2022-12-13T21:09:40.903Z"
      },
      {
        "duration": 66,
        "start_time": "2022-12-13T21:09:53.640Z"
      },
      {
        "duration": 61,
        "start_time": "2022-12-13T21:10:42.467Z"
      },
      {
        "duration": 55,
        "start_time": "2022-12-13T21:10:57.685Z"
      },
      {
        "duration": 45,
        "start_time": "2022-12-13T21:11:02.367Z"
      },
      {
        "duration": 72,
        "start_time": "2022-12-13T21:11:09.414Z"
      },
      {
        "duration": 70,
        "start_time": "2022-12-13T21:11:33.109Z"
      },
      {
        "duration": 4,
        "start_time": "2022-12-13T21:14:24.313Z"
      },
      {
        "duration": 207,
        "start_time": "2022-12-13T21:14:25.889Z"
      },
      {
        "duration": 3,
        "start_time": "2022-12-13T21:14:53.229Z"
      },
      {
        "duration": 421,
        "start_time": "2022-12-13T21:14:55.598Z"
      },
      {
        "duration": 60,
        "start_time": "2022-12-13T21:15:05.805Z"
      },
      {
        "duration": 47,
        "start_time": "2022-12-13T21:15:50.349Z"
      },
      {
        "duration": 5,
        "start_time": "2022-12-13T21:20:03.374Z"
      },
      {
        "duration": 26,
        "start_time": "2022-12-13T21:20:12.327Z"
      },
      {
        "duration": 4,
        "start_time": "2022-12-13T21:20:31.401Z"
      },
      {
        "duration": 33,
        "start_time": "2022-12-13T21:20:32.160Z"
      },
      {
        "duration": 10,
        "start_time": "2022-12-13T21:28:07.324Z"
      },
      {
        "duration": 6,
        "start_time": "2022-12-13T21:29:16.941Z"
      },
      {
        "duration": 10,
        "start_time": "2022-12-13T21:29:46.093Z"
      },
      {
        "duration": 9,
        "start_time": "2022-12-13T21:30:01.698Z"
      },
      {
        "duration": 9,
        "start_time": "2022-12-13T21:30:32.224Z"
      },
      {
        "duration": 11,
        "start_time": "2022-12-13T21:31:16.087Z"
      },
      {
        "duration": 9,
        "start_time": "2022-12-13T21:31:53.841Z"
      },
      {
        "duration": 5,
        "start_time": "2022-12-13T21:33:18.163Z"
      },
      {
        "duration": 43,
        "start_time": "2022-12-13T21:33:33.360Z"
      },
      {
        "duration": 599,
        "start_time": "2022-12-13T21:36:08.053Z"
      },
      {
        "duration": 28,
        "start_time": "2022-12-13T21:36:08.656Z"
      },
      {
        "duration": 5,
        "start_time": "2022-12-13T21:36:08.686Z"
      },
      {
        "duration": 2641,
        "start_time": "2022-12-13T21:36:08.692Z"
      },
      {
        "duration": 80,
        "start_time": "2022-12-13T21:36:11.335Z"
      },
      {
        "duration": 21,
        "start_time": "2022-12-13T21:36:11.417Z"
      },
      {
        "duration": 16,
        "start_time": "2022-12-13T21:36:11.440Z"
      },
      {
        "duration": 29,
        "start_time": "2022-12-13T21:36:11.458Z"
      },
      {
        "duration": 50,
        "start_time": "2022-12-13T21:36:11.488Z"
      },
      {
        "duration": 9,
        "start_time": "2022-12-13T21:36:11.539Z"
      },
      {
        "duration": 33,
        "start_time": "2022-12-13T21:36:11.549Z"
      },
      {
        "duration": 27,
        "start_time": "2022-12-13T21:36:11.584Z"
      },
      {
        "duration": 14,
        "start_time": "2022-12-13T21:36:11.613Z"
      },
      {
        "duration": 16,
        "start_time": "2022-12-13T21:36:11.630Z"
      },
      {
        "duration": 11,
        "start_time": "2022-12-13T21:36:11.647Z"
      },
      {
        "duration": 14,
        "start_time": "2022-12-13T21:36:11.661Z"
      },
      {
        "duration": 12,
        "start_time": "2022-12-13T21:36:11.677Z"
      },
      {
        "duration": 7,
        "start_time": "2022-12-13T21:36:11.691Z"
      },
      {
        "duration": 28,
        "start_time": "2022-12-13T21:36:11.699Z"
      },
      {
        "duration": 3,
        "start_time": "2022-12-13T21:36:11.729Z"
      },
      {
        "duration": 428,
        "start_time": "2022-12-13T21:36:11.757Z"
      },
      {
        "duration": 36,
        "start_time": "2022-12-13T21:36:12.187Z"
      },
      {
        "duration": 4,
        "start_time": "2022-12-13T21:36:12.225Z"
      },
      {
        "duration": 58,
        "start_time": "2022-12-13T21:36:12.230Z"
      },
      {
        "duration": 4,
        "start_time": "2022-12-13T21:36:12.290Z"
      },
      {
        "duration": 123,
        "start_time": "2022-12-13T21:41:40.141Z"
      },
      {
        "duration": 129,
        "start_time": "2022-12-13T21:41:56.440Z"
      },
      {
        "duration": 326,
        "start_time": "2022-12-13T21:41:59.964Z"
      },
      {
        "duration": 129,
        "start_time": "2022-12-13T21:42:18.055Z"
      },
      {
        "duration": 1493,
        "start_time": "2022-12-13T21:42:28.772Z"
      },
      {
        "duration": 507,
        "start_time": "2022-12-13T21:43:56.416Z"
      },
      {
        "duration": 4427,
        "start_time": "2022-12-13T21:44:05.994Z"
      },
      {
        "duration": 505,
        "start_time": "2022-12-13T21:44:18.094Z"
      },
      {
        "duration": 241,
        "start_time": "2022-12-13T21:45:34.969Z"
      },
      {
        "duration": 42,
        "start_time": "2022-12-13T21:46:06.831Z"
      },
      {
        "duration": 812,
        "start_time": "2022-12-13T21:46:10.439Z"
      },
      {
        "duration": 254,
        "start_time": "2022-12-13T21:46:31.037Z"
      },
      {
        "duration": 297,
        "start_time": "2022-12-13T22:03:23.640Z"
      },
      {
        "duration": 245,
        "start_time": "2022-12-13T22:03:36.693Z"
      },
      {
        "duration": 136,
        "start_time": "2022-12-13T22:03:48.872Z"
      },
      {
        "duration": 252,
        "start_time": "2022-12-13T22:03:56.955Z"
      },
      {
        "duration": 250,
        "start_time": "2022-12-13T22:04:11.274Z"
      },
      {
        "duration": 260,
        "start_time": "2022-12-13T22:07:43.254Z"
      },
      {
        "duration": 307,
        "start_time": "2022-12-13T22:07:54.489Z"
      },
      {
        "duration": 264,
        "start_time": "2022-12-13T22:08:02.673Z"
      },
      {
        "duration": 256,
        "start_time": "2022-12-13T22:08:48.292Z"
      },
      {
        "duration": 552,
        "start_time": "2022-12-13T22:09:15.430Z"
      },
      {
        "duration": 253,
        "start_time": "2022-12-13T22:09:24.811Z"
      },
      {
        "duration": 271,
        "start_time": "2022-12-13T22:09:35.661Z"
      },
      {
        "duration": 1505,
        "start_time": "2022-12-13T22:09:43.414Z"
      },
      {
        "duration": 277,
        "start_time": "2022-12-13T22:10:28.864Z"
      },
      {
        "duration": 631,
        "start_time": "2022-12-13T22:10:51.588Z"
      },
      {
        "duration": 248,
        "start_time": "2022-12-13T22:11:22.536Z"
      },
      {
        "duration": 49,
        "start_time": "2022-12-13T22:12:44.691Z"
      },
      {
        "duration": 256,
        "start_time": "2022-12-13T22:12:54.936Z"
      },
      {
        "duration": 246,
        "start_time": "2022-12-13T22:13:03.129Z"
      },
      {
        "duration": 265,
        "start_time": "2022-12-13T22:13:22.798Z"
      },
      {
        "duration": 239,
        "start_time": "2022-12-13T22:13:29.580Z"
      },
      {
        "duration": 246,
        "start_time": "2022-12-13T22:13:45.760Z"
      },
      {
        "duration": 42,
        "start_time": "2022-12-13T22:15:11.417Z"
      },
      {
        "duration": 283,
        "start_time": "2022-12-13T22:17:39.641Z"
      },
      {
        "duration": 1516,
        "start_time": "2022-12-13T22:18:01.524Z"
      },
      {
        "duration": 152,
        "start_time": "2022-12-13T22:18:45.751Z"
      },
      {
        "duration": 642,
        "start_time": "2022-12-13T22:19:14.206Z"
      },
      {
        "duration": 280,
        "start_time": "2022-12-13T22:19:25.439Z"
      },
      {
        "duration": 1453,
        "start_time": "2022-12-13T22:19:41.359Z"
      },
      {
        "duration": 272,
        "start_time": "2022-12-13T22:20:01.336Z"
      },
      {
        "duration": 263,
        "start_time": "2022-12-13T22:20:07.387Z"
      },
      {
        "duration": 318,
        "start_time": "2022-12-13T22:20:23.639Z"
      },
      {
        "duration": 280,
        "start_time": "2022-12-13T22:20:31.802Z"
      },
      {
        "duration": 284,
        "start_time": "2022-12-13T22:20:54.815Z"
      },
      {
        "duration": 1322,
        "start_time": "2022-12-13T22:21:12.990Z"
      },
      {
        "duration": 923,
        "start_time": "2022-12-13T22:22:03.954Z"
      },
      {
        "duration": 864,
        "start_time": "2022-12-13T22:22:13.362Z"
      },
      {
        "duration": 9,
        "start_time": "2022-12-13T22:22:59.570Z"
      },
      {
        "duration": 11,
        "start_time": "2022-12-13T22:24:37.291Z"
      },
      {
        "duration": 281,
        "start_time": "2022-12-13T22:31:33.755Z"
      },
      {
        "duration": 49,
        "start_time": "2022-12-13T22:31:51.223Z"
      },
      {
        "duration": 260,
        "start_time": "2022-12-13T22:31:56.244Z"
      },
      {
        "duration": 271,
        "start_time": "2022-12-13T22:32:13.969Z"
      },
      {
        "duration": 7,
        "start_time": "2022-12-13T22:32:43.449Z"
      },
      {
        "duration": 250,
        "start_time": "2022-12-13T22:35:39.129Z"
      },
      {
        "duration": 258,
        "start_time": "2022-12-13T22:35:56.130Z"
      },
      {
        "duration": 156,
        "start_time": "2022-12-13T22:36:09.081Z"
      },
      {
        "duration": 1407,
        "start_time": "2022-12-13T22:36:17.859Z"
      },
      {
        "duration": 868,
        "start_time": "2022-12-13T22:36:28.737Z"
      },
      {
        "duration": 250,
        "start_time": "2022-12-13T22:36:45.304Z"
      },
      {
        "duration": 249,
        "start_time": "2022-12-13T22:37:46.270Z"
      },
      {
        "duration": 260,
        "start_time": "2022-12-13T22:37:57.956Z"
      },
      {
        "duration": 263,
        "start_time": "2022-12-13T22:38:06.966Z"
      },
      {
        "duration": 5,
        "start_time": "2022-12-13T22:38:56.081Z"
      },
      {
        "duration": 156,
        "start_time": "2022-12-13T22:39:07.970Z"
      },
      {
        "duration": 202,
        "start_time": "2022-12-13T22:39:16.878Z"
      },
      {
        "duration": 219,
        "start_time": "2022-12-13T22:39:27.710Z"
      },
      {
        "duration": 140,
        "start_time": "2022-12-13T22:39:42.913Z"
      },
      {
        "duration": 193,
        "start_time": "2022-12-13T22:39:49.451Z"
      },
      {
        "duration": 237,
        "start_time": "2022-12-13T22:39:57.057Z"
      },
      {
        "duration": 204,
        "start_time": "2022-12-13T22:40:04.854Z"
      },
      {
        "duration": 141,
        "start_time": "2022-12-13T22:40:09.015Z"
      },
      {
        "duration": 177,
        "start_time": "2022-12-13T22:40:13.510Z"
      },
      {
        "duration": 170,
        "start_time": "2022-12-13T22:40:25.313Z"
      },
      {
        "duration": 164,
        "start_time": "2022-12-13T22:40:38.377Z"
      },
      {
        "duration": 285,
        "start_time": "2022-12-13T22:40:45.224Z"
      },
      {
        "duration": 131,
        "start_time": "2022-12-13T22:41:35.946Z"
      },
      {
        "duration": 235,
        "start_time": "2022-12-13T22:41:50.872Z"
      },
      {
        "duration": 139,
        "start_time": "2022-12-13T22:42:01.456Z"
      },
      {
        "duration": 131,
        "start_time": "2022-12-13T22:42:18.425Z"
      },
      {
        "duration": 127,
        "start_time": "2022-12-13T22:42:27.967Z"
      },
      {
        "duration": 103,
        "start_time": "2022-12-13T22:42:37.575Z"
      },
      {
        "duration": 127,
        "start_time": "2022-12-13T22:42:42.440Z"
      },
      {
        "duration": 120,
        "start_time": "2022-12-13T22:42:48.439Z"
      },
      {
        "duration": 131,
        "start_time": "2022-12-13T22:42:52.983Z"
      },
      {
        "duration": 165,
        "start_time": "2022-12-13T22:43:30.453Z"
      },
      {
        "duration": 166,
        "start_time": "2022-12-13T22:43:52.267Z"
      },
      {
        "duration": 259,
        "start_time": "2022-12-13T22:44:13.958Z"
      },
      {
        "duration": 197,
        "start_time": "2022-12-13T22:44:20.995Z"
      },
      {
        "duration": 135,
        "start_time": "2022-12-13T22:45:02.369Z"
      },
      {
        "duration": 242,
        "start_time": "2022-12-13T22:45:27.073Z"
      },
      {
        "duration": 285,
        "start_time": "2022-12-13T22:45:33.582Z"
      },
      {
        "duration": 247,
        "start_time": "2022-12-13T22:45:39.576Z"
      },
      {
        "duration": 181,
        "start_time": "2022-12-13T22:45:48.312Z"
      },
      {
        "duration": 131,
        "start_time": "2022-12-13T22:46:35.659Z"
      },
      {
        "duration": 167,
        "start_time": "2022-12-13T22:47:03.297Z"
      },
      {
        "duration": 200,
        "start_time": "2022-12-13T22:47:15.566Z"
      },
      {
        "duration": 186,
        "start_time": "2022-12-13T22:47:29.517Z"
      },
      {
        "duration": 244,
        "start_time": "2022-12-13T22:47:35.914Z"
      },
      {
        "duration": 143,
        "start_time": "2022-12-13T22:47:42.437Z"
      },
      {
        "duration": 168,
        "start_time": "2022-12-13T22:47:50.158Z"
      },
      {
        "duration": 430,
        "start_time": "2022-12-13T22:47:56.867Z"
      },
      {
        "duration": 162,
        "start_time": "2022-12-13T22:48:02.568Z"
      },
      {
        "duration": 188,
        "start_time": "2022-12-13T22:49:38.315Z"
      },
      {
        "duration": 185,
        "start_time": "2022-12-13T22:49:48.711Z"
      },
      {
        "duration": 940,
        "start_time": "2022-12-13T22:49:53.878Z"
      },
      {
        "duration": 156,
        "start_time": "2022-12-13T22:50:38.919Z"
      },
      {
        "duration": 45,
        "start_time": "2022-12-13T22:51:05.650Z"
      },
      {
        "duration": 197,
        "start_time": "2022-12-13T22:51:09.415Z"
      },
      {
        "duration": 229,
        "start_time": "2022-12-13T22:51:16.449Z"
      },
      {
        "duration": 203,
        "start_time": "2022-12-13T22:51:25.111Z"
      },
      {
        "duration": 249,
        "start_time": "2022-12-13T22:51:35.475Z"
      },
      {
        "duration": 273,
        "start_time": "2022-12-13T23:06:58.654Z"
      },
      {
        "duration": 217,
        "start_time": "2022-12-13T23:07:14.406Z"
      },
      {
        "duration": 157,
        "start_time": "2022-12-13T23:07:24.292Z"
      },
      {
        "duration": 139,
        "start_time": "2022-12-13T23:07:29.847Z"
      },
      {
        "duration": 6,
        "start_time": "2022-12-13T23:11:39.604Z"
      },
      {
        "duration": 14,
        "start_time": "2022-12-13T23:12:28.301Z"
      },
      {
        "duration": 8,
        "start_time": "2022-12-13T23:14:17.562Z"
      },
      {
        "duration": 237,
        "start_time": "2022-12-13T23:14:58.501Z"
      },
      {
        "duration": 242,
        "start_time": "2022-12-13T23:16:16.591Z"
      },
      {
        "duration": 190,
        "start_time": "2022-12-13T23:16:21.762Z"
      },
      {
        "duration": 203,
        "start_time": "2022-12-13T23:16:25.377Z"
      },
      {
        "duration": 278,
        "start_time": "2022-12-13T23:17:51.454Z"
      },
      {
        "duration": 293,
        "start_time": "2022-12-13T23:38:44.725Z"
      },
      {
        "duration": 270,
        "start_time": "2022-12-13T23:39:07.931Z"
      },
      {
        "duration": 287,
        "start_time": "2022-12-13T23:40:36.894Z"
      },
      {
        "duration": 310,
        "start_time": "2022-12-13T23:40:44.191Z"
      },
      {
        "duration": 159,
        "start_time": "2022-12-13T23:40:49.227Z"
      },
      {
        "duration": 205,
        "start_time": "2022-12-13T23:40:57.262Z"
      },
      {
        "duration": 212,
        "start_time": "2022-12-13T23:41:04.367Z"
      },
      {
        "duration": 187,
        "start_time": "2022-12-13T23:41:14.594Z"
      },
      {
        "duration": 180,
        "start_time": "2022-12-13T23:41:25.415Z"
      },
      {
        "duration": 191,
        "start_time": "2022-12-13T23:41:30.147Z"
      },
      {
        "duration": 179,
        "start_time": "2022-12-13T23:41:36.389Z"
      },
      {
        "duration": 175,
        "start_time": "2022-12-13T23:41:42.671Z"
      },
      {
        "duration": 186,
        "start_time": "2022-12-13T23:41:46.385Z"
      },
      {
        "duration": 187,
        "start_time": "2022-12-13T23:41:51.644Z"
      },
      {
        "duration": 25,
        "start_time": "2022-12-13T23:45:02.442Z"
      },
      {
        "duration": 150,
        "start_time": "2022-12-13T23:46:52.780Z"
      },
      {
        "duration": 189,
        "start_time": "2022-12-13T23:47:32.087Z"
      },
      {
        "duration": 212,
        "start_time": "2022-12-13T23:49:13.582Z"
      },
      {
        "duration": 57,
        "start_time": "2022-12-13T23:57:09.227Z"
      },
      {
        "duration": 36,
        "start_time": "2022-12-13T23:57:24.239Z"
      },
      {
        "duration": 58,
        "start_time": "2022-12-13T23:57:48.882Z"
      },
      {
        "duration": 5,
        "start_time": "2022-12-13T23:57:52.300Z"
      },
      {
        "duration": 6,
        "start_time": "2022-12-13T23:58:10.027Z"
      },
      {
        "duration": 6,
        "start_time": "2022-12-13T23:58:49.859Z"
      },
      {
        "duration": 5,
        "start_time": "2022-12-13T23:58:50.347Z"
      },
      {
        "duration": 9,
        "start_time": "2022-12-14T00:00:36.506Z"
      },
      {
        "duration": 6,
        "start_time": "2022-12-14T00:00:41.300Z"
      },
      {
        "duration": 4,
        "start_time": "2022-12-14T00:00:42.054Z"
      },
      {
        "duration": 53,
        "start_time": "2022-12-14T00:09:40.165Z"
      },
      {
        "duration": 7,
        "start_time": "2022-12-14T00:09:46.574Z"
      },
      {
        "duration": 230,
        "start_time": "2022-12-14T00:10:28.298Z"
      },
      {
        "duration": 46,
        "start_time": "2022-12-14T00:11:17.763Z"
      },
      {
        "duration": 177,
        "start_time": "2022-12-14T00:11:21.876Z"
      },
      {
        "duration": 160,
        "start_time": "2022-12-14T00:11:45.715Z"
      },
      {
        "duration": 167,
        "start_time": "2022-12-14T00:11:51.872Z"
      },
      {
        "duration": 196,
        "start_time": "2022-12-14T00:12:38.381Z"
      },
      {
        "duration": 286,
        "start_time": "2022-12-14T00:16:43.606Z"
      },
      {
        "duration": 307,
        "start_time": "2022-12-14T00:16:53.911Z"
      },
      {
        "duration": 103,
        "start_time": "2022-12-14T00:17:10.799Z"
      },
      {
        "duration": 109,
        "start_time": "2022-12-14T00:17:15.831Z"
      },
      {
        "duration": 113,
        "start_time": "2022-12-14T00:17:19.542Z"
      },
      {
        "duration": 306,
        "start_time": "2022-12-14T00:17:23.115Z"
      },
      {
        "duration": 248,
        "start_time": "2022-12-14T00:17:35.292Z"
      },
      {
        "duration": 113,
        "start_time": "2022-12-14T00:17:58.708Z"
      },
      {
        "duration": 470,
        "start_time": "2022-12-14T00:18:02.243Z"
      },
      {
        "duration": 184,
        "start_time": "2022-12-14T00:18:09.459Z"
      },
      {
        "duration": 262,
        "start_time": "2022-12-14T00:18:19.842Z"
      },
      {
        "duration": 323,
        "start_time": "2022-12-14T00:18:30.372Z"
      },
      {
        "duration": 155,
        "start_time": "2022-12-14T00:18:35.901Z"
      },
      {
        "duration": 242,
        "start_time": "2022-12-14T00:18:42.396Z"
      },
      {
        "duration": 239,
        "start_time": "2022-12-14T00:19:27.052Z"
      },
      {
        "duration": 232,
        "start_time": "2022-12-14T00:19:40.090Z"
      },
      {
        "duration": 227,
        "start_time": "2022-12-14T00:19:45.344Z"
      },
      {
        "duration": 255,
        "start_time": "2022-12-14T00:19:51.988Z"
      },
      {
        "duration": 267,
        "start_time": "2022-12-14T00:20:01.327Z"
      },
      {
        "duration": 255,
        "start_time": "2022-12-14T00:21:44.753Z"
      },
      {
        "duration": 252,
        "start_time": "2022-12-14T00:21:55.278Z"
      },
      {
        "duration": 211,
        "start_time": "2022-12-14T00:22:08.381Z"
      },
      {
        "duration": 177,
        "start_time": "2022-12-14T00:22:31.878Z"
      },
      {
        "duration": 182,
        "start_time": "2022-12-14T00:22:44.215Z"
      },
      {
        "duration": 179,
        "start_time": "2022-12-14T00:23:03.319Z"
      },
      {
        "duration": 189,
        "start_time": "2022-12-14T00:23:09.486Z"
      },
      {
        "duration": 227,
        "start_time": "2022-12-14T00:23:17.835Z"
      },
      {
        "duration": 237,
        "start_time": "2022-12-14T00:23:26.011Z"
      },
      {
        "duration": 269,
        "start_time": "2022-12-14T00:23:33.916Z"
      },
      {
        "duration": 240,
        "start_time": "2022-12-14T00:23:42.701Z"
      },
      {
        "duration": 6,
        "start_time": "2022-12-14T00:24:30.311Z"
      },
      {
        "duration": 203,
        "start_time": "2022-12-14T00:25:19.157Z"
      },
      {
        "duration": 197,
        "start_time": "2022-12-14T00:27:56.408Z"
      },
      {
        "duration": 195,
        "start_time": "2022-12-14T00:30:44.638Z"
      },
      {
        "duration": 967,
        "start_time": "2022-12-14T00:31:35.588Z"
      },
      {
        "duration": 560,
        "start_time": "2022-12-14T00:35:16.061Z"
      },
      {
        "duration": 18,
        "start_time": "2022-12-14T00:35:16.623Z"
      },
      {
        "duration": 15,
        "start_time": "2022-12-14T00:35:16.643Z"
      },
      {
        "duration": 2230,
        "start_time": "2022-12-14T00:35:16.660Z"
      },
      {
        "duration": 83,
        "start_time": "2022-12-14T00:35:18.893Z"
      },
      {
        "duration": 25,
        "start_time": "2022-12-14T00:35:18.978Z"
      },
      {
        "duration": 6,
        "start_time": "2022-12-14T00:35:19.005Z"
      },
      {
        "duration": 18,
        "start_time": "2022-12-14T00:35:19.013Z"
      },
      {
        "duration": 53,
        "start_time": "2022-12-14T00:35:19.033Z"
      },
      {
        "duration": 9,
        "start_time": "2022-12-14T00:35:19.089Z"
      },
      {
        "duration": 6,
        "start_time": "2022-12-14T00:35:19.100Z"
      },
      {
        "duration": 12,
        "start_time": "2022-12-14T00:35:19.108Z"
      },
      {
        "duration": 8,
        "start_time": "2022-12-14T00:35:19.121Z"
      },
      {
        "duration": 15,
        "start_time": "2022-12-14T00:35:19.155Z"
      },
      {
        "duration": 4,
        "start_time": "2022-12-14T00:35:19.172Z"
      },
      {
        "duration": 11,
        "start_time": "2022-12-14T00:35:19.178Z"
      },
      {
        "duration": 12,
        "start_time": "2022-12-14T00:35:19.190Z"
      },
      {
        "duration": 10,
        "start_time": "2022-12-14T00:35:19.204Z"
      },
      {
        "duration": 52,
        "start_time": "2022-12-14T00:35:19.216Z"
      },
      {
        "duration": 3,
        "start_time": "2022-12-14T00:35:19.270Z"
      },
      {
        "duration": 365,
        "start_time": "2022-12-14T00:35:19.275Z"
      },
      {
        "duration": 39,
        "start_time": "2022-12-14T00:35:19.642Z"
      },
      {
        "duration": 4,
        "start_time": "2022-12-14T00:35:19.683Z"
      },
      {
        "duration": 28,
        "start_time": "2022-12-14T00:35:19.689Z"
      },
      {
        "duration": 8,
        "start_time": "2022-12-14T00:35:19.719Z"
      },
      {
        "duration": 267,
        "start_time": "2022-12-14T00:35:19.729Z"
      },
      {
        "duration": 321,
        "start_time": "2022-12-14T00:35:19.998Z"
      },
      {
        "duration": 234,
        "start_time": "2022-12-14T00:35:20.323Z"
      },
      {
        "duration": 39,
        "start_time": "2022-12-14T00:35:20.558Z"
      },
      {
        "duration": 771,
        "start_time": "2022-12-14T00:35:20.599Z"
      },
      {
        "duration": 267,
        "start_time": "2022-12-14T00:35:21.371Z"
      },
      {
        "duration": 361,
        "start_time": "2022-12-14T00:35:21.640Z"
      },
      {
        "duration": 216,
        "start_time": "2022-12-14T00:35:22.003Z"
      },
      {
        "duration": 135,
        "start_time": "2022-12-14T00:35:22.220Z"
      },
      {
        "duration": 205,
        "start_time": "2022-12-14T00:35:22.356Z"
      },
      {
        "duration": 180,
        "start_time": "2022-12-14T00:35:22.563Z"
      },
      {
        "duration": 173,
        "start_time": "2022-12-14T00:35:22.745Z"
      },
      {
        "duration": 243,
        "start_time": "2022-12-14T00:35:22.920Z"
      },
      {
        "duration": 197,
        "start_time": "2022-12-14T00:35:23.165Z"
      },
      {
        "duration": 317,
        "start_time": "2022-12-14T00:35:23.364Z"
      },
      {
        "duration": 35,
        "start_time": "2022-12-14T00:35:23.684Z"
      },
      {
        "duration": 215,
        "start_time": "2022-12-14T00:35:23.721Z"
      },
      {
        "duration": 5,
        "start_time": "2022-12-14T00:35:23.938Z"
      },
      {
        "duration": 7,
        "start_time": "2022-12-14T00:35:23.955Z"
      },
      {
        "duration": 215,
        "start_time": "2022-12-14T00:35:23.963Z"
      },
      {
        "duration": 5,
        "start_time": "2022-12-14T00:35:24.180Z"
      },
      {
        "duration": 212,
        "start_time": "2022-12-14T00:36:21.619Z"
      },
      {
        "duration": 170,
        "start_time": "2022-12-14T00:36:50.301Z"
      },
      {
        "duration": 190,
        "start_time": "2022-12-14T00:37:43.528Z"
      },
      {
        "duration": 171,
        "start_time": "2022-12-14T00:37:48.052Z"
      },
      {
        "duration": 150,
        "start_time": "2022-12-14T00:42:27.892Z"
      },
      {
        "duration": 213,
        "start_time": "2022-12-14T00:42:44.509Z"
      },
      {
        "duration": 226,
        "start_time": "2022-12-14T00:43:05.699Z"
      },
      {
        "duration": 44,
        "start_time": "2022-12-14T00:43:23.408Z"
      },
      {
        "duration": 212,
        "start_time": "2022-12-14T00:43:27.816Z"
      },
      {
        "duration": 219,
        "start_time": "2022-12-14T00:43:40.713Z"
      },
      {
        "duration": 221,
        "start_time": "2022-12-14T00:43:55.764Z"
      },
      {
        "duration": 161,
        "start_time": "2022-12-14T00:44:41.848Z"
      },
      {
        "duration": 190,
        "start_time": "2022-12-14T00:47:21.873Z"
      },
      {
        "duration": 216,
        "start_time": "2022-12-14T00:47:35.532Z"
      },
      {
        "duration": 219,
        "start_time": "2022-12-14T00:47:43.536Z"
      },
      {
        "duration": 6,
        "start_time": "2022-12-14T00:48:04.696Z"
      },
      {
        "duration": 858,
        "start_time": "2022-12-14T06:40:34.503Z"
      },
      {
        "duration": 18,
        "start_time": "2022-12-14T06:40:35.363Z"
      },
      {
        "duration": 8,
        "start_time": "2022-12-14T06:40:35.383Z"
      },
      {
        "duration": 2616,
        "start_time": "2022-12-14T06:40:35.394Z"
      },
      {
        "duration": 84,
        "start_time": "2022-12-14T06:40:38.013Z"
      },
      {
        "duration": 24,
        "start_time": "2022-12-14T06:40:38.099Z"
      },
      {
        "duration": 6,
        "start_time": "2022-12-14T06:40:38.125Z"
      },
      {
        "duration": 29,
        "start_time": "2022-12-14T06:40:38.133Z"
      },
      {
        "duration": 32,
        "start_time": "2022-12-14T06:40:38.164Z"
      },
      {
        "duration": 10,
        "start_time": "2022-12-14T06:40:38.200Z"
      },
      {
        "duration": 9,
        "start_time": "2022-12-14T06:40:38.211Z"
      },
      {
        "duration": 41,
        "start_time": "2022-12-14T06:40:38.222Z"
      },
      {
        "duration": 13,
        "start_time": "2022-12-14T06:40:38.264Z"
      },
      {
        "duration": 17,
        "start_time": "2022-12-14T06:40:38.279Z"
      },
      {
        "duration": 5,
        "start_time": "2022-12-14T06:40:38.298Z"
      },
      {
        "duration": 11,
        "start_time": "2022-12-14T06:40:38.305Z"
      },
      {
        "duration": 16,
        "start_time": "2022-12-14T06:40:38.317Z"
      },
      {
        "duration": 26,
        "start_time": "2022-12-14T06:40:38.335Z"
      },
      {
        "duration": 35,
        "start_time": "2022-12-14T06:40:38.363Z"
      },
      {
        "duration": 4,
        "start_time": "2022-12-14T06:40:38.399Z"
      },
      {
        "duration": 386,
        "start_time": "2022-12-14T06:40:38.405Z"
      },
      {
        "duration": 49,
        "start_time": "2022-12-14T06:40:38.792Z"
      },
      {
        "duration": 15,
        "start_time": "2022-12-14T06:40:38.843Z"
      },
      {
        "duration": 36,
        "start_time": "2022-12-14T06:40:38.859Z"
      },
      {
        "duration": 12,
        "start_time": "2022-12-14T06:40:38.897Z"
      },
      {
        "duration": 290,
        "start_time": "2022-12-14T06:40:38.911Z"
      },
      {
        "duration": 345,
        "start_time": "2022-12-14T06:40:39.203Z"
      },
      {
        "duration": 244,
        "start_time": "2022-12-14T06:40:39.554Z"
      },
      {
        "duration": 40,
        "start_time": "2022-12-14T06:40:39.799Z"
      },
      {
        "duration": 820,
        "start_time": "2022-12-14T06:40:39.840Z"
      },
      {
        "duration": 406,
        "start_time": "2022-12-14T06:40:40.662Z"
      },
      {
        "duration": 273,
        "start_time": "2022-12-14T06:40:41.070Z"
      },
      {
        "duration": 239,
        "start_time": "2022-12-14T06:40:41.345Z"
      },
      {
        "duration": 152,
        "start_time": "2022-12-14T06:40:41.585Z"
      },
      {
        "duration": 224,
        "start_time": "2022-12-14T06:40:41.739Z"
      },
      {
        "duration": 198,
        "start_time": "2022-12-14T06:40:41.965Z"
      },
      {
        "duration": 178,
        "start_time": "2022-12-14T06:40:42.165Z"
      },
      {
        "duration": 268,
        "start_time": "2022-12-14T06:40:42.345Z"
      },
      {
        "duration": 365,
        "start_time": "2022-12-14T06:40:42.615Z"
      },
      {
        "duration": 202,
        "start_time": "2022-12-14T06:40:42.982Z"
      },
      {
        "duration": 26,
        "start_time": "2022-12-14T06:40:43.186Z"
      },
      {
        "duration": 224,
        "start_time": "2022-12-14T06:40:43.214Z"
      },
      {
        "duration": 15,
        "start_time": "2022-12-14T06:40:43.440Z"
      },
      {
        "duration": 6,
        "start_time": "2022-12-14T06:40:43.456Z"
      },
      {
        "duration": 204,
        "start_time": "2022-12-14T06:40:43.463Z"
      },
      {
        "duration": 6,
        "start_time": "2022-12-14T06:40:43.669Z"
      },
      {
        "duration": 234,
        "start_time": "2022-12-14T06:40:43.676Z"
      },
      {
        "duration": 6,
        "start_time": "2022-12-14T06:40:43.912Z"
      },
      {
        "duration": 451,
        "start_time": "2022-12-14T06:41:33.457Z"
      },
      {
        "duration": 953,
        "start_time": "2022-12-14T06:41:45.458Z"
      },
      {
        "duration": 275,
        "start_time": "2022-12-14T06:41:52.154Z"
      },
      {
        "duration": 374,
        "start_time": "2022-12-14T06:42:03.136Z"
      },
      {
        "duration": 603,
        "start_time": "2022-12-14T07:16:56.109Z"
      },
      {
        "duration": 25,
        "start_time": "2022-12-14T07:16:56.715Z"
      },
      {
        "duration": 6,
        "start_time": "2022-12-14T07:16:56.756Z"
      },
      {
        "duration": 2736,
        "start_time": "2022-12-14T07:16:56.764Z"
      },
      {
        "duration": 83,
        "start_time": "2022-12-14T07:16:59.503Z"
      },
      {
        "duration": 32,
        "start_time": "2022-12-14T07:16:59.588Z"
      },
      {
        "duration": 7,
        "start_time": "2022-12-14T07:16:59.622Z"
      },
      {
        "duration": 36,
        "start_time": "2022-12-14T07:16:59.631Z"
      },
      {
        "duration": 46,
        "start_time": "2022-12-14T07:16:59.669Z"
      },
      {
        "duration": 40,
        "start_time": "2022-12-14T07:16:59.718Z"
      },
      {
        "duration": 9,
        "start_time": "2022-12-14T07:16:59.760Z"
      },
      {
        "duration": 24,
        "start_time": "2022-12-14T07:16:59.771Z"
      },
      {
        "duration": 9,
        "start_time": "2022-12-14T07:16:59.797Z"
      },
      {
        "duration": 18,
        "start_time": "2022-12-14T07:16:59.811Z"
      },
      {
        "duration": 6,
        "start_time": "2022-12-14T07:16:59.856Z"
      },
      {
        "duration": 19,
        "start_time": "2022-12-14T07:16:59.864Z"
      },
      {
        "duration": 13,
        "start_time": "2022-12-14T07:16:59.885Z"
      },
      {
        "duration": 21,
        "start_time": "2022-12-14T07:16:59.900Z"
      },
      {
        "duration": 37,
        "start_time": "2022-12-14T07:16:59.923Z"
      },
      {
        "duration": 13,
        "start_time": "2022-12-14T07:16:59.962Z"
      },
      {
        "duration": 389,
        "start_time": "2022-12-14T07:16:59.979Z"
      },
      {
        "duration": 38,
        "start_time": "2022-12-14T07:17:00.370Z"
      },
      {
        "duration": 14,
        "start_time": "2022-12-14T07:17:00.410Z"
      },
      {
        "duration": 55,
        "start_time": "2022-12-14T07:17:00.427Z"
      },
      {
        "duration": 21,
        "start_time": "2022-12-14T07:17:00.485Z"
      },
      {
        "duration": 284,
        "start_time": "2022-12-14T07:17:00.508Z"
      },
      {
        "duration": 357,
        "start_time": "2022-12-14T07:17:00.794Z"
      },
      {
        "duration": 306,
        "start_time": "2022-12-14T07:17:01.156Z"
      },
      {
        "duration": 42,
        "start_time": "2022-12-14T07:17:01.464Z"
      },
      {
        "duration": 821,
        "start_time": "2022-12-14T07:17:01.507Z"
      },
      {
        "duration": 327,
        "start_time": "2022-12-14T07:17:02.330Z"
      },
      {
        "duration": 408,
        "start_time": "2022-12-14T07:17:02.659Z"
      },
      {
        "duration": 243,
        "start_time": "2022-12-14T07:17:03.069Z"
      },
      {
        "duration": 197,
        "start_time": "2022-12-14T07:17:03.314Z"
      },
      {
        "duration": 235,
        "start_time": "2022-12-14T07:17:03.513Z"
      },
      {
        "duration": 225,
        "start_time": "2022-12-14T07:17:03.756Z"
      },
      {
        "duration": 251,
        "start_time": "2022-12-14T07:17:03.983Z"
      },
      {
        "duration": 470,
        "start_time": "2022-12-14T07:17:04.237Z"
      },
      {
        "duration": 423,
        "start_time": "2022-12-14T07:17:04.710Z"
      },
      {
        "duration": 257,
        "start_time": "2022-12-14T07:17:05.135Z"
      },
      {
        "duration": 30,
        "start_time": "2022-12-14T07:17:05.397Z"
      },
      {
        "duration": 282,
        "start_time": "2022-12-14T07:17:05.429Z"
      },
      {
        "duration": 8,
        "start_time": "2022-12-14T07:17:05.713Z"
      },
      {
        "duration": 10,
        "start_time": "2022-12-14T07:17:05.723Z"
      },
      {
        "duration": 224,
        "start_time": "2022-12-14T07:17:05.735Z"
      },
      {
        "duration": 8,
        "start_time": "2022-12-14T07:17:05.962Z"
      },
      {
        "duration": 243,
        "start_time": "2022-12-14T07:17:05.972Z"
      },
      {
        "duration": 8,
        "start_time": "2022-12-14T07:17:06.219Z"
      },
      {
        "duration": 235,
        "start_time": "2022-12-14T07:17:06.229Z"
      },
      {
        "duration": 7,
        "start_time": "2022-12-14T07:17:34.371Z"
      },
      {
        "duration": 214,
        "start_time": "2022-12-14T07:20:42.305Z"
      },
      {
        "duration": 6,
        "start_time": "2022-12-14T07:21:22.540Z"
      },
      {
        "duration": 61,
        "start_time": "2022-12-14T07:23:52.850Z"
      },
      {
        "duration": 30,
        "start_time": "2022-12-14T07:40:27.127Z"
      },
      {
        "duration": 39,
        "start_time": "2022-12-14T07:46:13.876Z"
      },
      {
        "duration": 26,
        "start_time": "2022-12-14T13:07:55.094Z"
      },
      {
        "duration": 232,
        "start_time": "2022-12-14T13:08:07.006Z"
      },
      {
        "duration": 11,
        "start_time": "2022-12-14T13:15:54.720Z"
      },
      {
        "duration": 6,
        "start_time": "2022-12-14T13:16:12.729Z"
      },
      {
        "duration": 136,
        "start_time": "2022-12-14T13:38:55.228Z"
      },
      {
        "duration": 49,
        "start_time": "2022-12-14T13:43:55.576Z"
      },
      {
        "duration": 36,
        "start_time": "2022-12-14T13:44:02.550Z"
      },
      {
        "duration": 60,
        "start_time": "2022-12-14T14:01:33.064Z"
      },
      {
        "duration": 1167,
        "start_time": "2022-12-14T14:03:32.775Z"
      },
      {
        "duration": 215,
        "start_time": "2022-12-14T14:05:59.885Z"
      },
      {
        "duration": 7,
        "start_time": "2022-12-14T14:06:00.102Z"
      },
      {
        "duration": 63,
        "start_time": "2022-12-14T22:18:48.996Z"
      },
      {
        "duration": 1100,
        "start_time": "2022-12-14T22:19:02.161Z"
      },
      {
        "duration": 15,
        "start_time": "2022-12-14T22:19:03.263Z"
      },
      {
        "duration": 4,
        "start_time": "2022-12-14T22:19:03.279Z"
      },
      {
        "duration": 2298,
        "start_time": "2022-12-14T22:19:03.296Z"
      },
      {
        "duration": 73,
        "start_time": "2022-12-14T22:19:05.596Z"
      },
      {
        "duration": 32,
        "start_time": "2022-12-14T22:19:05.670Z"
      },
      {
        "duration": 6,
        "start_time": "2022-12-14T22:19:05.703Z"
      },
      {
        "duration": 13,
        "start_time": "2022-12-14T22:19:05.711Z"
      },
      {
        "duration": 27,
        "start_time": "2022-12-14T22:19:05.725Z"
      },
      {
        "duration": 8,
        "start_time": "2022-12-14T22:19:05.754Z"
      },
      {
        "duration": 34,
        "start_time": "2022-12-14T22:19:05.763Z"
      },
      {
        "duration": 10,
        "start_time": "2022-12-14T22:19:05.799Z"
      },
      {
        "duration": 8,
        "start_time": "2022-12-14T22:19:05.810Z"
      },
      {
        "duration": 17,
        "start_time": "2022-12-14T22:19:05.821Z"
      },
      {
        "duration": 5,
        "start_time": "2022-12-14T22:19:05.839Z"
      },
      {
        "duration": 15,
        "start_time": "2022-12-14T22:19:05.846Z"
      },
      {
        "duration": 37,
        "start_time": "2022-12-14T22:19:05.863Z"
      },
      {
        "duration": 7,
        "start_time": "2022-12-14T22:19:05.903Z"
      },
      {
        "duration": 42,
        "start_time": "2022-12-14T22:19:05.912Z"
      },
      {
        "duration": 3,
        "start_time": "2022-12-14T22:19:05.956Z"
      },
      {
        "duration": 434,
        "start_time": "2022-12-14T22:19:05.962Z"
      },
      {
        "duration": 30,
        "start_time": "2022-12-14T22:19:06.398Z"
      },
      {
        "duration": 5,
        "start_time": "2022-12-14T22:19:06.430Z"
      },
      {
        "duration": 25,
        "start_time": "2022-12-14T22:19:06.437Z"
      },
      {
        "duration": 4,
        "start_time": "2022-12-14T22:19:06.463Z"
      },
      {
        "duration": 253,
        "start_time": "2022-12-14T22:19:06.469Z"
      },
      {
        "duration": 322,
        "start_time": "2022-12-14T22:19:06.724Z"
      },
      {
        "duration": 233,
        "start_time": "2022-12-14T22:19:07.048Z"
      },
      {
        "duration": 46,
        "start_time": "2022-12-14T22:19:07.283Z"
      },
      {
        "duration": 743,
        "start_time": "2022-12-14T22:19:07.330Z"
      },
      {
        "duration": 349,
        "start_time": "2022-12-14T22:19:08.074Z"
      },
      {
        "duration": 251,
        "start_time": "2022-12-14T22:19:08.424Z"
      },
      {
        "duration": 250,
        "start_time": "2022-12-14T22:19:08.677Z"
      },
      {
        "duration": 133,
        "start_time": "2022-12-14T22:19:08.929Z"
      },
      {
        "duration": 192,
        "start_time": "2022-12-14T22:19:09.063Z"
      },
      {
        "duration": 180,
        "start_time": "2022-12-14T22:19:09.257Z"
      },
      {
        "duration": 163,
        "start_time": "2022-12-14T22:19:09.439Z"
      },
      {
        "duration": 311,
        "start_time": "2022-12-14T22:19:09.604Z"
      },
      {
        "duration": 312,
        "start_time": "2022-12-14T22:19:09.917Z"
      },
      {
        "duration": 195,
        "start_time": "2022-12-14T22:19:10.231Z"
      },
      {
        "duration": 26,
        "start_time": "2022-12-14T22:19:10.430Z"
      },
      {
        "duration": 229,
        "start_time": "2022-12-14T22:19:10.458Z"
      },
      {
        "duration": 10,
        "start_time": "2022-12-14T22:19:10.688Z"
      },
      {
        "duration": 4,
        "start_time": "2022-12-14T22:19:10.700Z"
      },
      {
        "duration": 326,
        "start_time": "2022-12-14T22:19:10.705Z"
      },
      {
        "duration": 6,
        "start_time": "2022-12-14T22:19:11.032Z"
      },
      {
        "duration": 222,
        "start_time": "2022-12-14T22:19:11.039Z"
      },
      {
        "duration": 6,
        "start_time": "2022-12-14T22:19:11.262Z"
      },
      {
        "duration": 180,
        "start_time": "2022-12-14T22:19:11.269Z"
      },
      {
        "duration": 6,
        "start_time": "2022-12-14T22:19:11.451Z"
      },
      {
        "duration": 186,
        "start_time": "2022-12-14T22:19:11.458Z"
      },
      {
        "duration": 6,
        "start_time": "2022-12-14T22:19:11.646Z"
      },
      {
        "duration": 1024,
        "start_time": "2022-12-14T22:19:11.654Z"
      },
      {
        "duration": 1081,
        "start_time": "2022-12-14T22:19:22.037Z"
      },
      {
        "duration": 525,
        "start_time": "2022-12-14T22:19:51.084Z"
      },
      {
        "duration": 13,
        "start_time": "2022-12-14T22:19:51.610Z"
      },
      {
        "duration": 24,
        "start_time": "2022-12-14T22:19:51.624Z"
      },
      {
        "duration": 2093,
        "start_time": "2022-12-14T22:19:51.650Z"
      },
      {
        "duration": 70,
        "start_time": "2022-12-14T22:19:53.745Z"
      },
      {
        "duration": 17,
        "start_time": "2022-12-14T22:19:53.816Z"
      },
      {
        "duration": 6,
        "start_time": "2022-12-14T22:19:53.834Z"
      },
      {
        "duration": 11,
        "start_time": "2022-12-14T22:19:53.841Z"
      },
      {
        "duration": 43,
        "start_time": "2022-12-14T22:19:53.853Z"
      },
      {
        "duration": 9,
        "start_time": "2022-12-14T22:19:53.898Z"
      },
      {
        "duration": 10,
        "start_time": "2022-12-14T22:19:53.909Z"
      },
      {
        "duration": 20,
        "start_time": "2022-12-14T22:19:53.920Z"
      },
      {
        "duration": 9,
        "start_time": "2022-12-14T22:19:53.942Z"
      },
      {
        "duration": 27,
        "start_time": "2022-12-14T22:19:53.955Z"
      },
      {
        "duration": 4,
        "start_time": "2022-12-14T22:19:53.984Z"
      },
      {
        "duration": 14,
        "start_time": "2022-12-14T22:19:53.990Z"
      },
      {
        "duration": 12,
        "start_time": "2022-12-14T22:19:54.005Z"
      },
      {
        "duration": 17,
        "start_time": "2022-12-14T22:19:54.018Z"
      },
      {
        "duration": 31,
        "start_time": "2022-12-14T22:19:54.036Z"
      },
      {
        "duration": 4,
        "start_time": "2022-12-14T22:19:54.068Z"
      },
      {
        "duration": 321,
        "start_time": "2022-12-14T22:19:54.073Z"
      },
      {
        "duration": 31,
        "start_time": "2022-12-14T22:19:54.396Z"
      },
      {
        "duration": 5,
        "start_time": "2022-12-14T22:19:54.428Z"
      },
      {
        "duration": 26,
        "start_time": "2022-12-14T22:19:54.434Z"
      },
      {
        "duration": 4,
        "start_time": "2022-12-14T22:19:54.461Z"
      },
      {
        "duration": 263,
        "start_time": "2022-12-14T22:19:54.466Z"
      },
      {
        "duration": 331,
        "start_time": "2022-12-14T22:19:54.731Z"
      },
      {
        "duration": 245,
        "start_time": "2022-12-14T22:19:55.064Z"
      },
      {
        "duration": 37,
        "start_time": "2022-12-14T22:19:55.311Z"
      },
      {
        "duration": 804,
        "start_time": "2022-12-14T22:19:55.349Z"
      },
      {
        "duration": 267,
        "start_time": "2022-12-14T22:19:56.155Z"
      },
      {
        "duration": 327,
        "start_time": "2022-12-14T22:19:56.423Z"
      },
      {
        "duration": 206,
        "start_time": "2022-12-14T22:19:56.751Z"
      },
      {
        "duration": 121,
        "start_time": "2022-12-14T22:19:56.959Z"
      },
      {
        "duration": 193,
        "start_time": "2022-12-14T22:19:57.081Z"
      },
      {
        "duration": 169,
        "start_time": "2022-12-14T22:19:57.276Z"
      },
      {
        "duration": 152,
        "start_time": "2022-12-14T22:19:57.447Z"
      },
      {
        "duration": 299,
        "start_time": "2022-12-14T22:19:57.601Z"
      },
      {
        "duration": 292,
        "start_time": "2022-12-14T22:19:57.902Z"
      },
      {
        "duration": 164,
        "start_time": "2022-12-14T22:19:58.195Z"
      },
      {
        "duration": 34,
        "start_time": "2022-12-14T22:19:58.363Z"
      },
      {
        "duration": 182,
        "start_time": "2022-12-14T22:19:58.399Z"
      },
      {
        "duration": 6,
        "start_time": "2022-12-14T22:19:58.582Z"
      },
      {
        "duration": 4,
        "start_time": "2022-12-14T22:19:58.597Z"
      },
      {
        "duration": 204,
        "start_time": "2022-12-14T22:19:58.602Z"
      },
      {
        "duration": 7,
        "start_time": "2022-12-14T22:19:58.807Z"
      },
      {
        "duration": 225,
        "start_time": "2022-12-14T22:19:58.815Z"
      },
      {
        "duration": 5,
        "start_time": "2022-12-14T22:19:59.041Z"
      },
      {
        "duration": 214,
        "start_time": "2022-12-14T22:19:59.048Z"
      },
      {
        "duration": 6,
        "start_time": "2022-12-14T22:19:59.264Z"
      },
      {
        "duration": 231,
        "start_time": "2022-12-14T22:19:59.272Z"
      },
      {
        "duration": 6,
        "start_time": "2022-12-14T22:19:59.505Z"
      },
      {
        "duration": 1062,
        "start_time": "2022-12-14T22:19:59.512Z"
      },
      {
        "duration": 17,
        "start_time": "2022-12-14T22:26:07.072Z"
      },
      {
        "duration": 159,
        "start_time": "2022-12-14T22:26:24.149Z"
      },
      {
        "duration": 530,
        "start_time": "2022-12-14T22:38:08.163Z"
      },
      {
        "duration": 21,
        "start_time": "2022-12-14T22:38:08.695Z"
      },
      {
        "duration": 5,
        "start_time": "2022-12-14T22:38:08.718Z"
      },
      {
        "duration": 2184,
        "start_time": "2022-12-14T22:38:08.725Z"
      },
      {
        "duration": 75,
        "start_time": "2022-12-14T22:38:10.911Z"
      },
      {
        "duration": 23,
        "start_time": "2022-12-14T22:38:10.987Z"
      },
      {
        "duration": 5,
        "start_time": "2022-12-14T22:38:11.012Z"
      },
      {
        "duration": 9,
        "start_time": "2022-12-14T22:38:11.018Z"
      },
      {
        "duration": 26,
        "start_time": "2022-12-14T22:38:11.029Z"
      },
      {
        "duration": 8,
        "start_time": "2022-12-14T22:38:11.058Z"
      },
      {
        "duration": 6,
        "start_time": "2022-12-14T22:38:11.097Z"
      },
      {
        "duration": 12,
        "start_time": "2022-12-14T22:38:11.105Z"
      },
      {
        "duration": 11,
        "start_time": "2022-12-14T22:38:11.118Z"
      },
      {
        "duration": 14,
        "start_time": "2022-12-14T22:38:11.130Z"
      },
      {
        "duration": 4,
        "start_time": "2022-12-14T22:38:11.145Z"
      },
      {
        "duration": 10,
        "start_time": "2022-12-14T22:38:11.151Z"
      },
      {
        "duration": 41,
        "start_time": "2022-12-14T22:38:11.163Z"
      },
      {
        "duration": 6,
        "start_time": "2022-12-14T22:38:11.205Z"
      },
      {
        "duration": 27,
        "start_time": "2022-12-14T22:38:11.212Z"
      },
      {
        "duration": 4,
        "start_time": "2022-12-14T22:38:11.241Z"
      },
      {
        "duration": 353,
        "start_time": "2022-12-14T22:38:11.246Z"
      },
      {
        "duration": 30,
        "start_time": "2022-12-14T22:38:11.601Z"
      },
      {
        "duration": 5,
        "start_time": "2022-12-14T22:38:11.633Z"
      },
      {
        "duration": 27,
        "start_time": "2022-12-14T22:38:11.640Z"
      },
      {
        "duration": 4,
        "start_time": "2022-12-14T22:38:11.669Z"
      },
      {
        "duration": 270,
        "start_time": "2022-12-14T22:38:11.674Z"
      },
      {
        "duration": 313,
        "start_time": "2022-12-14T22:38:11.946Z"
      },
      {
        "duration": 238,
        "start_time": "2022-12-14T22:38:12.264Z"
      },
      {
        "duration": 38,
        "start_time": "2022-12-14T22:38:12.504Z"
      },
      {
        "duration": 754,
        "start_time": "2022-12-14T22:38:12.544Z"
      },
      {
        "duration": 287,
        "start_time": "2022-12-14T22:38:13.300Z"
      },
      {
        "duration": 341,
        "start_time": "2022-12-14T22:38:13.588Z"
      },
      {
        "duration": 222,
        "start_time": "2022-12-14T22:38:13.930Z"
      },
      {
        "duration": 122,
        "start_time": "2022-12-14T22:38:14.154Z"
      },
      {
        "duration": 207,
        "start_time": "2022-12-14T22:38:14.278Z"
      },
      {
        "duration": 181,
        "start_time": "2022-12-14T22:38:14.487Z"
      },
      {
        "duration": 162,
        "start_time": "2022-12-14T22:38:14.670Z"
      },
      {
        "duration": 324,
        "start_time": "2022-12-14T22:38:14.834Z"
      },
      {
        "duration": 314,
        "start_time": "2022-12-14T22:38:15.159Z"
      },
      {
        "duration": 189,
        "start_time": "2022-12-14T22:38:15.475Z"
      },
      {
        "duration": 36,
        "start_time": "2022-12-14T22:38:15.666Z"
      },
      {
        "duration": 223,
        "start_time": "2022-12-14T22:38:15.704Z"
      },
      {
        "duration": 5,
        "start_time": "2022-12-14T22:38:15.929Z"
      },
      {
        "duration": 50,
        "start_time": "2022-12-14T22:38:15.936Z"
      },
      {
        "duration": 291,
        "start_time": "2022-12-14T22:38:15.988Z"
      },
      {
        "duration": 16,
        "start_time": "2022-12-14T22:38:16.281Z"
      },
      {
        "duration": 248,
        "start_time": "2022-12-14T22:38:16.299Z"
      },
      {
        "duration": 7,
        "start_time": "2022-12-14T22:38:16.549Z"
      },
      {
        "duration": 216,
        "start_time": "2022-12-14T22:38:16.557Z"
      },
      {
        "duration": 6,
        "start_time": "2022-12-14T22:38:16.775Z"
      },
      {
        "duration": 224,
        "start_time": "2022-12-14T22:38:16.783Z"
      },
      {
        "duration": 6,
        "start_time": "2022-12-14T22:38:17.009Z"
      },
      {
        "duration": 753,
        "start_time": "2022-12-14T22:42:08.398Z"
      },
      {
        "duration": 15,
        "start_time": "2022-12-14T22:42:09.153Z"
      },
      {
        "duration": 4,
        "start_time": "2022-12-14T22:42:09.170Z"
      },
      {
        "duration": 2049,
        "start_time": "2022-12-14T22:42:09.177Z"
      },
      {
        "duration": 75,
        "start_time": "2022-12-14T22:42:11.228Z"
      },
      {
        "duration": 21,
        "start_time": "2022-12-14T22:42:11.305Z"
      },
      {
        "duration": 7,
        "start_time": "2022-12-14T22:42:11.328Z"
      },
      {
        "duration": 14,
        "start_time": "2022-12-14T22:42:11.337Z"
      },
      {
        "duration": 55,
        "start_time": "2022-12-14T22:42:11.352Z"
      },
      {
        "duration": 8,
        "start_time": "2022-12-14T22:42:11.410Z"
      },
      {
        "duration": 6,
        "start_time": "2022-12-14T22:42:11.420Z"
      },
      {
        "duration": 13,
        "start_time": "2022-12-14T22:42:11.428Z"
      },
      {
        "duration": 6,
        "start_time": "2022-12-14T22:42:11.443Z"
      },
      {
        "duration": 47,
        "start_time": "2022-12-14T22:42:11.450Z"
      },
      {
        "duration": 4,
        "start_time": "2022-12-14T22:42:11.498Z"
      },
      {
        "duration": 9,
        "start_time": "2022-12-14T22:42:11.504Z"
      },
      {
        "duration": 10,
        "start_time": "2022-12-14T22:42:11.515Z"
      },
      {
        "duration": 9,
        "start_time": "2022-12-14T22:42:11.527Z"
      },
      {
        "duration": 59,
        "start_time": "2022-12-14T22:42:11.538Z"
      },
      {
        "duration": 3,
        "start_time": "2022-12-14T22:42:11.599Z"
      },
      {
        "duration": 341,
        "start_time": "2022-12-14T22:42:11.604Z"
      },
      {
        "duration": 31,
        "start_time": "2022-12-14T22:42:11.946Z"
      },
      {
        "duration": 19,
        "start_time": "2022-12-14T22:42:11.978Z"
      },
      {
        "duration": 27,
        "start_time": "2022-12-14T22:42:11.998Z"
      },
      {
        "duration": 4,
        "start_time": "2022-12-14T22:42:12.026Z"
      },
      {
        "duration": 251,
        "start_time": "2022-12-14T22:42:12.032Z"
      },
      {
        "duration": 310,
        "start_time": "2022-12-14T22:42:12.285Z"
      },
      {
        "duration": 231,
        "start_time": "2022-12-14T22:42:12.599Z"
      },
      {
        "duration": 37,
        "start_time": "2022-12-14T22:42:12.832Z"
      },
      {
        "duration": 752,
        "start_time": "2022-12-14T22:42:12.870Z"
      },
      {
        "duration": 264,
        "start_time": "2022-12-14T22:42:13.624Z"
      },
      {
        "duration": 361,
        "start_time": "2022-12-14T22:42:13.890Z"
      },
      {
        "duration": 238,
        "start_time": "2022-12-14T22:42:14.252Z"
      },
      {
        "duration": 174,
        "start_time": "2022-12-14T22:42:14.492Z"
      },
      {
        "duration": 209,
        "start_time": "2022-12-14T22:42:14.668Z"
      },
      {
        "duration": 189,
        "start_time": "2022-12-14T22:42:14.879Z"
      },
      {
        "duration": 192,
        "start_time": "2022-12-14T22:42:15.070Z"
      },
      {
        "duration": 308,
        "start_time": "2022-12-14T22:42:15.264Z"
      },
      {
        "duration": 308,
        "start_time": "2022-12-14T22:42:15.573Z"
      },
      {
        "duration": 231,
        "start_time": "2022-12-14T22:42:15.883Z"
      },
      {
        "duration": 32,
        "start_time": "2022-12-14T22:42:16.116Z"
      },
      {
        "duration": 238,
        "start_time": "2022-12-14T22:42:16.150Z"
      },
      {
        "duration": 8,
        "start_time": "2022-12-14T22:42:16.397Z"
      },
      {
        "duration": 5,
        "start_time": "2022-12-14T22:42:16.406Z"
      },
      {
        "duration": 219,
        "start_time": "2022-12-14T22:42:16.413Z"
      },
      {
        "duration": 7,
        "start_time": "2022-12-14T22:42:16.634Z"
      },
      {
        "duration": 249,
        "start_time": "2022-12-14T22:42:16.642Z"
      },
      {
        "duration": 7,
        "start_time": "2022-12-14T22:42:16.893Z"
      },
      {
        "duration": 269,
        "start_time": "2022-12-14T22:42:16.902Z"
      },
      {
        "duration": 7,
        "start_time": "2022-12-14T22:42:17.173Z"
      },
      {
        "duration": 308,
        "start_time": "2022-12-14T22:42:17.183Z"
      },
      {
        "duration": 6,
        "start_time": "2022-12-14T22:42:17.497Z"
      },
      {
        "duration": 767,
        "start_time": "2022-12-14T22:44:07.716Z"
      },
      {
        "duration": 24,
        "start_time": "2022-12-14T22:44:08.486Z"
      },
      {
        "duration": 6,
        "start_time": "2022-12-14T22:44:08.512Z"
      },
      {
        "duration": 2010,
        "start_time": "2022-12-14T22:44:08.520Z"
      },
      {
        "duration": 102,
        "start_time": "2022-12-14T22:44:10.533Z"
      },
      {
        "duration": 26,
        "start_time": "2022-12-14T22:44:10.637Z"
      },
      {
        "duration": 7,
        "start_time": "2022-12-14T22:44:10.665Z"
      },
      {
        "duration": 25,
        "start_time": "2022-12-14T22:44:10.674Z"
      },
      {
        "duration": 27,
        "start_time": "2022-12-14T22:44:10.701Z"
      },
      {
        "duration": 9,
        "start_time": "2022-12-14T22:44:10.729Z"
      },
      {
        "duration": 4,
        "start_time": "2022-12-14T22:44:10.740Z"
      },
      {
        "duration": 12,
        "start_time": "2022-12-14T22:44:10.746Z"
      },
      {
        "duration": 42,
        "start_time": "2022-12-14T22:44:10.760Z"
      },
      {
        "duration": 16,
        "start_time": "2022-12-14T22:44:10.805Z"
      },
      {
        "duration": 7,
        "start_time": "2022-12-14T22:44:10.823Z"
      },
      {
        "duration": 7,
        "start_time": "2022-12-14T22:44:10.832Z"
      },
      {
        "duration": 21,
        "start_time": "2022-12-14T22:44:10.840Z"
      },
      {
        "duration": 14,
        "start_time": "2022-12-14T22:44:10.863Z"
      },
      {
        "duration": 35,
        "start_time": "2022-12-14T22:44:10.879Z"
      },
      {
        "duration": 5,
        "start_time": "2022-12-14T22:44:10.916Z"
      },
      {
        "duration": 330,
        "start_time": "2022-12-14T22:44:10.922Z"
      },
      {
        "duration": 33,
        "start_time": "2022-12-14T22:44:11.254Z"
      },
      {
        "duration": 5,
        "start_time": "2022-12-14T22:44:11.297Z"
      },
      {
        "duration": 27,
        "start_time": "2022-12-14T22:44:11.303Z"
      },
      {
        "duration": 6,
        "start_time": "2022-12-14T22:44:11.332Z"
      },
      {
        "duration": 267,
        "start_time": "2022-12-14T22:44:11.340Z"
      },
      {
        "duration": 321,
        "start_time": "2022-12-14T22:44:11.609Z"
      },
      {
        "duration": 241,
        "start_time": "2022-12-14T22:44:11.932Z"
      },
      {
        "duration": 49,
        "start_time": "2022-12-14T22:44:12.175Z"
      },
      {
        "duration": 777,
        "start_time": "2022-12-14T22:44:12.226Z"
      },
      {
        "duration": 269,
        "start_time": "2022-12-14T22:44:13.005Z"
      },
      {
        "duration": 368,
        "start_time": "2022-12-14T22:44:13.275Z"
      },
      {
        "duration": 213,
        "start_time": "2022-12-14T22:44:13.645Z"
      },
      {
        "duration": 136,
        "start_time": "2022-12-14T22:44:13.860Z"
      },
      {
        "duration": 191,
        "start_time": "2022-12-14T22:44:13.998Z"
      },
      {
        "duration": 168,
        "start_time": "2022-12-14T22:44:14.190Z"
      },
      {
        "duration": 164,
        "start_time": "2022-12-14T22:44:14.360Z"
      },
      {
        "duration": 321,
        "start_time": "2022-12-14T22:44:14.526Z"
      },
      {
        "duration": 325,
        "start_time": "2022-12-14T22:44:14.849Z"
      },
      {
        "duration": 193,
        "start_time": "2022-12-14T22:44:15.176Z"
      },
      {
        "duration": 31,
        "start_time": "2022-12-14T22:44:15.373Z"
      },
      {
        "duration": 197,
        "start_time": "2022-12-14T22:44:15.405Z"
      },
      {
        "duration": 6,
        "start_time": "2022-12-14T22:44:15.605Z"
      },
      {
        "duration": 13,
        "start_time": "2022-12-14T22:44:15.613Z"
      },
      {
        "duration": 213,
        "start_time": "2022-12-14T22:44:15.628Z"
      },
      {
        "duration": 6,
        "start_time": "2022-12-14T22:44:15.843Z"
      },
      {
        "duration": 269,
        "start_time": "2022-12-14T22:44:15.851Z"
      },
      {
        "duration": 9,
        "start_time": "2022-12-14T22:44:16.122Z"
      },
      {
        "duration": 276,
        "start_time": "2022-12-14T22:44:16.133Z"
      },
      {
        "duration": 5,
        "start_time": "2022-12-14T22:44:16.411Z"
      },
      {
        "duration": 221,
        "start_time": "2022-12-14T22:44:16.418Z"
      },
      {
        "duration": 6,
        "start_time": "2022-12-14T22:44:16.641Z"
      },
      {
        "duration": 128,
        "start_time": "2022-12-14T22:44:16.649Z"
      },
      {
        "duration": 1252,
        "start_time": "2022-12-14T22:49:03.558Z"
      },
      {
        "duration": 15,
        "start_time": "2022-12-14T22:49:04.813Z"
      },
      {
        "duration": 4,
        "start_time": "2022-12-14T22:49:04.830Z"
      },
      {
        "duration": 2162,
        "start_time": "2022-12-14T22:49:04.836Z"
      },
      {
        "duration": 105,
        "start_time": "2022-12-14T22:49:07.001Z"
      },
      {
        "duration": 30,
        "start_time": "2022-12-14T22:49:07.107Z"
      },
      {
        "duration": 7,
        "start_time": "2022-12-14T22:49:07.139Z"
      },
      {
        "duration": 14,
        "start_time": "2022-12-14T22:49:07.148Z"
      },
      {
        "duration": 63,
        "start_time": "2022-12-14T22:49:07.165Z"
      },
      {
        "duration": 9,
        "start_time": "2022-12-14T22:49:07.230Z"
      },
      {
        "duration": 6,
        "start_time": "2022-12-14T22:49:07.241Z"
      },
      {
        "duration": 11,
        "start_time": "2022-12-14T22:49:07.250Z"
      },
      {
        "duration": 35,
        "start_time": "2022-12-14T22:49:07.262Z"
      },
      {
        "duration": 20,
        "start_time": "2022-12-14T22:49:07.302Z"
      },
      {
        "duration": 4,
        "start_time": "2022-12-14T22:49:07.325Z"
      },
      {
        "duration": 10,
        "start_time": "2022-12-14T22:49:07.332Z"
      },
      {
        "duration": 17,
        "start_time": "2022-12-14T22:49:07.344Z"
      },
      {
        "duration": 6,
        "start_time": "2022-12-14T22:49:07.363Z"
      },
      {
        "duration": 27,
        "start_time": "2022-12-14T22:49:07.396Z"
      },
      {
        "duration": 4,
        "start_time": "2022-12-14T22:49:07.424Z"
      },
      {
        "duration": 337,
        "start_time": "2022-12-14T22:49:07.430Z"
      },
      {
        "duration": 52,
        "start_time": "2022-12-14T22:49:07.769Z"
      },
      {
        "duration": 4,
        "start_time": "2022-12-14T22:49:07.824Z"
      },
      {
        "duration": 37,
        "start_time": "2022-12-14T22:49:07.830Z"
      },
      {
        "duration": 5,
        "start_time": "2022-12-14T22:49:07.869Z"
      },
      {
        "duration": 266,
        "start_time": "2022-12-14T22:49:07.875Z"
      },
      {
        "duration": 236,
        "start_time": "2022-12-14T22:49:08.143Z"
      },
      {
        "duration": 236,
        "start_time": "2022-12-14T22:49:08.381Z"
      },
      {
        "duration": 38,
        "start_time": "2022-12-14T22:49:08.619Z"
      },
      {
        "duration": 856,
        "start_time": "2022-12-14T22:49:08.659Z"
      },
      {
        "duration": 269,
        "start_time": "2022-12-14T22:49:09.517Z"
      },
      {
        "duration": 320,
        "start_time": "2022-12-14T22:49:09.788Z"
      },
      {
        "duration": 229,
        "start_time": "2022-12-14T22:49:10.110Z"
      },
      {
        "duration": 257,
        "start_time": "2022-12-14T22:49:10.341Z"
      },
      {
        "duration": 207,
        "start_time": "2022-12-14T22:49:10.599Z"
      },
      {
        "duration": 190,
        "start_time": "2022-12-14T22:49:10.808Z"
      },
      {
        "duration": 162,
        "start_time": "2022-12-14T22:49:11.000Z"
      },
      {
        "duration": 322,
        "start_time": "2022-12-14T22:49:11.164Z"
      },
      {
        "duration": 197,
        "start_time": "2022-12-14T22:49:11.488Z"
      },
      {
        "duration": 187,
        "start_time": "2022-12-14T22:49:11.686Z"
      },
      {
        "duration": 35,
        "start_time": "2022-12-14T22:49:11.878Z"
      },
      {
        "duration": 206,
        "start_time": "2022-12-14T22:49:11.915Z"
      },
      {
        "duration": 5,
        "start_time": "2022-12-14T22:49:12.123Z"
      },
      {
        "duration": 10,
        "start_time": "2022-12-14T22:49:12.130Z"
      },
      {
        "duration": 209,
        "start_time": "2022-12-14T22:49:12.141Z"
      },
      {
        "duration": 5,
        "start_time": "2022-12-14T22:49:12.351Z"
      },
      {
        "duration": 223,
        "start_time": "2022-12-14T22:49:12.358Z"
      },
      {
        "duration": 5,
        "start_time": "2022-12-14T22:49:12.583Z"
      },
      {
        "duration": 201,
        "start_time": "2022-12-14T22:49:12.595Z"
      },
      {
        "duration": 6,
        "start_time": "2022-12-14T22:49:12.798Z"
      },
      {
        "duration": 262,
        "start_time": "2022-12-14T22:49:12.805Z"
      },
      {
        "duration": 5,
        "start_time": "2022-12-14T22:49:13.069Z"
      },
      {
        "duration": 1258,
        "start_time": "2022-12-14T22:54:41.387Z"
      },
      {
        "duration": 16,
        "start_time": "2022-12-14T22:54:42.647Z"
      },
      {
        "duration": 4,
        "start_time": "2022-12-14T22:54:42.664Z"
      },
      {
        "duration": 2104,
        "start_time": "2022-12-14T22:54:42.670Z"
      },
      {
        "duration": 80,
        "start_time": "2022-12-14T22:54:44.777Z"
      },
      {
        "duration": 39,
        "start_time": "2022-12-14T22:54:44.859Z"
      },
      {
        "duration": 7,
        "start_time": "2022-12-14T22:54:44.900Z"
      },
      {
        "duration": 16,
        "start_time": "2022-12-14T22:54:44.909Z"
      },
      {
        "duration": 38,
        "start_time": "2022-12-14T22:54:44.927Z"
      },
      {
        "duration": 32,
        "start_time": "2022-12-14T22:54:44.969Z"
      },
      {
        "duration": 7,
        "start_time": "2022-12-14T22:54:45.003Z"
      },
      {
        "duration": 34,
        "start_time": "2022-12-14T22:54:45.012Z"
      },
      {
        "duration": 9,
        "start_time": "2022-12-14T22:54:45.048Z"
      },
      {
        "duration": 15,
        "start_time": "2022-12-14T22:54:45.060Z"
      },
      {
        "duration": 4,
        "start_time": "2022-12-14T22:54:45.077Z"
      },
      {
        "duration": 21,
        "start_time": "2022-12-14T22:54:45.082Z"
      },
      {
        "duration": 15,
        "start_time": "2022-12-14T22:54:45.105Z"
      },
      {
        "duration": 19,
        "start_time": "2022-12-14T22:54:45.122Z"
      },
      {
        "duration": 34,
        "start_time": "2022-12-14T22:54:45.142Z"
      },
      {
        "duration": 4,
        "start_time": "2022-12-14T22:54:45.180Z"
      },
      {
        "duration": 333,
        "start_time": "2022-12-14T22:54:45.197Z"
      },
      {
        "duration": 37,
        "start_time": "2022-12-14T22:54:45.532Z"
      },
      {
        "duration": 5,
        "start_time": "2022-12-14T22:54:45.570Z"
      },
      {
        "duration": 46,
        "start_time": "2022-12-14T22:54:45.576Z"
      },
      {
        "duration": 5,
        "start_time": "2022-12-14T22:54:45.624Z"
      },
      {
        "duration": 247,
        "start_time": "2022-12-14T22:54:45.631Z"
      },
      {
        "duration": 310,
        "start_time": "2022-12-14T22:54:45.880Z"
      },
      {
        "duration": 355,
        "start_time": "2022-12-14T22:54:46.197Z"
      },
      {
        "duration": 60,
        "start_time": "2022-12-14T22:54:46.554Z"
      },
      {
        "duration": 899,
        "start_time": "2022-12-14T22:54:46.616Z"
      },
      {
        "duration": 265,
        "start_time": "2022-12-14T22:54:47.517Z"
      },
      {
        "duration": 255,
        "start_time": "2022-12-14T22:54:47.784Z"
      },
      {
        "duration": 214,
        "start_time": "2022-12-14T22:54:48.041Z"
      },
      {
        "duration": 258,
        "start_time": "2022-12-14T22:54:48.256Z"
      },
      {
        "duration": 237,
        "start_time": "2022-12-14T22:54:48.515Z"
      },
      {
        "duration": 175,
        "start_time": "2022-12-14T22:54:48.753Z"
      },
      {
        "duration": 185,
        "start_time": "2022-12-14T22:54:48.929Z"
      },
      {
        "duration": 316,
        "start_time": "2022-12-14T22:54:49.116Z"
      },
      {
        "duration": 188,
        "start_time": "2022-12-14T22:54:49.434Z"
      },
      {
        "duration": 181,
        "start_time": "2022-12-14T22:54:49.624Z"
      },
      {
        "duration": 23,
        "start_time": "2022-12-14T22:54:49.808Z"
      },
      {
        "duration": 215,
        "start_time": "2022-12-14T22:54:49.833Z"
      },
      {
        "duration": 6,
        "start_time": "2022-12-14T22:54:50.050Z"
      },
      {
        "duration": 11,
        "start_time": "2022-12-14T22:54:50.057Z"
      },
      {
        "duration": 227,
        "start_time": "2022-12-14T22:54:50.070Z"
      },
      {
        "duration": 6,
        "start_time": "2022-12-14T22:54:50.302Z"
      },
      {
        "duration": 230,
        "start_time": "2022-12-14T22:54:50.309Z"
      },
      {
        "duration": 6,
        "start_time": "2022-12-14T22:54:50.541Z"
      },
      {
        "duration": 208,
        "start_time": "2022-12-14T22:54:50.549Z"
      },
      {
        "duration": 6,
        "start_time": "2022-12-14T22:54:50.759Z"
      },
      {
        "duration": 212,
        "start_time": "2022-12-14T22:54:50.767Z"
      },
      {
        "duration": 16,
        "start_time": "2022-12-14T22:54:50.981Z"
      },
      {
        "duration": 68,
        "start_time": "2022-12-14T22:54:50.999Z"
      },
      {
        "duration": 294,
        "start_time": "2022-12-14T22:54:58.078Z"
      },
      {
        "duration": 1215,
        "start_time": "2022-12-14T23:00:36.286Z"
      },
      {
        "duration": 20,
        "start_time": "2022-12-14T23:00:37.503Z"
      },
      {
        "duration": 4,
        "start_time": "2022-12-14T23:00:37.525Z"
      },
      {
        "duration": 1990,
        "start_time": "2022-12-14T23:00:37.531Z"
      },
      {
        "duration": 76,
        "start_time": "2022-12-14T23:00:39.523Z"
      },
      {
        "duration": 20,
        "start_time": "2022-12-14T23:00:39.601Z"
      },
      {
        "duration": 6,
        "start_time": "2022-12-14T23:00:39.622Z"
      },
      {
        "duration": 13,
        "start_time": "2022-12-14T23:00:39.629Z"
      },
      {
        "duration": 72,
        "start_time": "2022-12-14T23:00:39.644Z"
      },
      {
        "duration": 13,
        "start_time": "2022-12-14T23:00:39.719Z"
      },
      {
        "duration": 6,
        "start_time": "2022-12-14T23:00:39.734Z"
      },
      {
        "duration": 11,
        "start_time": "2022-12-14T23:00:39.741Z"
      },
      {
        "duration": 6,
        "start_time": "2022-12-14T23:00:39.754Z"
      },
      {
        "duration": 14,
        "start_time": "2022-12-14T23:00:39.797Z"
      },
      {
        "duration": 4,
        "start_time": "2022-12-14T23:00:39.813Z"
      },
      {
        "duration": 8,
        "start_time": "2022-12-14T23:00:39.819Z"
      },
      {
        "duration": 11,
        "start_time": "2022-12-14T23:00:39.829Z"
      },
      {
        "duration": 8,
        "start_time": "2022-12-14T23:00:39.842Z"
      },
      {
        "duration": 76,
        "start_time": "2022-12-14T23:00:39.852Z"
      },
      {
        "duration": 3,
        "start_time": "2022-12-14T23:00:39.930Z"
      },
      {
        "duration": 365,
        "start_time": "2022-12-14T23:00:39.934Z"
      },
      {
        "duration": 40,
        "start_time": "2022-12-14T23:00:40.301Z"
      },
      {
        "duration": 8,
        "start_time": "2022-12-14T23:00:40.344Z"
      },
      {
        "duration": 56,
        "start_time": "2022-12-14T23:00:40.354Z"
      },
      {
        "duration": 6,
        "start_time": "2022-12-14T23:00:40.412Z"
      },
      {
        "duration": 257,
        "start_time": "2022-12-14T23:00:40.420Z"
      },
      {
        "duration": 257,
        "start_time": "2022-12-14T23:00:40.678Z"
      },
      {
        "duration": 265,
        "start_time": "2022-12-14T23:00:40.938Z"
      },
      {
        "duration": 38,
        "start_time": "2022-12-14T23:00:41.205Z"
      },
      {
        "duration": 843,
        "start_time": "2022-12-14T23:00:41.245Z"
      },
      {
        "duration": 260,
        "start_time": "2022-12-14T23:00:42.089Z"
      },
      {
        "duration": 249,
        "start_time": "2022-12-14T23:00:42.350Z"
      },
      {
        "duration": 222,
        "start_time": "2022-12-14T23:00:42.601Z"
      },
      {
        "duration": 265,
        "start_time": "2022-12-14T23:00:42.825Z"
      },
      {
        "duration": 209,
        "start_time": "2022-12-14T23:00:43.096Z"
      },
      {
        "duration": 211,
        "start_time": "2022-12-14T23:00:43.307Z"
      },
      {
        "duration": 161,
        "start_time": "2022-12-14T23:00:43.519Z"
      },
      {
        "duration": 361,
        "start_time": "2022-12-14T23:00:43.682Z"
      },
      {
        "duration": 188,
        "start_time": "2022-12-14T23:00:44.045Z"
      },
      {
        "duration": 187,
        "start_time": "2022-12-14T23:00:44.235Z"
      },
      {
        "duration": 24,
        "start_time": "2022-12-14T23:00:44.424Z"
      },
      {
        "duration": 208,
        "start_time": "2022-12-14T23:00:44.449Z"
      },
      {
        "duration": 6,
        "start_time": "2022-12-14T23:00:44.658Z"
      },
      {
        "duration": 7,
        "start_time": "2022-12-14T23:00:44.666Z"
      },
      {
        "duration": 230,
        "start_time": "2022-12-14T23:00:44.675Z"
      },
      {
        "duration": 5,
        "start_time": "2022-12-14T23:00:44.907Z"
      },
      {
        "duration": 267,
        "start_time": "2022-12-14T23:00:44.914Z"
      },
      {
        "duration": 16,
        "start_time": "2022-12-14T23:00:45.183Z"
      },
      {
        "duration": 227,
        "start_time": "2022-12-14T23:00:45.200Z"
      },
      {
        "duration": 5,
        "start_time": "2022-12-14T23:00:45.428Z"
      },
      {
        "duration": 228,
        "start_time": "2022-12-14T23:00:45.435Z"
      },
      {
        "duration": 6,
        "start_time": "2022-12-14T23:00:45.665Z"
      },
      {
        "duration": 283,
        "start_time": "2022-12-14T23:00:45.672Z"
      },
      {
        "duration": 95572,
        "start_time": "2022-12-14T23:00:45.959Z"
      },
      {
        "duration": 69,
        "start_time": "2022-12-14T23:16:09.971Z"
      },
      {
        "duration": 4,
        "start_time": "2022-12-14T23:20:15.049Z"
      },
      {
        "duration": 421,
        "start_time": "2022-12-14T23:20:18.168Z"
      },
      {
        "duration": 64,
        "start_time": "2022-12-14T23:20:39.487Z"
      },
      {
        "duration": 15,
        "start_time": "2022-12-14T23:21:43.201Z"
      },
      {
        "duration": 30,
        "start_time": "2022-12-14T23:22:03.486Z"
      },
      {
        "duration": 16,
        "start_time": "2022-12-14T23:22:28.366Z"
      },
      {
        "duration": 34,
        "start_time": "2022-12-14T23:22:45.140Z"
      },
      {
        "duration": 48,
        "start_time": "2022-12-14T23:29:38.420Z"
      },
      {
        "duration": 8,
        "start_time": "2022-12-14T23:29:45.433Z"
      },
      {
        "duration": 8,
        "start_time": "2022-12-14T23:30:41.397Z"
      },
      {
        "duration": 25,
        "start_time": "2022-12-14T23:34:12.973Z"
      },
      {
        "duration": 10,
        "start_time": "2022-12-14T23:34:57.555Z"
      },
      {
        "duration": 1252,
        "start_time": "2022-12-14T23:37:15.726Z"
      },
      {
        "duration": 22,
        "start_time": "2022-12-14T23:37:16.981Z"
      },
      {
        "duration": 4,
        "start_time": "2022-12-14T23:37:17.005Z"
      },
      {
        "duration": 1943,
        "start_time": "2022-12-14T23:37:17.011Z"
      },
      {
        "duration": 76,
        "start_time": "2022-12-14T23:37:18.956Z"
      },
      {
        "duration": 23,
        "start_time": "2022-12-14T23:37:19.034Z"
      },
      {
        "duration": 13,
        "start_time": "2022-12-14T23:37:19.058Z"
      },
      {
        "duration": 31,
        "start_time": "2022-12-14T23:37:19.072Z"
      },
      {
        "duration": 32,
        "start_time": "2022-12-14T23:37:19.105Z"
      },
      {
        "duration": 11,
        "start_time": "2022-12-14T23:37:19.138Z"
      },
      {
        "duration": 12,
        "start_time": "2022-12-14T23:37:19.151Z"
      },
      {
        "duration": 37,
        "start_time": "2022-12-14T23:37:19.165Z"
      },
      {
        "duration": 10,
        "start_time": "2022-12-14T23:37:19.204Z"
      },
      {
        "duration": 12,
        "start_time": "2022-12-14T23:37:19.217Z"
      },
      {
        "duration": 4,
        "start_time": "2022-12-14T23:37:19.230Z"
      },
      {
        "duration": 10,
        "start_time": "2022-12-14T23:37:19.235Z"
      },
      {
        "duration": 5,
        "start_time": "2022-12-14T23:37:19.246Z"
      },
      {
        "duration": 12,
        "start_time": "2022-12-14T23:37:19.253Z"
      },
      {
        "duration": 25,
        "start_time": "2022-12-14T23:37:19.296Z"
      },
      {
        "duration": 3,
        "start_time": "2022-12-14T23:37:19.322Z"
      },
      {
        "duration": 325,
        "start_time": "2022-12-14T23:37:19.327Z"
      },
      {
        "duration": 27,
        "start_time": "2022-12-14T23:37:19.654Z"
      },
      {
        "duration": 13,
        "start_time": "2022-12-14T23:37:19.683Z"
      },
      {
        "duration": 31,
        "start_time": "2022-12-14T23:37:19.698Z"
      },
      {
        "duration": 3,
        "start_time": "2022-12-14T23:37:19.731Z"
      },
      {
        "duration": 259,
        "start_time": "2022-12-14T23:37:19.735Z"
      },
      {
        "duration": 249,
        "start_time": "2022-12-14T23:37:19.995Z"
      },
      {
        "duration": 241,
        "start_time": "2022-12-14T23:37:20.246Z"
      },
      {
        "duration": 37,
        "start_time": "2022-12-14T23:37:20.496Z"
      },
      {
        "duration": 820,
        "start_time": "2022-12-14T23:37:20.534Z"
      },
      {
        "duration": 255,
        "start_time": "2022-12-14T23:37:21.356Z"
      },
      {
        "duration": 242,
        "start_time": "2022-12-14T23:37:21.612Z"
      },
      {
        "duration": 219,
        "start_time": "2022-12-14T23:37:21.856Z"
      },
      {
        "duration": 247,
        "start_time": "2022-12-14T23:37:22.077Z"
      },
      {
        "duration": 207,
        "start_time": "2022-12-14T23:37:22.325Z"
      },
      {
        "duration": 179,
        "start_time": "2022-12-14T23:37:22.534Z"
      },
      {
        "duration": 161,
        "start_time": "2022-12-14T23:37:22.714Z"
      },
      {
        "duration": 312,
        "start_time": "2022-12-14T23:37:22.877Z"
      },
      {
        "duration": 206,
        "start_time": "2022-12-14T23:37:23.191Z"
      },
      {
        "duration": 150,
        "start_time": "2022-12-14T23:37:23.399Z"
      },
      {
        "duration": 24,
        "start_time": "2022-12-14T23:37:23.552Z"
      },
      {
        "duration": 213,
        "start_time": "2022-12-14T23:37:23.577Z"
      },
      {
        "duration": 8,
        "start_time": "2022-12-14T23:37:23.791Z"
      },
      {
        "duration": 40,
        "start_time": "2022-12-14T23:37:23.800Z"
      },
      {
        "duration": 203,
        "start_time": "2022-12-14T23:37:23.841Z"
      },
      {
        "duration": 5,
        "start_time": "2022-12-14T23:37:24.046Z"
      },
      {
        "duration": 218,
        "start_time": "2022-12-14T23:37:24.053Z"
      },
      {
        "duration": 4,
        "start_time": "2022-12-14T23:37:24.273Z"
      },
      {
        "duration": 216,
        "start_time": "2022-12-14T23:37:24.279Z"
      },
      {
        "duration": 5,
        "start_time": "2022-12-14T23:37:24.497Z"
      },
      {
        "duration": 237,
        "start_time": "2022-12-14T23:37:24.503Z"
      },
      {
        "duration": 5,
        "start_time": "2022-12-14T23:37:24.742Z"
      },
      {
        "duration": 275,
        "start_time": "2022-12-14T23:37:24.748Z"
      },
      {
        "duration": 104,
        "start_time": "2022-12-14T23:37:25.025Z"
      },
      {
        "duration": 0,
        "start_time": "2022-12-14T23:37:25.130Z"
      },
      {
        "duration": 14,
        "start_time": "2022-12-14T23:37:49.276Z"
      },
      {
        "duration": 12,
        "start_time": "2022-12-14T23:38:02.388Z"
      },
      {
        "duration": 11,
        "start_time": "2022-12-14T23:38:36.572Z"
      },
      {
        "duration": 14,
        "start_time": "2022-12-14T23:38:42.813Z"
      },
      {
        "duration": 11,
        "start_time": "2022-12-14T23:38:44.425Z"
      },
      {
        "duration": 6,
        "start_time": "2022-12-14T23:39:09.299Z"
      },
      {
        "duration": 15,
        "start_time": "2022-12-14T23:39:17.067Z"
      },
      {
        "duration": 11,
        "start_time": "2022-12-14T23:39:17.370Z"
      },
      {
        "duration": 719,
        "start_time": "2022-12-14T23:39:55.353Z"
      },
      {
        "duration": 18,
        "start_time": "2022-12-14T23:45:10.639Z"
      },
      {
        "duration": 16,
        "start_time": "2022-12-14T23:46:21.802Z"
      },
      {
        "duration": 789,
        "start_time": "2022-12-14T23:46:25.623Z"
      },
      {
        "duration": 9,
        "start_time": "2022-12-14T23:46:58.310Z"
      },
      {
        "duration": 17,
        "start_time": "2022-12-14T23:48:00.082Z"
      },
      {
        "duration": 963,
        "start_time": "2022-12-14T23:48:01.736Z"
      },
      {
        "duration": 9,
        "start_time": "2022-12-14T23:48:07.762Z"
      },
      {
        "duration": 15,
        "start_time": "2022-12-14T23:51:52.394Z"
      },
      {
        "duration": 14,
        "start_time": "2022-12-14T23:52:09.348Z"
      },
      {
        "duration": 14,
        "start_time": "2022-12-14T23:52:13.394Z"
      },
      {
        "duration": 15,
        "start_time": "2022-12-14T23:52:24.606Z"
      },
      {
        "duration": 44,
        "start_time": "2022-12-14T23:52:58.065Z"
      },
      {
        "duration": 6,
        "start_time": "2022-12-14T23:53:16.924Z"
      },
      {
        "duration": 4,
        "start_time": "2022-12-14T23:56:33.115Z"
      },
      {
        "duration": 23,
        "start_time": "2022-12-14T23:56:55.775Z"
      },
      {
        "duration": 14,
        "start_time": "2022-12-15T00:00:41.584Z"
      },
      {
        "duration": 13,
        "start_time": "2022-12-15T00:01:13.346Z"
      },
      {
        "duration": 5,
        "start_time": "2022-12-15T00:01:22.962Z"
      },
      {
        "duration": 458,
        "start_time": "2022-12-15T00:01:36.070Z"
      },
      {
        "duration": 13,
        "start_time": "2022-12-15T00:01:47.838Z"
      },
      {
        "duration": 44,
        "start_time": "2022-12-15T00:13:22.327Z"
      },
      {
        "duration": 21,
        "start_time": "2022-12-15T00:15:15.645Z"
      },
      {
        "duration": 9,
        "start_time": "2022-12-15T00:17:41.684Z"
      },
      {
        "duration": 9,
        "start_time": "2022-12-15T00:17:52.215Z"
      },
      {
        "duration": 9,
        "start_time": "2022-12-15T00:18:02.914Z"
      },
      {
        "duration": 8,
        "start_time": "2022-12-15T00:18:17.991Z"
      },
      {
        "duration": 9,
        "start_time": "2022-12-15T00:18:34.445Z"
      },
      {
        "duration": 6,
        "start_time": "2022-12-15T00:19:49.744Z"
      },
      {
        "duration": 16,
        "start_time": "2022-12-15T00:20:26.332Z"
      },
      {
        "duration": 11,
        "start_time": "2022-12-15T00:20:28.215Z"
      },
      {
        "duration": 13,
        "start_time": "2022-12-15T00:20:49.972Z"
      },
      {
        "duration": 13,
        "start_time": "2022-12-15T00:20:53.008Z"
      },
      {
        "duration": 10,
        "start_time": "2022-12-15T00:21:00.369Z"
      },
      {
        "duration": 13,
        "start_time": "2022-12-15T00:21:06.717Z"
      },
      {
        "duration": 3,
        "start_time": "2022-12-15T00:23:37.448Z"
      },
      {
        "duration": 9,
        "start_time": "2022-12-15T00:23:41.882Z"
      },
      {
        "duration": 12,
        "start_time": "2022-12-15T00:24:07.459Z"
      },
      {
        "duration": 9,
        "start_time": "2022-12-15T00:24:29.449Z"
      },
      {
        "duration": 9,
        "start_time": "2022-12-15T00:24:42.255Z"
      },
      {
        "duration": 3,
        "start_time": "2022-12-15T00:25:16.455Z"
      },
      {
        "duration": 7,
        "start_time": "2022-12-15T00:25:21.213Z"
      },
      {
        "duration": 3,
        "start_time": "2022-12-15T00:29:14.852Z"
      },
      {
        "duration": 10,
        "start_time": "2022-12-15T00:29:15.228Z"
      },
      {
        "duration": 6,
        "start_time": "2022-12-15T00:29:15.867Z"
      },
      {
        "duration": 3,
        "start_time": "2022-12-15T00:29:23.345Z"
      },
      {
        "duration": 4,
        "start_time": "2022-12-15T00:29:23.833Z"
      },
      {
        "duration": 7,
        "start_time": "2022-12-15T00:29:24.963Z"
      },
      {
        "duration": 7,
        "start_time": "2022-12-15T00:29:55.751Z"
      },
      {
        "duration": 6,
        "start_time": "2022-12-15T00:30:00.982Z"
      },
      {
        "duration": 7,
        "start_time": "2022-12-15T00:30:08.112Z"
      },
      {
        "duration": 11,
        "start_time": "2022-12-15T00:30:55.816Z"
      },
      {
        "duration": 11,
        "start_time": "2022-12-15T00:31:41.230Z"
      },
      {
        "duration": 22,
        "start_time": "2022-12-15T00:33:04.367Z"
      },
      {
        "duration": 41,
        "start_time": "2022-12-15T00:37:06.453Z"
      },
      {
        "duration": 7,
        "start_time": "2022-12-15T00:37:15.275Z"
      },
      {
        "duration": 39,
        "start_time": "2022-12-15T00:37:22.508Z"
      },
      {
        "duration": 8,
        "start_time": "2022-12-15T00:40:21.670Z"
      },
      {
        "duration": 10,
        "start_time": "2022-12-15T00:40:46.874Z"
      },
      {
        "duration": 10,
        "start_time": "2022-12-15T00:40:51.542Z"
      },
      {
        "duration": 115,
        "start_time": "2022-12-15T00:41:04.350Z"
      },
      {
        "duration": 10,
        "start_time": "2022-12-15T00:41:41.964Z"
      },
      {
        "duration": 750,
        "start_time": "2022-12-15T00:43:17.097Z"
      },
      {
        "duration": 4,
        "start_time": "2022-12-15T00:45:36.706Z"
      },
      {
        "duration": 38,
        "start_time": "2022-12-15T00:45:58.334Z"
      },
      {
        "duration": 12,
        "start_time": "2022-12-15T00:48:28.812Z"
      },
      {
        "duration": 11,
        "start_time": "2022-12-15T00:48:32.890Z"
      },
      {
        "duration": 10,
        "start_time": "2022-12-15T00:49:04.302Z"
      },
      {
        "duration": 10,
        "start_time": "2022-12-15T00:49:08.611Z"
      },
      {
        "duration": 4,
        "start_time": "2022-12-15T00:49:58.016Z"
      },
      {
        "duration": 6,
        "start_time": "2022-12-15T00:50:25.873Z"
      },
      {
        "duration": 4,
        "start_time": "2022-12-15T00:50:34.741Z"
      },
      {
        "duration": 9,
        "start_time": "2022-12-15T01:03:06.787Z"
      },
      {
        "duration": 39,
        "start_time": "2022-12-15T01:03:08.560Z"
      },
      {
        "duration": 4,
        "start_time": "2022-12-15T01:03:11.240Z"
      },
      {
        "duration": 5,
        "start_time": "2022-12-15T01:03:14.186Z"
      },
      {
        "duration": 4,
        "start_time": "2022-12-15T01:03:25.645Z"
      },
      {
        "duration": 3,
        "start_time": "2022-12-15T01:04:12.963Z"
      },
      {
        "duration": 4,
        "start_time": "2022-12-15T01:04:23.898Z"
      },
      {
        "duration": 8,
        "start_time": "2022-12-15T01:04:54.191Z"
      },
      {
        "duration": 45,
        "start_time": "2022-12-15T01:08:55.059Z"
      },
      {
        "duration": 36,
        "start_time": "2022-12-15T01:10:08.217Z"
      },
      {
        "duration": 8,
        "start_time": "2022-12-15T01:10:49.042Z"
      },
      {
        "duration": 9,
        "start_time": "2022-12-15T01:11:16.318Z"
      },
      {
        "duration": 704,
        "start_time": "2022-12-15T01:11:41.459Z"
      },
      {
        "duration": 12,
        "start_time": "2022-12-15T01:12:01.861Z"
      },
      {
        "duration": 6,
        "start_time": "2022-12-15T01:16:35.421Z"
      },
      {
        "duration": 37,
        "start_time": "2022-12-15T01:16:48.378Z"
      },
      {
        "duration": 3,
        "start_time": "2022-12-15T01:18:11.346Z"
      },
      {
        "duration": 24,
        "start_time": "2022-12-15T01:18:19.733Z"
      },
      {
        "duration": 1251,
        "start_time": "2022-12-15T01:19:00.528Z"
      },
      {
        "duration": 23,
        "start_time": "2022-12-15T01:19:01.781Z"
      },
      {
        "duration": 14,
        "start_time": "2022-12-15T01:19:01.805Z"
      },
      {
        "duration": 1869,
        "start_time": "2022-12-15T01:19:01.821Z"
      },
      {
        "duration": 68,
        "start_time": "2022-12-15T01:19:03.691Z"
      },
      {
        "duration": 18,
        "start_time": "2022-12-15T01:19:03.761Z"
      },
      {
        "duration": 6,
        "start_time": "2022-12-15T01:19:03.795Z"
      },
      {
        "duration": 16,
        "start_time": "2022-12-15T01:19:03.803Z"
      },
      {
        "duration": 30,
        "start_time": "2022-12-15T01:19:03.821Z"
      },
      {
        "duration": 10,
        "start_time": "2022-12-15T01:19:03.854Z"
      },
      {
        "duration": 12,
        "start_time": "2022-12-15T01:19:03.898Z"
      },
      {
        "duration": 15,
        "start_time": "2022-12-15T01:19:03.913Z"
      },
      {
        "duration": 24,
        "start_time": "2022-12-15T01:19:03.929Z"
      },
      {
        "duration": 22,
        "start_time": "2022-12-15T01:19:03.955Z"
      },
      {
        "duration": 4,
        "start_time": "2022-12-15T01:19:03.978Z"
      },
      {
        "duration": 26,
        "start_time": "2022-12-15T01:19:03.983Z"
      },
      {
        "duration": 6,
        "start_time": "2022-12-15T01:19:04.011Z"
      },
      {
        "duration": 9,
        "start_time": "2022-12-15T01:19:04.019Z"
      },
      {
        "duration": 45,
        "start_time": "2022-12-15T01:19:04.029Z"
      },
      {
        "duration": 3,
        "start_time": "2022-12-15T01:19:04.076Z"
      },
      {
        "duration": 322,
        "start_time": "2022-12-15T01:19:04.080Z"
      },
      {
        "duration": 29,
        "start_time": "2022-12-15T01:19:04.404Z"
      },
      {
        "duration": 4,
        "start_time": "2022-12-15T01:19:04.434Z"
      },
      {
        "duration": 26,
        "start_time": "2022-12-15T01:19:04.439Z"
      },
      {
        "duration": 3,
        "start_time": "2022-12-15T01:19:04.466Z"
      },
      {
        "duration": 30,
        "start_time": "2022-12-15T01:19:04.497Z"
      },
      {
        "duration": 233,
        "start_time": "2022-12-15T01:19:04.529Z"
      },
      {
        "duration": 241,
        "start_time": "2022-12-15T01:19:04.766Z"
      },
      {
        "duration": 250,
        "start_time": "2022-12-15T01:19:05.008Z"
      },
      {
        "duration": 44,
        "start_time": "2022-12-15T01:19:05.260Z"
      },
      {
        "duration": 834,
        "start_time": "2022-12-15T01:19:05.305Z"
      },
      {
        "duration": 258,
        "start_time": "2022-12-15T01:19:06.141Z"
      },
      {
        "duration": 235,
        "start_time": "2022-12-15T01:19:06.400Z"
      },
      {
        "duration": 204,
        "start_time": "2022-12-15T01:19:06.636Z"
      },
      {
        "duration": 238,
        "start_time": "2022-12-15T01:19:06.842Z"
      },
      {
        "duration": 195,
        "start_time": "2022-12-15T01:19:07.082Z"
      },
      {
        "duration": 176,
        "start_time": "2022-12-15T01:19:07.279Z"
      },
      {
        "duration": 160,
        "start_time": "2022-12-15T01:19:07.457Z"
      },
      {
        "duration": 302,
        "start_time": "2022-12-15T01:19:07.618Z"
      },
      {
        "duration": 178,
        "start_time": "2022-12-15T01:19:07.922Z"
      },
      {
        "duration": 147,
        "start_time": "2022-12-15T01:19:08.102Z"
      },
      {
        "duration": 24,
        "start_time": "2022-12-15T01:19:08.251Z"
      },
      {
        "duration": 191,
        "start_time": "2022-12-15T01:19:08.276Z"
      },
      {
        "duration": 6,
        "start_time": "2022-12-15T01:19:08.469Z"
      },
      {
        "duration": 21,
        "start_time": "2022-12-15T01:19:08.476Z"
      },
      {
        "duration": 194,
        "start_time": "2022-12-15T01:19:08.499Z"
      },
      {
        "duration": 6,
        "start_time": "2022-12-15T01:19:08.696Z"
      },
      {
        "duration": 212,
        "start_time": "2022-12-15T01:19:08.703Z"
      },
      {
        "duration": 5,
        "start_time": "2022-12-15T01:19:08.917Z"
      },
      {
        "duration": 213,
        "start_time": "2022-12-15T01:19:08.924Z"
      },
      {
        "duration": 5,
        "start_time": "2022-12-15T01:19:09.139Z"
      },
      {
        "duration": 212,
        "start_time": "2022-12-15T01:19:09.145Z"
      },
      {
        "duration": 5,
        "start_time": "2022-12-15T01:19:09.359Z"
      },
      {
        "duration": 270,
        "start_time": "2022-12-15T01:19:09.365Z"
      },
      {
        "duration": 16,
        "start_time": "2022-12-15T01:19:09.637Z"
      },
      {
        "duration": 794,
        "start_time": "2022-12-15T01:19:09.654Z"
      },
      {
        "duration": 9,
        "start_time": "2022-12-15T01:19:10.449Z"
      },
      {
        "duration": 41,
        "start_time": "2022-12-15T01:19:10.460Z"
      },
      {
        "duration": 16,
        "start_time": "2022-12-15T01:19:10.502Z"
      },
      {
        "duration": 3,
        "start_time": "2022-12-15T01:19:10.520Z"
      },
      {
        "duration": 6,
        "start_time": "2022-12-15T01:19:10.524Z"
      },
      {
        "duration": 8,
        "start_time": "2022-12-15T01:19:10.531Z"
      },
      {
        "duration": 9,
        "start_time": "2022-12-15T01:19:10.541Z"
      },
      {
        "duration": 8,
        "start_time": "2022-12-15T01:19:10.552Z"
      },
      {
        "duration": 34,
        "start_time": "2022-12-15T01:19:10.597Z"
      },
      {
        "duration": 3,
        "start_time": "2022-12-15T01:19:10.633Z"
      },
      {
        "duration": 59,
        "start_time": "2022-12-15T01:19:10.637Z"
      },
      {
        "duration": 4,
        "start_time": "2022-12-15T01:20:06.618Z"
      },
      {
        "duration": 5,
        "start_time": "2022-12-15T01:20:14.407Z"
      },
      {
        "duration": 5,
        "start_time": "2022-12-15T01:22:12.352Z"
      },
      {
        "duration": 1175,
        "start_time": "2022-12-15T01:30:18.929Z"
      },
      {
        "duration": 14,
        "start_time": "2022-12-15T01:30:20.106Z"
      },
      {
        "duration": 9,
        "start_time": "2022-12-15T01:30:20.121Z"
      },
      {
        "duration": 1881,
        "start_time": "2022-12-15T01:30:20.132Z"
      },
      {
        "duration": 72,
        "start_time": "2022-12-15T01:30:22.015Z"
      },
      {
        "duration": 20,
        "start_time": "2022-12-15T01:30:22.088Z"
      },
      {
        "duration": 18,
        "start_time": "2022-12-15T01:30:22.109Z"
      },
      {
        "duration": 47,
        "start_time": "2022-12-15T01:30:22.129Z"
      },
      {
        "duration": 51,
        "start_time": "2022-12-15T01:30:22.177Z"
      },
      {
        "duration": 8,
        "start_time": "2022-12-15T01:30:22.231Z"
      },
      {
        "duration": 33,
        "start_time": "2022-12-15T01:30:22.240Z"
      },
      {
        "duration": 41,
        "start_time": "2022-12-15T01:30:22.275Z"
      },
      {
        "duration": 37,
        "start_time": "2022-12-15T01:30:22.318Z"
      },
      {
        "duration": 11,
        "start_time": "2022-12-15T01:30:22.357Z"
      },
      {
        "duration": 13,
        "start_time": "2022-12-15T01:30:22.370Z"
      },
      {
        "duration": 18,
        "start_time": "2022-12-15T01:30:22.384Z"
      },
      {
        "duration": 18,
        "start_time": "2022-12-15T01:30:22.403Z"
      },
      {
        "duration": 22,
        "start_time": "2022-12-15T01:30:22.422Z"
      },
      {
        "duration": 32,
        "start_time": "2022-12-15T01:30:22.445Z"
      },
      {
        "duration": 16,
        "start_time": "2022-12-15T01:30:22.479Z"
      },
      {
        "duration": 326,
        "start_time": "2022-12-15T01:30:22.496Z"
      },
      {
        "duration": 28,
        "start_time": "2022-12-15T01:30:22.823Z"
      },
      {
        "duration": 16,
        "start_time": "2022-12-15T01:30:22.852Z"
      },
      {
        "duration": 52,
        "start_time": "2022-12-15T01:30:22.869Z"
      },
      {
        "duration": 28,
        "start_time": "2022-12-15T01:30:22.923Z"
      },
      {
        "duration": 64,
        "start_time": "2022-12-15T01:30:22.953Z"
      },
      {
        "duration": 256,
        "start_time": "2022-12-15T01:30:23.019Z"
      },
      {
        "duration": 230,
        "start_time": "2022-12-15T01:30:23.279Z"
      },
      {
        "duration": 217,
        "start_time": "2022-12-15T01:30:23.511Z"
      },
      {
        "duration": 37,
        "start_time": "2022-12-15T01:30:23.729Z"
      },
      {
        "duration": 783,
        "start_time": "2022-12-15T01:30:23.767Z"
      },
      {
        "duration": 239,
        "start_time": "2022-12-15T01:30:24.552Z"
      },
      {
        "duration": 233,
        "start_time": "2022-12-15T01:30:24.796Z"
      },
      {
        "duration": 212,
        "start_time": "2022-12-15T01:30:25.031Z"
      },
      {
        "duration": 241,
        "start_time": "2022-12-15T01:30:25.245Z"
      },
      {
        "duration": 175,
        "start_time": "2022-12-15T01:30:25.496Z"
      },
      {
        "duration": 157,
        "start_time": "2022-12-15T01:30:25.672Z"
      },
      {
        "duration": 191,
        "start_time": "2022-12-15T01:30:25.830Z"
      },
      {
        "duration": 292,
        "start_time": "2022-12-15T01:30:26.022Z"
      },
      {
        "duration": 191,
        "start_time": "2022-12-15T01:30:26.316Z"
      },
      {
        "duration": 141,
        "start_time": "2022-12-15T01:30:26.509Z"
      },
      {
        "duration": 22,
        "start_time": "2022-12-15T01:30:26.651Z"
      },
      {
        "duration": 193,
        "start_time": "2022-12-15T01:30:26.674Z"
      },
      {
        "duration": 5,
        "start_time": "2022-12-15T01:30:26.869Z"
      },
      {
        "duration": 5,
        "start_time": "2022-12-15T01:30:26.876Z"
      },
      {
        "duration": 193,
        "start_time": "2022-12-15T01:30:26.897Z"
      },
      {
        "duration": 7,
        "start_time": "2022-12-15T01:30:27.092Z"
      },
      {
        "duration": 203,
        "start_time": "2022-12-15T01:30:27.100Z"
      },
      {
        "duration": 5,
        "start_time": "2022-12-15T01:30:27.304Z"
      },
      {
        "duration": 197,
        "start_time": "2022-12-15T01:30:27.311Z"
      },
      {
        "duration": 5,
        "start_time": "2022-12-15T01:30:27.510Z"
      },
      {
        "duration": 199,
        "start_time": "2022-12-15T01:30:27.516Z"
      },
      {
        "duration": 4,
        "start_time": "2022-12-15T01:30:27.717Z"
      },
      {
        "duration": 251,
        "start_time": "2022-12-15T01:30:27.723Z"
      },
      {
        "duration": 23,
        "start_time": "2022-12-15T01:30:27.976Z"
      },
      {
        "duration": 739,
        "start_time": "2022-12-15T01:30:28.001Z"
      },
      {
        "duration": 10,
        "start_time": "2022-12-15T01:30:28.742Z"
      },
      {
        "duration": 28,
        "start_time": "2022-12-15T01:30:28.753Z"
      },
      {
        "duration": 27,
        "start_time": "2022-12-15T01:30:28.782Z"
      },
      {
        "duration": 3,
        "start_time": "2022-12-15T01:30:28.810Z"
      },
      {
        "duration": 5,
        "start_time": "2022-12-15T01:30:28.815Z"
      },
      {
        "duration": 9,
        "start_time": "2022-12-15T01:30:28.821Z"
      },
      {
        "duration": 11,
        "start_time": "2022-12-15T01:30:28.832Z"
      },
      {
        "duration": 10,
        "start_time": "2022-12-15T01:30:28.844Z"
      },
      {
        "duration": 67,
        "start_time": "2022-12-15T01:30:28.856Z"
      },
      {
        "duration": 4,
        "start_time": "2022-12-15T01:30:28.925Z"
      },
      {
        "duration": 8,
        "start_time": "2022-12-15T01:30:28.931Z"
      },
      {
        "duration": 4,
        "start_time": "2022-12-15T01:30:28.941Z"
      },
      {
        "duration": 10,
        "start_time": "2022-12-15T01:33:21.016Z"
      },
      {
        "duration": 10,
        "start_time": "2022-12-15T01:33:26.806Z"
      },
      {
        "duration": 135,
        "start_time": "2022-12-15T01:33:59.136Z"
      },
      {
        "duration": 150,
        "start_time": "2022-12-15T01:34:25.069Z"
      },
      {
        "duration": 131,
        "start_time": "2022-12-15T01:37:12.125Z"
      },
      {
        "duration": 141,
        "start_time": "2022-12-15T01:37:22.582Z"
      },
      {
        "duration": 793,
        "start_time": "2022-12-15T01:38:25.649Z"
      },
      {
        "duration": 41,
        "start_time": "2022-12-15T01:45:40.057Z"
      },
      {
        "duration": 4,
        "start_time": "2022-12-15T01:56:50.347Z"
      },
      {
        "duration": 43,
        "start_time": "2022-12-15T02:03:09.923Z"
      },
      {
        "duration": 22,
        "start_time": "2022-12-15T02:05:05.123Z"
      },
      {
        "duration": 50,
        "start_time": "2022-12-15T02:05:17.772Z"
      },
      {
        "duration": 54,
        "start_time": "2022-12-15T02:20:26.320Z"
      },
      {
        "duration": 35,
        "start_time": "2022-12-15T02:21:41.871Z"
      },
      {
        "duration": 187,
        "start_time": "2022-12-15T02:22:26.716Z"
      },
      {
        "duration": 175,
        "start_time": "2022-12-15T02:22:42.866Z"
      },
      {
        "duration": 166,
        "start_time": "2022-12-15T02:22:52.641Z"
      },
      {
        "duration": 235,
        "start_time": "2022-12-15T02:23:02.195Z"
      },
      {
        "duration": 1377,
        "start_time": "2022-12-15T02:23:08.860Z"
      },
      {
        "duration": 658,
        "start_time": "2022-12-15T02:23:16.629Z"
      },
      {
        "duration": 451,
        "start_time": "2022-12-15T02:24:45.120Z"
      },
      {
        "duration": 461,
        "start_time": "2022-12-15T02:24:54.812Z"
      },
      {
        "duration": 447,
        "start_time": "2022-12-15T02:25:01.220Z"
      },
      {
        "duration": 700,
        "start_time": "2022-12-15T02:25:07.049Z"
      },
      {
        "duration": 46,
        "start_time": "2022-12-15T02:29:13.008Z"
      },
      {
        "duration": 67,
        "start_time": "2022-12-15T02:42:59.892Z"
      },
      {
        "duration": 47,
        "start_time": "2022-12-15T02:44:26.655Z"
      },
      {
        "duration": 1501,
        "start_time": "2022-12-15T04:17:57.396Z"
      },
      {
        "duration": 15,
        "start_time": "2022-12-15T04:18:00.582Z"
      },
      {
        "duration": 4,
        "start_time": "2022-12-15T04:18:00.783Z"
      },
      {
        "duration": 2005,
        "start_time": "2022-12-15T04:18:00.991Z"
      },
      {
        "duration": 77,
        "start_time": "2022-12-15T04:18:02.998Z"
      },
      {
        "duration": 20,
        "start_time": "2022-12-15T04:18:03.076Z"
      },
      {
        "duration": 8,
        "start_time": "2022-12-15T04:18:03.171Z"
      },
      {
        "duration": 8,
        "start_time": "2022-12-15T04:18:03.577Z"
      },
      {
        "duration": 31,
        "start_time": "2022-12-15T04:18:03.991Z"
      },
      {
        "duration": 9,
        "start_time": "2022-12-15T04:18:04.413Z"
      },
      {
        "duration": 5,
        "start_time": "2022-12-15T04:18:04.615Z"
      },
      {
        "duration": 10,
        "start_time": "2022-12-15T04:18:05.048Z"
      },
      {
        "duration": 7,
        "start_time": "2022-12-15T04:18:05.471Z"
      },
      {
        "duration": 15,
        "start_time": "2022-12-15T04:18:06.254Z"
      },
      {
        "duration": 4,
        "start_time": "2022-12-15T04:18:07.390Z"
      },
      {
        "duration": 6,
        "start_time": "2022-12-15T04:18:07.862Z"
      },
      {
        "duration": 6,
        "start_time": "2022-12-15T04:18:08.149Z"
      },
      {
        "duration": 5,
        "start_time": "2022-12-15T04:18:08.546Z"
      },
      {
        "duration": 25,
        "start_time": "2022-12-15T04:18:08.741Z"
      },
      {
        "duration": 3,
        "start_time": "2022-12-15T04:18:09.270Z"
      },
      {
        "duration": 319,
        "start_time": "2022-12-15T04:18:09.813Z"
      },
      {
        "duration": 30,
        "start_time": "2022-12-15T04:18:10.134Z"
      },
      {
        "duration": 4,
        "start_time": "2022-12-15T04:18:11.176Z"
      },
      {
        "duration": 23,
        "start_time": "2022-12-15T04:18:11.437Z"
      },
      {
        "duration": 3,
        "start_time": "2022-12-15T04:18:12.154Z"
      },
      {
        "duration": 26,
        "start_time": "2022-12-15T04:18:14.083Z"
      },
      {
        "duration": 221,
        "start_time": "2022-12-15T04:18:16.358Z"
      },
      {
        "duration": 224,
        "start_time": "2022-12-15T04:18:19.204Z"
      },
      {
        "duration": 210,
        "start_time": "2022-12-15T04:18:21.564Z"
      },
      {
        "duration": 38,
        "start_time": "2022-12-15T04:18:53.888Z"
      },
      {
        "duration": 784,
        "start_time": "2022-12-15T04:18:54.395Z"
      },
      {
        "duration": 260,
        "start_time": "2022-12-15T04:19:48.088Z"
      },
      {
        "duration": 221,
        "start_time": "2022-12-15T04:19:49.376Z"
      },
      {
        "duration": 198,
        "start_time": "2022-12-15T04:19:53.361Z"
      },
      {
        "duration": 239,
        "start_time": "2022-12-15T04:19:55.885Z"
      },
      {
        "duration": 170,
        "start_time": "2022-12-15T04:20:03.863Z"
      },
      {
        "duration": 207,
        "start_time": "2022-12-15T04:20:06.194Z"
      },
      {
        "duration": 152,
        "start_time": "2022-12-15T04:20:09.411Z"
      },
      {
        "duration": 287,
        "start_time": "2022-12-15T04:20:12.469Z"
      },
      {
        "duration": 1230,
        "start_time": "2022-12-15T04:50:39.321Z"
      },
      {
        "duration": 15,
        "start_time": "2022-12-15T04:50:40.552Z"
      },
      {
        "duration": 4,
        "start_time": "2022-12-15T04:50:40.568Z"
      },
      {
        "duration": 2874,
        "start_time": "2022-12-15T04:50:40.574Z"
      },
      {
        "duration": 74,
        "start_time": "2022-12-15T04:50:43.449Z"
      },
      {
        "duration": 20,
        "start_time": "2022-12-15T04:50:43.525Z"
      },
      {
        "duration": 6,
        "start_time": "2022-12-15T04:50:43.547Z"
      },
      {
        "duration": 11,
        "start_time": "2022-12-15T04:50:43.554Z"
      },
      {
        "duration": 27,
        "start_time": "2022-12-15T04:50:43.567Z"
      },
      {
        "duration": 9,
        "start_time": "2022-12-15T04:50:43.615Z"
      },
      {
        "duration": 5,
        "start_time": "2022-12-15T04:50:43.625Z"
      },
      {
        "duration": 10,
        "start_time": "2022-12-15T04:50:43.632Z"
      },
      {
        "duration": 10,
        "start_time": "2022-12-15T04:50:43.643Z"
      },
      {
        "duration": 11,
        "start_time": "2022-12-15T04:50:43.655Z"
      },
      {
        "duration": 3,
        "start_time": "2022-12-15T04:50:43.667Z"
      },
      {
        "duration": 9,
        "start_time": "2022-12-15T04:50:43.671Z"
      },
      {
        "duration": 34,
        "start_time": "2022-12-15T04:50:43.681Z"
      },
      {
        "duration": 6,
        "start_time": "2022-12-15T04:50:43.717Z"
      },
      {
        "duration": 24,
        "start_time": "2022-12-15T04:50:43.724Z"
      },
      {
        "duration": 3,
        "start_time": "2022-12-15T04:50:43.750Z"
      },
      {
        "duration": 374,
        "start_time": "2022-12-15T04:50:43.754Z"
      },
      {
        "duration": 30,
        "start_time": "2022-12-15T04:50:44.130Z"
      },
      {
        "duration": 4,
        "start_time": "2022-12-15T04:50:44.162Z"
      },
      {
        "duration": 25,
        "start_time": "2022-12-15T04:50:44.167Z"
      },
      {
        "duration": 3,
        "start_time": "2022-12-15T04:50:44.215Z"
      },
      {
        "duration": 25,
        "start_time": "2022-12-15T04:50:44.219Z"
      },
      {
        "duration": 241,
        "start_time": "2022-12-15T04:50:44.245Z"
      },
      {
        "duration": 243,
        "start_time": "2022-12-15T04:50:44.490Z"
      },
      {
        "duration": 225,
        "start_time": "2022-12-15T04:50:44.735Z"
      },
      {
        "duration": 37,
        "start_time": "2022-12-15T04:50:44.962Z"
      },
      {
        "duration": 869,
        "start_time": "2022-12-15T04:50:45.000Z"
      },
      {
        "duration": 265,
        "start_time": "2022-12-15T04:50:45.871Z"
      },
      {
        "duration": 292,
        "start_time": "2022-12-15T04:50:46.137Z"
      },
      {
        "duration": 205,
        "start_time": "2022-12-15T04:50:46.431Z"
      },
      {
        "duration": 233,
        "start_time": "2022-12-15T04:50:46.637Z"
      },
      {
        "duration": 183,
        "start_time": "2022-12-15T04:50:46.871Z"
      },
      {
        "duration": 165,
        "start_time": "2022-12-15T04:50:47.055Z"
      },
      {
        "duration": 163,
        "start_time": "2022-12-15T04:50:47.222Z"
      },
      {
        "duration": 293,
        "start_time": "2022-12-15T04:50:47.387Z"
      },
      {
        "duration": 178,
        "start_time": "2022-12-15T04:50:47.681Z"
      },
      {
        "duration": 144,
        "start_time": "2022-12-15T04:50:47.861Z"
      },
      {
        "duration": 44,
        "start_time": "2022-12-15T04:50:48.007Z"
      },
      {
        "duration": 192,
        "start_time": "2022-12-15T04:50:48.053Z"
      },
      {
        "duration": 603,
        "start_time": "2022-12-15T04:50:48.246Z"
      },
      {
        "duration": 5,
        "start_time": "2022-12-15T04:50:48.850Z"
      },
      {
        "duration": 8,
        "start_time": "2022-12-15T04:50:48.857Z"
      },
      {
        "duration": 225,
        "start_time": "2022-12-15T04:50:48.866Z"
      },
      {
        "duration": 7,
        "start_time": "2022-12-15T04:50:49.093Z"
      },
      {
        "duration": 220,
        "start_time": "2022-12-15T04:50:49.101Z"
      },
      {
        "duration": 5,
        "start_time": "2022-12-15T04:50:49.323Z"
      },
      {
        "duration": 200,
        "start_time": "2022-12-15T04:50:49.330Z"
      },
      {
        "duration": 6,
        "start_time": "2022-12-15T04:50:49.531Z"
      },
      {
        "duration": 208,
        "start_time": "2022-12-15T04:50:49.538Z"
      },
      {
        "duration": 5,
        "start_time": "2022-12-15T04:50:49.748Z"
      },
      {
        "duration": 135,
        "start_time": "2022-12-15T04:50:49.754Z"
      },
      {
        "duration": 16,
        "start_time": "2022-12-15T04:50:49.890Z"
      },
      {
        "duration": 819,
        "start_time": "2022-12-15T04:50:49.915Z"
      },
      {
        "duration": 10,
        "start_time": "2022-12-15T04:50:50.736Z"
      },
      {
        "duration": 23,
        "start_time": "2022-12-15T04:50:50.748Z"
      },
      {
        "duration": 17,
        "start_time": "2022-12-15T04:50:50.773Z"
      },
      {
        "duration": 3,
        "start_time": "2022-12-15T04:50:50.815Z"
      },
      {
        "duration": 6,
        "start_time": "2022-12-15T04:50:50.819Z"
      },
      {
        "duration": 9,
        "start_time": "2022-12-15T04:50:50.826Z"
      },
      {
        "duration": 11,
        "start_time": "2022-12-15T04:50:50.837Z"
      },
      {
        "duration": 10,
        "start_time": "2022-12-15T04:50:50.849Z"
      },
      {
        "duration": 57,
        "start_time": "2022-12-15T04:50:50.860Z"
      },
      {
        "duration": 8,
        "start_time": "2022-12-15T04:50:50.918Z"
      },
      {
        "duration": 166,
        "start_time": "2022-12-15T04:50:50.927Z"
      },
      {
        "duration": 404,
        "start_time": "2022-12-15T07:57:34.935Z"
      },
      {
        "duration": 917,
        "start_time": "2022-12-15T07:57:35.341Z"
      },
      {
        "duration": 3,
        "start_time": "2022-12-15T07:57:36.260Z"
      },
      {
        "duration": 149,
        "start_time": "2022-12-15T07:57:36.264Z"
      },
      {
        "duration": 2,
        "start_time": "2022-12-15T07:57:36.415Z"
      },
      {
        "duration": 20,
        "start_time": "2022-12-15T07:57:36.419Z"
      },
      {
        "duration": 6,
        "start_time": "2022-12-15T07:57:36.441Z"
      },
      {
        "duration": 104,
        "start_time": "2022-12-15T07:57:36.449Z"
      },
      {
        "duration": 0,
        "start_time": "2022-12-15T07:57:36.556Z"
      },
      {
        "duration": 0,
        "start_time": "2022-12-15T07:57:36.557Z"
      },
      {
        "duration": 0,
        "start_time": "2022-12-15T07:57:36.558Z"
      },
      {
        "duration": 0,
        "start_time": "2022-12-15T07:57:36.559Z"
      },
      {
        "duration": 0,
        "start_time": "2022-12-15T07:57:36.560Z"
      },
      {
        "duration": 0,
        "start_time": "2022-12-15T07:57:36.561Z"
      },
      {
        "duration": 0,
        "start_time": "2022-12-15T07:57:36.562Z"
      },
      {
        "duration": 0,
        "start_time": "2022-12-15T07:57:36.562Z"
      },
      {
        "duration": 0,
        "start_time": "2022-12-15T07:57:36.563Z"
      },
      {
        "duration": 0,
        "start_time": "2022-12-15T07:57:36.564Z"
      },
      {
        "duration": 0,
        "start_time": "2022-12-15T07:57:36.565Z"
      },
      {
        "duration": 0,
        "start_time": "2022-12-15T07:57:36.566Z"
      },
      {
        "duration": 0,
        "start_time": "2022-12-15T07:57:36.567Z"
      },
      {
        "duration": 0,
        "start_time": "2022-12-15T07:57:36.568Z"
      },
      {
        "duration": 0,
        "start_time": "2022-12-15T07:57:36.569Z"
      },
      {
        "duration": 0,
        "start_time": "2022-12-15T07:57:36.570Z"
      },
      {
        "duration": 0,
        "start_time": "2022-12-15T07:57:36.571Z"
      },
      {
        "duration": 0,
        "start_time": "2022-12-15T07:57:36.572Z"
      },
      {
        "duration": 0,
        "start_time": "2022-12-15T07:57:36.572Z"
      },
      {
        "duration": 0,
        "start_time": "2022-12-15T07:57:36.573Z"
      },
      {
        "duration": 0,
        "start_time": "2022-12-15T07:57:36.575Z"
      },
      {
        "duration": 0,
        "start_time": "2022-12-15T07:57:36.576Z"
      },
      {
        "duration": 0,
        "start_time": "2022-12-15T07:57:36.577Z"
      },
      {
        "duration": 0,
        "start_time": "2022-12-15T07:57:36.578Z"
      },
      {
        "duration": 0,
        "start_time": "2022-12-15T07:57:36.579Z"
      },
      {
        "duration": 0,
        "start_time": "2022-12-15T07:57:36.580Z"
      },
      {
        "duration": 0,
        "start_time": "2022-12-15T07:57:36.581Z"
      },
      {
        "duration": 0,
        "start_time": "2022-12-15T07:57:36.622Z"
      },
      {
        "duration": 0,
        "start_time": "2022-12-15T07:57:36.623Z"
      },
      {
        "duration": 0,
        "start_time": "2022-12-15T07:57:36.625Z"
      },
      {
        "duration": 0,
        "start_time": "2022-12-15T07:57:36.625Z"
      },
      {
        "duration": 0,
        "start_time": "2022-12-15T07:57:36.626Z"
      },
      {
        "duration": 0,
        "start_time": "2022-12-15T07:57:36.627Z"
      },
      {
        "duration": 0,
        "start_time": "2022-12-15T07:57:36.629Z"
      },
      {
        "duration": 0,
        "start_time": "2022-12-15T07:57:36.630Z"
      },
      {
        "duration": 0,
        "start_time": "2022-12-15T07:57:36.631Z"
      },
      {
        "duration": 0,
        "start_time": "2022-12-15T07:57:36.632Z"
      },
      {
        "duration": 0,
        "start_time": "2022-12-15T07:57:36.633Z"
      },
      {
        "duration": 0,
        "start_time": "2022-12-15T07:57:36.634Z"
      },
      {
        "duration": 0,
        "start_time": "2022-12-15T07:57:36.635Z"
      },
      {
        "duration": 0,
        "start_time": "2022-12-15T07:57:36.636Z"
      },
      {
        "duration": 0,
        "start_time": "2022-12-15T07:57:36.637Z"
      },
      {
        "duration": 0,
        "start_time": "2022-12-15T07:57:36.638Z"
      },
      {
        "duration": 0,
        "start_time": "2022-12-15T07:57:36.639Z"
      },
      {
        "duration": 0,
        "start_time": "2022-12-15T07:57:36.640Z"
      },
      {
        "duration": 0,
        "start_time": "2022-12-15T07:57:36.641Z"
      },
      {
        "duration": 0,
        "start_time": "2022-12-15T07:57:36.643Z"
      },
      {
        "duration": 0,
        "start_time": "2022-12-15T07:57:36.644Z"
      },
      {
        "duration": 0,
        "start_time": "2022-12-15T07:57:36.646Z"
      },
      {
        "duration": 0,
        "start_time": "2022-12-15T07:57:36.647Z"
      },
      {
        "duration": 0,
        "start_time": "2022-12-15T07:57:36.648Z"
      },
      {
        "duration": 0,
        "start_time": "2022-12-15T07:57:36.650Z"
      },
      {
        "duration": 0,
        "start_time": "2022-12-15T07:57:36.651Z"
      },
      {
        "duration": 1,
        "start_time": "2022-12-15T07:57:36.652Z"
      },
      {
        "duration": 0,
        "start_time": "2022-12-15T07:57:36.654Z"
      },
      {
        "duration": 0,
        "start_time": "2022-12-15T07:57:36.655Z"
      },
      {
        "duration": 0,
        "start_time": "2022-12-15T07:57:36.657Z"
      },
      {
        "duration": 0,
        "start_time": "2022-12-15T07:57:36.658Z"
      },
      {
        "duration": 0,
        "start_time": "2022-12-15T07:57:36.659Z"
      },
      {
        "duration": 0,
        "start_time": "2022-12-15T07:57:36.721Z"
      },
      {
        "duration": 0,
        "start_time": "2022-12-15T07:57:36.723Z"
      },
      {
        "duration": 0,
        "start_time": "2022-12-15T07:57:36.725Z"
      },
      {
        "duration": 0,
        "start_time": "2022-12-15T07:57:36.726Z"
      },
      {
        "duration": 0,
        "start_time": "2022-12-15T07:57:36.728Z"
      },
      {
        "duration": 386,
        "start_time": "2022-12-15T07:58:24.332Z"
      },
      {
        "duration": 751,
        "start_time": "2022-12-15T07:58:24.720Z"
      },
      {
        "duration": 3,
        "start_time": "2022-12-15T07:58:25.473Z"
      },
      {
        "duration": 83,
        "start_time": "2022-12-15T07:58:25.479Z"
      },
      {
        "duration": 4,
        "start_time": "2022-12-15T07:58:25.563Z"
      },
      {
        "duration": 14,
        "start_time": "2022-12-15T07:58:25.569Z"
      },
      {
        "duration": 8,
        "start_time": "2022-12-15T07:58:25.584Z"
      },
      {
        "duration": 118,
        "start_time": "2022-12-15T07:58:25.593Z"
      },
      {
        "duration": 0,
        "start_time": "2022-12-15T07:58:25.715Z"
      },
      {
        "duration": 0,
        "start_time": "2022-12-15T07:58:25.722Z"
      },
      {
        "duration": 0,
        "start_time": "2022-12-15T07:58:25.724Z"
      },
      {
        "duration": 0,
        "start_time": "2022-12-15T07:58:25.725Z"
      },
      {
        "duration": 0,
        "start_time": "2022-12-15T07:58:25.726Z"
      },
      {
        "duration": 0,
        "start_time": "2022-12-15T07:58:25.728Z"
      },
      {
        "duration": 0,
        "start_time": "2022-12-15T07:58:25.729Z"
      },
      {
        "duration": 0,
        "start_time": "2022-12-15T07:58:25.730Z"
      },
      {
        "duration": 0,
        "start_time": "2022-12-15T07:58:25.732Z"
      },
      {
        "duration": 0,
        "start_time": "2022-12-15T07:58:25.734Z"
      },
      {
        "duration": 0,
        "start_time": "2022-12-15T07:58:25.735Z"
      },
      {
        "duration": 0,
        "start_time": "2022-12-15T07:58:25.736Z"
      },
      {
        "duration": 0,
        "start_time": "2022-12-15T07:58:25.737Z"
      },
      {
        "duration": 0,
        "start_time": "2022-12-15T07:58:25.739Z"
      },
      {
        "duration": 0,
        "start_time": "2022-12-15T07:58:25.740Z"
      },
      {
        "duration": 0,
        "start_time": "2022-12-15T07:58:25.742Z"
      },
      {
        "duration": 0,
        "start_time": "2022-12-15T07:58:25.743Z"
      },
      {
        "duration": 0,
        "start_time": "2022-12-15T07:58:25.745Z"
      },
      {
        "duration": 0,
        "start_time": "2022-12-15T07:58:25.746Z"
      },
      {
        "duration": 0,
        "start_time": "2022-12-15T07:58:25.747Z"
      },
      {
        "duration": 0,
        "start_time": "2022-12-15T07:58:25.748Z"
      },
      {
        "duration": 1,
        "start_time": "2022-12-15T07:58:25.749Z"
      },
      {
        "duration": 0,
        "start_time": "2022-12-15T07:58:25.751Z"
      },
      {
        "duration": 0,
        "start_time": "2022-12-15T07:58:25.752Z"
      },
      {
        "duration": 0,
        "start_time": "2022-12-15T07:58:25.753Z"
      },
      {
        "duration": 0,
        "start_time": "2022-12-15T07:58:25.755Z"
      },
      {
        "duration": 0,
        "start_time": "2022-12-15T07:58:25.756Z"
      },
      {
        "duration": 1,
        "start_time": "2022-12-15T07:58:25.757Z"
      },
      {
        "duration": 0,
        "start_time": "2022-12-15T07:58:25.759Z"
      },
      {
        "duration": 0,
        "start_time": "2022-12-15T07:58:25.760Z"
      },
      {
        "duration": 0,
        "start_time": "2022-12-15T07:58:25.761Z"
      },
      {
        "duration": 0,
        "start_time": "2022-12-15T07:58:25.762Z"
      },
      {
        "duration": 0,
        "start_time": "2022-12-15T07:58:25.763Z"
      },
      {
        "duration": 0,
        "start_time": "2022-12-15T07:58:25.764Z"
      },
      {
        "duration": 0,
        "start_time": "2022-12-15T07:58:25.823Z"
      },
      {
        "duration": 0,
        "start_time": "2022-12-15T07:58:25.824Z"
      },
      {
        "duration": 0,
        "start_time": "2022-12-15T07:58:25.826Z"
      },
      {
        "duration": 0,
        "start_time": "2022-12-15T07:58:25.827Z"
      },
      {
        "duration": 0,
        "start_time": "2022-12-15T07:58:25.829Z"
      },
      {
        "duration": 0,
        "start_time": "2022-12-15T07:58:25.830Z"
      },
      {
        "duration": 0,
        "start_time": "2022-12-15T07:58:25.831Z"
      },
      {
        "duration": 0,
        "start_time": "2022-12-15T07:58:25.833Z"
      },
      {
        "duration": 0,
        "start_time": "2022-12-15T07:58:25.834Z"
      },
      {
        "duration": 0,
        "start_time": "2022-12-15T07:58:25.836Z"
      },
      {
        "duration": 0,
        "start_time": "2022-12-15T07:58:25.837Z"
      },
      {
        "duration": 0,
        "start_time": "2022-12-15T07:58:25.839Z"
      },
      {
        "duration": 0,
        "start_time": "2022-12-15T07:58:25.840Z"
      },
      {
        "duration": 0,
        "start_time": "2022-12-15T07:58:25.841Z"
      },
      {
        "duration": 0,
        "start_time": "2022-12-15T07:58:25.843Z"
      },
      {
        "duration": 0,
        "start_time": "2022-12-15T07:58:25.844Z"
      },
      {
        "duration": 0,
        "start_time": "2022-12-15T07:58:25.845Z"
      },
      {
        "duration": 0,
        "start_time": "2022-12-15T07:58:25.847Z"
      },
      {
        "duration": 0,
        "start_time": "2022-12-15T07:58:25.848Z"
      },
      {
        "duration": 0,
        "start_time": "2022-12-15T07:58:25.850Z"
      },
      {
        "duration": 0,
        "start_time": "2022-12-15T07:58:25.852Z"
      },
      {
        "duration": 0,
        "start_time": "2022-12-15T07:58:25.853Z"
      },
      {
        "duration": 0,
        "start_time": "2022-12-15T07:58:25.855Z"
      },
      {
        "duration": 0,
        "start_time": "2022-12-15T07:58:25.856Z"
      },
      {
        "duration": 0,
        "start_time": "2022-12-15T07:58:25.857Z"
      },
      {
        "duration": 0,
        "start_time": "2022-12-15T07:58:25.922Z"
      },
      {
        "duration": 0,
        "start_time": "2022-12-15T07:58:25.923Z"
      },
      {
        "duration": 0,
        "start_time": "2022-12-15T07:58:25.924Z"
      },
      {
        "duration": 0,
        "start_time": "2022-12-15T07:58:25.925Z"
      },
      {
        "duration": 0,
        "start_time": "2022-12-15T07:58:25.927Z"
      },
      {
        "duration": 9,
        "start_time": "2022-12-15T08:01:44.718Z"
      },
      {
        "duration": 74,
        "start_time": "2022-12-15T08:02:23.951Z"
      },
      {
        "duration": 88,
        "start_time": "2022-12-15T08:02:34.143Z"
      },
      {
        "duration": 3,
        "start_time": "2022-12-15T08:02:35.901Z"
      },
      {
        "duration": 8,
        "start_time": "2022-12-15T08:02:36.500Z"
      },
      {
        "duration": 83,
        "start_time": "2022-12-15T08:03:19.879Z"
      },
      {
        "duration": 2,
        "start_time": "2022-12-15T08:03:20.444Z"
      },
      {
        "duration": 9,
        "start_time": "2022-12-15T08:03:21.002Z"
      },
      {
        "duration": 81,
        "start_time": "2022-12-15T08:03:46.720Z"
      },
      {
        "duration": 3,
        "start_time": "2022-12-15T08:03:47.169Z"
      },
      {
        "duration": 8,
        "start_time": "2022-12-15T08:03:47.617Z"
      },
      {
        "duration": 90,
        "start_time": "2022-12-15T08:05:19.504Z"
      },
      {
        "duration": 2,
        "start_time": "2022-12-15T08:05:20.213Z"
      },
      {
        "duration": 36,
        "start_time": "2022-12-15T08:05:20.587Z"
      },
      {
        "duration": 22,
        "start_time": "2022-12-15T08:05:32.710Z"
      },
      {
        "duration": 400,
        "start_time": "2022-12-15T08:05:41.987Z"
      },
      {
        "duration": 740,
        "start_time": "2022-12-15T08:05:42.389Z"
      },
      {
        "duration": 3,
        "start_time": "2022-12-15T08:05:43.130Z"
      },
      {
        "duration": 91,
        "start_time": "2022-12-15T08:05:43.136Z"
      },
      {
        "duration": 3,
        "start_time": "2022-12-15T08:05:43.230Z"
      },
      {
        "duration": 26,
        "start_time": "2022-12-15T08:05:43.235Z"
      },
      {
        "duration": 14,
        "start_time": "2022-12-15T08:05:43.263Z"
      },
      {
        "duration": 4,
        "start_time": "2022-12-15T08:05:43.279Z"
      },
      {
        "duration": 2015,
        "start_time": "2022-12-15T08:05:43.284Z"
      },
      {
        "duration": 154,
        "start_time": "2022-12-15T08:05:45.301Z"
      },
      {
        "duration": 20,
        "start_time": "2022-12-15T08:05:45.456Z"
      },
      {
        "duration": 6,
        "start_time": "2022-12-15T08:05:45.477Z"
      },
      {
        "duration": 13,
        "start_time": "2022-12-15T08:05:45.484Z"
      },
      {
        "duration": 46,
        "start_time": "2022-12-15T08:05:45.500Z"
      },
      {
        "duration": 9,
        "start_time": "2022-12-15T08:05:45.548Z"
      },
      {
        "duration": 6,
        "start_time": "2022-12-15T08:05:45.558Z"
      },
      {
        "duration": 14,
        "start_time": "2022-12-15T08:05:45.566Z"
      },
      {
        "duration": 6,
        "start_time": "2022-12-15T08:05:45.582Z"
      },
      {
        "duration": 39,
        "start_time": "2022-12-15T08:05:45.589Z"
      },
      {
        "duration": 4,
        "start_time": "2022-12-15T08:05:45.629Z"
      },
      {
        "duration": 10,
        "start_time": "2022-12-15T08:05:45.634Z"
      },
      {
        "duration": 6,
        "start_time": "2022-12-15T08:05:45.646Z"
      },
      {
        "duration": 6,
        "start_time": "2022-12-15T08:05:45.654Z"
      },
      {
        "duration": 24,
        "start_time": "2022-12-15T08:05:45.661Z"
      },
      {
        "duration": 5,
        "start_time": "2022-12-15T08:05:45.686Z"
      },
      {
        "duration": 366,
        "start_time": "2022-12-15T08:05:45.693Z"
      },
      {
        "duration": 31,
        "start_time": "2022-12-15T08:05:46.061Z"
      },
      {
        "duration": 5,
        "start_time": "2022-12-15T08:05:46.094Z"
      },
      {
        "duration": 47,
        "start_time": "2022-12-15T08:05:46.100Z"
      },
      {
        "duration": 5,
        "start_time": "2022-12-15T08:05:46.149Z"
      },
      {
        "duration": 25,
        "start_time": "2022-12-15T08:05:46.155Z"
      },
      {
        "duration": 248,
        "start_time": "2022-12-15T08:05:46.182Z"
      },
      {
        "duration": 243,
        "start_time": "2022-12-15T08:05:46.432Z"
      },
      {
        "duration": 249,
        "start_time": "2022-12-15T08:05:46.676Z"
      },
      {
        "duration": 38,
        "start_time": "2022-12-15T08:05:46.927Z"
      },
      {
        "duration": 823,
        "start_time": "2022-12-15T08:05:46.966Z"
      },
      {
        "duration": 273,
        "start_time": "2022-12-15T08:05:47.791Z"
      },
      {
        "duration": 239,
        "start_time": "2022-12-15T08:05:48.066Z"
      },
      {
        "duration": 217,
        "start_time": "2022-12-15T08:05:48.307Z"
      },
      {
        "duration": 130,
        "start_time": "2022-12-15T08:05:48.525Z"
      },
      {
        "duration": 336,
        "start_time": "2022-12-15T08:05:48.659Z"
      },
      {
        "duration": 188,
        "start_time": "2022-12-15T08:05:48.997Z"
      },
      {
        "duration": 261,
        "start_time": "2022-12-15T08:05:49.187Z"
      },
      {
        "duration": 329,
        "start_time": "2022-12-15T08:05:49.450Z"
      },
      {
        "duration": 188,
        "start_time": "2022-12-15T08:05:49.781Z"
      },
      {
        "duration": 154,
        "start_time": "2022-12-15T08:05:49.971Z"
      },
      {
        "duration": 39,
        "start_time": "2022-12-15T08:05:50.127Z"
      },
      {
        "duration": 197,
        "start_time": "2022-12-15T08:05:50.167Z"
      },
      {
        "duration": 639,
        "start_time": "2022-12-15T08:05:50.366Z"
      },
      {
        "duration": 14,
        "start_time": "2022-12-15T08:05:51.007Z"
      },
      {
        "duration": 6,
        "start_time": "2022-12-15T08:05:51.023Z"
      },
      {
        "duration": 224,
        "start_time": "2022-12-15T08:05:51.031Z"
      },
      {
        "duration": 5,
        "start_time": "2022-12-15T08:05:51.257Z"
      },
      {
        "duration": 221,
        "start_time": "2022-12-15T08:05:51.264Z"
      },
      {
        "duration": 5,
        "start_time": "2022-12-15T08:05:51.487Z"
      },
      {
        "duration": 214,
        "start_time": "2022-12-15T08:05:51.494Z"
      },
      {
        "duration": 13,
        "start_time": "2022-12-15T08:05:51.710Z"
      },
      {
        "duration": 218,
        "start_time": "2022-12-15T08:05:51.724Z"
      },
      {
        "duration": 5,
        "start_time": "2022-12-15T08:05:51.943Z"
      },
      {
        "duration": 135,
        "start_time": "2022-12-15T08:05:51.949Z"
      },
      {
        "duration": 17,
        "start_time": "2022-12-15T08:05:52.086Z"
      },
      {
        "duration": 823,
        "start_time": "2022-12-15T08:05:52.105Z"
      },
      {
        "duration": 10,
        "start_time": "2022-12-15T08:05:52.930Z"
      },
      {
        "duration": 50,
        "start_time": "2022-12-15T08:05:52.942Z"
      },
      {
        "duration": 37,
        "start_time": "2022-12-15T08:05:52.994Z"
      },
      {
        "duration": 22,
        "start_time": "2022-12-15T08:05:53.033Z"
      },
      {
        "duration": 20,
        "start_time": "2022-12-15T08:05:53.057Z"
      },
      {
        "duration": 30,
        "start_time": "2022-12-15T08:05:53.078Z"
      },
      {
        "duration": 21,
        "start_time": "2022-12-15T08:05:53.110Z"
      },
      {
        "duration": 34,
        "start_time": "2022-12-15T08:05:53.133Z"
      },
      {
        "duration": 54,
        "start_time": "2022-12-15T08:05:53.169Z"
      },
      {
        "duration": 11,
        "start_time": "2022-12-15T08:05:53.224Z"
      },
      {
        "duration": 163,
        "start_time": "2022-12-15T08:05:53.236Z"
      },
      {
        "duration": 2690,
        "start_time": "2022-12-15T08:08:26.443Z"
      },
      {
        "duration": 104,
        "start_time": "2022-12-15T08:09:11.512Z"
      },
      {
        "duration": 33,
        "start_time": "2022-12-15T08:09:19.828Z"
      },
      {
        "duration": 18,
        "start_time": "2022-12-15T08:15:32.995Z"
      },
      {
        "duration": 20,
        "start_time": "2022-12-15T08:17:44.124Z"
      },
      {
        "duration": 28,
        "start_time": "2022-12-15T08:18:28.856Z"
      },
      {
        "duration": 398,
        "start_time": "2022-12-15T08:35:49.267Z"
      },
      {
        "duration": 852,
        "start_time": "2022-12-15T08:35:49.667Z"
      },
      {
        "duration": 3,
        "start_time": "2022-12-15T08:35:50.526Z"
      },
      {
        "duration": 102,
        "start_time": "2022-12-15T08:35:50.531Z"
      },
      {
        "duration": 3,
        "start_time": "2022-12-15T08:35:50.635Z"
      },
      {
        "duration": 28,
        "start_time": "2022-12-15T08:35:50.640Z"
      },
      {
        "duration": 15,
        "start_time": "2022-12-15T08:35:50.670Z"
      },
      {
        "duration": 4,
        "start_time": "2022-12-15T08:35:50.687Z"
      },
      {
        "duration": 2275,
        "start_time": "2022-12-15T08:35:50.693Z"
      },
      {
        "duration": 180,
        "start_time": "2022-12-15T08:35:52.971Z"
      },
      {
        "duration": 24,
        "start_time": "2022-12-15T08:35:53.153Z"
      },
      {
        "duration": 21,
        "start_time": "2022-12-15T08:35:53.179Z"
      },
      {
        "duration": 33,
        "start_time": "2022-12-15T08:35:53.202Z"
      },
      {
        "duration": 29,
        "start_time": "2022-12-15T08:35:53.236Z"
      },
      {
        "duration": 9,
        "start_time": "2022-12-15T08:35:53.266Z"
      },
      {
        "duration": 51,
        "start_time": "2022-12-15T08:35:53.277Z"
      },
      {
        "duration": 9,
        "start_time": "2022-12-15T08:35:53.330Z"
      },
      {
        "duration": 5,
        "start_time": "2022-12-15T08:35:53.341Z"
      },
      {
        "duration": 123,
        "start_time": "2022-12-15T08:35:53.347Z"
      },
      {
        "duration": 0,
        "start_time": "2022-12-15T08:35:53.473Z"
      },
      {
        "duration": 0,
        "start_time": "2022-12-15T08:35:53.474Z"
      },
      {
        "duration": 0,
        "start_time": "2022-12-15T08:35:53.476Z"
      },
      {
        "duration": 0,
        "start_time": "2022-12-15T08:35:53.478Z"
      },
      {
        "duration": 0,
        "start_time": "2022-12-15T08:35:53.479Z"
      },
      {
        "duration": 0,
        "start_time": "2022-12-15T08:35:53.480Z"
      },
      {
        "duration": 0,
        "start_time": "2022-12-15T08:35:53.482Z"
      },
      {
        "duration": 0,
        "start_time": "2022-12-15T08:35:53.483Z"
      },
      {
        "duration": 0,
        "start_time": "2022-12-15T08:35:53.485Z"
      },
      {
        "duration": 0,
        "start_time": "2022-12-15T08:35:53.487Z"
      },
      {
        "duration": 0,
        "start_time": "2022-12-15T08:35:53.488Z"
      },
      {
        "duration": 0,
        "start_time": "2022-12-15T08:35:53.490Z"
      },
      {
        "duration": 0,
        "start_time": "2022-12-15T08:35:53.523Z"
      },
      {
        "duration": 0,
        "start_time": "2022-12-15T08:35:53.524Z"
      },
      {
        "duration": 0,
        "start_time": "2022-12-15T08:35:53.526Z"
      },
      {
        "duration": 0,
        "start_time": "2022-12-15T08:35:53.527Z"
      },
      {
        "duration": 0,
        "start_time": "2022-12-15T08:35:53.529Z"
      },
      {
        "duration": 0,
        "start_time": "2022-12-15T08:35:53.530Z"
      },
      {
        "duration": 0,
        "start_time": "2022-12-15T08:35:53.531Z"
      },
      {
        "duration": 0,
        "start_time": "2022-12-15T08:35:53.533Z"
      },
      {
        "duration": 0,
        "start_time": "2022-12-15T08:35:53.534Z"
      },
      {
        "duration": 0,
        "start_time": "2022-12-15T08:35:53.536Z"
      },
      {
        "duration": 0,
        "start_time": "2022-12-15T08:35:53.537Z"
      },
      {
        "duration": 0,
        "start_time": "2022-12-15T08:35:53.539Z"
      },
      {
        "duration": 0,
        "start_time": "2022-12-15T08:35:53.540Z"
      },
      {
        "duration": 0,
        "start_time": "2022-12-15T08:35:53.542Z"
      },
      {
        "duration": 1,
        "start_time": "2022-12-15T08:35:53.543Z"
      },
      {
        "duration": 0,
        "start_time": "2022-12-15T08:35:53.545Z"
      },
      {
        "duration": 0,
        "start_time": "2022-12-15T08:35:53.546Z"
      },
      {
        "duration": 0,
        "start_time": "2022-12-15T08:35:53.548Z"
      },
      {
        "duration": 0,
        "start_time": "2022-12-15T08:35:53.550Z"
      },
      {
        "duration": 0,
        "start_time": "2022-12-15T08:35:53.552Z"
      },
      {
        "duration": 0,
        "start_time": "2022-12-15T08:35:53.553Z"
      },
      {
        "duration": 0,
        "start_time": "2022-12-15T08:35:53.554Z"
      },
      {
        "duration": 0,
        "start_time": "2022-12-15T08:35:53.556Z"
      },
      {
        "duration": 0,
        "start_time": "2022-12-15T08:35:53.557Z"
      },
      {
        "duration": 0,
        "start_time": "2022-12-15T08:35:53.559Z"
      },
      {
        "duration": 0,
        "start_time": "2022-12-15T08:35:53.560Z"
      },
      {
        "duration": 0,
        "start_time": "2022-12-15T08:35:53.621Z"
      },
      {
        "duration": 0,
        "start_time": "2022-12-15T08:35:53.622Z"
      },
      {
        "duration": 0,
        "start_time": "2022-12-15T08:35:53.624Z"
      },
      {
        "duration": 0,
        "start_time": "2022-12-15T08:35:53.625Z"
      },
      {
        "duration": 0,
        "start_time": "2022-12-15T08:35:53.627Z"
      },
      {
        "duration": 0,
        "start_time": "2022-12-15T08:35:53.628Z"
      },
      {
        "duration": 0,
        "start_time": "2022-12-15T08:35:53.629Z"
      },
      {
        "duration": 0,
        "start_time": "2022-12-15T08:35:53.630Z"
      },
      {
        "duration": 0,
        "start_time": "2022-12-15T08:35:53.631Z"
      },
      {
        "duration": 0,
        "start_time": "2022-12-15T08:35:53.632Z"
      },
      {
        "duration": 0,
        "start_time": "2022-12-15T08:35:53.633Z"
      },
      {
        "duration": 0,
        "start_time": "2022-12-15T08:35:53.634Z"
      },
      {
        "duration": 0,
        "start_time": "2022-12-15T08:35:53.635Z"
      },
      {
        "duration": 0,
        "start_time": "2022-12-15T08:35:53.636Z"
      },
      {
        "duration": 0,
        "start_time": "2022-12-15T08:35:53.637Z"
      },
      {
        "duration": 1,
        "start_time": "2022-12-15T08:35:53.638Z"
      },
      {
        "duration": 0,
        "start_time": "2022-12-15T08:35:53.640Z"
      },
      {
        "duration": 0,
        "start_time": "2022-12-15T08:35:53.641Z"
      },
      {
        "duration": 13,
        "start_time": "2022-12-15T08:38:36.761Z"
      },
      {
        "duration": 433,
        "start_time": "2022-12-15T08:39:00.526Z"
      },
      {
        "duration": 814,
        "start_time": "2022-12-15T08:39:00.961Z"
      },
      {
        "duration": 3,
        "start_time": "2022-12-15T08:39:01.776Z"
      },
      {
        "duration": 120,
        "start_time": "2022-12-15T08:39:01.781Z"
      },
      {
        "duration": 3,
        "start_time": "2022-12-15T08:39:01.904Z"
      },
      {
        "duration": 39,
        "start_time": "2022-12-15T08:39:01.908Z"
      },
      {
        "duration": 44,
        "start_time": "2022-12-15T08:39:01.949Z"
      },
      {
        "duration": 13,
        "start_time": "2022-12-15T08:39:01.995Z"
      },
      {
        "duration": 2003,
        "start_time": "2022-12-15T08:39:02.009Z"
      },
      {
        "duration": 217,
        "start_time": "2022-12-15T08:39:04.013Z"
      },
      {
        "duration": 31,
        "start_time": "2022-12-15T08:39:04.232Z"
      },
      {
        "duration": 26,
        "start_time": "2022-12-15T08:39:04.265Z"
      },
      {
        "duration": 34,
        "start_time": "2022-12-15T08:39:04.293Z"
      },
      {
        "duration": 65,
        "start_time": "2022-12-15T08:39:04.330Z"
      },
      {
        "duration": 27,
        "start_time": "2022-12-15T08:39:04.396Z"
      },
      {
        "duration": 57,
        "start_time": "2022-12-15T08:39:04.424Z"
      },
      {
        "duration": 18,
        "start_time": "2022-12-15T08:39:04.483Z"
      },
      {
        "duration": 44,
        "start_time": "2022-12-15T08:39:04.503Z"
      },
      {
        "duration": 32,
        "start_time": "2022-12-15T08:39:04.549Z"
      },
      {
        "duration": 39,
        "start_time": "2022-12-15T08:39:04.583Z"
      },
      {
        "duration": 39,
        "start_time": "2022-12-15T08:39:04.624Z"
      },
      {
        "duration": 18,
        "start_time": "2022-12-15T08:39:04.665Z"
      },
      {
        "duration": 32,
        "start_time": "2022-12-15T08:39:04.685Z"
      },
      {
        "duration": 21,
        "start_time": "2022-12-15T08:39:04.719Z"
      },
      {
        "duration": 36,
        "start_time": "2022-12-15T08:39:04.741Z"
      },
      {
        "duration": 44,
        "start_time": "2022-12-15T08:39:04.779Z"
      },
      {
        "duration": 25,
        "start_time": "2022-12-15T08:39:04.825Z"
      },
      {
        "duration": 372,
        "start_time": "2022-12-15T08:39:04.852Z"
      },
      {
        "duration": 33,
        "start_time": "2022-12-15T08:39:05.226Z"
      },
      {
        "duration": 13,
        "start_time": "2022-12-15T08:39:05.261Z"
      },
      {
        "duration": 54,
        "start_time": "2022-12-15T08:39:05.276Z"
      },
      {
        "duration": 27,
        "start_time": "2022-12-15T08:39:05.332Z"
      },
      {
        "duration": 47,
        "start_time": "2022-12-15T08:39:05.360Z"
      },
      {
        "duration": 247,
        "start_time": "2022-12-15T08:39:05.409Z"
      },
      {
        "duration": 267,
        "start_time": "2022-12-15T08:39:05.657Z"
      },
      {
        "duration": 229,
        "start_time": "2022-12-15T08:39:05.926Z"
      },
      {
        "duration": 39,
        "start_time": "2022-12-15T08:39:06.157Z"
      },
      {
        "duration": 844,
        "start_time": "2022-12-15T08:39:06.198Z"
      },
      {
        "duration": 274,
        "start_time": "2022-12-15T08:39:07.043Z"
      },
      {
        "duration": 250,
        "start_time": "2022-12-15T08:39:07.322Z"
      },
      {
        "duration": 224,
        "start_time": "2022-12-15T08:39:07.576Z"
      },
      {
        "duration": 148,
        "start_time": "2022-12-15T08:39:07.802Z"
      },
      {
        "duration": 319,
        "start_time": "2022-12-15T08:39:07.952Z"
      },
      {
        "duration": 193,
        "start_time": "2022-12-15T08:39:08.272Z"
      },
      {
        "duration": 185,
        "start_time": "2022-12-15T08:39:08.468Z"
      },
      {
        "duration": 308,
        "start_time": "2022-12-15T08:39:08.655Z"
      },
      {
        "duration": 194,
        "start_time": "2022-12-15T08:39:08.964Z"
      },
      {
        "duration": 153,
        "start_time": "2022-12-15T08:39:09.159Z"
      },
      {
        "duration": 44,
        "start_time": "2022-12-15T08:39:09.314Z"
      },
      {
        "duration": 192,
        "start_time": "2022-12-15T08:39:09.360Z"
      },
      {
        "duration": 636,
        "start_time": "2022-12-15T08:39:09.554Z"
      },
      {
        "duration": 5,
        "start_time": "2022-12-15T08:39:10.192Z"
      },
      {
        "duration": 48,
        "start_time": "2022-12-15T08:39:10.199Z"
      },
      {
        "duration": 234,
        "start_time": "2022-12-15T08:39:10.249Z"
      },
      {
        "duration": 5,
        "start_time": "2022-12-15T08:39:10.484Z"
      },
      {
        "duration": 257,
        "start_time": "2022-12-15T08:39:10.491Z"
      },
      {
        "duration": 6,
        "start_time": "2022-12-15T08:39:10.749Z"
      },
      {
        "duration": 216,
        "start_time": "2022-12-15T08:39:10.756Z"
      },
      {
        "duration": 5,
        "start_time": "2022-12-15T08:39:10.974Z"
      },
      {
        "duration": 225,
        "start_time": "2022-12-15T08:39:10.980Z"
      },
      {
        "duration": 16,
        "start_time": "2022-12-15T08:39:11.207Z"
      },
      {
        "duration": 129,
        "start_time": "2022-12-15T08:39:11.224Z"
      },
      {
        "duration": 20,
        "start_time": "2022-12-15T08:39:11.355Z"
      },
      {
        "duration": 1020,
        "start_time": "2022-12-15T08:39:11.376Z"
      },
      {
        "duration": 24,
        "start_time": "2022-12-15T08:39:12.397Z"
      },
      {
        "duration": 34,
        "start_time": "2022-12-15T08:39:12.424Z"
      },
      {
        "duration": 23,
        "start_time": "2022-12-15T08:39:12.460Z"
      },
      {
        "duration": 3,
        "start_time": "2022-12-15T08:39:12.485Z"
      },
      {
        "duration": 9,
        "start_time": "2022-12-15T08:39:12.489Z"
      },
      {
        "duration": 26,
        "start_time": "2022-12-15T08:39:12.499Z"
      },
      {
        "duration": 19,
        "start_time": "2022-12-15T08:39:12.526Z"
      },
      {
        "duration": 10,
        "start_time": "2022-12-15T08:39:12.546Z"
      },
      {
        "duration": 13,
        "start_time": "2022-12-15T08:39:12.557Z"
      },
      {
        "duration": 9,
        "start_time": "2022-12-15T08:39:12.572Z"
      },
      {
        "duration": 115,
        "start_time": "2022-12-15T08:39:12.582Z"
      },
      {
        "duration": 436,
        "start_time": "2022-12-15T08:43:30.514Z"
      },
      {
        "duration": 741,
        "start_time": "2022-12-15T08:43:30.953Z"
      },
      {
        "duration": 3,
        "start_time": "2022-12-15T08:43:31.696Z"
      },
      {
        "duration": 110,
        "start_time": "2022-12-15T08:43:31.701Z"
      },
      {
        "duration": 3,
        "start_time": "2022-12-15T08:43:31.813Z"
      },
      {
        "duration": 31,
        "start_time": "2022-12-15T08:43:31.817Z"
      },
      {
        "duration": 34,
        "start_time": "2022-12-15T08:43:31.850Z"
      },
      {
        "duration": 3,
        "start_time": "2022-12-15T08:43:31.886Z"
      },
      {
        "duration": 1984,
        "start_time": "2022-12-15T08:43:31.891Z"
      },
      {
        "duration": 185,
        "start_time": "2022-12-15T08:43:33.877Z"
      },
      {
        "duration": 28,
        "start_time": "2022-12-15T08:43:34.064Z"
      },
      {
        "duration": 45,
        "start_time": "2022-12-15T08:43:34.095Z"
      },
      {
        "duration": 28,
        "start_time": "2022-12-15T08:43:34.142Z"
      },
      {
        "duration": 38,
        "start_time": "2022-12-15T08:43:34.174Z"
      },
      {
        "duration": 19,
        "start_time": "2022-12-15T08:43:34.213Z"
      },
      {
        "duration": 24,
        "start_time": "2022-12-15T08:43:34.234Z"
      },
      {
        "duration": 13,
        "start_time": "2022-12-15T08:43:34.261Z"
      },
      {
        "duration": 20,
        "start_time": "2022-12-15T08:43:34.276Z"
      },
      {
        "duration": 12,
        "start_time": "2022-12-15T08:43:34.321Z"
      },
      {
        "duration": 14,
        "start_time": "2022-12-15T08:43:34.334Z"
      },
      {
        "duration": 17,
        "start_time": "2022-12-15T08:43:34.349Z"
      },
      {
        "duration": 3,
        "start_time": "2022-12-15T08:43:34.368Z"
      },
      {
        "duration": 10,
        "start_time": "2022-12-15T08:43:34.373Z"
      },
      {
        "duration": 7,
        "start_time": "2022-12-15T08:43:34.384Z"
      },
      {
        "duration": 7,
        "start_time": "2022-12-15T08:43:34.393Z"
      },
      {
        "duration": 46,
        "start_time": "2022-12-15T08:43:34.401Z"
      },
      {
        "duration": 4,
        "start_time": "2022-12-15T08:43:34.449Z"
      },
      {
        "duration": 368,
        "start_time": "2022-12-15T08:43:34.454Z"
      },
      {
        "duration": 34,
        "start_time": "2022-12-15T08:43:34.824Z"
      },
      {
        "duration": 5,
        "start_time": "2022-12-15T08:43:34.859Z"
      },
      {
        "duration": 26,
        "start_time": "2022-12-15T08:43:34.865Z"
      },
      {
        "duration": 6,
        "start_time": "2022-12-15T08:43:34.893Z"
      },
      {
        "duration": 49,
        "start_time": "2022-12-15T08:43:34.900Z"
      },
      {
        "duration": 252,
        "start_time": "2022-12-15T08:43:35.250Z"
      },
      {
        "duration": 254,
        "start_time": "2022-12-15T08:43:35.504Z"
      },
      {
        "duration": 277,
        "start_time": "2022-12-15T08:43:35.759Z"
      },
      {
        "duration": 42,
        "start_time": "2022-12-15T08:43:36.037Z"
      },
      {
        "duration": 862,
        "start_time": "2022-12-15T08:43:36.081Z"
      },
      {
        "duration": 277,
        "start_time": "2022-12-15T08:43:36.945Z"
      },
      {
        "duration": 252,
        "start_time": "2022-12-15T08:43:37.223Z"
      },
      {
        "duration": 220,
        "start_time": "2022-12-15T08:43:37.476Z"
      },
      {
        "duration": 142,
        "start_time": "2022-12-15T08:43:37.698Z"
      },
      {
        "duration": 325,
        "start_time": "2022-12-15T08:43:37.842Z"
      },
      {
        "duration": 204,
        "start_time": "2022-12-15T08:43:38.169Z"
      },
      {
        "duration": 185,
        "start_time": "2022-12-15T08:43:38.375Z"
      },
      {
        "duration": 329,
        "start_time": "2022-12-15T08:43:38.562Z"
      },
      {
        "duration": 202,
        "start_time": "2022-12-15T08:43:38.894Z"
      },
      {
        "duration": 168,
        "start_time": "2022-12-15T08:43:39.098Z"
      },
      {
        "duration": 63,
        "start_time": "2022-12-15T08:43:39.267Z"
      },
      {
        "duration": 199,
        "start_time": "2022-12-15T08:43:39.332Z"
      },
      {
        "duration": 619,
        "start_time": "2022-12-15T08:43:39.533Z"
      },
      {
        "duration": 5,
        "start_time": "2022-12-15T08:43:40.154Z"
      },
      {
        "duration": 6,
        "start_time": "2022-12-15T08:43:40.160Z"
      },
      {
        "duration": 219,
        "start_time": "2022-12-15T08:43:40.167Z"
      },
      {
        "duration": 6,
        "start_time": "2022-12-15T08:43:40.387Z"
      },
      {
        "duration": 229,
        "start_time": "2022-12-15T08:43:40.395Z"
      },
      {
        "duration": 6,
        "start_time": "2022-12-15T08:43:40.625Z"
      },
      {
        "duration": 213,
        "start_time": "2022-12-15T08:43:40.632Z"
      },
      {
        "duration": 5,
        "start_time": "2022-12-15T08:43:40.847Z"
      },
      {
        "duration": 235,
        "start_time": "2022-12-15T08:43:40.854Z"
      },
      {
        "duration": 5,
        "start_time": "2022-12-15T08:43:41.091Z"
      },
      {
        "duration": 139,
        "start_time": "2022-12-15T08:43:41.098Z"
      },
      {
        "duration": 19,
        "start_time": "2022-12-15T08:43:41.239Z"
      },
      {
        "duration": 1032,
        "start_time": "2022-12-15T08:43:41.260Z"
      },
      {
        "duration": 12,
        "start_time": "2022-12-15T08:43:42.294Z"
      },
      {
        "duration": 36,
        "start_time": "2022-12-15T08:43:42.307Z"
      },
      {
        "duration": 21,
        "start_time": "2022-12-15T08:43:42.345Z"
      },
      {
        "duration": 3,
        "start_time": "2022-12-15T08:43:42.367Z"
      },
      {
        "duration": 10,
        "start_time": "2022-12-15T08:43:42.371Z"
      },
      {
        "duration": 10,
        "start_time": "2022-12-15T08:43:42.382Z"
      },
      {
        "duration": 31,
        "start_time": "2022-12-15T08:43:42.393Z"
      },
      {
        "duration": 11,
        "start_time": "2022-12-15T08:43:42.426Z"
      },
      {
        "duration": 40,
        "start_time": "2022-12-15T08:43:42.438Z"
      },
      {
        "duration": 9,
        "start_time": "2022-12-15T08:43:42.481Z"
      },
      {
        "duration": 173,
        "start_time": "2022-12-15T08:43:42.491Z"
      },
      {
        "duration": 26,
        "start_time": "2022-12-15T08:44:03.989Z"
      },
      {
        "duration": 870,
        "start_time": "2022-12-15T08:44:35.319Z"
      },
      {
        "duration": 6,
        "start_time": "2022-12-15T08:44:52.022Z"
      },
      {
        "duration": 5,
        "start_time": "2022-12-15T08:44:53.974Z"
      },
      {
        "duration": 406,
        "start_time": "2022-12-15T10:41:25.087Z"
      },
      {
        "duration": 964,
        "start_time": "2022-12-15T10:41:25.495Z"
      },
      {
        "duration": 3,
        "start_time": "2022-12-15T10:41:26.461Z"
      },
      {
        "duration": 179,
        "start_time": "2022-12-15T10:41:26.466Z"
      },
      {
        "duration": 3,
        "start_time": "2022-12-15T10:41:26.647Z"
      },
      {
        "duration": 29,
        "start_time": "2022-12-15T10:41:26.651Z"
      },
      {
        "duration": 16,
        "start_time": "2022-12-15T10:41:26.681Z"
      },
      {
        "duration": 3,
        "start_time": "2022-12-15T10:41:26.699Z"
      },
      {
        "duration": 1963,
        "start_time": "2022-12-15T10:41:26.704Z"
      },
      {
        "duration": 168,
        "start_time": "2022-12-15T10:41:28.670Z"
      },
      {
        "duration": 22,
        "start_time": "2022-12-15T10:41:28.840Z"
      },
      {
        "duration": 19,
        "start_time": "2022-12-15T10:41:28.863Z"
      },
      {
        "duration": 15,
        "start_time": "2022-12-15T10:41:28.883Z"
      },
      {
        "duration": 28,
        "start_time": "2022-12-15T10:41:28.921Z"
      },
      {
        "duration": 9,
        "start_time": "2022-12-15T10:41:28.951Z"
      },
      {
        "duration": 33,
        "start_time": "2022-12-15T10:41:28.961Z"
      },
      {
        "duration": 9,
        "start_time": "2022-12-15T10:41:28.996Z"
      },
      {
        "duration": 7,
        "start_time": "2022-12-15T10:41:29.021Z"
      },
      {
        "duration": 123,
        "start_time": "2022-12-15T10:41:29.031Z"
      },
      {
        "duration": 0,
        "start_time": "2022-12-15T10:41:29.158Z"
      },
      {
        "duration": 0,
        "start_time": "2022-12-15T10:41:29.160Z"
      },
      {
        "duration": 0,
        "start_time": "2022-12-15T10:41:29.161Z"
      },
      {
        "duration": 0,
        "start_time": "2022-12-15T10:41:29.162Z"
      },
      {
        "duration": 0,
        "start_time": "2022-12-15T10:41:29.163Z"
      },
      {
        "duration": 0,
        "start_time": "2022-12-15T10:41:29.165Z"
      },
      {
        "duration": 0,
        "start_time": "2022-12-15T10:41:29.165Z"
      },
      {
        "duration": 0,
        "start_time": "2022-12-15T10:41:29.167Z"
      },
      {
        "duration": 0,
        "start_time": "2022-12-15T10:41:29.168Z"
      },
      {
        "duration": 0,
        "start_time": "2022-12-15T10:41:29.169Z"
      },
      {
        "duration": 0,
        "start_time": "2022-12-15T10:41:29.170Z"
      },
      {
        "duration": 0,
        "start_time": "2022-12-15T10:41:29.171Z"
      },
      {
        "duration": 0,
        "start_time": "2022-12-15T10:41:29.172Z"
      },
      {
        "duration": 0,
        "start_time": "2022-12-15T10:41:29.173Z"
      },
      {
        "duration": 0,
        "start_time": "2022-12-15T10:41:29.174Z"
      },
      {
        "duration": 0,
        "start_time": "2022-12-15T10:41:29.175Z"
      },
      {
        "duration": 0,
        "start_time": "2022-12-15T10:41:29.176Z"
      },
      {
        "duration": 0,
        "start_time": "2022-12-15T10:41:29.177Z"
      },
      {
        "duration": 0,
        "start_time": "2022-12-15T10:41:29.178Z"
      },
      {
        "duration": 0,
        "start_time": "2022-12-15T10:41:29.180Z"
      },
      {
        "duration": 1,
        "start_time": "2022-12-15T10:41:29.180Z"
      },
      {
        "duration": 0,
        "start_time": "2022-12-15T10:41:29.181Z"
      },
      {
        "duration": 0,
        "start_time": "2022-12-15T10:41:29.182Z"
      },
      {
        "duration": 0,
        "start_time": "2022-12-15T10:41:29.222Z"
      },
      {
        "duration": 0,
        "start_time": "2022-12-15T10:41:29.223Z"
      },
      {
        "duration": 0,
        "start_time": "2022-12-15T10:41:29.225Z"
      },
      {
        "duration": 0,
        "start_time": "2022-12-15T10:41:29.225Z"
      },
      {
        "duration": 0,
        "start_time": "2022-12-15T10:41:29.226Z"
      },
      {
        "duration": 0,
        "start_time": "2022-12-15T10:41:29.227Z"
      },
      {
        "duration": 0,
        "start_time": "2022-12-15T10:41:29.228Z"
      },
      {
        "duration": 0,
        "start_time": "2022-12-15T10:41:29.229Z"
      },
      {
        "duration": 0,
        "start_time": "2022-12-15T10:41:29.230Z"
      },
      {
        "duration": 0,
        "start_time": "2022-12-15T10:41:29.231Z"
      },
      {
        "duration": 0,
        "start_time": "2022-12-15T10:41:29.232Z"
      },
      {
        "duration": 0,
        "start_time": "2022-12-15T10:41:29.233Z"
      },
      {
        "duration": 0,
        "start_time": "2022-12-15T10:41:29.234Z"
      },
      {
        "duration": 0,
        "start_time": "2022-12-15T10:41:29.235Z"
      },
      {
        "duration": 0,
        "start_time": "2022-12-15T10:41:29.237Z"
      },
      {
        "duration": 0,
        "start_time": "2022-12-15T10:41:29.237Z"
      },
      {
        "duration": 0,
        "start_time": "2022-12-15T10:41:29.238Z"
      },
      {
        "duration": 0,
        "start_time": "2022-12-15T10:41:29.239Z"
      },
      {
        "duration": 0,
        "start_time": "2022-12-15T10:41:29.240Z"
      },
      {
        "duration": 0,
        "start_time": "2022-12-15T10:41:29.241Z"
      },
      {
        "duration": 0,
        "start_time": "2022-12-15T10:41:29.242Z"
      },
      {
        "duration": 0,
        "start_time": "2022-12-15T10:41:29.243Z"
      },
      {
        "duration": 0,
        "start_time": "2022-12-15T10:41:29.244Z"
      },
      {
        "duration": 0,
        "start_time": "2022-12-15T10:41:29.245Z"
      },
      {
        "duration": 0,
        "start_time": "2022-12-15T10:41:29.246Z"
      },
      {
        "duration": 0,
        "start_time": "2022-12-15T10:41:29.247Z"
      },
      {
        "duration": 0,
        "start_time": "2022-12-15T10:41:29.248Z"
      },
      {
        "duration": 0,
        "start_time": "2022-12-15T10:41:29.249Z"
      },
      {
        "duration": 0,
        "start_time": "2022-12-15T10:41:29.250Z"
      },
      {
        "duration": 0,
        "start_time": "2022-12-15T10:41:29.251Z"
      },
      {
        "duration": 0,
        "start_time": "2022-12-15T10:41:29.252Z"
      },
      {
        "duration": 0,
        "start_time": "2022-12-15T10:41:29.253Z"
      },
      {
        "duration": 0,
        "start_time": "2022-12-15T10:41:29.254Z"
      },
      {
        "duration": 12,
        "start_time": "2022-12-15T10:42:53.850Z"
      },
      {
        "duration": 372,
        "start_time": "2022-12-15T10:45:49.874Z"
      },
      {
        "duration": 720,
        "start_time": "2022-12-15T10:45:50.248Z"
      },
      {
        "duration": 3,
        "start_time": "2022-12-15T10:45:50.970Z"
      },
      {
        "duration": 96,
        "start_time": "2022-12-15T10:45:50.975Z"
      },
      {
        "duration": 3,
        "start_time": "2022-12-15T10:45:51.073Z"
      },
      {
        "duration": 28,
        "start_time": "2022-12-15T10:45:51.078Z"
      },
      {
        "duration": 29,
        "start_time": "2022-12-15T10:45:51.107Z"
      },
      {
        "duration": 4,
        "start_time": "2022-12-15T10:45:51.137Z"
      },
      {
        "duration": 1937,
        "start_time": "2022-12-15T10:45:51.142Z"
      },
      {
        "duration": 162,
        "start_time": "2022-12-15T10:45:53.082Z"
      },
      {
        "duration": 21,
        "start_time": "2022-12-15T10:45:53.246Z"
      },
      {
        "duration": 19,
        "start_time": "2022-12-15T10:45:53.269Z"
      },
      {
        "duration": 36,
        "start_time": "2022-12-15T10:45:53.289Z"
      },
      {
        "duration": 27,
        "start_time": "2022-12-15T10:45:53.327Z"
      },
      {
        "duration": 8,
        "start_time": "2022-12-15T10:45:53.355Z"
      },
      {
        "duration": 24,
        "start_time": "2022-12-15T10:45:53.365Z"
      },
      {
        "duration": 32,
        "start_time": "2022-12-15T10:45:53.391Z"
      },
      {
        "duration": 6,
        "start_time": "2022-12-15T10:45:53.424Z"
      },
      {
        "duration": 12,
        "start_time": "2022-12-15T10:45:53.431Z"
      },
      {
        "duration": 6,
        "start_time": "2022-12-15T10:45:53.445Z"
      },
      {
        "duration": 13,
        "start_time": "2022-12-15T10:45:53.453Z"
      },
      {
        "duration": 4,
        "start_time": "2022-12-15T10:45:53.467Z"
      },
      {
        "duration": 18,
        "start_time": "2022-12-15T10:45:53.472Z"
      },
      {
        "duration": 6,
        "start_time": "2022-12-15T10:45:53.492Z"
      },
      {
        "duration": 7,
        "start_time": "2022-12-15T10:45:53.522Z"
      },
      {
        "duration": 31,
        "start_time": "2022-12-15T10:45:53.530Z"
      },
      {
        "duration": 5,
        "start_time": "2022-12-15T10:45:53.563Z"
      },
      {
        "duration": 352,
        "start_time": "2022-12-15T10:45:53.573Z"
      },
      {
        "duration": 33,
        "start_time": "2022-12-15T10:45:53.926Z"
      },
      {
        "duration": 7,
        "start_time": "2022-12-15T10:45:53.961Z"
      },
      {
        "duration": 36,
        "start_time": "2022-12-15T10:45:53.970Z"
      },
      {
        "duration": 15,
        "start_time": "2022-12-15T10:45:54.008Z"
      },
      {
        "duration": 37,
        "start_time": "2022-12-15T10:45:54.025Z"
      },
      {
        "duration": 310,
        "start_time": "2022-12-15T10:45:54.064Z"
      },
      {
        "duration": 251,
        "start_time": "2022-12-15T10:45:54.376Z"
      },
      {
        "duration": 236,
        "start_time": "2022-12-15T10:45:54.628Z"
      },
      {
        "duration": 43,
        "start_time": "2022-12-15T10:45:54.866Z"
      },
      {
        "duration": 856,
        "start_time": "2022-12-15T10:45:54.910Z"
      },
      {
        "duration": 282,
        "start_time": "2022-12-15T10:45:55.768Z"
      },
      {
        "duration": 247,
        "start_time": "2022-12-15T10:45:56.052Z"
      },
      {
        "duration": 225,
        "start_time": "2022-12-15T10:45:56.300Z"
      },
      {
        "duration": 138,
        "start_time": "2022-12-15T10:45:56.526Z"
      },
      {
        "duration": 304,
        "start_time": "2022-12-15T10:45:56.666Z"
      },
      {
        "duration": 196,
        "start_time": "2022-12-15T10:45:56.971Z"
      },
      {
        "duration": 175,
        "start_time": "2022-12-15T10:45:57.169Z"
      },
      {
        "duration": 321,
        "start_time": "2022-12-15T10:45:57.346Z"
      },
      {
        "duration": 211,
        "start_time": "2022-12-15T10:45:57.669Z"
      },
      {
        "duration": 153,
        "start_time": "2022-12-15T10:45:57.882Z"
      },
      {
        "duration": 11,
        "start_time": "2022-12-15T10:45:58.036Z"
      },
      {
        "duration": 205,
        "start_time": "2022-12-15T10:45:58.049Z"
      },
      {
        "duration": 608,
        "start_time": "2022-12-15T10:45:58.256Z"
      },
      {
        "duration": 5,
        "start_time": "2022-12-15T10:45:58.866Z"
      },
      {
        "duration": 7,
        "start_time": "2022-12-15T10:45:58.873Z"
      },
      {
        "duration": 217,
        "start_time": "2022-12-15T10:45:58.881Z"
      },
      {
        "duration": 5,
        "start_time": "2022-12-15T10:45:59.100Z"
      },
      {
        "duration": 232,
        "start_time": "2022-12-15T10:45:59.107Z"
      },
      {
        "duration": 5,
        "start_time": "2022-12-15T10:45:59.341Z"
      },
      {
        "duration": 211,
        "start_time": "2022-12-15T10:45:59.348Z"
      },
      {
        "duration": 6,
        "start_time": "2022-12-15T10:45:59.560Z"
      },
      {
        "duration": 228,
        "start_time": "2022-12-15T10:45:59.567Z"
      },
      {
        "duration": 5,
        "start_time": "2022-12-15T10:45:59.796Z"
      },
      {
        "duration": 138,
        "start_time": "2022-12-15T10:45:59.803Z"
      },
      {
        "duration": 18,
        "start_time": "2022-12-15T10:45:59.943Z"
      },
      {
        "duration": 1013,
        "start_time": "2022-12-15T10:45:59.963Z"
      },
      {
        "duration": 10,
        "start_time": "2022-12-15T10:46:00.977Z"
      },
      {
        "duration": 53,
        "start_time": "2022-12-15T10:46:00.989Z"
      },
      {
        "duration": 35,
        "start_time": "2022-12-15T10:46:01.044Z"
      },
      {
        "duration": 10,
        "start_time": "2022-12-15T10:46:01.080Z"
      },
      {
        "duration": 28,
        "start_time": "2022-12-15T10:46:01.092Z"
      },
      {
        "duration": 26,
        "start_time": "2022-12-15T10:46:01.121Z"
      },
      {
        "duration": 28,
        "start_time": "2022-12-15T10:46:01.149Z"
      },
      {
        "duration": 34,
        "start_time": "2022-12-15T10:46:01.179Z"
      },
      {
        "duration": 78,
        "start_time": "2022-12-15T10:46:01.215Z"
      },
      {
        "duration": 29,
        "start_time": "2022-12-15T10:46:01.294Z"
      },
      {
        "duration": 166,
        "start_time": "2022-12-15T10:46:01.326Z"
      },
      {
        "duration": 75,
        "start_time": "2022-12-15T10:52:01.336Z"
      },
      {
        "duration": 75,
        "start_time": "2022-12-15T10:54:17.556Z"
      },
      {
        "duration": 351,
        "start_time": "2022-12-15T10:55:00.772Z"
      },
      {
        "duration": 276,
        "start_time": "2022-12-15T10:55:43.796Z"
      },
      {
        "duration": 247,
        "start_time": "2022-12-15T10:55:57.744Z"
      },
      {
        "duration": 263,
        "start_time": "2022-12-15T10:56:08.319Z"
      },
      {
        "duration": 257,
        "start_time": "2022-12-15T10:56:34.661Z"
      },
      {
        "duration": 255,
        "start_time": "2022-12-15T10:56:46.473Z"
      },
      {
        "duration": 257,
        "start_time": "2022-12-15T11:00:35.188Z"
      },
      {
        "duration": 443,
        "start_time": "2022-12-15T11:01:16.141Z"
      },
      {
        "duration": 240,
        "start_time": "2022-12-15T11:01:58.184Z"
      },
      {
        "duration": 233,
        "start_time": "2022-12-15T11:02:50.896Z"
      },
      {
        "duration": 877,
        "start_time": "2022-12-15T11:02:57.851Z"
      },
      {
        "duration": 1053,
        "start_time": "2022-12-15T11:03:15.016Z"
      },
      {
        "duration": 251,
        "start_time": "2022-12-15T11:12:07.507Z"
      },
      {
        "duration": 258,
        "start_time": "2022-12-15T11:12:22.917Z"
      },
      {
        "duration": 250,
        "start_time": "2022-12-15T11:12:54.367Z"
      },
      {
        "duration": 451,
        "start_time": "2022-12-15T11:13:37.642Z"
      },
      {
        "duration": 134,
        "start_time": "2022-12-15T11:14:02.908Z"
      },
      {
        "duration": 156,
        "start_time": "2022-12-15T11:14:24.173Z"
      },
      {
        "duration": 201,
        "start_time": "2022-12-15T11:15:14.629Z"
      },
      {
        "duration": 204,
        "start_time": "2022-12-15T11:15:43.629Z"
      },
      {
        "duration": 204,
        "start_time": "2022-12-15T11:16:46.212Z"
      },
      {
        "duration": 198,
        "start_time": "2022-12-15T11:16:58.672Z"
      },
      {
        "duration": 187,
        "start_time": "2022-12-15T11:17:06.988Z"
      },
      {
        "duration": 195,
        "start_time": "2022-12-15T11:17:14.237Z"
      },
      {
        "duration": 216,
        "start_time": "2022-12-15T11:17:19.240Z"
      },
      {
        "duration": 181,
        "start_time": "2022-12-15T11:17:23.194Z"
      },
      {
        "duration": 193,
        "start_time": "2022-12-15T11:17:27.426Z"
      },
      {
        "duration": 232,
        "start_time": "2022-12-15T11:17:35.153Z"
      },
      {
        "duration": 198,
        "start_time": "2022-12-15T11:18:25.126Z"
      },
      {
        "duration": 215,
        "start_time": "2022-12-15T11:18:49.084Z"
      },
      {
        "duration": 194,
        "start_time": "2022-12-15T11:18:55.479Z"
      },
      {
        "duration": 509,
        "start_time": "2022-12-15T11:19:01.605Z"
      },
      {
        "duration": 253,
        "start_time": "2022-12-15T11:19:49.158Z"
      },
      {
        "duration": 320,
        "start_time": "2022-12-15T11:20:33.966Z"
      },
      {
        "duration": 329,
        "start_time": "2022-12-15T11:21:08.307Z"
      },
      {
        "duration": 330,
        "start_time": "2022-12-15T11:21:18.004Z"
      },
      {
        "duration": 212,
        "start_time": "2022-12-15T11:21:59.806Z"
      },
      {
        "duration": 208,
        "start_time": "2022-12-15T11:22:49.571Z"
      },
      {
        "duration": 410,
        "start_time": "2022-12-15T11:24:26.691Z"
      },
      {
        "duration": 517,
        "start_time": "2022-12-15T11:24:58.716Z"
      },
      {
        "duration": 221,
        "start_time": "2022-12-15T11:31:27.182Z"
      },
      {
        "duration": 230,
        "start_time": "2022-12-15T11:31:34.412Z"
      },
      {
        "duration": 406,
        "start_time": "2022-12-15T11:32:00.006Z"
      },
      {
        "duration": 351,
        "start_time": "2022-12-15T11:33:36.657Z"
      },
      {
        "duration": 169,
        "start_time": "2022-12-15T11:35:24.410Z"
      },
      {
        "duration": 22,
        "start_time": "2022-12-15T11:38:06.254Z"
      },
      {
        "duration": 432,
        "start_time": "2022-12-15T11:39:20.406Z"
      },
      {
        "duration": 738,
        "start_time": "2022-12-15T11:39:20.840Z"
      },
      {
        "duration": 3,
        "start_time": "2022-12-15T11:39:21.584Z"
      },
      {
        "duration": 114,
        "start_time": "2022-12-15T11:39:21.589Z"
      },
      {
        "duration": 3,
        "start_time": "2022-12-15T11:39:21.704Z"
      },
      {
        "duration": 42,
        "start_time": "2022-12-15T11:39:21.710Z"
      },
      {
        "duration": 24,
        "start_time": "2022-12-15T11:39:21.753Z"
      },
      {
        "duration": 6,
        "start_time": "2022-12-15T11:39:21.779Z"
      },
      {
        "duration": 2008,
        "start_time": "2022-12-15T11:39:21.787Z"
      },
      {
        "duration": 170,
        "start_time": "2022-12-15T11:39:23.797Z"
      },
      {
        "duration": 21,
        "start_time": "2022-12-15T11:39:23.969Z"
      },
      {
        "duration": 31,
        "start_time": "2022-12-15T11:39:23.992Z"
      },
      {
        "duration": 19,
        "start_time": "2022-12-15T11:39:24.025Z"
      },
      {
        "duration": 35,
        "start_time": "2022-12-15T11:39:24.046Z"
      },
      {
        "duration": 40,
        "start_time": "2022-12-15T11:39:24.083Z"
      },
      {
        "duration": 26,
        "start_time": "2022-12-15T11:39:24.126Z"
      },
      {
        "duration": 12,
        "start_time": "2022-12-15T11:39:24.156Z"
      },
      {
        "duration": 12,
        "start_time": "2022-12-15T11:39:24.170Z"
      },
      {
        "duration": 24,
        "start_time": "2022-12-15T11:39:24.183Z"
      },
      {
        "duration": 7,
        "start_time": "2022-12-15T11:39:24.223Z"
      },
      {
        "duration": 21,
        "start_time": "2022-12-15T11:39:24.231Z"
      },
      {
        "duration": 12,
        "start_time": "2022-12-15T11:39:24.254Z"
      },
      {
        "duration": 14,
        "start_time": "2022-12-15T11:39:24.268Z"
      },
      {
        "duration": 6,
        "start_time": "2022-12-15T11:39:24.284Z"
      },
      {
        "duration": 5,
        "start_time": "2022-12-15T11:39:24.292Z"
      },
      {
        "duration": 42,
        "start_time": "2022-12-15T11:39:24.299Z"
      },
      {
        "duration": 8,
        "start_time": "2022-12-15T11:39:24.345Z"
      },
      {
        "duration": 349,
        "start_time": "2022-12-15T11:39:24.354Z"
      },
      {
        "duration": 39,
        "start_time": "2022-12-15T11:39:24.704Z"
      },
      {
        "duration": 3,
        "start_time": "2022-12-15T11:39:24.745Z"
      },
      {
        "duration": 33,
        "start_time": "2022-12-15T11:39:24.750Z"
      },
      {
        "duration": 13,
        "start_time": "2022-12-15T11:39:24.786Z"
      },
      {
        "duration": 40,
        "start_time": "2022-12-15T11:39:24.802Z"
      },
      {
        "duration": 271,
        "start_time": "2022-12-15T11:39:24.844Z"
      },
      {
        "duration": 255,
        "start_time": "2022-12-15T11:39:25.116Z"
      },
      {
        "duration": 244,
        "start_time": "2022-12-15T11:39:25.373Z"
      },
      {
        "duration": 43,
        "start_time": "2022-12-15T11:39:25.622Z"
      },
      {
        "duration": 872,
        "start_time": "2022-12-15T11:39:25.667Z"
      },
      {
        "duration": 287,
        "start_time": "2022-12-15T11:39:26.541Z"
      },
      {
        "duration": 260,
        "start_time": "2022-12-15T11:39:26.830Z"
      },
      {
        "duration": 232,
        "start_time": "2022-12-15T11:39:27.092Z"
      },
      {
        "duration": 154,
        "start_time": "2022-12-15T11:39:27.326Z"
      },
      {
        "duration": 326,
        "start_time": "2022-12-15T11:39:27.483Z"
      },
      {
        "duration": 261,
        "start_time": "2022-12-15T11:39:27.811Z"
      },
      {
        "duration": 263,
        "start_time": "2022-12-15T11:39:28.074Z"
      },
      {
        "duration": 354,
        "start_time": "2022-12-15T11:39:28.339Z"
      },
      {
        "duration": 238,
        "start_time": "2022-12-15T11:39:28.695Z"
      },
      {
        "duration": 168,
        "start_time": "2022-12-15T11:39:28.935Z"
      },
      {
        "duration": 18,
        "start_time": "2022-12-15T11:39:29.105Z"
      },
      {
        "duration": 325,
        "start_time": "2022-12-15T11:39:29.125Z"
      },
      {
        "duration": 514,
        "start_time": "2022-12-15T11:39:29.452Z"
      },
      {
        "duration": 6,
        "start_time": "2022-12-15T11:39:29.968Z"
      },
      {
        "duration": 5,
        "start_time": "2022-12-15T11:39:29.976Z"
      },
      {
        "duration": 227,
        "start_time": "2022-12-15T11:39:29.982Z"
      },
      {
        "duration": 15,
        "start_time": "2022-12-15T11:39:30.211Z"
      },
      {
        "duration": 233,
        "start_time": "2022-12-15T11:39:30.228Z"
      },
      {
        "duration": 7,
        "start_time": "2022-12-15T11:39:30.463Z"
      },
      {
        "duration": 237,
        "start_time": "2022-12-15T11:39:30.472Z"
      },
      {
        "duration": 12,
        "start_time": "2022-12-15T11:39:30.711Z"
      },
      {
        "duration": 5,
        "start_time": "2022-12-15T11:40:16.038Z"
      },
      {
        "duration": 146,
        "start_time": "2022-12-15T11:40:16.045Z"
      },
      {
        "duration": 29,
        "start_time": "2022-12-15T11:40:16.193Z"
      },
      {
        "duration": 874,
        "start_time": "2022-12-15T11:40:16.224Z"
      },
      {
        "duration": 21,
        "start_time": "2022-12-15T11:40:17.100Z"
      },
      {
        "duration": 37,
        "start_time": "2022-12-15T11:40:17.123Z"
      },
      {
        "duration": 41,
        "start_time": "2022-12-15T11:40:17.162Z"
      },
      {
        "duration": 17,
        "start_time": "2022-12-15T11:40:17.204Z"
      },
      {
        "duration": 38,
        "start_time": "2022-12-15T11:40:17.223Z"
      },
      {
        "duration": 31,
        "start_time": "2022-12-15T11:40:17.263Z"
      },
      {
        "duration": 36,
        "start_time": "2022-12-15T11:40:17.296Z"
      },
      {
        "duration": 39,
        "start_time": "2022-12-15T11:40:17.334Z"
      },
      {
        "duration": 279,
        "start_time": "2022-12-15T11:40:17.374Z"
      },
      {
        "duration": 9,
        "start_time": "2022-12-15T11:40:17.654Z"
      },
      {
        "duration": 160,
        "start_time": "2022-12-15T11:40:17.665Z"
      },
      {
        "duration": 45364,
        "start_time": "2022-12-15T11:40:17.830Z"
      },
      {
        "duration": 70498,
        "start_time": "2022-12-15T11:41:28.148Z"
      },
      {
        "duration": 89,
        "start_time": "2022-12-15T11:43:22.602Z"
      },
      {
        "duration": 163,
        "start_time": "2022-12-15T11:46:12.802Z"
      },
      {
        "duration": 108,
        "start_time": "2022-12-15T11:47:02.140Z"
      },
      {
        "duration": 175,
        "start_time": "2022-12-15T11:47:08.414Z"
      },
      {
        "duration": 176,
        "start_time": "2022-12-15T11:47:49.630Z"
      },
      {
        "duration": 142,
        "start_time": "2022-12-15T11:48:10.395Z"
      },
      {
        "duration": 145,
        "start_time": "2022-12-15T11:48:24.516Z"
      },
      {
        "duration": 156,
        "start_time": "2022-12-15T11:48:51.126Z"
      },
      {
        "duration": 29,
        "start_time": "2022-12-15T11:49:55.550Z"
      },
      {
        "duration": 4,
        "start_time": "2022-12-15T11:50:16.727Z"
      },
      {
        "duration": 27,
        "start_time": "2022-12-15T11:50:24.937Z"
      },
      {
        "duration": 29,
        "start_time": "2022-12-15T11:51:45.310Z"
      },
      {
        "duration": 24,
        "start_time": "2022-12-15T11:52:29.615Z"
      },
      {
        "duration": 143,
        "start_time": "2022-12-15T11:52:48.715Z"
      },
      {
        "duration": 400,
        "start_time": "2022-12-15T11:53:26.142Z"
      },
      {
        "duration": 758,
        "start_time": "2022-12-15T11:53:26.544Z"
      },
      {
        "duration": 2,
        "start_time": "2022-12-15T11:53:27.304Z"
      },
      {
        "duration": 100,
        "start_time": "2022-12-15T11:53:27.308Z"
      },
      {
        "duration": 3,
        "start_time": "2022-12-15T11:53:27.410Z"
      },
      {
        "duration": 31,
        "start_time": "2022-12-15T11:53:27.415Z"
      },
      {
        "duration": 16,
        "start_time": "2022-12-15T11:53:27.448Z"
      },
      {
        "duration": 5,
        "start_time": "2022-12-15T11:53:27.466Z"
      },
      {
        "duration": 1975,
        "start_time": "2022-12-15T11:53:27.473Z"
      },
      {
        "duration": 171,
        "start_time": "2022-12-15T11:53:29.452Z"
      },
      {
        "duration": 24,
        "start_time": "2022-12-15T11:53:29.624Z"
      },
      {
        "duration": 20,
        "start_time": "2022-12-15T11:53:29.649Z"
      },
      {
        "duration": 17,
        "start_time": "2022-12-15T11:53:29.670Z"
      },
      {
        "duration": 57,
        "start_time": "2022-12-15T11:53:29.688Z"
      },
      {
        "duration": 10,
        "start_time": "2022-12-15T11:53:29.747Z"
      },
      {
        "duration": 21,
        "start_time": "2022-12-15T11:53:29.759Z"
      },
      {
        "duration": 9,
        "start_time": "2022-12-15T11:53:29.781Z"
      },
      {
        "duration": 31,
        "start_time": "2022-12-15T11:53:29.792Z"
      },
      {
        "duration": 13,
        "start_time": "2022-12-15T11:53:29.825Z"
      },
      {
        "duration": 10,
        "start_time": "2022-12-15T11:53:29.839Z"
      },
      {
        "duration": 5,
        "start_time": "2022-12-15T11:53:29.851Z"
      },
      {
        "duration": 29,
        "start_time": "2022-12-15T11:53:29.857Z"
      },
      {
        "duration": 45,
        "start_time": "2022-12-15T11:53:29.888Z"
      },
      {
        "duration": 13,
        "start_time": "2022-12-15T11:53:29.935Z"
      },
      {
        "duration": 3,
        "start_time": "2022-12-15T11:53:29.950Z"
      },
      {
        "duration": 11,
        "start_time": "2022-12-15T11:53:29.955Z"
      },
      {
        "duration": 5,
        "start_time": "2022-12-15T11:53:29.968Z"
      },
      {
        "duration": 6,
        "start_time": "2022-12-15T11:53:29.977Z"
      },
      {
        "duration": 62,
        "start_time": "2022-12-15T11:53:29.985Z"
      },
      {
        "duration": 4,
        "start_time": "2022-12-15T11:53:30.048Z"
      },
      {
        "duration": 360,
        "start_time": "2022-12-15T11:53:30.053Z"
      },
      {
        "duration": 37,
        "start_time": "2022-12-15T11:53:30.415Z"
      },
      {
        "duration": 18,
        "start_time": "2022-12-15T11:53:30.454Z"
      },
      {
        "duration": 45,
        "start_time": "2022-12-15T11:53:30.474Z"
      },
      {
        "duration": 21,
        "start_time": "2022-12-15T11:53:30.520Z"
      },
      {
        "duration": 42,
        "start_time": "2022-12-15T11:53:30.543Z"
      },
      {
        "duration": 279,
        "start_time": "2022-12-15T11:53:30.587Z"
      },
      {
        "duration": 269,
        "start_time": "2022-12-15T11:53:30.867Z"
      },
      {
        "duration": 256,
        "start_time": "2022-12-15T11:53:31.138Z"
      },
      {
        "duration": 48,
        "start_time": "2022-12-15T11:53:31.395Z"
      },
      {
        "duration": 857,
        "start_time": "2022-12-15T11:53:31.446Z"
      },
      {
        "duration": 284,
        "start_time": "2022-12-15T11:53:32.305Z"
      },
      {
        "duration": 260,
        "start_time": "2022-12-15T11:53:32.591Z"
      },
      {
        "duration": 233,
        "start_time": "2022-12-15T11:53:32.853Z"
      },
      {
        "duration": 145,
        "start_time": "2022-12-15T11:53:33.087Z"
      },
      {
        "duration": 336,
        "start_time": "2022-12-15T11:53:33.234Z"
      },
      {
        "duration": 255,
        "start_time": "2022-12-15T11:53:33.572Z"
      },
      {
        "duration": 291,
        "start_time": "2022-12-15T11:53:33.829Z"
      },
      {
        "duration": 364,
        "start_time": "2022-12-15T11:53:34.123Z"
      },
      {
        "duration": 204,
        "start_time": "2022-12-15T11:53:34.490Z"
      },
      {
        "duration": 161,
        "start_time": "2022-12-15T11:53:34.696Z"
      },
      {
        "duration": 12,
        "start_time": "2022-12-15T11:53:34.860Z"
      },
      {
        "duration": 319,
        "start_time": "2022-12-15T11:53:34.873Z"
      },
      {
        "duration": 493,
        "start_time": "2022-12-15T11:53:35.203Z"
      },
      {
        "duration": 7,
        "start_time": "2022-12-15T11:53:35.698Z"
      },
      {
        "duration": 24,
        "start_time": "2022-12-15T11:53:35.706Z"
      },
      {
        "duration": 259,
        "start_time": "2022-12-15T11:53:35.732Z"
      },
      {
        "duration": 6,
        "start_time": "2022-12-15T11:53:35.993Z"
      },
      {
        "duration": 232,
        "start_time": "2022-12-15T11:53:36.000Z"
      },
      {
        "duration": 5,
        "start_time": "2022-12-15T11:53:36.234Z"
      },
      {
        "duration": 218,
        "start_time": "2022-12-15T11:53:36.241Z"
      },
      {
        "duration": 6,
        "start_time": "2022-12-15T11:53:36.460Z"
      },
      {
        "duration": 148,
        "start_time": "2022-12-15T11:53:36.468Z"
      },
      {
        "duration": 6,
        "start_time": "2022-12-15T11:53:36.622Z"
      },
      {
        "duration": 125,
        "start_time": "2022-12-15T11:53:36.629Z"
      },
      {
        "duration": 19,
        "start_time": "2022-12-15T11:53:36.756Z"
      },
      {
        "duration": 917,
        "start_time": "2022-12-15T11:53:36.776Z"
      },
      {
        "duration": 10,
        "start_time": "2022-12-15T11:53:37.695Z"
      },
      {
        "duration": 43,
        "start_time": "2022-12-15T11:53:37.706Z"
      },
      {
        "duration": 23,
        "start_time": "2022-12-15T11:53:37.751Z"
      },
      {
        "duration": 3,
        "start_time": "2022-12-15T11:53:37.776Z"
      },
      {
        "duration": 33,
        "start_time": "2022-12-15T11:53:37.780Z"
      },
      {
        "duration": 25,
        "start_time": "2022-12-15T11:53:37.815Z"
      },
      {
        "duration": 22,
        "start_time": "2022-12-15T11:53:37.842Z"
      },
      {
        "duration": 24,
        "start_time": "2022-12-15T11:53:37.866Z"
      },
      {
        "duration": 61,
        "start_time": "2022-12-15T11:53:37.891Z"
      },
      {
        "duration": 22,
        "start_time": "2022-12-15T11:53:37.954Z"
      },
      {
        "duration": 150,
        "start_time": "2022-12-15T11:53:37.978Z"
      },
      {
        "duration": 127,
        "start_time": "2022-12-15T11:57:16.234Z"
      },
      {
        "duration": 212,
        "start_time": "2022-12-15T11:57:45.384Z"
      },
      {
        "duration": 47,
        "start_time": "2022-12-15T12:01:00.540Z"
      },
      {
        "duration": 21,
        "start_time": "2022-12-15T12:01:52.070Z"
      },
      {
        "duration": 422,
        "start_time": "2022-12-15T12:01:57.437Z"
      },
      {
        "duration": 803,
        "start_time": "2022-12-15T12:01:57.861Z"
      },
      {
        "duration": 3,
        "start_time": "2022-12-15T12:01:58.665Z"
      },
      {
        "duration": 116,
        "start_time": "2022-12-15T12:01:58.671Z"
      },
      {
        "duration": 4,
        "start_time": "2022-12-15T12:01:58.789Z"
      },
      {
        "duration": 38,
        "start_time": "2022-12-15T12:01:58.795Z"
      },
      {
        "duration": 37,
        "start_time": "2022-12-15T12:01:58.835Z"
      },
      {
        "duration": 6,
        "start_time": "2022-12-15T12:01:58.874Z"
      },
      {
        "duration": 2015,
        "start_time": "2022-12-15T12:01:58.881Z"
      },
      {
        "duration": 177,
        "start_time": "2022-12-15T12:02:00.899Z"
      },
      {
        "duration": 24,
        "start_time": "2022-12-15T12:02:01.077Z"
      },
      {
        "duration": 36,
        "start_time": "2022-12-15T12:02:01.103Z"
      },
      {
        "duration": 24,
        "start_time": "2022-12-15T12:02:01.140Z"
      },
      {
        "duration": 49,
        "start_time": "2022-12-15T12:02:01.165Z"
      },
      {
        "duration": 9,
        "start_time": "2022-12-15T12:02:01.216Z"
      },
      {
        "duration": 31,
        "start_time": "2022-12-15T12:02:01.227Z"
      },
      {
        "duration": 9,
        "start_time": "2022-12-15T12:02:01.260Z"
      },
      {
        "duration": 23,
        "start_time": "2022-12-15T12:02:01.271Z"
      },
      {
        "duration": 33,
        "start_time": "2022-12-15T12:02:01.296Z"
      },
      {
        "duration": 30,
        "start_time": "2022-12-15T12:02:01.331Z"
      },
      {
        "duration": 24,
        "start_time": "2022-12-15T12:02:01.363Z"
      },
      {
        "duration": 47,
        "start_time": "2022-12-15T12:02:01.388Z"
      },
      {
        "duration": 24,
        "start_time": "2022-12-15T12:02:01.437Z"
      },
      {
        "duration": 22,
        "start_time": "2022-12-15T12:02:01.463Z"
      },
      {
        "duration": 22,
        "start_time": "2022-12-15T12:02:01.487Z"
      },
      {
        "duration": 26,
        "start_time": "2022-12-15T12:02:01.511Z"
      },
      {
        "duration": 27,
        "start_time": "2022-12-15T12:02:01.539Z"
      },
      {
        "duration": 20,
        "start_time": "2022-12-15T12:02:01.571Z"
      },
      {
        "duration": 75,
        "start_time": "2022-12-15T12:02:01.593Z"
      },
      {
        "duration": 12,
        "start_time": "2022-12-15T12:02:01.670Z"
      },
      {
        "duration": 380,
        "start_time": "2022-12-15T12:02:01.684Z"
      },
      {
        "duration": 34,
        "start_time": "2022-12-15T12:02:02.066Z"
      },
      {
        "duration": 22,
        "start_time": "2022-12-15T12:02:02.102Z"
      },
      {
        "duration": 82,
        "start_time": "2022-12-15T12:02:02.126Z"
      },
      {
        "duration": 26,
        "start_time": "2022-12-15T12:02:02.209Z"
      },
      {
        "duration": 48,
        "start_time": "2022-12-15T12:02:02.237Z"
      },
      {
        "duration": 281,
        "start_time": "2022-12-15T12:02:02.287Z"
      },
      {
        "duration": 300,
        "start_time": "2022-12-15T12:02:02.571Z"
      },
      {
        "duration": 279,
        "start_time": "2022-12-15T12:02:02.872Z"
      },
      {
        "duration": 43,
        "start_time": "2022-12-15T12:02:03.153Z"
      },
      {
        "duration": 905,
        "start_time": "2022-12-15T12:02:03.198Z"
      },
      {
        "duration": 329,
        "start_time": "2022-12-15T12:02:04.105Z"
      },
      {
        "duration": 274,
        "start_time": "2022-12-15T12:02:04.435Z"
      },
      {
        "duration": 234,
        "start_time": "2022-12-15T12:02:04.711Z"
      },
      {
        "duration": 148,
        "start_time": "2022-12-15T12:02:04.946Z"
      },
      {
        "duration": 322,
        "start_time": "2022-12-15T12:02:05.096Z"
      },
      {
        "duration": 249,
        "start_time": "2022-12-15T12:02:05.422Z"
      },
      {
        "duration": 297,
        "start_time": "2022-12-15T12:02:05.673Z"
      },
      {
        "duration": 328,
        "start_time": "2022-12-15T12:02:05.972Z"
      },
      {
        "duration": 219,
        "start_time": "2022-12-15T12:02:06.301Z"
      },
      {
        "duration": 176,
        "start_time": "2022-12-15T12:02:06.521Z"
      },
      {
        "duration": 12,
        "start_time": "2022-12-15T12:02:06.699Z"
      },
      {
        "duration": 320,
        "start_time": "2022-12-15T12:02:06.712Z"
      },
      {
        "duration": 519,
        "start_time": "2022-12-15T12:02:07.034Z"
      },
      {
        "duration": 5,
        "start_time": "2022-12-15T12:02:07.555Z"
      },
      {
        "duration": 7,
        "start_time": "2022-12-15T12:02:07.562Z"
      },
      {
        "duration": 243,
        "start_time": "2022-12-15T12:02:07.571Z"
      },
      {
        "duration": 6,
        "start_time": "2022-12-15T12:02:07.821Z"
      },
      {
        "duration": 223,
        "start_time": "2022-12-15T12:02:07.829Z"
      },
      {
        "duration": 5,
        "start_time": "2022-12-15T12:02:08.054Z"
      },
      {
        "duration": 215,
        "start_time": "2022-12-15T12:02:08.060Z"
      },
      {
        "duration": 7,
        "start_time": "2022-12-15T12:02:08.277Z"
      },
      {
        "duration": 147,
        "start_time": "2022-12-15T12:02:08.285Z"
      },
      {
        "duration": 134,
        "start_time": "2022-12-15T12:02:08.435Z"
      },
      {
        "duration": 12,
        "start_time": "2022-12-15T12:02:08.572Z"
      },
      {
        "duration": 40,
        "start_time": "2022-12-15T12:02:08.586Z"
      },
      {
        "duration": 28,
        "start_time": "2022-12-15T12:02:08.628Z"
      },
      {
        "duration": 11,
        "start_time": "2022-12-15T12:02:08.658Z"
      },
      {
        "duration": 21,
        "start_time": "2022-12-15T12:02:08.671Z"
      },
      {
        "duration": 22,
        "start_time": "2022-12-15T12:02:08.694Z"
      },
      {
        "duration": 22,
        "start_time": "2022-12-15T12:02:08.718Z"
      },
      {
        "duration": 22,
        "start_time": "2022-12-15T12:02:08.742Z"
      },
      {
        "duration": 54,
        "start_time": "2022-12-15T12:02:08.766Z"
      },
      {
        "duration": 8,
        "start_time": "2022-12-15T12:02:08.822Z"
      },
      {
        "duration": 159,
        "start_time": "2022-12-15T12:02:08.832Z"
      },
      {
        "duration": 109,
        "start_time": "2022-12-15T12:04:41.635Z"
      },
      {
        "duration": 9,
        "start_time": "2022-12-15T12:04:44.496Z"
      },
      {
        "duration": 8,
        "start_time": "2022-12-15T12:04:45.022Z"
      },
      {
        "duration": 241,
        "start_time": "2022-12-15T12:04:58.602Z"
      },
      {
        "duration": 12,
        "start_time": "2022-12-15T12:05:54.238Z"
      },
      {
        "duration": 10,
        "start_time": "2022-12-15T12:05:56.706Z"
      },
      {
        "duration": 146,
        "start_time": "2022-12-15T12:05:57.081Z"
      },
      {
        "duration": 219,
        "start_time": "2022-12-15T12:13:15.723Z"
      },
      {
        "duration": 200,
        "start_time": "2022-12-15T12:13:39.380Z"
      },
      {
        "duration": 10,
        "start_time": "2022-12-15T12:14:03.212Z"
      },
      {
        "duration": 149,
        "start_time": "2022-12-15T12:14:12.589Z"
      },
      {
        "duration": 8,
        "start_time": "2022-12-15T12:17:30.783Z"
      },
      {
        "duration": 415,
        "start_time": "2022-12-15T12:19:11.911Z"
      },
      {
        "duration": 929,
        "start_time": "2022-12-15T12:19:12.328Z"
      },
      {
        "duration": 3,
        "start_time": "2022-12-15T12:19:13.259Z"
      },
      {
        "duration": 112,
        "start_time": "2022-12-15T12:19:13.263Z"
      },
      {
        "duration": 3,
        "start_time": "2022-12-15T12:19:13.376Z"
      },
      {
        "duration": 28,
        "start_time": "2022-12-15T12:19:13.381Z"
      },
      {
        "duration": 26,
        "start_time": "2022-12-15T12:19:13.411Z"
      },
      {
        "duration": 4,
        "start_time": "2022-12-15T12:19:13.439Z"
      },
      {
        "duration": 2243,
        "start_time": "2022-12-15T12:19:13.445Z"
      },
      {
        "duration": 201,
        "start_time": "2022-12-15T12:19:15.691Z"
      },
      {
        "duration": 31,
        "start_time": "2022-12-15T12:19:15.894Z"
      },
      {
        "duration": 31,
        "start_time": "2022-12-15T12:19:15.927Z"
      },
      {
        "duration": 15,
        "start_time": "2022-12-15T12:19:15.960Z"
      },
      {
        "duration": 32,
        "start_time": "2022-12-15T12:19:15.977Z"
      },
      {
        "duration": 18,
        "start_time": "2022-12-15T12:19:16.011Z"
      },
      {
        "duration": 19,
        "start_time": "2022-12-15T12:19:16.031Z"
      },
      {
        "duration": 9,
        "start_time": "2022-12-15T12:19:16.052Z"
      },
      {
        "duration": 5,
        "start_time": "2022-12-15T12:19:16.062Z"
      },
      {
        "duration": 9,
        "start_time": "2022-12-15T12:19:16.069Z"
      },
      {
        "duration": 7,
        "start_time": "2022-12-15T12:19:16.080Z"
      },
      {
        "duration": 34,
        "start_time": "2022-12-15T12:19:16.089Z"
      },
      {
        "duration": 23,
        "start_time": "2022-12-15T12:19:16.124Z"
      },
      {
        "duration": 24,
        "start_time": "2022-12-15T12:19:16.148Z"
      },
      {
        "duration": 13,
        "start_time": "2022-12-15T12:19:16.173Z"
      },
      {
        "duration": 4,
        "start_time": "2022-12-15T12:19:16.187Z"
      },
      {
        "duration": 29,
        "start_time": "2022-12-15T12:19:16.193Z"
      },
      {
        "duration": 8,
        "start_time": "2022-12-15T12:19:16.224Z"
      },
      {
        "duration": 5,
        "start_time": "2022-12-15T12:19:16.236Z"
      },
      {
        "duration": 23,
        "start_time": "2022-12-15T12:19:16.242Z"
      },
      {
        "duration": 6,
        "start_time": "2022-12-15T12:19:16.266Z"
      },
      {
        "duration": 353,
        "start_time": "2022-12-15T12:19:16.273Z"
      },
      {
        "duration": 35,
        "start_time": "2022-12-15T12:19:16.628Z"
      },
      {
        "duration": 4,
        "start_time": "2022-12-15T12:19:16.664Z"
      },
      {
        "duration": 27,
        "start_time": "2022-12-15T12:19:16.669Z"
      },
      {
        "duration": 24,
        "start_time": "2022-12-15T12:19:16.698Z"
      },
      {
        "duration": 26,
        "start_time": "2022-12-15T12:19:16.723Z"
      },
      {
        "duration": 271,
        "start_time": "2022-12-15T12:19:16.751Z"
      },
      {
        "duration": 248,
        "start_time": "2022-12-15T12:19:17.023Z"
      },
      {
        "duration": 267,
        "start_time": "2022-12-15T12:19:17.273Z"
      },
      {
        "duration": 42,
        "start_time": "2022-12-15T12:19:17.542Z"
      },
      {
        "duration": 837,
        "start_time": "2022-12-15T12:19:17.586Z"
      },
      {
        "duration": 267,
        "start_time": "2022-12-15T12:19:18.424Z"
      },
      {
        "duration": 247,
        "start_time": "2022-12-15T12:19:18.692Z"
      },
      {
        "duration": 236,
        "start_time": "2022-12-15T12:19:18.941Z"
      },
      {
        "duration": 161,
        "start_time": "2022-12-15T12:19:19.180Z"
      },
      {
        "duration": 324,
        "start_time": "2022-12-15T12:19:19.343Z"
      },
      {
        "duration": 265,
        "start_time": "2022-12-15T12:19:19.669Z"
      },
      {
        "duration": 261,
        "start_time": "2022-12-15T12:19:19.935Z"
      },
      {
        "duration": 332,
        "start_time": "2022-12-15T12:19:20.197Z"
      },
      {
        "duration": 202,
        "start_time": "2022-12-15T12:19:20.530Z"
      },
      {
        "duration": 163,
        "start_time": "2022-12-15T12:19:20.734Z"
      },
      {
        "duration": 28,
        "start_time": "2022-12-15T12:19:20.899Z"
      },
      {
        "duration": 307,
        "start_time": "2022-12-15T12:19:20.928Z"
      },
      {
        "duration": 512,
        "start_time": "2022-12-15T12:19:21.237Z"
      },
      {
        "duration": 5,
        "start_time": "2022-12-15T12:19:21.751Z"
      },
      {
        "duration": 4,
        "start_time": "2022-12-15T12:19:21.760Z"
      },
      {
        "duration": 229,
        "start_time": "2022-12-15T12:19:21.766Z"
      },
      {
        "duration": 5,
        "start_time": "2022-12-15T12:19:21.997Z"
      },
      {
        "duration": 214,
        "start_time": "2022-12-15T12:19:22.003Z"
      },
      {
        "duration": 5,
        "start_time": "2022-12-15T12:19:22.221Z"
      },
      {
        "duration": 202,
        "start_time": "2022-12-15T12:19:22.228Z"
      },
      {
        "duration": 5,
        "start_time": "2022-12-15T12:19:22.432Z"
      },
      {
        "duration": 146,
        "start_time": "2022-12-15T12:19:22.439Z"
      },
      {
        "duration": 128,
        "start_time": "2022-12-15T12:19:22.587Z"
      },
      {
        "duration": 13,
        "start_time": "2022-12-15T12:19:22.716Z"
      },
      {
        "duration": 161,
        "start_time": "2022-12-15T12:19:22.731Z"
      },
      {
        "duration": 9,
        "start_time": "2022-12-15T12:19:22.894Z"
      },
      {
        "duration": 255,
        "start_time": "2022-12-15T12:19:22.905Z"
      },
      {
        "duration": 10,
        "start_time": "2022-12-15T12:19:23.162Z"
      },
      {
        "duration": 168,
        "start_time": "2022-12-15T12:19:23.173Z"
      },
      {
        "duration": 26,
        "start_time": "2022-12-15T12:19:23.344Z"
      },
      {
        "duration": 19,
        "start_time": "2022-12-15T12:19:23.372Z"
      },
      {
        "duration": 3,
        "start_time": "2022-12-15T12:19:23.393Z"
      },
      {
        "duration": 5,
        "start_time": "2022-12-15T12:19:23.421Z"
      },
      {
        "duration": 11,
        "start_time": "2022-12-15T12:19:23.428Z"
      },
      {
        "duration": 9,
        "start_time": "2022-12-15T12:19:23.441Z"
      },
      {
        "duration": 9,
        "start_time": "2022-12-15T12:19:23.452Z"
      },
      {
        "duration": 60,
        "start_time": "2022-12-15T12:19:23.463Z"
      },
      {
        "duration": 8,
        "start_time": "2022-12-15T12:19:23.525Z"
      },
      {
        "duration": 157,
        "start_time": "2022-12-15T12:19:23.535Z"
      },
      {
        "duration": 207,
        "start_time": "2022-12-15T12:32:14.382Z"
      },
      {
        "duration": 418,
        "start_time": "2022-12-15T12:32:22.916Z"
      },
      {
        "duration": 742,
        "start_time": "2022-12-15T12:32:23.335Z"
      },
      {
        "duration": 4,
        "start_time": "2022-12-15T12:32:24.079Z"
      },
      {
        "duration": 121,
        "start_time": "2022-12-15T12:32:24.085Z"
      },
      {
        "duration": 3,
        "start_time": "2022-12-15T12:32:24.208Z"
      },
      {
        "duration": 46,
        "start_time": "2022-12-15T12:32:24.214Z"
      },
      {
        "duration": 16,
        "start_time": "2022-12-15T12:32:24.262Z"
      },
      {
        "duration": 4,
        "start_time": "2022-12-15T12:32:24.280Z"
      },
      {
        "duration": 1970,
        "start_time": "2022-12-15T12:32:24.285Z"
      },
      {
        "duration": 165,
        "start_time": "2022-12-15T12:32:26.259Z"
      },
      {
        "duration": 24,
        "start_time": "2022-12-15T12:32:26.426Z"
      },
      {
        "duration": 20,
        "start_time": "2022-12-15T12:32:26.451Z"
      },
      {
        "duration": 15,
        "start_time": "2022-12-15T12:32:26.472Z"
      },
      {
        "duration": 56,
        "start_time": "2022-12-15T12:32:26.488Z"
      },
      {
        "duration": 10,
        "start_time": "2022-12-15T12:32:26.546Z"
      },
      {
        "duration": 19,
        "start_time": "2022-12-15T12:32:26.558Z"
      },
      {
        "duration": 10,
        "start_time": "2022-12-15T12:32:26.578Z"
      },
      {
        "duration": 34,
        "start_time": "2022-12-15T12:32:26.590Z"
      },
      {
        "duration": 11,
        "start_time": "2022-12-15T12:32:26.625Z"
      },
      {
        "duration": 8,
        "start_time": "2022-12-15T12:32:26.638Z"
      },
      {
        "duration": 6,
        "start_time": "2022-12-15T12:32:26.648Z"
      },
      {
        "duration": 34,
        "start_time": "2022-12-15T12:32:26.655Z"
      },
      {
        "duration": 36,
        "start_time": "2022-12-15T12:32:26.691Z"
      },
      {
        "duration": 13,
        "start_time": "2022-12-15T12:32:26.729Z"
      },
      {
        "duration": 5,
        "start_time": "2022-12-15T12:32:26.744Z"
      },
      {
        "duration": 10,
        "start_time": "2022-12-15T12:32:26.750Z"
      },
      {
        "duration": 6,
        "start_time": "2022-12-15T12:32:26.761Z"
      },
      {
        "duration": 5,
        "start_time": "2022-12-15T12:32:26.771Z"
      },
      {
        "duration": 55,
        "start_time": "2022-12-15T12:32:26.778Z"
      },
      {
        "duration": 6,
        "start_time": "2022-12-15T12:32:26.834Z"
      },
      {
        "duration": 346,
        "start_time": "2022-12-15T12:32:26.841Z"
      },
      {
        "duration": 35,
        "start_time": "2022-12-15T12:32:27.189Z"
      },
      {
        "duration": 20,
        "start_time": "2022-12-15T12:32:27.225Z"
      },
      {
        "duration": 38,
        "start_time": "2022-12-15T12:32:27.247Z"
      },
      {
        "duration": 14,
        "start_time": "2022-12-15T12:32:27.287Z"
      },
      {
        "duration": 40,
        "start_time": "2022-12-15T12:32:27.304Z"
      },
      {
        "duration": 256,
        "start_time": "2022-12-15T12:32:27.345Z"
      },
      {
        "duration": 255,
        "start_time": "2022-12-15T12:32:27.603Z"
      },
      {
        "duration": 263,
        "start_time": "2022-12-15T12:32:27.859Z"
      },
      {
        "duration": 39,
        "start_time": "2022-12-15T12:32:28.123Z"
      },
      {
        "duration": 840,
        "start_time": "2022-12-15T12:32:28.164Z"
      },
      {
        "duration": 274,
        "start_time": "2022-12-15T12:32:29.005Z"
      },
      {
        "duration": 273,
        "start_time": "2022-12-15T12:32:29.281Z"
      },
      {
        "duration": 232,
        "start_time": "2022-12-15T12:32:29.556Z"
      },
      {
        "duration": 148,
        "start_time": "2022-12-15T12:32:29.789Z"
      },
      {
        "duration": 326,
        "start_time": "2022-12-15T12:32:29.939Z"
      },
      {
        "duration": 255,
        "start_time": "2022-12-15T12:32:30.267Z"
      },
      {
        "duration": 265,
        "start_time": "2022-12-15T12:32:30.523Z"
      },
      {
        "duration": 332,
        "start_time": "2022-12-15T12:32:30.790Z"
      },
      {
        "duration": 206,
        "start_time": "2022-12-15T12:32:31.123Z"
      },
      {
        "duration": 192,
        "start_time": "2022-12-15T12:32:31.331Z"
      },
      {
        "duration": 14,
        "start_time": "2022-12-15T12:32:31.525Z"
      },
      {
        "duration": 325,
        "start_time": "2022-12-15T12:32:31.540Z"
      },
      {
        "duration": 508,
        "start_time": "2022-12-15T12:32:31.867Z"
      },
      {
        "duration": 5,
        "start_time": "2022-12-15T12:32:32.377Z"
      },
      {
        "duration": 6,
        "start_time": "2022-12-15T12:32:32.383Z"
      },
      {
        "duration": 265,
        "start_time": "2022-12-15T12:32:32.390Z"
      },
      {
        "duration": 6,
        "start_time": "2022-12-15T12:32:32.657Z"
      },
      {
        "duration": 225,
        "start_time": "2022-12-15T12:32:32.665Z"
      },
      {
        "duration": 4,
        "start_time": "2022-12-15T12:32:32.892Z"
      },
      {
        "duration": 205,
        "start_time": "2022-12-15T12:32:32.898Z"
      },
      {
        "duration": 5,
        "start_time": "2022-12-15T12:32:33.105Z"
      },
      {
        "duration": 139,
        "start_time": "2022-12-15T12:32:33.123Z"
      },
      {
        "duration": 125,
        "start_time": "2022-12-15T12:32:33.263Z"
      },
      {
        "duration": 10,
        "start_time": "2022-12-15T12:32:33.389Z"
      },
      {
        "duration": 168,
        "start_time": "2022-12-15T12:32:33.401Z"
      },
      {
        "duration": 9,
        "start_time": "2022-12-15T12:32:33.571Z"
      },
      {
        "duration": 251,
        "start_time": "2022-12-15T12:32:33.582Z"
      },
      {
        "duration": 8,
        "start_time": "2022-12-15T12:32:33.835Z"
      },
      {
        "duration": 187,
        "start_time": "2022-12-15T12:32:33.846Z"
      },
      {
        "duration": 34,
        "start_time": "2022-12-15T12:32:34.035Z"
      },
      {
        "duration": 30,
        "start_time": "2022-12-15T12:32:34.071Z"
      },
      {
        "duration": 25,
        "start_time": "2022-12-15T12:32:34.103Z"
      },
      {
        "duration": 11,
        "start_time": "2022-12-15T12:32:34.130Z"
      },
      {
        "duration": 20,
        "start_time": "2022-12-15T12:32:34.143Z"
      },
      {
        "duration": 13,
        "start_time": "2022-12-15T12:32:34.164Z"
      },
      {
        "duration": 13,
        "start_time": "2022-12-15T12:32:34.179Z"
      },
      {
        "duration": 59,
        "start_time": "2022-12-15T12:32:34.194Z"
      },
      {
        "duration": 16,
        "start_time": "2022-12-15T12:32:34.256Z"
      },
      {
        "duration": 158,
        "start_time": "2022-12-15T12:32:34.274Z"
      },
      {
        "duration": 1267,
        "start_time": "2022-12-15T12:34:21.451Z"
      },
      {
        "duration": 34,
        "start_time": "2022-12-15T12:34:55.758Z"
      },
      {
        "duration": 412,
        "start_time": "2022-12-15T12:35:02.587Z"
      },
      {
        "duration": 1184,
        "start_time": "2022-12-15T12:35:03.001Z"
      },
      {
        "duration": 4,
        "start_time": "2022-12-15T12:35:04.187Z"
      },
      {
        "duration": 123,
        "start_time": "2022-12-15T12:35:04.193Z"
      },
      {
        "duration": 4,
        "start_time": "2022-12-15T12:35:04.318Z"
      },
      {
        "duration": 39,
        "start_time": "2022-12-15T12:35:04.324Z"
      },
      {
        "duration": 19,
        "start_time": "2022-12-15T12:35:04.364Z"
      },
      {
        "duration": 4,
        "start_time": "2022-12-15T12:35:04.385Z"
      },
      {
        "duration": 2058,
        "start_time": "2022-12-15T12:35:04.391Z"
      },
      {
        "duration": 178,
        "start_time": "2022-12-15T12:35:06.485Z"
      },
      {
        "duration": 24,
        "start_time": "2022-12-15T12:35:06.664Z"
      },
      {
        "duration": 33,
        "start_time": "2022-12-15T12:35:06.690Z"
      },
      {
        "duration": 15,
        "start_time": "2022-12-15T12:35:06.725Z"
      },
      {
        "duration": 29,
        "start_time": "2022-12-15T12:35:06.742Z"
      },
      {
        "duration": 10,
        "start_time": "2022-12-15T12:35:06.773Z"
      },
      {
        "duration": 54,
        "start_time": "2022-12-15T12:35:06.785Z"
      },
      {
        "duration": 20,
        "start_time": "2022-12-15T12:35:06.840Z"
      },
      {
        "duration": 15,
        "start_time": "2022-12-15T12:35:06.862Z"
      },
      {
        "duration": 35,
        "start_time": "2022-12-15T12:35:06.879Z"
      },
      {
        "duration": 27,
        "start_time": "2022-12-15T12:35:06.915Z"
      },
      {
        "duration": 20,
        "start_time": "2022-12-15T12:35:06.944Z"
      },
      {
        "duration": 43,
        "start_time": "2022-12-15T12:35:06.967Z"
      },
      {
        "duration": 23,
        "start_time": "2022-12-15T12:35:07.012Z"
      },
      {
        "duration": 23,
        "start_time": "2022-12-15T12:35:07.036Z"
      },
      {
        "duration": 23,
        "start_time": "2022-12-15T12:35:07.061Z"
      },
      {
        "duration": 28,
        "start_time": "2022-12-15T12:35:07.086Z"
      },
      {
        "duration": 19,
        "start_time": "2022-12-15T12:35:07.116Z"
      },
      {
        "duration": 11,
        "start_time": "2022-12-15T12:35:07.139Z"
      },
      {
        "duration": 41,
        "start_time": "2022-12-15T12:35:07.152Z"
      },
      {
        "duration": 23,
        "start_time": "2022-12-15T12:35:07.195Z"
      },
      {
        "duration": 375,
        "start_time": "2022-12-15T12:35:07.220Z"
      },
      {
        "duration": 40,
        "start_time": "2022-12-15T12:35:07.596Z"
      },
      {
        "duration": 30,
        "start_time": "2022-12-15T12:35:07.638Z"
      },
      {
        "duration": 51,
        "start_time": "2022-12-15T12:35:07.670Z"
      },
      {
        "duration": 20,
        "start_time": "2022-12-15T12:35:07.723Z"
      },
      {
        "duration": 66,
        "start_time": "2022-12-15T12:35:07.745Z"
      },
      {
        "duration": 313,
        "start_time": "2022-12-15T12:35:07.813Z"
      },
      {
        "duration": 277,
        "start_time": "2022-12-15T12:35:08.127Z"
      },
      {
        "duration": 280,
        "start_time": "2022-12-15T12:35:08.406Z"
      },
      {
        "duration": 53,
        "start_time": "2022-12-15T12:35:08.687Z"
      },
      {
        "duration": 864,
        "start_time": "2022-12-15T12:35:08.742Z"
      },
      {
        "duration": 291,
        "start_time": "2022-12-15T12:35:09.608Z"
      },
      {
        "duration": 272,
        "start_time": "2022-12-15T12:35:09.901Z"
      },
      {
        "duration": 232,
        "start_time": "2022-12-15T12:35:10.175Z"
      },
      {
        "duration": 144,
        "start_time": "2022-12-15T12:35:10.409Z"
      },
      {
        "duration": 339,
        "start_time": "2022-12-15T12:35:10.555Z"
      },
      {
        "duration": 254,
        "start_time": "2022-12-15T12:35:10.896Z"
      },
      {
        "duration": 267,
        "start_time": "2022-12-15T12:35:11.152Z"
      },
      {
        "duration": 342,
        "start_time": "2022-12-15T12:35:11.421Z"
      },
      {
        "duration": 215,
        "start_time": "2022-12-15T12:35:11.765Z"
      },
      {
        "duration": 167,
        "start_time": "2022-12-15T12:35:11.981Z"
      },
      {
        "duration": 14,
        "start_time": "2022-12-15T12:35:12.150Z"
      },
      {
        "duration": 308,
        "start_time": "2022-12-15T12:35:12.165Z"
      },
      {
        "duration": 515,
        "start_time": "2022-12-15T12:35:12.475Z"
      },
      {
        "duration": 6,
        "start_time": "2022-12-15T12:35:12.991Z"
      },
      {
        "duration": 7,
        "start_time": "2022-12-15T12:35:12.999Z"
      },
      {
        "duration": 230,
        "start_time": "2022-12-15T12:35:13.008Z"
      },
      {
        "duration": 5,
        "start_time": "2022-12-15T12:35:13.239Z"
      },
      {
        "duration": 219,
        "start_time": "2022-12-15T12:35:13.246Z"
      },
      {
        "duration": 5,
        "start_time": "2022-12-15T12:35:13.467Z"
      },
      {
        "duration": 214,
        "start_time": "2022-12-15T12:35:13.474Z"
      },
      {
        "duration": 7,
        "start_time": "2022-12-15T12:35:13.690Z"
      },
      {
        "duration": 147,
        "start_time": "2022-12-15T12:35:13.698Z"
      },
      {
        "duration": 131,
        "start_time": "2022-12-15T12:35:13.847Z"
      },
      {
        "duration": 9,
        "start_time": "2022-12-15T12:35:13.980Z"
      },
      {
        "duration": 201,
        "start_time": "2022-12-15T12:35:13.991Z"
      },
      {
        "duration": 12,
        "start_time": "2022-12-15T12:35:14.194Z"
      },
      {
        "duration": 256,
        "start_time": "2022-12-15T12:35:14.221Z"
      },
      {
        "duration": 10,
        "start_time": "2022-12-15T12:35:14.478Z"
      },
      {
        "duration": 167,
        "start_time": "2022-12-15T12:35:14.489Z"
      },
      {
        "duration": 69,
        "start_time": "2022-12-15T12:35:14.658Z"
      },
      {
        "duration": 34,
        "start_time": "2022-12-15T12:35:14.729Z"
      },
      {
        "duration": 15,
        "start_time": "2022-12-15T12:35:14.765Z"
      },
      {
        "duration": 8,
        "start_time": "2022-12-15T12:35:14.782Z"
      },
      {
        "duration": 19,
        "start_time": "2022-12-15T12:35:14.792Z"
      },
      {
        "duration": 13,
        "start_time": "2022-12-15T12:35:14.812Z"
      },
      {
        "duration": 10,
        "start_time": "2022-12-15T12:35:14.826Z"
      },
      {
        "duration": 42,
        "start_time": "2022-12-15T12:35:14.838Z"
      },
      {
        "duration": 9,
        "start_time": "2022-12-15T12:35:14.881Z"
      },
      {
        "duration": 152,
        "start_time": "2022-12-15T12:35:14.891Z"
      },
      {
        "duration": 27,
        "start_time": "2022-12-15T12:35:29.771Z"
      },
      {
        "duration": 434,
        "start_time": "2022-12-16T07:24:29.688Z"
      },
      {
        "duration": 824,
        "start_time": "2022-12-16T07:24:30.124Z"
      },
      {
        "duration": 3,
        "start_time": "2022-12-16T07:24:30.950Z"
      },
      {
        "duration": 114,
        "start_time": "2022-12-16T07:24:30.954Z"
      },
      {
        "duration": 3,
        "start_time": "2022-12-16T07:24:31.070Z"
      },
      {
        "duration": 45,
        "start_time": "2022-12-16T07:24:31.074Z"
      },
      {
        "duration": 16,
        "start_time": "2022-12-16T07:24:31.120Z"
      },
      {
        "duration": 4,
        "start_time": "2022-12-16T07:24:31.137Z"
      },
      {
        "duration": 1909,
        "start_time": "2022-12-16T07:24:31.143Z"
      },
      {
        "duration": 189,
        "start_time": "2022-12-16T07:24:33.054Z"
      },
      {
        "duration": 22,
        "start_time": "2022-12-16T07:24:33.245Z"
      },
      {
        "duration": 19,
        "start_time": "2022-12-16T07:24:33.278Z"
      },
      {
        "duration": 29,
        "start_time": "2022-12-16T07:24:33.299Z"
      },
      {
        "duration": 56,
        "start_time": "2022-12-16T07:24:33.331Z"
      },
      {
        "duration": 10,
        "start_time": "2022-12-16T07:24:33.388Z"
      },
      {
        "duration": 36,
        "start_time": "2022-12-16T07:24:33.399Z"
      },
      {
        "duration": 26,
        "start_time": "2022-12-16T07:24:33.437Z"
      },
      {
        "duration": 13,
        "start_time": "2022-12-16T07:24:33.464Z"
      },
      {
        "duration": 41,
        "start_time": "2022-12-16T07:24:33.479Z"
      },
      {
        "duration": 29,
        "start_time": "2022-12-16T07:24:33.522Z"
      },
      {
        "duration": 25,
        "start_time": "2022-12-16T07:24:33.553Z"
      },
      {
        "duration": 55,
        "start_time": "2022-12-16T07:24:33.580Z"
      },
      {
        "duration": 22,
        "start_time": "2022-12-16T07:24:33.637Z"
      },
      {
        "duration": 38,
        "start_time": "2022-12-16T07:24:33.660Z"
      },
      {
        "duration": 20,
        "start_time": "2022-12-16T07:24:33.700Z"
      },
      {
        "duration": 25,
        "start_time": "2022-12-16T07:24:33.722Z"
      },
      {
        "duration": 27,
        "start_time": "2022-12-16T07:24:33.749Z"
      },
      {
        "duration": 17,
        "start_time": "2022-12-16T07:24:33.778Z"
      },
      {
        "duration": 49,
        "start_time": "2022-12-16T07:24:33.796Z"
      },
      {
        "duration": 26,
        "start_time": "2022-12-16T07:24:33.847Z"
      },
      {
        "duration": 349,
        "start_time": "2022-12-16T07:24:33.874Z"
      },
      {
        "duration": 35,
        "start_time": "2022-12-16T07:24:34.225Z"
      },
      {
        "duration": 16,
        "start_time": "2022-12-16T07:24:34.261Z"
      },
      {
        "duration": 45,
        "start_time": "2022-12-16T07:24:34.279Z"
      },
      {
        "duration": 21,
        "start_time": "2022-12-16T07:24:34.325Z"
      },
      {
        "duration": 44,
        "start_time": "2022-12-16T07:24:34.348Z"
      },
      {
        "duration": 267,
        "start_time": "2022-12-16T07:24:34.394Z"
      },
      {
        "duration": 244,
        "start_time": "2022-12-16T07:24:34.662Z"
      },
      {
        "duration": 257,
        "start_time": "2022-12-16T07:24:34.907Z"
      },
      {
        "duration": 48,
        "start_time": "2022-12-16T07:24:35.165Z"
      },
      {
        "duration": 861,
        "start_time": "2022-12-16T07:24:35.217Z"
      },
      {
        "duration": 266,
        "start_time": "2022-12-16T07:24:36.080Z"
      },
      {
        "duration": 254,
        "start_time": "2022-12-16T07:24:36.348Z"
      },
      {
        "duration": 218,
        "start_time": "2022-12-16T07:24:36.604Z"
      },
      {
        "duration": 128,
        "start_time": "2022-12-16T07:24:36.824Z"
      },
      {
        "duration": 318,
        "start_time": "2022-12-16T07:24:36.954Z"
      },
      {
        "duration": 251,
        "start_time": "2022-12-16T07:24:37.273Z"
      },
      {
        "duration": 269,
        "start_time": "2022-12-16T07:24:37.525Z"
      },
      {
        "duration": 317,
        "start_time": "2022-12-16T07:24:37.795Z"
      },
      {
        "duration": 226,
        "start_time": "2022-12-16T07:24:38.113Z"
      },
      {
        "duration": 162,
        "start_time": "2022-12-16T07:24:38.341Z"
      },
      {
        "duration": 13,
        "start_time": "2022-12-16T07:24:38.505Z"
      },
      {
        "duration": 322,
        "start_time": "2022-12-16T07:24:38.520Z"
      },
      {
        "duration": 483,
        "start_time": "2022-12-16T07:24:38.843Z"
      },
      {
        "duration": 5,
        "start_time": "2022-12-16T07:24:39.328Z"
      },
      {
        "duration": 32,
        "start_time": "2022-12-16T07:24:39.335Z"
      },
      {
        "duration": 228,
        "start_time": "2022-12-16T07:24:39.368Z"
      },
      {
        "duration": 6,
        "start_time": "2022-12-16T07:24:39.598Z"
      },
      {
        "duration": 238,
        "start_time": "2022-12-16T07:24:39.605Z"
      },
      {
        "duration": 7,
        "start_time": "2022-12-16T07:24:39.845Z"
      },
      {
        "duration": 235,
        "start_time": "2022-12-16T07:24:39.853Z"
      },
      {
        "duration": 6,
        "start_time": "2022-12-16T07:24:40.090Z"
      },
      {
        "duration": 157,
        "start_time": "2022-12-16T07:24:40.098Z"
      },
      {
        "duration": 127,
        "start_time": "2022-12-16T07:24:40.257Z"
      },
      {
        "duration": 10,
        "start_time": "2022-12-16T07:24:40.385Z"
      },
      {
        "duration": 191,
        "start_time": "2022-12-16T07:24:40.397Z"
      },
      {
        "duration": 10,
        "start_time": "2022-12-16T07:24:40.590Z"
      },
      {
        "duration": 268,
        "start_time": "2022-12-16T07:24:40.602Z"
      },
      {
        "duration": 11,
        "start_time": "2022-12-16T07:24:40.877Z"
      },
      {
        "duration": 199,
        "start_time": "2022-12-16T07:24:40.889Z"
      },
      {
        "duration": 27,
        "start_time": "2022-12-16T07:24:41.090Z"
      },
      {
        "duration": 41,
        "start_time": "2022-12-16T07:24:41.120Z"
      },
      {
        "duration": 16,
        "start_time": "2022-12-16T07:24:41.163Z"
      },
      {
        "duration": 28,
        "start_time": "2022-12-16T07:24:41.181Z"
      },
      {
        "duration": 28,
        "start_time": "2022-12-16T07:24:41.211Z"
      },
      {
        "duration": 40,
        "start_time": "2022-12-16T07:24:41.241Z"
      },
      {
        "duration": 37,
        "start_time": "2022-12-16T07:24:41.283Z"
      },
      {
        "duration": 64,
        "start_time": "2022-12-16T07:24:41.322Z"
      },
      {
        "duration": 21,
        "start_time": "2022-12-16T07:24:41.388Z"
      },
      {
        "duration": 161,
        "start_time": "2022-12-16T07:24:41.410Z"
      },
      {
        "duration": 17,
        "start_time": "2022-12-16T07:28:32.785Z"
      },
      {
        "duration": 1080,
        "start_time": "2022-12-16T07:37:30.063Z"
      },
      {
        "duration": 7,
        "start_time": "2022-12-16T07:37:38.610Z"
      },
      {
        "duration": 389,
        "start_time": "2022-12-16T09:05:43.018Z"
      },
      {
        "duration": 930,
        "start_time": "2022-12-16T09:05:43.409Z"
      },
      {
        "duration": 6,
        "start_time": "2022-12-16T09:05:44.341Z"
      },
      {
        "duration": 190,
        "start_time": "2022-12-16T09:05:44.349Z"
      },
      {
        "duration": 5,
        "start_time": "2022-12-16T09:05:44.541Z"
      },
      {
        "duration": 36,
        "start_time": "2022-12-16T09:05:44.548Z"
      },
      {
        "duration": 14,
        "start_time": "2022-12-16T09:05:44.586Z"
      },
      {
        "duration": 3,
        "start_time": "2022-12-16T09:05:44.601Z"
      },
      {
        "duration": 1960,
        "start_time": "2022-12-16T09:05:44.606Z"
      },
      {
        "duration": 172,
        "start_time": "2022-12-16T09:05:46.570Z"
      },
      {
        "duration": 22,
        "start_time": "2022-12-16T09:05:46.748Z"
      },
      {
        "duration": 17,
        "start_time": "2022-12-16T09:05:46.772Z"
      },
      {
        "duration": 14,
        "start_time": "2022-12-16T09:05:46.790Z"
      },
      {
        "duration": 40,
        "start_time": "2022-12-16T09:05:46.805Z"
      },
      {
        "duration": 12,
        "start_time": "2022-12-16T09:05:46.847Z"
      },
      {
        "duration": 26,
        "start_time": "2022-12-16T09:05:46.860Z"
      },
      {
        "duration": 8,
        "start_time": "2022-12-16T09:05:46.887Z"
      },
      {
        "duration": 9,
        "start_time": "2022-12-16T09:05:46.896Z"
      },
      {
        "duration": 10,
        "start_time": "2022-12-16T09:05:46.907Z"
      },
      {
        "duration": 13,
        "start_time": "2022-12-16T09:05:46.918Z"
      },
      {
        "duration": 5,
        "start_time": "2022-12-16T09:05:46.932Z"
      },
      {
        "duration": 34,
        "start_time": "2022-12-16T09:05:46.939Z"
      },
      {
        "duration": 22,
        "start_time": "2022-12-16T09:05:46.975Z"
      },
      {
        "duration": 22,
        "start_time": "2022-12-16T09:05:46.999Z"
      },
      {
        "duration": 35,
        "start_time": "2022-12-16T09:05:47.023Z"
      },
      {
        "duration": 11,
        "start_time": "2022-12-16T09:05:47.059Z"
      },
      {
        "duration": 13,
        "start_time": "2022-12-16T09:05:47.072Z"
      },
      {
        "duration": 6,
        "start_time": "2022-12-16T09:05:47.088Z"
      },
      {
        "duration": 24,
        "start_time": "2022-12-16T09:05:47.095Z"
      },
      {
        "duration": 35,
        "start_time": "2022-12-16T09:05:47.120Z"
      },
      {
        "duration": 332,
        "start_time": "2022-12-16T09:05:47.157Z"
      },
      {
        "duration": 38,
        "start_time": "2022-12-16T09:05:47.491Z"
      },
      {
        "duration": 6,
        "start_time": "2022-12-16T09:05:47.533Z"
      },
      {
        "duration": 40,
        "start_time": "2022-12-16T09:05:47.540Z"
      },
      {
        "duration": 9,
        "start_time": "2022-12-16T09:05:47.581Z"
      },
      {
        "duration": 26,
        "start_time": "2022-12-16T09:05:47.591Z"
      },
      {
        "duration": 264,
        "start_time": "2022-12-16T09:05:47.619Z"
      },
      {
        "duration": 250,
        "start_time": "2022-12-16T09:05:47.884Z"
      },
      {
        "duration": 239,
        "start_time": "2022-12-16T09:05:48.141Z"
      },
      {
        "duration": 48,
        "start_time": "2022-12-16T09:05:48.382Z"
      },
      {
        "duration": 826,
        "start_time": "2022-12-16T09:05:48.434Z"
      },
      {
        "duration": 267,
        "start_time": "2022-12-16T09:05:49.261Z"
      },
      {
        "duration": 251,
        "start_time": "2022-12-16T09:05:49.532Z"
      },
      {
        "duration": 250,
        "start_time": "2022-12-16T09:05:49.785Z"
      },
      {
        "duration": 147,
        "start_time": "2022-12-16T09:05:50.040Z"
      },
      {
        "duration": 313,
        "start_time": "2022-12-16T09:05:50.189Z"
      },
      {
        "duration": 242,
        "start_time": "2022-12-16T09:05:50.503Z"
      },
      {
        "duration": 246,
        "start_time": "2022-12-16T09:05:50.746Z"
      },
      {
        "duration": 308,
        "start_time": "2022-12-16T09:05:50.994Z"
      },
      {
        "duration": 198,
        "start_time": "2022-12-16T09:05:51.304Z"
      },
      {
        "duration": 184,
        "start_time": "2022-12-16T09:05:51.504Z"
      },
      {
        "duration": 13,
        "start_time": "2022-12-16T09:05:51.689Z"
      },
      {
        "duration": 300,
        "start_time": "2022-12-16T09:05:51.704Z"
      },
      {
        "duration": 489,
        "start_time": "2022-12-16T09:05:52.005Z"
      },
      {
        "duration": 6,
        "start_time": "2022-12-16T09:05:52.495Z"
      },
      {
        "duration": 6,
        "start_time": "2022-12-16T09:05:52.502Z"
      },
      {
        "duration": 213,
        "start_time": "2022-12-16T09:05:52.509Z"
      },
      {
        "duration": 23,
        "start_time": "2022-12-16T09:05:52.729Z"
      },
      {
        "duration": 221,
        "start_time": "2022-12-16T09:05:52.754Z"
      },
      {
        "duration": 4,
        "start_time": "2022-12-16T09:05:52.977Z"
      },
      {
        "duration": 195,
        "start_time": "2022-12-16T09:05:52.982Z"
      },
      {
        "duration": 5,
        "start_time": "2022-12-16T09:05:53.179Z"
      },
      {
        "duration": 130,
        "start_time": "2022-12-16T09:05:53.185Z"
      },
      {
        "duration": 123,
        "start_time": "2022-12-16T09:05:53.317Z"
      },
      {
        "duration": 12,
        "start_time": "2022-12-16T09:05:53.444Z"
      },
      {
        "duration": 142,
        "start_time": "2022-12-16T09:05:53.458Z"
      },
      {
        "duration": 9,
        "start_time": "2022-12-16T09:05:53.602Z"
      },
      {
        "duration": 221,
        "start_time": "2022-12-16T09:05:53.612Z"
      },
      {
        "duration": 13,
        "start_time": "2022-12-16T09:05:53.835Z"
      },
      {
        "duration": 146,
        "start_time": "2022-12-16T09:05:53.855Z"
      },
      {
        "duration": 36,
        "start_time": "2022-12-16T09:05:54.003Z"
      },
      {
        "duration": 29,
        "start_time": "2022-12-16T09:05:54.044Z"
      },
      {
        "duration": 2,
        "start_time": "2022-12-16T09:05:54.075Z"
      },
      {
        "duration": 5,
        "start_time": "2022-12-16T09:05:54.079Z"
      },
      {
        "duration": 9,
        "start_time": "2022-12-16T09:05:54.085Z"
      },
      {
        "duration": 9,
        "start_time": "2022-12-16T09:05:54.096Z"
      },
      {
        "duration": 10,
        "start_time": "2022-12-16T09:05:54.106Z"
      },
      {
        "duration": 44,
        "start_time": "2022-12-16T09:05:54.117Z"
      },
      {
        "duration": 8,
        "start_time": "2022-12-16T09:05:54.162Z"
      },
      {
        "duration": 139,
        "start_time": "2022-12-16T09:05:54.171Z"
      },
      {
        "duration": 6,
        "start_time": "2022-12-16T09:07:46.795Z"
      },
      {
        "duration": 19,
        "start_time": "2022-12-16T09:08:44.401Z"
      },
      {
        "duration": 11,
        "start_time": "2022-12-16T09:08:50.632Z"
      },
      {
        "duration": 11,
        "start_time": "2022-12-16T09:09:07.087Z"
      },
      {
        "duration": 6,
        "start_time": "2022-12-16T09:09:07.691Z"
      },
      {
        "duration": 20,
        "start_time": "2022-12-16T09:14:23.801Z"
      },
      {
        "duration": 102,
        "start_time": "2022-12-16T09:15:21.428Z"
      },
      {
        "duration": 9,
        "start_time": "2022-12-16T09:19:48.170Z"
      },
      {
        "duration": 4,
        "start_time": "2022-12-16T09:21:59.065Z"
      },
      {
        "duration": 8,
        "start_time": "2022-12-16T09:22:04.835Z"
      },
      {
        "duration": 5,
        "start_time": "2022-12-16T09:22:07.471Z"
      },
      {
        "duration": 79,
        "start_time": "2022-12-16T09:23:39.480Z"
      },
      {
        "duration": 15,
        "start_time": "2022-12-16T09:45:53.761Z"
      },
      {
        "duration": 27,
        "start_time": "2022-12-16T09:45:56.762Z"
      },
      {
        "duration": 380,
        "start_time": "2022-12-16T09:46:56.662Z"
      },
      {
        "duration": 712,
        "start_time": "2022-12-16T09:46:57.044Z"
      },
      {
        "duration": 3,
        "start_time": "2022-12-16T09:46:57.758Z"
      },
      {
        "duration": 97,
        "start_time": "2022-12-16T09:46:57.763Z"
      },
      {
        "duration": 2,
        "start_time": "2022-12-16T09:46:57.862Z"
      },
      {
        "duration": 27,
        "start_time": "2022-12-16T09:46:57.866Z"
      },
      {
        "duration": 13,
        "start_time": "2022-12-16T09:46:57.894Z"
      },
      {
        "duration": 3,
        "start_time": "2022-12-16T09:46:57.909Z"
      },
      {
        "duration": 1924,
        "start_time": "2022-12-16T09:46:57.913Z"
      },
      {
        "duration": 154,
        "start_time": "2022-12-16T09:46:59.841Z"
      },
      {
        "duration": 20,
        "start_time": "2022-12-16T09:46:59.997Z"
      },
      {
        "duration": 35,
        "start_time": "2022-12-16T09:47:00.019Z"
      },
      {
        "duration": 26,
        "start_time": "2022-12-16T09:47:00.056Z"
      },
      {
        "duration": 71,
        "start_time": "2022-12-16T09:47:00.083Z"
      },
      {
        "duration": 8,
        "start_time": "2022-12-16T09:47:00.155Z"
      },
      {
        "duration": 31,
        "start_time": "2022-12-16T09:47:00.166Z"
      },
      {
        "duration": 21,
        "start_time": "2022-12-16T09:47:00.199Z"
      },
      {
        "duration": 21,
        "start_time": "2022-12-16T09:47:00.222Z"
      },
      {
        "duration": 4,
        "start_time": "2022-12-16T09:47:00.244Z"
      },
      {
        "duration": 10,
        "start_time": "2022-12-16T09:47:00.250Z"
      },
      {
        "duration": 20,
        "start_time": "2022-12-16T09:47:00.261Z"
      },
      {
        "duration": 10,
        "start_time": "2022-12-16T09:47:00.282Z"
      },
      {
        "duration": 23,
        "start_time": "2022-12-16T09:47:00.294Z"
      },
      {
        "duration": 32,
        "start_time": "2022-12-16T09:47:00.318Z"
      },
      {
        "duration": 21,
        "start_time": "2022-12-16T09:47:00.351Z"
      },
      {
        "duration": 25,
        "start_time": "2022-12-16T09:47:00.374Z"
      },
      {
        "duration": 6,
        "start_time": "2022-12-16T09:47:00.400Z"
      },
      {
        "duration": 7,
        "start_time": "2022-12-16T09:47:00.410Z"
      },
      {
        "duration": 13,
        "start_time": "2022-12-16T09:47:00.419Z"
      },
      {
        "duration": 22,
        "start_time": "2022-12-16T09:47:00.434Z"
      },
      {
        "duration": 35,
        "start_time": "2022-12-16T09:47:00.458Z"
      },
      {
        "duration": 36,
        "start_time": "2022-12-16T09:47:00.494Z"
      },
      {
        "duration": 345,
        "start_time": "2022-12-16T09:47:00.532Z"
      },
      {
        "duration": 35,
        "start_time": "2022-12-16T09:47:00.880Z"
      },
      {
        "duration": 24,
        "start_time": "2022-12-16T09:47:00.926Z"
      },
      {
        "duration": 53,
        "start_time": "2022-12-16T09:47:00.952Z"
      },
      {
        "duration": 36,
        "start_time": "2022-12-16T09:47:01.007Z"
      },
      {
        "duration": 58,
        "start_time": "2022-12-16T09:47:01.044Z"
      },
      {
        "duration": 241,
        "start_time": "2022-12-16T09:47:01.103Z"
      },
      {
        "duration": 232,
        "start_time": "2022-12-16T09:47:01.345Z"
      },
      {
        "duration": 260,
        "start_time": "2022-12-16T09:47:01.579Z"
      },
      {
        "duration": 37,
        "start_time": "2022-12-16T09:47:01.841Z"
      },
      {
        "duration": 752,
        "start_time": "2022-12-16T09:47:01.879Z"
      },
      {
        "duration": 248,
        "start_time": "2022-12-16T09:47:02.632Z"
      },
      {
        "duration": 233,
        "start_time": "2022-12-16T09:47:02.881Z"
      },
      {
        "duration": 198,
        "start_time": "2022-12-16T09:47:03.116Z"
      },
      {
        "duration": 115,
        "start_time": "2022-12-16T09:47:03.316Z"
      },
      {
        "duration": 272,
        "start_time": "2022-12-16T09:47:03.432Z"
      },
      {
        "duration": 242,
        "start_time": "2022-12-16T09:47:03.706Z"
      },
      {
        "duration": 230,
        "start_time": "2022-12-16T09:47:03.949Z"
      },
      {
        "duration": 291,
        "start_time": "2022-12-16T09:47:04.180Z"
      },
      {
        "duration": 176,
        "start_time": "2022-12-16T09:47:04.473Z"
      },
      {
        "duration": 140,
        "start_time": "2022-12-16T09:47:04.650Z"
      },
      {
        "duration": 12,
        "start_time": "2022-12-16T09:47:04.791Z"
      },
      {
        "duration": 276,
        "start_time": "2022-12-16T09:47:04.804Z"
      },
      {
        "duration": 441,
        "start_time": "2022-12-16T09:47:05.082Z"
      },
      {
        "duration": 4,
        "start_time": "2022-12-16T09:47:05.525Z"
      },
      {
        "duration": 4,
        "start_time": "2022-12-16T09:47:05.531Z"
      },
      {
        "duration": 236,
        "start_time": "2022-12-16T09:47:05.537Z"
      },
      {
        "duration": 6,
        "start_time": "2022-12-16T09:47:05.775Z"
      },
      {
        "duration": 188,
        "start_time": "2022-12-16T09:47:05.782Z"
      },
      {
        "duration": 4,
        "start_time": "2022-12-16T09:47:05.971Z"
      },
      {
        "duration": 182,
        "start_time": "2022-12-16T09:47:05.977Z"
      },
      {
        "duration": 6,
        "start_time": "2022-12-16T09:47:06.161Z"
      },
      {
        "duration": 136,
        "start_time": "2022-12-16T09:47:06.168Z"
      },
      {
        "duration": 110,
        "start_time": "2022-12-16T09:47:06.306Z"
      },
      {
        "duration": 13,
        "start_time": "2022-12-16T09:47:06.418Z"
      },
      {
        "duration": 139,
        "start_time": "2022-12-16T09:47:06.433Z"
      },
      {
        "duration": 9,
        "start_time": "2022-12-16T09:47:06.573Z"
      },
      {
        "duration": 217,
        "start_time": "2022-12-16T09:47:06.584Z"
      },
      {
        "duration": 9,
        "start_time": "2022-12-16T09:47:06.802Z"
      },
      {
        "duration": 133,
        "start_time": "2022-12-16T09:47:06.813Z"
      },
      {
        "duration": 23,
        "start_time": "2022-12-16T09:47:06.947Z"
      },
      {
        "duration": 22,
        "start_time": "2022-12-16T09:47:06.971Z"
      },
      {
        "duration": 2,
        "start_time": "2022-12-16T09:47:06.995Z"
      },
      {
        "duration": 7,
        "start_time": "2022-12-16T09:47:06.998Z"
      },
      {
        "duration": 20,
        "start_time": "2022-12-16T09:47:07.007Z"
      },
      {
        "duration": 9,
        "start_time": "2022-12-16T09:47:07.029Z"
      },
      {
        "duration": 10,
        "start_time": "2022-12-16T09:47:07.040Z"
      },
      {
        "duration": 36,
        "start_time": "2022-12-16T09:47:07.051Z"
      },
      {
        "duration": 8,
        "start_time": "2022-12-16T09:47:07.089Z"
      },
      {
        "duration": 135,
        "start_time": "2022-12-16T09:47:07.129Z"
      },
      {
        "duration": 388,
        "start_time": "2022-12-16T10:19:11.097Z"
      },
      {
        "duration": 402,
        "start_time": "2022-12-16T10:20:10.837Z"
      },
      {
        "duration": 770,
        "start_time": "2022-12-16T10:20:11.242Z"
      },
      {
        "duration": 2,
        "start_time": "2022-12-16T10:20:12.014Z"
      },
      {
        "duration": 97,
        "start_time": "2022-12-16T10:20:12.018Z"
      },
      {
        "duration": 3,
        "start_time": "2022-12-16T10:20:12.117Z"
      },
      {
        "duration": 33,
        "start_time": "2022-12-16T10:20:12.122Z"
      },
      {
        "duration": 18,
        "start_time": "2022-12-16T10:20:12.157Z"
      },
      {
        "duration": 4,
        "start_time": "2022-12-16T10:20:12.177Z"
      },
      {
        "duration": 1863,
        "start_time": "2022-12-16T10:20:12.182Z"
      },
      {
        "duration": 163,
        "start_time": "2022-12-16T10:20:14.048Z"
      },
      {
        "duration": 30,
        "start_time": "2022-12-16T10:20:14.212Z"
      },
      {
        "duration": 17,
        "start_time": "2022-12-16T10:20:14.244Z"
      },
      {
        "duration": 18,
        "start_time": "2022-12-16T10:20:14.262Z"
      },
      {
        "duration": 404,
        "start_time": "2022-12-16T10:20:14.281Z"
      },
      {
        "duration": 0,
        "start_time": "2022-12-16T10:20:14.688Z"
      },
      {
        "duration": 0,
        "start_time": "2022-12-16T10:20:14.689Z"
      },
      {
        "duration": 0,
        "start_time": "2022-12-16T10:20:14.690Z"
      },
      {
        "duration": 0,
        "start_time": "2022-12-16T10:20:14.691Z"
      },
      {
        "duration": 0,
        "start_time": "2022-12-16T10:20:14.692Z"
      },
      {
        "duration": 0,
        "start_time": "2022-12-16T10:20:14.693Z"
      },
      {
        "duration": 0,
        "start_time": "2022-12-16T10:20:14.694Z"
      },
      {
        "duration": 0,
        "start_time": "2022-12-16T10:20:14.695Z"
      },
      {
        "duration": 0,
        "start_time": "2022-12-16T10:20:14.696Z"
      },
      {
        "duration": 0,
        "start_time": "2022-12-16T10:20:14.697Z"
      },
      {
        "duration": 0,
        "start_time": "2022-12-16T10:20:14.698Z"
      },
      {
        "duration": 0,
        "start_time": "2022-12-16T10:20:14.699Z"
      },
      {
        "duration": 0,
        "start_time": "2022-12-16T10:20:14.700Z"
      },
      {
        "duration": 1,
        "start_time": "2022-12-16T10:20:14.700Z"
      },
      {
        "duration": 0,
        "start_time": "2022-12-16T10:20:14.701Z"
      },
      {
        "duration": 0,
        "start_time": "2022-12-16T10:20:14.702Z"
      },
      {
        "duration": 0,
        "start_time": "2022-12-16T10:20:14.703Z"
      },
      {
        "duration": 0,
        "start_time": "2022-12-16T10:20:14.704Z"
      },
      {
        "duration": 0,
        "start_time": "2022-12-16T10:20:14.705Z"
      },
      {
        "duration": 0,
        "start_time": "2022-12-16T10:20:14.706Z"
      },
      {
        "duration": 0,
        "start_time": "2022-12-16T10:20:14.706Z"
      },
      {
        "duration": 0,
        "start_time": "2022-12-16T10:20:14.707Z"
      },
      {
        "duration": 0,
        "start_time": "2022-12-16T10:20:14.709Z"
      },
      {
        "duration": 0,
        "start_time": "2022-12-16T10:20:14.709Z"
      },
      {
        "duration": 0,
        "start_time": "2022-12-16T10:20:14.710Z"
      },
      {
        "duration": 0,
        "start_time": "2022-12-16T10:20:14.711Z"
      },
      {
        "duration": 0,
        "start_time": "2022-12-16T10:20:14.712Z"
      },
      {
        "duration": 0,
        "start_time": "2022-12-16T10:20:14.713Z"
      },
      {
        "duration": 0,
        "start_time": "2022-12-16T10:20:14.714Z"
      },
      {
        "duration": 0,
        "start_time": "2022-12-16T10:20:14.715Z"
      },
      {
        "duration": 0,
        "start_time": "2022-12-16T10:20:14.716Z"
      },
      {
        "duration": 0,
        "start_time": "2022-12-16T10:20:14.717Z"
      },
      {
        "duration": 0,
        "start_time": "2022-12-16T10:20:14.718Z"
      },
      {
        "duration": 0,
        "start_time": "2022-12-16T10:20:14.719Z"
      },
      {
        "duration": 0,
        "start_time": "2022-12-16T10:20:14.720Z"
      },
      {
        "duration": 0,
        "start_time": "2022-12-16T10:20:14.721Z"
      },
      {
        "duration": 0,
        "start_time": "2022-12-16T10:20:14.722Z"
      },
      {
        "duration": 0,
        "start_time": "2022-12-16T10:20:14.723Z"
      },
      {
        "duration": 0,
        "start_time": "2022-12-16T10:20:14.724Z"
      },
      {
        "duration": 0,
        "start_time": "2022-12-16T10:20:14.724Z"
      },
      {
        "duration": 0,
        "start_time": "2022-12-16T10:20:14.729Z"
      },
      {
        "duration": 0,
        "start_time": "2022-12-16T10:20:14.731Z"
      },
      {
        "duration": 0,
        "start_time": "2022-12-16T10:20:14.732Z"
      },
      {
        "duration": 0,
        "start_time": "2022-12-16T10:20:14.732Z"
      },
      {
        "duration": 0,
        "start_time": "2022-12-16T10:20:14.733Z"
      },
      {
        "duration": 0,
        "start_time": "2022-12-16T10:20:14.733Z"
      },
      {
        "duration": 0,
        "start_time": "2022-12-16T10:20:14.734Z"
      },
      {
        "duration": 0,
        "start_time": "2022-12-16T10:20:14.734Z"
      },
      {
        "duration": 0,
        "start_time": "2022-12-16T10:20:14.735Z"
      },
      {
        "duration": 0,
        "start_time": "2022-12-16T10:20:14.737Z"
      },
      {
        "duration": 0,
        "start_time": "2022-12-16T10:20:14.738Z"
      },
      {
        "duration": 0,
        "start_time": "2022-12-16T10:20:14.739Z"
      },
      {
        "duration": 0,
        "start_time": "2022-12-16T10:20:14.740Z"
      },
      {
        "duration": 0,
        "start_time": "2022-12-16T10:20:14.741Z"
      },
      {
        "duration": 0,
        "start_time": "2022-12-16T10:20:14.741Z"
      },
      {
        "duration": 0,
        "start_time": "2022-12-16T10:20:14.742Z"
      },
      {
        "duration": 0,
        "start_time": "2022-12-16T10:20:14.744Z"
      },
      {
        "duration": 0,
        "start_time": "2022-12-16T10:20:14.745Z"
      },
      {
        "duration": 0,
        "start_time": "2022-12-16T10:20:14.745Z"
      },
      {
        "duration": 0,
        "start_time": "2022-12-16T10:20:14.746Z"
      },
      {
        "duration": 0,
        "start_time": "2022-12-16T10:20:14.747Z"
      },
      {
        "duration": 0,
        "start_time": "2022-12-16T10:20:14.748Z"
      },
      {
        "duration": 0,
        "start_time": "2022-12-16T10:20:14.749Z"
      },
      {
        "duration": 0,
        "start_time": "2022-12-16T10:20:14.750Z"
      },
      {
        "duration": 0,
        "start_time": "2022-12-16T10:20:14.750Z"
      },
      {
        "duration": 0,
        "start_time": "2022-12-16T10:20:14.751Z"
      },
      {
        "duration": 0,
        "start_time": "2022-12-16T10:20:14.752Z"
      },
      {
        "duration": 0,
        "start_time": "2022-12-16T10:20:14.753Z"
      },
      {
        "duration": 0,
        "start_time": "2022-12-16T10:20:14.754Z"
      },
      {
        "duration": 8,
        "start_time": "2022-12-16T10:22:13.271Z"
      },
      {
        "duration": 360,
        "start_time": "2022-12-16T10:22:46.708Z"
      },
      {
        "duration": 311,
        "start_time": "2022-12-16T10:24:24.049Z"
      },
      {
        "duration": 35,
        "start_time": "2022-12-16T10:25:05.710Z"
      },
      {
        "duration": 29,
        "start_time": "2022-12-16T10:25:07.556Z"
      },
      {
        "duration": 327,
        "start_time": "2022-12-16T10:25:12.904Z"
      },
      {
        "duration": 298,
        "start_time": "2022-12-16T10:27:06.616Z"
      },
      {
        "duration": 5,
        "start_time": "2022-12-16T10:27:47.154Z"
      },
      {
        "duration": 6,
        "start_time": "2022-12-16T10:27:54.142Z"
      },
      {
        "duration": 341,
        "start_time": "2022-12-16T10:32:04.965Z"
      },
      {
        "duration": 333,
        "start_time": "2022-12-16T10:32:17.039Z"
      },
      {
        "duration": 303,
        "start_time": "2022-12-16T10:32:59.766Z"
      },
      {
        "duration": 351,
        "start_time": "2022-12-16T10:35:24.524Z"
      },
      {
        "duration": 288,
        "start_time": "2022-12-16T12:29:25.122Z"
      },
      {
        "duration": 398,
        "start_time": "2022-12-16T12:29:32.319Z"
      },
      {
        "duration": 708,
        "start_time": "2022-12-16T12:29:32.718Z"
      },
      {
        "duration": 2,
        "start_time": "2022-12-16T12:29:33.428Z"
      },
      {
        "duration": 107,
        "start_time": "2022-12-16T12:29:33.432Z"
      },
      {
        "duration": 3,
        "start_time": "2022-12-16T12:29:33.541Z"
      },
      {
        "duration": 34,
        "start_time": "2022-12-16T12:29:33.546Z"
      },
      {
        "duration": 15,
        "start_time": "2022-12-16T12:29:33.581Z"
      },
      {
        "duration": 32,
        "start_time": "2022-12-16T12:29:33.598Z"
      },
      {
        "duration": 1733,
        "start_time": "2022-12-16T12:29:33.632Z"
      },
      {
        "duration": 158,
        "start_time": "2022-12-16T12:29:35.369Z"
      },
      {
        "duration": 20,
        "start_time": "2022-12-16T12:29:35.529Z"
      },
      {
        "duration": 17,
        "start_time": "2022-12-16T12:29:35.550Z"
      },
      {
        "duration": 18,
        "start_time": "2022-12-16T12:29:35.569Z"
      },
      {
        "duration": 5,
        "start_time": "2022-12-16T12:29:35.589Z"
      },
      {
        "duration": 57,
        "start_time": "2022-12-16T12:29:35.596Z"
      },
      {
        "duration": 414,
        "start_time": "2022-12-16T12:29:35.654Z"
      },
      {
        "duration": 0,
        "start_time": "2022-12-16T12:29:36.071Z"
      },
      {
        "duration": 0,
        "start_time": "2022-12-16T12:29:36.072Z"
      },
      {
        "duration": 0,
        "start_time": "2022-12-16T12:29:36.073Z"
      },
      {
        "duration": 0,
        "start_time": "2022-12-16T12:29:36.074Z"
      },
      {
        "duration": 0,
        "start_time": "2022-12-16T12:29:36.075Z"
      },
      {
        "duration": 0,
        "start_time": "2022-12-16T12:29:36.076Z"
      },
      {
        "duration": 0,
        "start_time": "2022-12-16T12:29:36.077Z"
      },
      {
        "duration": 0,
        "start_time": "2022-12-16T12:29:36.078Z"
      },
      {
        "duration": 0,
        "start_time": "2022-12-16T12:29:36.079Z"
      },
      {
        "duration": 0,
        "start_time": "2022-12-16T12:29:36.080Z"
      },
      {
        "duration": 0,
        "start_time": "2022-12-16T12:29:36.081Z"
      },
      {
        "duration": 0,
        "start_time": "2022-12-16T12:29:36.082Z"
      },
      {
        "duration": 0,
        "start_time": "2022-12-16T12:29:36.082Z"
      },
      {
        "duration": 0,
        "start_time": "2022-12-16T12:29:36.083Z"
      },
      {
        "duration": 0,
        "start_time": "2022-12-16T12:29:36.084Z"
      },
      {
        "duration": 0,
        "start_time": "2022-12-16T12:29:36.085Z"
      },
      {
        "duration": 0,
        "start_time": "2022-12-16T12:29:36.086Z"
      },
      {
        "duration": 0,
        "start_time": "2022-12-16T12:29:36.087Z"
      },
      {
        "duration": 0,
        "start_time": "2022-12-16T12:29:36.089Z"
      },
      {
        "duration": 0,
        "start_time": "2022-12-16T12:29:36.089Z"
      },
      {
        "duration": 0,
        "start_time": "2022-12-16T12:29:36.090Z"
      },
      {
        "duration": 0,
        "start_time": "2022-12-16T12:29:36.091Z"
      },
      {
        "duration": 0,
        "start_time": "2022-12-16T12:29:36.092Z"
      },
      {
        "duration": 0,
        "start_time": "2022-12-16T12:29:36.093Z"
      },
      {
        "duration": 0,
        "start_time": "2022-12-16T12:29:36.094Z"
      },
      {
        "duration": 0,
        "start_time": "2022-12-16T12:29:36.095Z"
      },
      {
        "duration": 0,
        "start_time": "2022-12-16T12:29:36.096Z"
      },
      {
        "duration": 0,
        "start_time": "2022-12-16T12:29:36.097Z"
      },
      {
        "duration": 0,
        "start_time": "2022-12-16T12:29:36.098Z"
      },
      {
        "duration": 0,
        "start_time": "2022-12-16T12:29:36.099Z"
      },
      {
        "duration": 0,
        "start_time": "2022-12-16T12:29:36.100Z"
      },
      {
        "duration": 0,
        "start_time": "2022-12-16T12:29:36.101Z"
      },
      {
        "duration": 0,
        "start_time": "2022-12-16T12:29:36.102Z"
      },
      {
        "duration": 0,
        "start_time": "2022-12-16T12:29:36.103Z"
      },
      {
        "duration": 0,
        "start_time": "2022-12-16T12:29:36.104Z"
      },
      {
        "duration": 0,
        "start_time": "2022-12-16T12:29:36.105Z"
      },
      {
        "duration": 0,
        "start_time": "2022-12-16T12:29:36.106Z"
      },
      {
        "duration": 0,
        "start_time": "2022-12-16T12:29:36.106Z"
      },
      {
        "duration": 0,
        "start_time": "2022-12-16T12:29:36.126Z"
      },
      {
        "duration": 0,
        "start_time": "2022-12-16T12:29:36.127Z"
      },
      {
        "duration": 0,
        "start_time": "2022-12-16T12:29:36.128Z"
      },
      {
        "duration": 0,
        "start_time": "2022-12-16T12:29:36.129Z"
      },
      {
        "duration": 0,
        "start_time": "2022-12-16T12:29:36.130Z"
      },
      {
        "duration": 0,
        "start_time": "2022-12-16T12:29:36.131Z"
      },
      {
        "duration": 0,
        "start_time": "2022-12-16T12:29:36.132Z"
      },
      {
        "duration": 0,
        "start_time": "2022-12-16T12:29:36.133Z"
      },
      {
        "duration": 0,
        "start_time": "2022-12-16T12:29:36.133Z"
      },
      {
        "duration": 0,
        "start_time": "2022-12-16T12:29:36.134Z"
      },
      {
        "duration": 0,
        "start_time": "2022-12-16T12:29:36.135Z"
      },
      {
        "duration": 0,
        "start_time": "2022-12-16T12:29:36.136Z"
      },
      {
        "duration": 0,
        "start_time": "2022-12-16T12:29:36.137Z"
      },
      {
        "duration": 0,
        "start_time": "2022-12-16T12:29:36.138Z"
      },
      {
        "duration": 0,
        "start_time": "2022-12-16T12:29:36.139Z"
      },
      {
        "duration": 0,
        "start_time": "2022-12-16T12:29:36.140Z"
      },
      {
        "duration": 0,
        "start_time": "2022-12-16T12:29:36.141Z"
      },
      {
        "duration": 0,
        "start_time": "2022-12-16T12:29:36.142Z"
      },
      {
        "duration": 0,
        "start_time": "2022-12-16T12:29:36.142Z"
      },
      {
        "duration": 0,
        "start_time": "2022-12-16T12:29:36.143Z"
      },
      {
        "duration": 0,
        "start_time": "2022-12-16T12:29:36.144Z"
      },
      {
        "duration": 0,
        "start_time": "2022-12-16T12:29:36.145Z"
      },
      {
        "duration": 0,
        "start_time": "2022-12-16T12:29:36.146Z"
      },
      {
        "duration": 0,
        "start_time": "2022-12-16T12:29:36.147Z"
      },
      {
        "duration": 0,
        "start_time": "2022-12-16T12:29:36.148Z"
      },
      {
        "duration": 0,
        "start_time": "2022-12-16T12:29:36.149Z"
      },
      {
        "duration": 0,
        "start_time": "2022-12-16T12:29:36.150Z"
      },
      {
        "duration": 0,
        "start_time": "2022-12-16T12:29:36.151Z"
      },
      {
        "duration": 0,
        "start_time": "2022-12-16T12:29:36.152Z"
      },
      {
        "duration": 0,
        "start_time": "2022-12-16T12:29:36.153Z"
      },
      {
        "duration": 24,
        "start_time": "2022-12-16T12:34:52.587Z"
      },
      {
        "duration": 4,
        "start_time": "2022-12-16T12:34:55.267Z"
      },
      {
        "duration": 40,
        "start_time": "2022-12-16T12:34:56.123Z"
      },
      {
        "duration": 16,
        "start_time": "2022-12-16T12:53:39.322Z"
      },
      {
        "duration": 13,
        "start_time": "2022-12-16T12:54:00.494Z"
      },
      {
        "duration": 23,
        "start_time": "2022-12-16T12:59:07.844Z"
      },
      {
        "duration": 27,
        "start_time": "2022-12-16T12:59:17.821Z"
      },
      {
        "duration": 418,
        "start_time": "2022-12-16T13:01:10.897Z"
      },
      {
        "duration": 774,
        "start_time": "2022-12-16T13:01:11.317Z"
      },
      {
        "duration": 3,
        "start_time": "2022-12-16T13:01:12.092Z"
      },
      {
        "duration": 92,
        "start_time": "2022-12-16T13:01:12.096Z"
      },
      {
        "duration": 6,
        "start_time": "2022-12-16T13:01:12.190Z"
      },
      {
        "duration": 29,
        "start_time": "2022-12-16T13:01:12.198Z"
      },
      {
        "duration": 13,
        "start_time": "2022-12-16T13:01:12.229Z"
      },
      {
        "duration": 3,
        "start_time": "2022-12-16T13:01:12.244Z"
      },
      {
        "duration": 1808,
        "start_time": "2022-12-16T13:01:12.249Z"
      },
      {
        "duration": 170,
        "start_time": "2022-12-16T13:01:14.059Z"
      },
      {
        "duration": 22,
        "start_time": "2022-12-16T13:01:14.230Z"
      },
      {
        "duration": 25,
        "start_time": "2022-12-16T13:01:14.254Z"
      },
      {
        "duration": 18,
        "start_time": "2022-12-16T13:01:14.281Z"
      },
      {
        "duration": 6,
        "start_time": "2022-12-16T13:01:14.325Z"
      },
      {
        "duration": 30,
        "start_time": "2022-12-16T13:01:14.332Z"
      },
      {
        "duration": 22,
        "start_time": "2022-12-16T13:01:14.363Z"
      },
      {
        "duration": 40,
        "start_time": "2022-12-16T13:01:14.387Z"
      },
      {
        "duration": 9,
        "start_time": "2022-12-16T13:01:14.429Z"
      },
      {
        "duration": 18,
        "start_time": "2022-12-16T13:01:14.439Z"
      },
      {
        "duration": 4,
        "start_time": "2022-12-16T13:01:14.459Z"
      },
      {
        "duration": 13,
        "start_time": "2022-12-16T13:01:14.464Z"
      },
      {
        "duration": 5,
        "start_time": "2022-12-16T13:01:14.478Z"
      },
      {
        "duration": 10,
        "start_time": "2022-12-16T13:01:14.484Z"
      },
      {
        "duration": 6,
        "start_time": "2022-12-16T13:01:14.526Z"
      },
      {
        "duration": 11,
        "start_time": "2022-12-16T13:01:14.534Z"
      },
      {
        "duration": 5,
        "start_time": "2022-12-16T13:01:14.547Z"
      },
      {
        "duration": 25,
        "start_time": "2022-12-16T13:01:14.553Z"
      },
      {
        "duration": 46,
        "start_time": "2022-12-16T13:01:14.580Z"
      },
      {
        "duration": 13,
        "start_time": "2022-12-16T13:01:14.628Z"
      },
      {
        "duration": 3,
        "start_time": "2022-12-16T13:01:14.643Z"
      },
      {
        "duration": 11,
        "start_time": "2022-12-16T13:01:14.648Z"
      },
      {
        "duration": 9,
        "start_time": "2022-12-16T13:01:14.660Z"
      },
      {
        "duration": 6,
        "start_time": "2022-12-16T13:01:14.670Z"
      },
      {
        "duration": 27,
        "start_time": "2022-12-16T13:01:14.678Z"
      },
      {
        "duration": 22,
        "start_time": "2022-12-16T13:01:14.706Z"
      },
      {
        "duration": 341,
        "start_time": "2022-12-16T13:01:14.729Z"
      },
      {
        "duration": 33,
        "start_time": "2022-12-16T13:01:15.072Z"
      },
      {
        "duration": 7,
        "start_time": "2022-12-16T13:01:15.106Z"
      },
      {
        "duration": 32,
        "start_time": "2022-12-16T13:01:15.115Z"
      },
      {
        "duration": 5,
        "start_time": "2022-12-16T13:01:15.149Z"
      },
      {
        "duration": 25,
        "start_time": "2022-12-16T13:01:15.159Z"
      },
      {
        "duration": 264,
        "start_time": "2022-12-16T13:01:15.185Z"
      },
      {
        "duration": 312,
        "start_time": "2022-12-16T13:01:15.451Z"
      },
      {
        "duration": 275,
        "start_time": "2022-12-16T13:01:15.765Z"
      },
      {
        "duration": 40,
        "start_time": "2022-12-16T13:01:16.042Z"
      },
      {
        "duration": 789,
        "start_time": "2022-12-16T13:01:16.084Z"
      },
      {
        "duration": 258,
        "start_time": "2022-12-16T13:01:16.874Z"
      },
      {
        "duration": 236,
        "start_time": "2022-12-16T13:01:17.134Z"
      },
      {
        "duration": 228,
        "start_time": "2022-12-16T13:01:17.372Z"
      },
      {
        "duration": 132,
        "start_time": "2022-12-16T13:01:17.601Z"
      },
      {
        "duration": 307,
        "start_time": "2022-12-16T13:01:17.734Z"
      },
      {
        "duration": 232,
        "start_time": "2022-12-16T13:01:18.043Z"
      },
      {
        "duration": 249,
        "start_time": "2022-12-16T13:01:18.277Z"
      },
      {
        "duration": 297,
        "start_time": "2022-12-16T13:01:18.528Z"
      },
      {
        "duration": 201,
        "start_time": "2022-12-16T13:01:18.827Z"
      },
      {
        "duration": 170,
        "start_time": "2022-12-16T13:01:19.030Z"
      },
      {
        "duration": 12,
        "start_time": "2022-12-16T13:01:19.201Z"
      },
      {
        "duration": 282,
        "start_time": "2022-12-16T13:01:19.225Z"
      },
      {
        "duration": 470,
        "start_time": "2022-12-16T13:01:19.509Z"
      },
      {
        "duration": 5,
        "start_time": "2022-12-16T13:01:19.981Z"
      },
      {
        "duration": 24,
        "start_time": "2022-12-16T13:01:19.987Z"
      },
      {
        "duration": 192,
        "start_time": "2022-12-16T13:01:20.013Z"
      },
      {
        "duration": 5,
        "start_time": "2022-12-16T13:01:20.207Z"
      },
      {
        "duration": 191,
        "start_time": "2022-12-16T13:01:20.214Z"
      },
      {
        "duration": 4,
        "start_time": "2022-12-16T13:01:20.407Z"
      },
      {
        "duration": 181,
        "start_time": "2022-12-16T13:01:20.412Z"
      },
      {
        "duration": 6,
        "start_time": "2022-12-16T13:01:20.594Z"
      },
      {
        "duration": 135,
        "start_time": "2022-12-16T13:01:20.601Z"
      },
      {
        "duration": 131,
        "start_time": "2022-12-16T13:01:20.738Z"
      },
      {
        "duration": 9,
        "start_time": "2022-12-16T13:01:20.870Z"
      },
      {
        "duration": 186,
        "start_time": "2022-12-16T13:01:20.880Z"
      },
      {
        "duration": 12,
        "start_time": "2022-12-16T13:01:21.068Z"
      },
      {
        "duration": 251,
        "start_time": "2022-12-16T13:01:21.082Z"
      },
      {
        "duration": 9,
        "start_time": "2022-12-16T13:01:21.335Z"
      },
      {
        "duration": 161,
        "start_time": "2022-12-16T13:01:21.346Z"
      },
      {
        "duration": 34,
        "start_time": "2022-12-16T13:01:21.509Z"
      },
      {
        "duration": 22,
        "start_time": "2022-12-16T13:01:21.545Z"
      },
      {
        "duration": 3,
        "start_time": "2022-12-16T13:01:21.569Z"
      },
      {
        "duration": 5,
        "start_time": "2022-12-16T13:01:21.574Z"
      },
      {
        "duration": 12,
        "start_time": "2022-12-16T13:01:21.581Z"
      },
      {
        "duration": 40,
        "start_time": "2022-12-16T13:01:21.596Z"
      },
      {
        "duration": 11,
        "start_time": "2022-12-16T13:01:21.638Z"
      },
      {
        "duration": 45,
        "start_time": "2022-12-16T13:01:21.651Z"
      },
      {
        "duration": 9,
        "start_time": "2022-12-16T13:01:21.698Z"
      },
      {
        "duration": 159,
        "start_time": "2022-12-16T13:01:21.708Z"
      },
      {
        "duration": 387,
        "start_time": "2022-12-16T13:18:39.049Z"
      },
      {
        "duration": 705,
        "start_time": "2022-12-16T13:18:39.438Z"
      },
      {
        "duration": 3,
        "start_time": "2022-12-16T13:18:40.144Z"
      },
      {
        "duration": 122,
        "start_time": "2022-12-16T13:18:40.148Z"
      },
      {
        "duration": 2,
        "start_time": "2022-12-16T13:18:40.272Z"
      },
      {
        "duration": 54,
        "start_time": "2022-12-16T13:18:40.276Z"
      },
      {
        "duration": 43,
        "start_time": "2022-12-16T13:18:40.331Z"
      },
      {
        "duration": 33,
        "start_time": "2022-12-16T13:18:40.376Z"
      },
      {
        "duration": 1782,
        "start_time": "2022-12-16T13:18:40.411Z"
      },
      {
        "duration": 156,
        "start_time": "2022-12-16T13:18:42.196Z"
      },
      {
        "duration": 21,
        "start_time": "2022-12-16T13:18:42.353Z"
      },
      {
        "duration": 20,
        "start_time": "2022-12-16T13:18:42.376Z"
      },
      {
        "duration": 37,
        "start_time": "2022-12-16T13:18:42.397Z"
      },
      {
        "duration": 22,
        "start_time": "2022-12-16T13:18:42.435Z"
      },
      {
        "duration": 42,
        "start_time": "2022-12-16T13:18:42.459Z"
      },
      {
        "duration": 31,
        "start_time": "2022-12-16T13:18:42.503Z"
      },
      {
        "duration": 27,
        "start_time": "2022-12-16T13:18:42.536Z"
      },
      {
        "duration": 8,
        "start_time": "2022-12-16T13:18:42.565Z"
      },
      {
        "duration": 37,
        "start_time": "2022-12-16T13:18:42.574Z"
      },
      {
        "duration": 4,
        "start_time": "2022-12-16T13:18:42.612Z"
      },
      {
        "duration": 23,
        "start_time": "2022-12-16T13:18:42.617Z"
      },
      {
        "duration": 20,
        "start_time": "2022-12-16T13:18:42.642Z"
      },
      {
        "duration": 18,
        "start_time": "2022-12-16T13:18:42.663Z"
      },
      {
        "duration": 23,
        "start_time": "2022-12-16T13:18:42.682Z"
      },
      {
        "duration": 12,
        "start_time": "2022-12-16T13:18:42.707Z"
      },
      {
        "duration": 22,
        "start_time": "2022-12-16T13:18:42.721Z"
      },
      {
        "duration": 40,
        "start_time": "2022-12-16T13:18:42.744Z"
      },
      {
        "duration": 31,
        "start_time": "2022-12-16T13:18:42.789Z"
      },
      {
        "duration": 36,
        "start_time": "2022-12-16T13:18:42.822Z"
      },
      {
        "duration": 31,
        "start_time": "2022-12-16T13:18:42.859Z"
      },
      {
        "duration": 21,
        "start_time": "2022-12-16T13:18:42.892Z"
      },
      {
        "duration": 29,
        "start_time": "2022-12-16T13:18:42.915Z"
      },
      {
        "duration": 26,
        "start_time": "2022-12-16T13:18:42.946Z"
      },
      {
        "duration": 56,
        "start_time": "2022-12-16T13:18:42.973Z"
      },
      {
        "duration": 37,
        "start_time": "2022-12-16T13:18:43.031Z"
      },
      {
        "duration": 321,
        "start_time": "2022-12-16T13:18:43.069Z"
      },
      {
        "duration": 36,
        "start_time": "2022-12-16T13:18:43.391Z"
      },
      {
        "duration": 35,
        "start_time": "2022-12-16T13:18:43.429Z"
      },
      {
        "duration": 52,
        "start_time": "2022-12-16T13:18:43.465Z"
      },
      {
        "duration": 29,
        "start_time": "2022-12-16T13:18:43.519Z"
      },
      {
        "duration": 46,
        "start_time": "2022-12-16T13:18:43.550Z"
      },
      {
        "duration": 247,
        "start_time": "2022-12-16T13:18:43.598Z"
      },
      {
        "duration": 238,
        "start_time": "2022-12-16T13:18:43.847Z"
      },
      {
        "duration": 246,
        "start_time": "2022-12-16T13:18:44.087Z"
      },
      {
        "duration": 39,
        "start_time": "2022-12-16T13:18:44.335Z"
      },
      {
        "duration": 804,
        "start_time": "2022-12-16T13:18:44.375Z"
      },
      {
        "duration": 307,
        "start_time": "2022-12-16T13:18:45.181Z"
      },
      {
        "duration": 287,
        "start_time": "2022-12-16T13:18:45.490Z"
      },
      {
        "duration": 202,
        "start_time": "2022-12-16T13:18:45.779Z"
      },
      {
        "duration": 133,
        "start_time": "2022-12-16T13:18:45.983Z"
      },
      {
        "duration": 297,
        "start_time": "2022-12-16T13:18:46.118Z"
      },
      {
        "duration": 223,
        "start_time": "2022-12-16T13:18:46.417Z"
      },
      {
        "duration": 239,
        "start_time": "2022-12-16T13:18:46.642Z"
      },
      {
        "duration": 320,
        "start_time": "2022-12-16T13:18:46.882Z"
      },
      {
        "duration": 190,
        "start_time": "2022-12-16T13:18:47.203Z"
      },
      {
        "duration": 152,
        "start_time": "2022-12-16T13:18:47.395Z"
      },
      {
        "duration": 11,
        "start_time": "2022-12-16T13:18:47.549Z"
      },
      {
        "duration": 324,
        "start_time": "2022-12-16T13:18:47.561Z"
      },
      {
        "duration": 460,
        "start_time": "2022-12-16T13:18:47.886Z"
      },
      {
        "duration": 4,
        "start_time": "2022-12-16T13:18:48.348Z"
      },
      {
        "duration": 23,
        "start_time": "2022-12-16T13:18:48.353Z"
      },
      {
        "duration": 205,
        "start_time": "2022-12-16T13:18:48.377Z"
      },
      {
        "duration": 5,
        "start_time": "2022-12-16T13:18:48.583Z"
      },
      {
        "duration": 205,
        "start_time": "2022-12-16T13:18:48.589Z"
      },
      {
        "duration": 4,
        "start_time": "2022-12-16T13:18:48.795Z"
      },
      {
        "duration": 183,
        "start_time": "2022-12-16T13:18:48.801Z"
      },
      {
        "duration": 6,
        "start_time": "2022-12-16T13:18:48.985Z"
      },
      {
        "duration": 124,
        "start_time": "2022-12-16T13:18:48.992Z"
      },
      {
        "duration": 131,
        "start_time": "2022-12-16T13:18:49.117Z"
      },
      {
        "duration": 9,
        "start_time": "2022-12-16T13:18:49.250Z"
      },
      {
        "duration": 157,
        "start_time": "2022-12-16T13:18:49.260Z"
      },
      {
        "duration": 13,
        "start_time": "2022-12-16T13:18:49.418Z"
      },
      {
        "duration": 220,
        "start_time": "2022-12-16T13:18:49.433Z"
      },
      {
        "duration": 9,
        "start_time": "2022-12-16T13:18:49.655Z"
      },
      {
        "duration": 183,
        "start_time": "2022-12-16T13:18:49.665Z"
      },
      {
        "duration": 27,
        "start_time": "2022-12-16T13:18:49.850Z"
      },
      {
        "duration": 49,
        "start_time": "2022-12-16T13:18:49.879Z"
      },
      {
        "duration": 27,
        "start_time": "2022-12-16T13:18:49.930Z"
      },
      {
        "duration": 68,
        "start_time": "2022-12-16T13:18:49.958Z"
      },
      {
        "duration": 36,
        "start_time": "2022-12-16T13:18:50.027Z"
      },
      {
        "duration": 53,
        "start_time": "2022-12-16T13:18:50.065Z"
      },
      {
        "duration": 52,
        "start_time": "2022-12-16T13:18:50.123Z"
      },
      {
        "duration": 42,
        "start_time": "2022-12-16T13:18:50.177Z"
      },
      {
        "duration": 26,
        "start_time": "2022-12-16T13:18:50.221Z"
      },
      {
        "duration": 149,
        "start_time": "2022-12-16T13:18:50.249Z"
      },
      {
        "duration": 9,
        "start_time": "2022-12-16T13:24:04.957Z"
      },
      {
        "duration": 8,
        "start_time": "2022-12-16T13:25:09.199Z"
      },
      {
        "duration": 37,
        "start_time": "2022-12-16T13:26:28.655Z"
      },
      {
        "duration": 4,
        "start_time": "2022-12-16T13:26:56.211Z"
      },
      {
        "duration": 13,
        "start_time": "2022-12-16T13:32:05.722Z"
      }
    ],
    "kernelspec": {
      "display_name": "Python 3 (ipykernel)",
      "language": "python",
      "name": "python3"
    },
    "language_info": {
      "codemirror_mode": {
        "name": "ipython",
        "version": 3
      },
      "file_extension": ".py",
      "mimetype": "text/x-python",
      "name": "python",
      "nbconvert_exporter": "python",
      "pygments_lexer": "ipython3",
      "version": "3.9.5"
    },
    "toc": {
      "base_numbering": 1,
      "nav_menu": {},
      "number_sections": true,
      "sideBar": true,
      "skip_h1_title": true,
      "title_cell": "Table of Contents",
      "title_sidebar": "Contents",
      "toc_cell": false,
      "toc_position": {
        "height": "calc(100% - 180px)",
        "left": "10px",
        "top": "150px",
        "width": "171.25px"
      },
      "toc_section_display": true,
      "toc_window_display": true
    },
    "colab": {
      "provenance": []
    }
  },
  "nbformat": 4,
  "nbformat_minor": 0
}